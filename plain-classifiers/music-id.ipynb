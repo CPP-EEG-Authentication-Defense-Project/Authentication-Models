{
 "cells": [
  {
   "cell_type": "markdown",
   "source": [
    "# Setup\n",
    "\n",
    "Initial module setup."
   ],
   "metadata": {
    "collapsed": false
   }
  },
  {
   "cell_type": "code",
   "execution_count": 20,
   "outputs": [],
   "source": [
    "import logging\n",
    "import numpy.typing as np_types\n",
    "import pandas as pd\n",
    "\n",
    "from sklearn.ensemble import RandomForestClassifier\n",
    "from eeg_auth_models_framework import data, pre_process, features, training, model, processor\n",
    "from eeg_auth_models_framework.utils import conversion"
   ],
   "metadata": {
    "collapsed": false,
    "ExecuteTime": {
     "end_time": "2024-03-30T06:44:13.112765Z",
     "start_time": "2024-03-30T06:44:13.098768Z"
    }
   }
  },
  {
   "cell_type": "markdown",
   "source": [
    "# Constants"
   ],
   "metadata": {
    "collapsed": false
   }
  },
  {
   "cell_type": "code",
   "execution_count": 21,
   "outputs": [],
   "source": [
    "DATASET_SAMPLE_FREQ_HZ = 200\n",
    "DATA_CHANNEL_NAMES = ['T7','F8','Cz','P4']\n",
    "FREQUENCIES = [\n",
    "    pre_process.FrequencyBand(lower=8.0, upper=12.0, label='Alpha'),\n",
    "    pre_process.FrequencyBand(lower=12.0, upper=35.0, label='Beta'),\n",
    "    pre_process.FrequencyBand(lower=4.0, upper=8.0, label='Theta'),\n",
    "    pre_process.FrequencyBand(lower=35.0, upper=None, label='Gamma'),\n",
    "    pre_process.FrequencyBand(lower=None, upper=None, label='Raw'),\n",
    "]\n",
    "WINDOW_SIZE = 1200\n",
    "WINDOW_OVERLAP = 0.5\n",
    "K_FOLDS = 10\n",
    "RANDOM_SEED = 42"
   ],
   "metadata": {
    "collapsed": false,
    "ExecuteTime": {
     "end_time": "2024-03-30T06:44:13.128266Z",
     "start_time": "2024-03-30T06:44:13.114266Z"
    }
   }
  },
  {
   "cell_type": "markdown",
   "source": [
    "# Model Builder Configuration\n",
    "\n",
    "Configure data source, data reading method, data labelling method, and training process. "
   ],
   "metadata": {
    "collapsed": false
   }
  },
  {
   "cell_type": "code",
   "execution_count": 22,
   "outputs": [],
   "source": [
    "class MusicIDModelBuilder(model.ModelBuilder[RandomForestClassifier]):\n",
    "    def create_classifier(self) -> RandomForestClassifier:\n",
    "        return RandomForestClassifier(\n",
    "            n_estimators=100,\n",
    "            criterion='gini',\n",
    "            max_depth=10,\n",
    "            random_state=RANDOM_SEED\n",
    "        )\n",
    "    \n",
    "    def train_classifier(self, classifier: RandomForestClassifier, x_data: np_types.ArrayLike, y_data: np_types.ArrayLike):\n",
    "        classifier.fit(x_data, y_data)\n",
    "        \n",
    "    def score_classifier(self, classifier: RandomForestClassifier, x_data: np_types.ArrayLike, y_data: np_types.ArrayLike) -> float:\n",
    "        return classifier.score(x_data, y_data)"
   ],
   "metadata": {
    "collapsed": false,
    "ExecuteTime": {
     "end_time": "2024-03-30T06:44:13.143765Z",
     "start_time": "2024-03-30T06:44:13.129766Z"
    }
   }
  },
  {
   "cell_type": "markdown",
   "source": [
    "# Configuration"
   ],
   "metadata": {
    "collapsed": false
   }
  },
  {
   "cell_type": "code",
   "execution_count": 23,
   "outputs": [],
   "source": [
    "logger = logging.getLogger()\n",
    "logger.setLevel(logging.INFO)\n",
    "downloader = data.AuditoryDataDownloader()\n",
    "reader = data.AuditoryDataReader()\n",
    "labeller = training.SubjectDataLabeller()\n",
    "converter = conversion.MNEDataFrameConverter(\n",
    "    channels=DATA_CHANNEL_NAMES, \n",
    "    sample_frequency=DATASET_SAMPLE_FREQ_HZ\n",
    ")"
   ],
   "metadata": {
    "collapsed": false,
    "ExecuteTime": {
     "end_time": "2024-03-30T06:44:13.159266Z",
     "start_time": "2024-03-30T06:44:13.145766Z"
    }
   }
  },
  {
   "cell_type": "markdown",
   "source": [
    "# Data Processing"
   ],
   "metadata": {
    "collapsed": false
   }
  },
  {
   "cell_type": "markdown",
   "source": [
    "## Pre-Processing Steps\n",
    "\n",
    "Define pre-processing steps to be used in model."
   ],
   "metadata": {
    "collapsed": false
   }
  },
  {
   "cell_type": "code",
   "execution_count": 24,
   "outputs": [],
   "source": [
    "pre_process_steps = pre_process.PreProcessingPipeline([\n",
    "    pre_process.EEGBandpassFilterStep(\n",
    "        FREQUENCIES,\n",
    "        converter\n",
    "    ),\n",
    "    pre_process.DataWindowStep(WINDOW_SIZE, WINDOW_OVERLAP)\n",
    "])"
   ],
   "metadata": {
    "collapsed": false,
    "ExecuteTime": {
     "end_time": "2024-03-30T06:44:13.174765Z",
     "start_time": "2024-03-30T06:44:13.160768Z"
    }
   }
  },
  {
   "cell_type": "markdown",
   "source": [
    "## Feature Extraction Steps\n",
    "\n",
    "Define feature extraction steps to be applied to the pre-processed data."
   ],
   "metadata": {
    "collapsed": false
   }
  },
  {
   "cell_type": "code",
   "execution_count": 25,
   "outputs": [],
   "source": [
    "feature_extraction_steps = features.FeatureExtractPipeline([\n",
    "    features.StatisticalFeatureExtractor([\n",
    "        features.StatisticalFeature.MIN,\n",
    "        features.StatisticalFeature.MAX,\n",
    "        features.StatisticalFeature.MEAN,\n",
    "        features.StatisticalFeature.ZERO_CROSSING_RATE\n",
    "    ])\n",
    "])"
   ],
   "metadata": {
    "collapsed": false,
    "ExecuteTime": {
     "end_time": "2024-03-30T06:44:13.190290Z",
     "start_time": "2024-03-30T06:44:13.176265Z"
    }
   }
  },
  {
   "cell_type": "markdown",
   "source": [
    "## Data Processor"
   ],
   "metadata": {
    "collapsed": false
   }
  },
  {
   "cell_type": "code",
   "outputs": [],
   "source": [
    "data_processor = processor.DataProcessor(\n",
    "    pre_process=pre_process_steps,\n",
    "    feature_extraction=feature_extraction_steps\n",
    ")"
   ],
   "metadata": {
    "collapsed": false,
    "ExecuteTime": {
     "end_time": "2024-03-30T06:44:13.205765Z",
     "start_time": "2024-03-30T06:44:13.191765Z"
    }
   },
   "execution_count": 26
  },
  {
   "cell_type": "markdown",
   "source": [
    "# Training\n",
    "\n",
    "Execute training of authentication models."
   ],
   "metadata": {
    "collapsed": false
   }
  },
  {
   "cell_type": "code",
   "execution_count": 27,
   "outputs": [
    {
     "name": "stdout",
     "output_type": "stream",
     "text": [
      "Creating RawArray with float64 data, n_channels=4, n_times=24000\n",
      "    Range : 0 ... 23999 =      0.000 ...   119.995 secs\n",
      "Ready.\n",
      "Creating RawArray with float64 data, n_channels=4, n_times=24000\n",
      "    Range : 0 ... 23999 =      0.000 ...   119.995 secs\n",
      "Ready.\n",
      "Creating RawArray with float64 data, n_channels=4, n_times=24000\n",
      "    Range : 0 ... 23999 =      0.000 ...   119.995 secs\n",
      "Ready.\n",
      "Creating RawArray with float64 data, n_channels=4, n_times=24000\n",
      "    Range : 0 ... 23999 =      0.000 ...   119.995 secs\n",
      "Ready.\n",
      "Creating RawArray with float64 data, n_channels=4, n_times=40114\n",
      "    Range : 0 ... 40113 =      0.000 ...   200.565 secs\n",
      "Ready.\n",
      "Creating RawArray with float64 data, n_channels=4, n_times=24000\n",
      "    Range : 0 ... 23999 =      0.000 ...   119.995 secs\n",
      "Ready.\n",
      "Creating RawArray with float64 data, n_channels=4, n_times=24000\n",
      "    Range : 0 ... 23999 =      0.000 ...   119.995 secs\n",
      "Ready.\n",
      "Creating RawArray with float64 data, n_channels=4, n_times=24000\n",
      "    Range : 0 ... 23999 =      0.000 ...   119.995 secs\n",
      "Ready.\n",
      "Creating RawArray with float64 data, n_channels=4, n_times=24000\n",
      "    Range : 0 ... 23999 =      0.000 ...   119.995 secs\n",
      "Ready.\n",
      "Creating RawArray with float64 data, n_channels=4, n_times=24000\n",
      "    Range : 0 ... 23999 =      0.000 ...   119.995 secs\n",
      "Ready.\n",
      "Creating RawArray with float64 data, n_channels=4, n_times=24000\n",
      "    Range : 0 ... 23999 =      0.000 ...   119.995 secs\n",
      "Ready.\n",
      "Creating RawArray with float64 data, n_channels=4, n_times=24000\n",
      "    Range : 0 ... 23999 =      0.000 ...   119.995 secs\n",
      "Ready.\n",
      "Creating RawArray with float64 data, n_channels=4, n_times=24000\n",
      "    Range : 0 ... 23999 =      0.000 ...   119.995 secs\n",
      "Ready.\n",
      "Creating RawArray with float64 data, n_channels=4, n_times=24000\n",
      "    Range : 0 ... 23999 =      0.000 ...   119.995 secs\n",
      "Ready.\n",
      "Creating RawArray with float64 data, n_channels=4, n_times=24000\n",
      "    Range : 0 ... 23999 =      0.000 ...   119.995 secs\n",
      "Ready.\n",
      "Creating RawArray with float64 data, n_channels=4, n_times=24000\n",
      "    Range : 0 ... 23999 =      0.000 ...   119.995 secs\n",
      "Ready.\n",
      "Creating RawArray with float64 data, n_channels=4, n_times=24000\n",
      "    Range : 0 ... 23999 =      0.000 ...   119.995 secs\n",
      "Ready.\n",
      "Creating RawArray with float64 data, n_channels=4, n_times=24000\n",
      "    Range : 0 ... 23999 =      0.000 ...   119.995 secs\n",
      "Ready.\n",
      "Creating RawArray with float64 data, n_channels=4, n_times=24000\n",
      "    Range : 0 ... 23999 =      0.000 ...   119.995 secs\n",
      "Ready.\n",
      "Creating RawArray with float64 data, n_channels=4, n_times=24000\n",
      "    Range : 0 ... 23999 =      0.000 ...   119.995 secs\n",
      "Ready.\n"
     ]
    }
   ],
   "source": [
    "music_id_builder = MusicIDModelBuilder(\n",
    "    data_downloader=downloader,\n",
    "    data_reader=reader,\n",
    "    data_labeller=labeller,\n",
    "    data_processor=data_processor\n",
    ")\n",
    "results = music_id_builder.train(K_FOLDS)"
   ],
   "metadata": {
    "collapsed": false,
    "ExecuteTime": {
     "end_time": "2024-03-30T06:44:39.896265Z",
     "start_time": "2024-03-30T06:44:13.207266Z"
    }
   }
  },
  {
   "cell_type": "code",
   "outputs": [
    {
     "data": {
      "text/plain": "   Subject  Average Score  Training Duration\n0      S01       0.951852           1.052002\n1      S02       0.951852           1.241000\n2      S03       0.950617           1.093000\n3      S04       1.000000           0.939000\n4      S05       0.998765           1.172999\n5      S06       0.998750           1.019500\n6      S07       1.000000           0.968500\n7      S08       1.000000           1.086002\n8      S09       1.000000           1.034502\n9      S10       1.000000           1.031000\n10     S11       1.000000           1.077003\n11     S12       0.956250           1.100000\n12     S13       1.000000           1.057001\n13     S14       1.000000           1.026001\n14     S15       0.995015           1.232500\n15     S16       1.000000           1.189500\n16     S17       0.983951           1.156001\n17     S18       1.000000           1.058001\n18     S19       0.997500           1.022000\n19     S20       0.998750           1.101503",
      "text/html": "<div>\n<style scoped>\n    .dataframe tbody tr th:only-of-type {\n        vertical-align: middle;\n    }\n\n    .dataframe tbody tr th {\n        vertical-align: top;\n    }\n\n    .dataframe thead th {\n        text-align: right;\n    }\n</style>\n<table border=\"1\" class=\"dataframe\">\n  <thead>\n    <tr style=\"text-align: right;\">\n      <th></th>\n      <th>Subject</th>\n      <th>Average Score</th>\n      <th>Training Duration</th>\n    </tr>\n  </thead>\n  <tbody>\n    <tr>\n      <th>0</th>\n      <td>S01</td>\n      <td>0.951852</td>\n      <td>1.052002</td>\n    </tr>\n    <tr>\n      <th>1</th>\n      <td>S02</td>\n      <td>0.951852</td>\n      <td>1.241000</td>\n    </tr>\n    <tr>\n      <th>2</th>\n      <td>S03</td>\n      <td>0.950617</td>\n      <td>1.093000</td>\n    </tr>\n    <tr>\n      <th>3</th>\n      <td>S04</td>\n      <td>1.000000</td>\n      <td>0.939000</td>\n    </tr>\n    <tr>\n      <th>4</th>\n      <td>S05</td>\n      <td>0.998765</td>\n      <td>1.172999</td>\n    </tr>\n    <tr>\n      <th>5</th>\n      <td>S06</td>\n      <td>0.998750</td>\n      <td>1.019500</td>\n    </tr>\n    <tr>\n      <th>6</th>\n      <td>S07</td>\n      <td>1.000000</td>\n      <td>0.968500</td>\n    </tr>\n    <tr>\n      <th>7</th>\n      <td>S08</td>\n      <td>1.000000</td>\n      <td>1.086002</td>\n    </tr>\n    <tr>\n      <th>8</th>\n      <td>S09</td>\n      <td>1.000000</td>\n      <td>1.034502</td>\n    </tr>\n    <tr>\n      <th>9</th>\n      <td>S10</td>\n      <td>1.000000</td>\n      <td>1.031000</td>\n    </tr>\n    <tr>\n      <th>10</th>\n      <td>S11</td>\n      <td>1.000000</td>\n      <td>1.077003</td>\n    </tr>\n    <tr>\n      <th>11</th>\n      <td>S12</td>\n      <td>0.956250</td>\n      <td>1.100000</td>\n    </tr>\n    <tr>\n      <th>12</th>\n      <td>S13</td>\n      <td>1.000000</td>\n      <td>1.057001</td>\n    </tr>\n    <tr>\n      <th>13</th>\n      <td>S14</td>\n      <td>1.000000</td>\n      <td>1.026001</td>\n    </tr>\n    <tr>\n      <th>14</th>\n      <td>S15</td>\n      <td>0.995015</td>\n      <td>1.232500</td>\n    </tr>\n    <tr>\n      <th>15</th>\n      <td>S16</td>\n      <td>1.000000</td>\n      <td>1.189500</td>\n    </tr>\n    <tr>\n      <th>16</th>\n      <td>S17</td>\n      <td>0.983951</td>\n      <td>1.156001</td>\n    </tr>\n    <tr>\n      <th>17</th>\n      <td>S18</td>\n      <td>1.000000</td>\n      <td>1.058001</td>\n    </tr>\n    <tr>\n      <th>18</th>\n      <td>S19</td>\n      <td>0.997500</td>\n      <td>1.022000</td>\n    </tr>\n    <tr>\n      <th>19</th>\n      <td>S20</td>\n      <td>0.998750</td>\n      <td>1.101503</td>\n    </tr>\n  </tbody>\n</table>\n</div>"
     },
     "execution_count": 28,
     "metadata": {},
     "output_type": "execute_result"
    }
   ],
   "source": [
    "subject_score_rows = []\n",
    "for subject in results.training_statistics:\n",
    "    subject_score_rows.append([\n",
    "        subject,\n",
    "        results.training_statistics[subject].average_score,\n",
    "        results.training_statistics[subject].training_duration\n",
    "    ])\n",
    "subject_scores = pd.DataFrame(subject_score_rows, columns=['Subject', 'Average Score', 'Training Duration'])\n",
    "subject_scores"
   ],
   "metadata": {
    "collapsed": false,
    "ExecuteTime": {
     "end_time": "2024-03-30T06:44:39.911765Z",
     "start_time": "2024-03-30T06:44:39.897265Z"
    }
   },
   "execution_count": 28
  },
  {
   "cell_type": "code",
   "outputs": [
    {
     "data": {
      "text/plain": "   Subject  Average FAR  Average FRR\n0      S01     0.050649     0.000000\n1      S02     0.050649     0.000000\n2      S03     0.051948     0.000000\n3      S04     0.000000     0.000000\n4      S05     0.000000     0.016667\n5      S06     0.001316     0.000000\n6      S07     0.000000     0.000000\n7      S08     0.000000     0.000000\n8      S09     0.000000     0.000000\n9      S10     0.000000     0.000000\n10     S11     0.000000     0.000000\n11     S12     0.046053     0.000000\n12     S13     0.000000     0.000000\n13     S14     0.000000     0.000000\n14     S15     0.000000     0.100000\n15     S16     0.000000     0.000000\n16     S17     0.016883     0.000000\n17     S18     0.000000     0.000000\n18     S19     0.000000     0.050000\n19     S20     0.000000     0.025000",
      "text/html": "<div>\n<style scoped>\n    .dataframe tbody tr th:only-of-type {\n        vertical-align: middle;\n    }\n\n    .dataframe tbody tr th {\n        vertical-align: top;\n    }\n\n    .dataframe thead th {\n        text-align: right;\n    }\n</style>\n<table border=\"1\" class=\"dataframe\">\n  <thead>\n    <tr style=\"text-align: right;\">\n      <th></th>\n      <th>Subject</th>\n      <th>Average FAR</th>\n      <th>Average FRR</th>\n    </tr>\n  </thead>\n  <tbody>\n    <tr>\n      <th>0</th>\n      <td>S01</td>\n      <td>0.050649</td>\n      <td>0.000000</td>\n    </tr>\n    <tr>\n      <th>1</th>\n      <td>S02</td>\n      <td>0.050649</td>\n      <td>0.000000</td>\n    </tr>\n    <tr>\n      <th>2</th>\n      <td>S03</td>\n      <td>0.051948</td>\n      <td>0.000000</td>\n    </tr>\n    <tr>\n      <th>3</th>\n      <td>S04</td>\n      <td>0.000000</td>\n      <td>0.000000</td>\n    </tr>\n    <tr>\n      <th>4</th>\n      <td>S05</td>\n      <td>0.000000</td>\n      <td>0.016667</td>\n    </tr>\n    <tr>\n      <th>5</th>\n      <td>S06</td>\n      <td>0.001316</td>\n      <td>0.000000</td>\n    </tr>\n    <tr>\n      <th>6</th>\n      <td>S07</td>\n      <td>0.000000</td>\n      <td>0.000000</td>\n    </tr>\n    <tr>\n      <th>7</th>\n      <td>S08</td>\n      <td>0.000000</td>\n      <td>0.000000</td>\n    </tr>\n    <tr>\n      <th>8</th>\n      <td>S09</td>\n      <td>0.000000</td>\n      <td>0.000000</td>\n    </tr>\n    <tr>\n      <th>9</th>\n      <td>S10</td>\n      <td>0.000000</td>\n      <td>0.000000</td>\n    </tr>\n    <tr>\n      <th>10</th>\n      <td>S11</td>\n      <td>0.000000</td>\n      <td>0.000000</td>\n    </tr>\n    <tr>\n      <th>11</th>\n      <td>S12</td>\n      <td>0.046053</td>\n      <td>0.000000</td>\n    </tr>\n    <tr>\n      <th>12</th>\n      <td>S13</td>\n      <td>0.000000</td>\n      <td>0.000000</td>\n    </tr>\n    <tr>\n      <th>13</th>\n      <td>S14</td>\n      <td>0.000000</td>\n      <td>0.000000</td>\n    </tr>\n    <tr>\n      <th>14</th>\n      <td>S15</td>\n      <td>0.000000</td>\n      <td>0.100000</td>\n    </tr>\n    <tr>\n      <th>15</th>\n      <td>S16</td>\n      <td>0.000000</td>\n      <td>0.000000</td>\n    </tr>\n    <tr>\n      <th>16</th>\n      <td>S17</td>\n      <td>0.016883</td>\n      <td>0.000000</td>\n    </tr>\n    <tr>\n      <th>17</th>\n      <td>S18</td>\n      <td>0.000000</td>\n      <td>0.000000</td>\n    </tr>\n    <tr>\n      <th>18</th>\n      <td>S19</td>\n      <td>0.000000</td>\n      <td>0.050000</td>\n    </tr>\n    <tr>\n      <th>19</th>\n      <td>S20</td>\n      <td>0.000000</td>\n      <td>0.025000</td>\n    </tr>\n  </tbody>\n</table>\n</div>"
     },
     "execution_count": 29,
     "metadata": {},
     "output_type": "execute_result"
    }
   ],
   "source": [
    "subject_rates_rows = []\n",
    "for subject in results.training_statistics:\n",
    "    subject_rates_rows.append([\n",
    "        subject,\n",
    "        results.training_statistics[subject].average_false_accept_rate,\n",
    "        results.training_statistics[subject].average_false_reject_rate\n",
    "    ])\n",
    "subject_rates = pd.DataFrame(subject_rates_rows, columns=['Subject', 'Average FAR', 'Average FRR'])\n",
    "subject_rates"
   ],
   "metadata": {
    "collapsed": false,
    "ExecuteTime": {
     "end_time": "2024-03-30T06:44:39.927265Z",
     "start_time": "2024-03-30T06:44:39.913265Z"
    }
   },
   "execution_count": 29
  },
  {
   "cell_type": "code",
   "outputs": [
    {
     "data": {
      "text/plain": "   Global Average Score  Global Average FAR  Global Average FRR  \\\n0              0.989165            0.009583            0.010875   \n\n   Global Average Time  \n0             1.082851  ",
      "text/html": "<div>\n<style scoped>\n    .dataframe tbody tr th:only-of-type {\n        vertical-align: middle;\n    }\n\n    .dataframe tbody tr th {\n        vertical-align: top;\n    }\n\n    .dataframe thead th {\n        text-align: right;\n    }\n</style>\n<table border=\"1\" class=\"dataframe\">\n  <thead>\n    <tr style=\"text-align: right;\">\n      <th></th>\n      <th>Global Average Score</th>\n      <th>Global Average FAR</th>\n      <th>Global Average FRR</th>\n      <th>Global Average Time</th>\n    </tr>\n  </thead>\n  <tbody>\n    <tr>\n      <th>0</th>\n      <td>0.989165</td>\n      <td>0.009583</td>\n      <td>0.010875</td>\n      <td>1.082851</td>\n    </tr>\n  </tbody>\n</table>\n</div>"
     },
     "execution_count": 30,
     "metadata": {},
     "output_type": "execute_result"
    }
   ],
   "source": [
    "global_stats = pd.DataFrame(\n",
    "    [[results.global_average_score, results.global_average_far_rate, \n",
    "      results.global_average_frr_rate, results.global_average_time]],\n",
    "    columns=['Global Average Score', 'Global Average FAR', 'Global Average FRR', 'Global Average Time']\n",
    ")\n",
    "global_stats"
   ],
   "metadata": {
    "collapsed": false,
    "ExecuteTime": {
     "end_time": "2024-03-30T06:44:39.942766Z",
     "start_time": "2024-03-30T06:44:39.928265Z"
    }
   },
   "execution_count": 30
  }
 ],
 "metadata": {
  "kernelspec": {
   "display_name": "Python 3",
   "language": "python",
   "name": "python3"
  },
  "language_info": {
   "codemirror_mode": {
    "name": "ipython",
    "version": 2
   },
   "file_extension": ".py",
   "mimetype": "text/x-python",
   "name": "python",
   "nbconvert_exporter": "python",
   "pygments_lexer": "ipython2",
   "version": "2.7.6"
  }
 },
 "nbformat": 4,
 "nbformat_minor": 0
}
