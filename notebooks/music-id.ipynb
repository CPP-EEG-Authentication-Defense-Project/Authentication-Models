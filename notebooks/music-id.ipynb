{
 "cells": [
  {
   "cell_type": "markdown",
   "source": [
    "# Setup\n",
    "\n",
    "Initial module setup."
   ],
   "metadata": {
    "collapsed": false
   }
  },
  {
   "cell_type": "code",
   "execution_count": 1,
   "outputs": [],
   "source": [
    "import typing\n",
    "\n",
    "from sklearn.ensemble import RandomForestClassifier\n",
    "from eeg_auth_models_framework import data, pre_process, features, training, model\n",
    "from eeg_auth_models_framework.training.base import StratifiedSubjectData"
   ],
   "metadata": {
    "collapsed": false,
    "ExecuteTime": {
     "end_time": "2023-11-18T06:18:47.428119Z",
     "start_time": "2023-11-18T06:18:42.584886600Z"
    }
   }
  },
  {
   "cell_type": "markdown",
   "source": [
    "# Constants"
   ],
   "metadata": {
    "collapsed": false
   }
  },
  {
   "cell_type": "code",
   "execution_count": 2,
   "outputs": [],
   "source": [
    "DATASET_SAMPLE_FREQ_HZ = 200\n",
    "DATA_CHANNEL_NAMES = ['T7','F8','Cz','P4']\n",
    "FREQUENCIES = [\n",
    "    pre_process.FrequencyBand(lower=8.0, upper=12.0, label='Alpha'),\n",
    "    pre_process.FrequencyBand(lower=12.0, upper=35.0, label='Beta'),\n",
    "    pre_process.FrequencyBand(lower=4.0, upper=8.0, label='Theta'),\n",
    "    pre_process.FrequencyBand(lower=35.0, upper=None, label='Gamma'),\n",
    "    pre_process.FrequencyBand(lower=None, upper=None, label='Raw'),\n",
    "]\n",
    "WINDOW_SIZE = 1200\n",
    "WINDOW_OVERLAP = 0.5\n",
    "K_FOLDS = 10"
   ],
   "metadata": {
    "collapsed": false,
    "ExecuteTime": {
     "end_time": "2023-11-18T06:18:47.442132700Z",
     "start_time": "2023-11-18T06:18:47.430118400Z"
    }
   }
  },
  {
   "cell_type": "markdown",
   "source": [
    "# Utilities"
   ],
   "metadata": {
    "collapsed": false
   }
  },
  {
   "cell_type": "markdown",
   "source": [
    "## Types"
   ],
   "metadata": {
    "collapsed": false
   }
  },
  {
   "cell_type": "code",
   "execution_count": 3,
   "outputs": [],
   "source": [
    "MusicIDClassifiers = typing.Dict[str, RandomForestClassifier]"
   ],
   "metadata": {
    "collapsed": false,
    "ExecuteTime": {
     "end_time": "2023-11-18T06:18:47.459379500Z",
     "start_time": "2023-11-18T06:18:47.443133500Z"
    }
   }
  },
  {
   "cell_type": "markdown",
   "source": [
    "# Model Builder Configuration\n",
    "\n",
    "Configure data source, data reading method, data labelling method, and training process. "
   ],
   "metadata": {
    "collapsed": false
   }
  },
  {
   "cell_type": "code",
   "execution_count": 4,
   "outputs": [],
   "source": [
    "class MusicIDModelBuilder(model.ModelBuilder[MusicIDClassifiers]):\n",
    "    @property\n",
    "    def data_downloader(self):\n",
    "        return data.AuditoryDataDownloader()\n",
    "    \n",
    "    @property\n",
    "    def data_reader(self):\n",
    "        return data.AuditoryDataReader()\n",
    "    \n",
    "    @property\n",
    "    def labeller(self):\n",
    "        return training.SubjectDataLabeller()\n",
    "    \n",
    "    def run_training(self, labelled_data: typing.Dict[str, typing.List[StratifiedSubjectData]]):\n",
    "        subject_models: typing.Dict[str, RandomForestClassifier] = {\n",
    "            subject: RandomForestClassifier(\n",
    "                n_estimators=100,\n",
    "                criterion='gini',\n",
    "                max_depth=10,\n",
    "                random_state=32\n",
    "            )\n",
    "            for subject in labelled_data\n",
    "        }\n",
    "        training_scores: typing.Dict[str, typing.List[float]] = {\n",
    "            subject: [] for subject in labelled_data\n",
    "        }\n",
    "        for subject in labelled_data:\n",
    "            print(f'TRAINING MODEL FOR SUBJECT: {subject}')\n",
    "            stratified_data = labelled_data[subject]\n",
    "            classifier = subject_models[subject]\n",
    "            iteration_count = 1\n",
    "            for segment in stratified_data:\n",
    "                print(f'FOLD: {iteration_count}')\n",
    "                classifier.fit(segment.train.x, segment.train.y)\n",
    "                training_scores[subject].append(\n",
    "                    classifier.score(segment.test.x, segment.test.y)\n",
    "                )\n",
    "                iteration_count += 1\n",
    "        print('TRAINING COMPLETE')\n",
    "        \n",
    "        return subject_models"
   ],
   "metadata": {
    "collapsed": false,
    "ExecuteTime": {
     "end_time": "2023-11-18T06:18:47.473389800Z",
     "start_time": "2023-11-18T06:18:47.458379600Z"
    }
   }
  },
  {
   "cell_type": "markdown",
   "source": [
    "# Pre-Processing Steps\n",
    "\n",
    "Define pre-processing steps to be used in model."
   ],
   "metadata": {
    "collapsed": false
   }
  },
  {
   "cell_type": "code",
   "execution_count": 5,
   "outputs": [],
   "source": [
    "pre_process_steps = [\n",
    "    pre_process.EEGBandpassFilterStep(\n",
    "        FREQUENCIES, \n",
    "        DATA_CHANNEL_NAMES, \n",
    "        DATASET_SAMPLE_FREQ_HZ\n",
    "    ),\n",
    "    pre_process.DataWindowStep(WINDOW_SIZE, WINDOW_OVERLAP)\n",
    "]"
   ],
   "metadata": {
    "collapsed": false,
    "ExecuteTime": {
     "end_time": "2023-11-18T06:18:47.491Z",
     "start_time": "2023-11-18T06:18:47.474387700Z"
    }
   }
  },
  {
   "cell_type": "markdown",
   "source": [
    "# Feature Extraction Steps\n",
    "\n",
    "Define feature extraction steps to be applied to the pre-processed data."
   ],
   "metadata": {
    "collapsed": false
   }
  },
  {
   "cell_type": "code",
   "execution_count": 6,
   "outputs": [],
   "source": [
    "feature_extraction_steps = [\n",
    "    features.StatisticalFeatureExtractor([\n",
    "        features.StatisticalFeature.MIN,\n",
    "        features.StatisticalFeature.MAX,\n",
    "        features.StatisticalFeature.MEAN,\n",
    "        features.StatisticalFeature.ZERO_CROSSING_RATE\n",
    "    ])\n",
    "]"
   ],
   "metadata": {
    "collapsed": false,
    "ExecuteTime": {
     "end_time": "2023-11-18T06:18:47.505025500Z",
     "start_time": "2023-11-18T06:18:47.490001100Z"
    }
   }
  },
  {
   "cell_type": "markdown",
   "source": [
    "# Training\n",
    "\n",
    "Execute training of authentication models."
   ],
   "metadata": {
    "collapsed": false
   }
  },
  {
   "cell_type": "code",
   "execution_count": 7,
   "outputs": [
    {
     "name": "stdout",
     "output_type": "stream",
     "text": [
      "Creating RawArray with float64 data, n_channels=4, n_times=24000\n",
      "    Range : 0 ... 23999 =      0.000 ...   119.995 secs\n",
      "Ready.\n",
      "Creating RawArray with float64 data, n_channels=4, n_times=24000\n",
      "    Range : 0 ... 23999 =      0.000 ...   119.995 secs\n",
      "Ready.\n",
      "Creating RawArray with float64 data, n_channels=4, n_times=24000\n",
      "    Range : 0 ... 23999 =      0.000 ...   119.995 secs\n",
      "Ready.\n",
      "Creating RawArray with float64 data, n_channels=4, n_times=24000\n",
      "    Range : 0 ... 23999 =      0.000 ...   119.995 secs\n",
      "Ready.\n",
      "Creating RawArray with float64 data, n_channels=4, n_times=40114\n",
      "    Range : 0 ... 40113 =      0.000 ...   200.565 secs\n",
      "Ready.\n",
      "Creating RawArray with float64 data, n_channels=4, n_times=24000\n",
      "    Range : 0 ... 23999 =      0.000 ...   119.995 secs\n",
      "Ready.\n",
      "Creating RawArray with float64 data, n_channels=4, n_times=24000\n",
      "    Range : 0 ... 23999 =      0.000 ...   119.995 secs\n",
      "Ready.\n",
      "Creating RawArray with float64 data, n_channels=4, n_times=24000\n",
      "    Range : 0 ... 23999 =      0.000 ...   119.995 secs\n",
      "Ready.\n",
      "Creating RawArray with float64 data, n_channels=4, n_times=24000\n",
      "    Range : 0 ... 23999 =      0.000 ...   119.995 secs\n",
      "Ready.\n",
      "Creating RawArray with float64 data, n_channels=4, n_times=24000\n",
      "    Range : 0 ... 23999 =      0.000 ...   119.995 secs\n",
      "Ready.\n",
      "Creating RawArray with float64 data, n_channels=4, n_times=24000\n",
      "    Range : 0 ... 23999 =      0.000 ...   119.995 secs\n",
      "Ready.\n",
      "Creating RawArray with float64 data, n_channels=4, n_times=24000\n",
      "    Range : 0 ... 23999 =      0.000 ...   119.995 secs\n",
      "Ready.\n",
      "Creating RawArray with float64 data, n_channels=4, n_times=24000\n",
      "    Range : 0 ... 23999 =      0.000 ...   119.995 secs\n",
      "Ready.\n",
      "Creating RawArray with float64 data, n_channels=4, n_times=24000\n",
      "    Range : 0 ... 23999 =      0.000 ...   119.995 secs\n",
      "Ready.\n",
      "Creating RawArray with float64 data, n_channels=4, n_times=24000\n",
      "    Range : 0 ... 23999 =      0.000 ...   119.995 secs\n",
      "Ready.\n",
      "Creating RawArray with float64 data, n_channels=4, n_times=24000\n",
      "    Range : 0 ... 23999 =      0.000 ...   119.995 secs\n",
      "Ready.\n",
      "Creating RawArray with float64 data, n_channels=4, n_times=24000\n",
      "    Range : 0 ... 23999 =      0.000 ...   119.995 secs\n",
      "Ready.\n",
      "Creating RawArray with float64 data, n_channels=4, n_times=24000\n",
      "    Range : 0 ... 23999 =      0.000 ...   119.995 secs\n",
      "Ready.\n",
      "Creating RawArray with float64 data, n_channels=4, n_times=24000\n",
      "    Range : 0 ... 23999 =      0.000 ...   119.995 secs\n",
      "Ready.\n",
      "Creating RawArray with float64 data, n_channels=4, n_times=24000\n",
      "    Range : 0 ... 23999 =      0.000 ...   119.995 secs\n",
      "Ready.\n",
      "TRAINING MODEL FOR SUBJECT: S01\n",
      "FOLD: 1\n",
      "FOLD: 2\n",
      "FOLD: 3\n",
      "FOLD: 4\n",
      "FOLD: 5\n",
      "FOLD: 6\n",
      "FOLD: 7\n",
      "FOLD: 8\n",
      "FOLD: 9\n",
      "FOLD: 10\n",
      "TRAINING MODEL FOR SUBJECT: S02\n",
      "FOLD: 1\n",
      "FOLD: 2\n",
      "FOLD: 3\n",
      "FOLD: 4\n",
      "FOLD: 5\n",
      "FOLD: 6\n",
      "FOLD: 7\n",
      "FOLD: 8\n",
      "FOLD: 9\n",
      "FOLD: 10\n",
      "TRAINING MODEL FOR SUBJECT: S03\n",
      "FOLD: 1\n",
      "FOLD: 2\n",
      "FOLD: 3\n",
      "FOLD: 4\n",
      "FOLD: 5\n",
      "FOLD: 6\n",
      "FOLD: 7\n",
      "FOLD: 8\n",
      "FOLD: 9\n",
      "FOLD: 10\n",
      "TRAINING MODEL FOR SUBJECT: S04\n",
      "FOLD: 1\n",
      "FOLD: 2\n",
      "FOLD: 3\n",
      "FOLD: 4\n",
      "FOLD: 5\n",
      "FOLD: 6\n",
      "FOLD: 7\n",
      "FOLD: 8\n",
      "FOLD: 9\n",
      "FOLD: 10\n",
      "TRAINING MODEL FOR SUBJECT: S05\n",
      "FOLD: 1\n",
      "FOLD: 2\n",
      "FOLD: 3\n",
      "FOLD: 4\n",
      "FOLD: 5\n",
      "FOLD: 6\n",
      "FOLD: 7\n",
      "FOLD: 8\n",
      "FOLD: 9\n",
      "FOLD: 10\n",
      "TRAINING MODEL FOR SUBJECT: S06\n",
      "FOLD: 1\n",
      "FOLD: 2\n",
      "FOLD: 3\n",
      "FOLD: 4\n",
      "FOLD: 5\n",
      "FOLD: 6\n",
      "FOLD: 7\n",
      "FOLD: 8\n",
      "FOLD: 9\n",
      "FOLD: 10\n",
      "TRAINING MODEL FOR SUBJECT: S07\n",
      "FOLD: 1\n",
      "FOLD: 2\n",
      "FOLD: 3\n",
      "FOLD: 4\n",
      "FOLD: 5\n",
      "FOLD: 6\n",
      "FOLD: 7\n",
      "FOLD: 8\n",
      "FOLD: 9\n",
      "FOLD: 10\n",
      "TRAINING MODEL FOR SUBJECT: S08\n",
      "FOLD: 1\n",
      "FOLD: 2\n",
      "FOLD: 3\n",
      "FOLD: 4\n",
      "FOLD: 5\n",
      "FOLD: 6\n",
      "FOLD: 7\n",
      "FOLD: 8\n",
      "FOLD: 9\n",
      "FOLD: 10\n",
      "TRAINING MODEL FOR SUBJECT: S09\n",
      "FOLD: 1\n",
      "FOLD: 2\n",
      "FOLD: 3\n",
      "FOLD: 4\n",
      "FOLD: 5\n",
      "FOLD: 6\n",
      "FOLD: 7\n",
      "FOLD: 8\n",
      "FOLD: 9\n",
      "FOLD: 10\n",
      "TRAINING MODEL FOR SUBJECT: S10\n",
      "FOLD: 1\n",
      "FOLD: 2\n",
      "FOLD: 3\n",
      "FOLD: 4\n",
      "FOLD: 5\n",
      "FOLD: 6\n",
      "FOLD: 7\n",
      "FOLD: 8\n",
      "FOLD: 9\n",
      "FOLD: 10\n",
      "TRAINING MODEL FOR SUBJECT: S11\n",
      "FOLD: 1\n",
      "FOLD: 2\n",
      "FOLD: 3\n",
      "FOLD: 4\n",
      "FOLD: 5\n",
      "FOLD: 6\n",
      "FOLD: 7\n",
      "FOLD: 8\n",
      "FOLD: 9\n",
      "FOLD: 10\n",
      "TRAINING MODEL FOR SUBJECT: S12\n",
      "FOLD: 1\n",
      "FOLD: 2\n",
      "FOLD: 3\n",
      "FOLD: 4\n",
      "FOLD: 5\n",
      "FOLD: 6\n",
      "FOLD: 7\n",
      "FOLD: 8\n",
      "FOLD: 9\n",
      "FOLD: 10\n",
      "TRAINING MODEL FOR SUBJECT: S13\n",
      "FOLD: 1\n",
      "FOLD: 2\n",
      "FOLD: 3\n",
      "FOLD: 4\n",
      "FOLD: 5\n",
      "FOLD: 6\n",
      "FOLD: 7\n",
      "FOLD: 8\n",
      "FOLD: 9\n",
      "FOLD: 10\n",
      "TRAINING MODEL FOR SUBJECT: S14\n",
      "FOLD: 1\n",
      "FOLD: 2\n",
      "FOLD: 3\n",
      "FOLD: 4\n",
      "FOLD: 5\n",
      "FOLD: 6\n",
      "FOLD: 7\n",
      "FOLD: 8\n",
      "FOLD: 9\n",
      "FOLD: 10\n",
      "TRAINING MODEL FOR SUBJECT: S15\n",
      "FOLD: 1\n",
      "FOLD: 2\n",
      "FOLD: 3\n",
      "FOLD: 4\n",
      "FOLD: 5\n",
      "FOLD: 6\n",
      "FOLD: 7\n",
      "FOLD: 8\n",
      "FOLD: 9\n",
      "FOLD: 10\n",
      "TRAINING MODEL FOR SUBJECT: S16\n",
      "FOLD: 1\n",
      "FOLD: 2\n",
      "FOLD: 3\n",
      "FOLD: 4\n",
      "FOLD: 5\n",
      "FOLD: 6\n",
      "FOLD: 7\n",
      "FOLD: 8\n",
      "FOLD: 9\n",
      "FOLD: 10\n",
      "TRAINING MODEL FOR SUBJECT: S17\n",
      "FOLD: 1\n",
      "FOLD: 2\n",
      "FOLD: 3\n",
      "FOLD: 4\n",
      "FOLD: 5\n",
      "FOLD: 6\n",
      "FOLD: 7\n",
      "FOLD: 8\n",
      "FOLD: 9\n",
      "FOLD: 10\n",
      "TRAINING MODEL FOR SUBJECT: S18\n",
      "FOLD: 1\n",
      "FOLD: 2\n",
      "FOLD: 3\n",
      "FOLD: 4\n",
      "FOLD: 5\n",
      "FOLD: 6\n",
      "FOLD: 7\n",
      "FOLD: 8\n",
      "FOLD: 9\n",
      "FOLD: 10\n",
      "TRAINING MODEL FOR SUBJECT: S19\n",
      "FOLD: 1\n",
      "FOLD: 2\n",
      "FOLD: 3\n",
      "FOLD: 4\n",
      "FOLD: 5\n",
      "FOLD: 6\n",
      "FOLD: 7\n",
      "FOLD: 8\n",
      "FOLD: 9\n",
      "FOLD: 10\n",
      "TRAINING MODEL FOR SUBJECT: S20\n",
      "FOLD: 1\n",
      "FOLD: 2\n",
      "FOLD: 3\n",
      "FOLD: 4\n",
      "FOLD: 5\n",
      "FOLD: 6\n",
      "FOLD: 7\n",
      "FOLD: 8\n",
      "FOLD: 9\n",
      "FOLD: 10\n",
      "TRAINING COMPLETE\n"
     ]
    },
    {
     "data": {
      "text/plain": "{'S01': RandomForestClassifier(max_depth=10, random_state=32),\n 'S02': RandomForestClassifier(max_depth=10, random_state=32),\n 'S03': RandomForestClassifier(max_depth=10, random_state=32),\n 'S04': RandomForestClassifier(max_depth=10, random_state=32),\n 'S05': RandomForestClassifier(max_depth=10, random_state=32),\n 'S06': RandomForestClassifier(max_depth=10, random_state=32),\n 'S07': RandomForestClassifier(max_depth=10, random_state=32),\n 'S08': RandomForestClassifier(max_depth=10, random_state=32),\n 'S09': RandomForestClassifier(max_depth=10, random_state=32),\n 'S10': RandomForestClassifier(max_depth=10, random_state=32),\n 'S11': RandomForestClassifier(max_depth=10, random_state=32),\n 'S12': RandomForestClassifier(max_depth=10, random_state=32),\n 'S13': RandomForestClassifier(max_depth=10, random_state=32),\n 'S14': RandomForestClassifier(max_depth=10, random_state=32),\n 'S15': RandomForestClassifier(max_depth=10, random_state=32),\n 'S16': RandomForestClassifier(max_depth=10, random_state=32),\n 'S17': RandomForestClassifier(max_depth=10, random_state=32),\n 'S18': RandomForestClassifier(max_depth=10, random_state=32),\n 'S19': RandomForestClassifier(max_depth=10, random_state=32),\n 'S20': RandomForestClassifier(max_depth=10, random_state=32)}"
     },
     "execution_count": 7,
     "metadata": {},
     "output_type": "execute_result"
    }
   ],
   "source": [
    "music_id_builder = MusicIDModelBuilder(\n",
    "    pre_process_steps,\n",
    "    feature_extraction_steps\n",
    ")\n",
    "music_id_builder.train(K_FOLDS)"
   ],
   "metadata": {
    "collapsed": false,
    "ExecuteTime": {
     "end_time": "2023-11-18T06:19:20.558023600Z",
     "start_time": "2023-11-18T06:18:47.506024300Z"
    }
   }
  }
 ],
 "metadata": {
  "kernelspec": {
   "display_name": "Python 3",
   "language": "python",
   "name": "python3"
  },
  "language_info": {
   "codemirror_mode": {
    "name": "ipython",
    "version": 2
   },
   "file_extension": ".py",
   "mimetype": "text/x-python",
   "name": "python",
   "nbconvert_exporter": "python",
   "pygments_lexer": "ipython2",
   "version": "2.7.6"
  }
 },
 "nbformat": 4,
 "nbformat_minor": 0
}
