{
 "cells": [
  {
   "cell_type": "markdown",
   "source": [
    "# Setup\n",
    "\n",
    "Initial module setup."
   ],
   "metadata": {
    "collapsed": false
   },
   "id": "6a85031c830d3bd8"
  },
  {
   "cell_type": "code",
   "execution_count": null,
   "outputs": [],
   "source": [
    "import pathlib\n",
    "import re\n",
    "import mne.io\n",
    "import pandas as pd\n",
    "import typing\n",
    "import mne\n",
    "import numpy as np\n",
    "\n",
    "from sklearn.ensemble import RandomForestClassifier\n",
    "from sklearn.model_selection import StratifiedKFold\n",
    "from eeg_auth_defense_utilities import data_retrieval, filtration, features, formatting"
   ],
   "metadata": {
    "collapsed": false
   },
   "id": "952789ebdbd41432"
  },
  {
   "cell_type": "markdown",
   "source": [
    "# Constants"
   ],
   "metadata": {
    "collapsed": false
   },
   "id": "a2051422fdd18f30"
  },
  {
   "cell_type": "code",
   "execution_count": null,
   "outputs": [],
   "source": [
    "DATASET_SAMPLE_FREQ_HZ = 200\n",
    "DATA_CHANNEL_NAMES = ['T7','F8','Cz','P4']\n",
    "FREQUENCIES = [\n",
    "    filtration.FrequencyBand(lower=8.0, upper=12.0, label='Alpha'),\n",
    "    filtration.FrequencyBand(lower=12.0, upper=35.0, label='Beta'),\n",
    "    filtration.FrequencyBand(lower=4.0, upper=8.0, label='Theta'),\n",
    "    filtration.FrequencyBand(lower=35.0, upper=None, label='Gamma'),\n",
    "    filtration.FrequencyBand(lower=None, upper=None, label='Raw'),\n",
    "]"
   ],
   "metadata": {
    "collapsed": false
   },
   "id": "a6fdc728b1d12694"
  },
  {
   "cell_type": "markdown",
   "source": [
    "# Utilities"
   ],
   "metadata": {
    "collapsed": false
   },
   "id": "75b3baf659a8c317"
  },
  {
   "cell_type": "markdown",
   "source": [
    "## Types"
   ],
   "metadata": {
    "collapsed": false
   },
   "id": "3add7bf887bffded"
  },
  {
   "cell_type": "code",
   "execution_count": null,
   "outputs": [],
   "source": [
    "T = typing.TypeVar('T')"
   ],
   "metadata": {
    "collapsed": false
   },
   "id": "8f036de783f82a55"
  },
  {
   "cell_type": "markdown",
   "source": [
    "## Functions"
   ],
   "metadata": {
    "collapsed": false
   },
   "id": "bc9fba7a0b7d4fc9"
  },
  {
   "cell_type": "code",
   "execution_count": null,
   "outputs": [],
   "source": [
    "def filter_subject_data(subject_data: formatting.SubjectDataMap) -> formatting.SubjectDataMap:\n",
    "    \"\"\"\n",
    "    Applies filtration to all the dataframes for each subject in the given data map.\n",
    "    \n",
    "    :param subject_data: the subject data to filter.\n",
    "    :return: a new data map, wherein the keys are the subject identifiers and the values are the\n",
    "             filtered data.\n",
    "    \"\"\"\n",
    "    data_windows_filtered = {}\n",
    "    bandpass_filter = filtration.EEGBandpassFilter(FREQUENCIES)\n",
    "    \n",
    "    for identifier, data_to_filter in subject_data.items():\n",
    "        mne_data = convert_dataframe_to_mne(data_to_filter)\n",
    "        data_windows_filtered[identifier] = bandpass_filter.apply_filter(mne_data, DATA_CHANNEL_NAMES)\n",
    "        \n",
    "    return data_windows_filtered\n",
    "\n",
    "\n",
    "def convert_dataframe_to_mne(dataframe: pd.DataFrame) -> mne.io.RawArray:\n",
    "    \"\"\"\n",
    "    Converts the given dataframe over to Python-MNE format.\n",
    "    \n",
    "    :param dataframe: The dataframe to convert.\n",
    "    :return: A Python-MNE data array.\n",
    "    \"\"\"\n",
    "    transposed_dataframe = dataframe.transpose(copy=True)\n",
    "    data_info = mne.create_info(DATA_CHANNEL_NAMES, DATASET_SAMPLE_FREQ_HZ, ch_types='eeg')\n",
    "    return mne.io.RawArray(transposed_dataframe.to_numpy(), data_info)\n",
    "\n",
    "\n",
    "def get_sample_value_from_map(map_to_sample: typing.Dict[str, T]) -> T:\n",
    "    \"\"\"\n",
    "    Helper function which retrieves a sample dataframe from the given map of data.\n",
    "    \n",
    "    :param map_to_sample: The data map to get a sample from. \n",
    "    \"\"\"\n",
    "    return next(iter(map_to_sample.values()))"
   ],
   "metadata": {
    "collapsed": false
   },
   "id": "5ea163a23560b605"
  },
  {
   "cell_type": "markdown",
   "source": [
    "# Setup Dataset"
   ],
   "metadata": {
    "collapsed": false
   },
   "id": "4f35f26c9a821b4d"
  },
  {
   "cell_type": "code",
   "execution_count": null,
   "outputs": [],
   "source": [
    "dataset_downloader = data_retrieval.AuditoryDataDownloader()\n",
    "dataset_path = dataset_downloader.retrieve()\n",
    "dataset_formatter = formatting.AuditoryDataFormatter()\n",
    "data = dataset_formatter.format_data(dataset_path)\n",
    "print(f'{len(data.keys())} subjects loaded from auditory dataset...')\n",
    "print('Sample:')\n",
    "sample_value = get_sample_value_from_map(data)\n",
    "sample_value.head()"
   ],
   "metadata": {
    "collapsed": false
   },
   "id": "5f35d7e8f68feae5"
  },
  {
   "cell_type": "markdown",
   "source": [
    "# Pre-process Data"
   ],
   "metadata": {
    "collapsed": false
   },
   "id": "de0cb96b51f62ae3"
  },
  {
   "cell_type": "code",
   "execution_count": null,
   "outputs": [],
   "source": [
    "data = filter_subject_data(data)\n",
    "print('Filtered data...')\n",
    "print('Sample:')\n",
    "sample_value = get_sample_value_from_map(data)\n",
    "sample_value.head()"
   ],
   "metadata": {
    "collapsed": false
   },
   "id": "6d9e1d844e51101b"
  },
  {
   "cell_type": "markdown",
   "source": [
    "# Feature Extraction"
   ],
   "metadata": {
    "collapsed": false
   },
   "id": "4457e60ca573f8a0"
  },
  {
   "cell_type": "code",
   "execution_count": null,
   "outputs": [],
   "source": [
    "# TODO"
   ],
   "metadata": {
    "collapsed": false
   },
   "id": "a7693112f3c5af6d"
  }
 ],
 "metadata": {
  "kernelspec": {
   "display_name": "Python 3",
   "language": "python",
   "name": "python3"
  },
  "language_info": {
   "codemirror_mode": {
    "name": "ipython",
    "version": 2
   },
   "file_extension": ".py",
   "mimetype": "text/x-python",
   "name": "python",
   "nbconvert_exporter": "python",
   "pygments_lexer": "ipython2",
   "version": "2.7.6"
  }
 },
 "nbformat": 4,
 "nbformat_minor": 5
}
