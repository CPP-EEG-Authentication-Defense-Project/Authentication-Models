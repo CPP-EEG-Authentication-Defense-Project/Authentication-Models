{
 "cells": [
  {
   "cell_type": "markdown",
   "source": [
    "# Setup\n",
    "\n",
    "Initial module setup."
   ],
   "metadata": {
    "collapsed": false
   },
   "id": "6a85031c830d3bd8"
  },
  {
   "cell_type": "code",
   "execution_count": 1,
   "outputs": [],
   "source": [
    "import mne.io\n",
    "import pandas as pd\n",
    "import typing\n",
    "import mne\n",
    "import numpy as np\n",
    "\n",
    "from sklearn.svm import LinearSVC\n",
    "from sklearn.model_selection import StratifiedKFold\n",
    "from eeg_auth_defense_utilities import data_retrieval, filtration, features, formatting"
   ],
   "metadata": {
    "collapsed": false,
    "ExecuteTime": {
     "end_time": "2023-10-21T05:02:45.478774100Z",
     "start_time": "2023-10-21T05:02:43.595777200Z"
    }
   },
   "id": "952789ebdbd41432"
  },
  {
   "cell_type": "markdown",
   "source": [
    "# Constants"
   ],
   "metadata": {
    "collapsed": false
   },
   "id": "a2051422fdd18f30"
  },
  {
   "cell_type": "code",
   "execution_count": 2,
   "outputs": [],
   "source": [
    "DATASET_SAMPLE_FREQ_HZ = 200\n",
    "DATA_CHANNEL_NAMES = ['T7','F8','Cz','P4']\n",
    "FREQUENCIES = [\n",
    "    filtration.FrequencyBand(lower=8.0, upper=12.0, label='Alpha'),\n",
    "    filtration.FrequencyBand(lower=12.0, upper=35.0, label='Beta'),\n",
    "    filtration.FrequencyBand(lower=4.0, upper=8.0, label='Theta'),\n",
    "    filtration.FrequencyBand(lower=35.0, upper=None, label='Gamma'),\n",
    "    filtration.FrequencyBand(lower=None, upper=None, label='Raw'),\n",
    "]\n",
    "K_FOLDS = 10"
   ],
   "metadata": {
    "collapsed": false,
    "ExecuteTime": {
     "end_time": "2023-10-21T05:02:45.493774200Z",
     "start_time": "2023-10-21T05:02:45.480775100Z"
    }
   },
   "id": "a6fdc728b1d12694"
  },
  {
   "cell_type": "markdown",
   "source": [
    "# Utilities"
   ],
   "metadata": {
    "collapsed": false
   },
   "id": "75b3baf659a8c317"
  },
  {
   "cell_type": "markdown",
   "source": [
    "## Types"
   ],
   "metadata": {
    "collapsed": false
   },
   "id": "3add7bf887bffded"
  },
  {
   "cell_type": "code",
   "execution_count": 3,
   "outputs": [],
   "source": [
    "SubjectFramesMap = typing.Dict[str, typing.List[pd.DataFrame]]\n",
    "SubjectFrameFeaturesMap = typing.Dict[str, typing.List[np.ndarray]]\n",
    "LabelledDataset = typing.Tuple[typing.List[np.ndarray], typing.List[int]]\n",
    "LabelledDatasetMap = typing.Dict[str, LabelledDataset]\n",
    "StratifiedData = typing.List[typing.Tuple[LabelledDataset, LabelledDataset]]\n",
    "StratifiedDatasetMap = typing.Dict[str, StratifiedData]\n",
    "T = typing.TypeVar('T')"
   ],
   "metadata": {
    "collapsed": false,
    "ExecuteTime": {
     "end_time": "2023-10-21T05:02:45.512773500Z",
     "start_time": "2023-10-21T05:02:45.495775Z"
    }
   },
   "id": "8f036de783f82a55"
  },
  {
   "cell_type": "markdown",
   "source": [
    "## Functions"
   ],
   "metadata": {
    "collapsed": false
   },
   "id": "bc9fba7a0b7d4fc9"
  },
  {
   "cell_type": "code",
   "execution_count": 4,
   "outputs": [],
   "source": [
    "def filter_subject_data(subject_data: formatting.SubjectDataMap) -> formatting.SubjectDataMap:\n",
    "    \"\"\"\n",
    "    Applies filtration to all the dataframes for each subject in the given data map.\n",
    "    \n",
    "    :param subject_data: the subject data to filter.\n",
    "    :return: a new data map, wherein the keys are the subject identifiers and the values are the\n",
    "             filtered data.\n",
    "    \"\"\"\n",
    "    data_windows_filtered = {}\n",
    "    bandpass_filter = filtration.EEGBandpassFilter(FREQUENCIES)\n",
    "    \n",
    "    for identifier, data_to_filter in subject_data.items():\n",
    "        mne_data = convert_dataframe_to_mne(data_to_filter)\n",
    "        data_windows_filtered[identifier] = bandpass_filter.apply_filter(mne_data, DATA_CHANNEL_NAMES)\n",
    "        \n",
    "    return data_windows_filtered\n",
    "\n",
    "\n",
    "def convert_dataframe_to_mne(dataframe: pd.DataFrame) -> mne.io.RawArray:\n",
    "    \"\"\"\n",
    "    Converts the given dataframe over to Python-MNE format.\n",
    "    \n",
    "    :param dataframe: The dataframe to convert.\n",
    "    :return: A Python-MNE data array.\n",
    "    \"\"\"\n",
    "    transposed_dataframe = dataframe.transpose(copy=True)\n",
    "    data_info = mne.create_info(DATA_CHANNEL_NAMES, DATASET_SAMPLE_FREQ_HZ, ch_types='eeg')\n",
    "    return mne.io.RawArray(transposed_dataframe.to_numpy(), data_info)\n",
    "\n",
    "\n",
    "def extract_features(data_map: SubjectFramesMap) -> SubjectFrameFeaturesMap:\n",
    "    \"\"\"\n",
    "    Extracts features from the given map of subjects to their windowed data samples.\n",
    "    \n",
    "    :param data_map: the data to extract features from.\n",
    "    :return: the extracted features for each subject's windows, in a map.\n",
    "    \"\"\"\n",
    "    extracted_features_map = {}\n",
    "    extractor = features.ARFeatureExtractor(ar_model_config={'lags': 25})\n",
    "    \n",
    "    for subject in data_map:\n",
    "        extracted_features_map[subject] = [extractor.extract(window) for window in data_map[subject]]\n",
    "        \n",
    "    return extracted_features_map\n",
    "\n",
    "\n",
    "def get_labelled_dataset_map(map_to_convert: SubjectFrameFeaturesMap) -> LabelledDatasetMap:\n",
    "    \"\"\"\n",
    "    Helper function which converts the given subject features map to a map of labelled datasets.\n",
    "    \n",
    "    :param map_to_convert: the original subject features map to convert. \n",
    "    :return: a new map wherein the keys are subject identifiers and the values are labelled datasets.\n",
    "    \"\"\"\n",
    "    converted_map = {}\n",
    "    \n",
    "    for key in map_to_convert:\n",
    "        converted_map[key] = _get_x_y_labelled_dataset(map_to_convert, key)\n",
    "        \n",
    "    return converted_map\n",
    "\n",
    "\n",
    "def _get_x_y_labelled_dataset(map_to_label: SubjectFrameFeaturesMap, target_subject_key: str) -> LabelledDataset:\n",
    "    \"\"\"\n",
    "    Utility function which generates a list of samples and a list of associated labels, based on the given target subject\n",
    "    (i.e., '1' indicates the sample is for the target, '0' otherwise).\n",
    "    \n",
    "    \n",
    "    :param map_to_label: a map wherein the keys are subject identifiers and the values are lists of data samples.\n",
    "    :param target_subject_key: the key to use to tailor the dataset to.\n",
    "    :return: a Tuple containing samples, and the corresponding labels.\n",
    "    \"\"\"\n",
    "    if target_subject_key not in map_to_label:\n",
    "        raise KeyError(f'Key \"{target_subject_key}\" not found in data map!')\n",
    "    label_translation_map = {}\n",
    "    samples_list = []\n",
    "    labels_list = []\n",
    "    \n",
    "    for key in map_to_label:\n",
    "        label_id = 1 if key == target_subject_key else 0\n",
    "        label_translation_map[key] = label_id\n",
    "        for subject_frame_sample in map_to_label[key]:\n",
    "            samples_list.append(subject_frame_sample)\n",
    "            labels_list.append(label_id)\n",
    "    \n",
    "    return samples_list, labels_list\n",
    "        \n",
    "        \n",
    "def apply_stratified_k_fold(labelled_data_map: LabelledDatasetMap, folds: int) -> StratifiedDatasetMap:\n",
    "    \"\"\"\n",
    "    Apply stratified k-fold to the datasets stored in the given labelled dataset map.\n",
    "    \n",
    "    :param labelled_data_map: the labelled subject dataset map to apply k-fold to.  \n",
    "    :param folds: the number of folds.\n",
    "    :return: an update data map, wherein each key is the subject identifier and each value is a list of k-fold datasets.\n",
    "    \"\"\"\n",
    "    stratified_data_map = {}\n",
    "    splitter = StratifiedKFold(folds)\n",
    "    \n",
    "    for key in labelled_data_map:\n",
    "        subject_x, subject_y = labelled_data_map[key]\n",
    "        subject_x, subject_y = np.array(subject_x), np.array(subject_y)\n",
    "        stratified_subject_data = []\n",
    "        for train, test in splitter.split(subject_x, subject_y):\n",
    "            subject_x_train = subject_x[train]\n",
    "            subject_y_train = subject_y[train]\n",
    "            subject_x_test = subject_x[test]\n",
    "            subject_y_test = subject_y[test]\n",
    "            stratified_subject_data.append(\n",
    "                (\n",
    "                    (subject_x_train, subject_y_train),\n",
    "                    (subject_x_test, subject_y_test)\n",
    "                )\n",
    "            )\n",
    "        stratified_data_map[key] = stratified_subject_data\n",
    "    \n",
    "    return stratified_data_map\n",
    "        \n",
    "        \n",
    "\n",
    "def get_sample_value_from_map(map_to_sample: typing.Dict[str, T]) -> T:\n",
    "    \"\"\"\n",
    "    Helper function which retrieves a sample dataframe from the given map of data.\n",
    "    \n",
    "    :param map_to_sample: The data map to get a sample from. \n",
    "    \"\"\"\n",
    "    return next(iter(map_to_sample.values()))\n",
    "\n",
    "\n",
    "def print_info_about_subjects(map_to_summarize: formatting.SubjectDataMap):\n",
    "    \"\"\"\n",
    "    Helper function which prints some basic information about the\n",
    "    subjects in a data map.\n",
    "    \n",
    "    :param map_to_summarize: the map to print info from.\n",
    "    \"\"\"\n",
    "    print('SUBJECT DATA')\n",
    "    print(f'Number of subjects: {len(map_to_summarize.keys())}')\n",
    "    print('Subject identifiers:')\n",
    "    for key in map_to_summarize:\n",
    "        print(key)\n",
    "\n",
    "\n",
    "def print_windowed_data_summary(windowed_data_map: SubjectFramesMap):\n",
    "    \"\"\"\n",
    "    Helper function which prints some basic information on a windowed data map.\n",
    "    \n",
    "    :param windowed_data_map: The windowed data to summarize.\n",
    "    \"\"\"\n",
    "    print('WINDOWED DATA')\n",
    "    for key in windowed_data_map:\n",
    "        print(f'Subject: {key}, Windows: {len(windowed_data_map[key])}')\n",
    "        \n",
    "        \n",
    "def print_labelled_data_summary(labelled_data: LabelledDatasetMap):\n",
    "    \"\"\"\n",
    "    Helper function which prints basic information about the given labelled data map.\n",
    "    \n",
    "    :param labelled_data: the labelled data map to summarize.\n",
    "    \"\"\"\n",
    "    print('LABELLED DATA')\n",
    "    for key in labelled_data:\n",
    "        subject_labels = labelled_data[key][1]\n",
    "        positive_count = len(\n",
    "            list(\n",
    "                filter(lambda label: label == 1, subject_labels)\n",
    "            )\n",
    "        )\n",
    "        negative_count = len(\n",
    "            list(\n",
    "                filter(lambda label: label == 0, subject_labels)\n",
    "            )\n",
    "        )\n",
    "        print(f'Subject: {key}')\n",
    "        print(f'\\tPositive data samples: {positive_count}')\n",
    "        print(f'\\tNegative data samples: {negative_count}')\n",
    "\n",
    "\n",
    "def print_scores_summary(scores_map: typing.Dict[str, typing.List[float]]):\n",
    "    \"\"\"\n",
    "    Helper function which prints basic information about the\n",
    "    scores provided in a scores map.\n",
    "    \n",
    "    :param scores_map: a map of scores, where the key is the subject\n",
    "                       and the value is a list of scores.\n",
    "    \"\"\"\n",
    "    print('AVERAGE SCORES')\n",
    "    for key in scores_map:\n",
    "        avg_score = np.mean(scores_map[key])\n",
    "        print(f'{key}: {avg_score}')"
   ],
   "metadata": {
    "collapsed": false,
    "ExecuteTime": {
     "end_time": "2023-10-21T05:02:45.524118500Z",
     "start_time": "2023-10-21T05:02:45.509774400Z"
    }
   },
   "id": "5ea163a23560b605"
  },
  {
   "cell_type": "markdown",
   "source": [
    "# Setup Dataset"
   ],
   "metadata": {
    "collapsed": false
   },
   "id": "4f35f26c9a821b4d"
  },
  {
   "cell_type": "code",
   "execution_count": 5,
   "outputs": [
    {
     "name": "stdout",
     "output_type": "stream",
     "text": [
      "20 SUBJECTS LOADED FROM DATASET\n",
      "SAMPLE:\n"
     ]
    },
    {
     "data": {
      "text/plain": "               T7           F8          Cz          P4\n13200  431.251617 -1189.493896  454.405334  345.306824\n13201  444.240265 -1194.415649  471.231140  363.666016\n13202  439.064270 -1188.719727  457.135437  325.425537\n13203  442.071136 -1193.476929  458.751099  340.463654\n13204  435.933960 -1197.149414  442.688232  333.630859",
      "text/html": "<div>\n<style scoped>\n    .dataframe tbody tr th:only-of-type {\n        vertical-align: middle;\n    }\n\n    .dataframe tbody tr th {\n        vertical-align: top;\n    }\n\n    .dataframe thead th {\n        text-align: right;\n    }\n</style>\n<table border=\"1\" class=\"dataframe\">\n  <thead>\n    <tr style=\"text-align: right;\">\n      <th></th>\n      <th>T7</th>\n      <th>F8</th>\n      <th>Cz</th>\n      <th>P4</th>\n    </tr>\n  </thead>\n  <tbody>\n    <tr>\n      <th>13200</th>\n      <td>431.251617</td>\n      <td>-1189.493896</td>\n      <td>454.405334</td>\n      <td>345.306824</td>\n    </tr>\n    <tr>\n      <th>13201</th>\n      <td>444.240265</td>\n      <td>-1194.415649</td>\n      <td>471.231140</td>\n      <td>363.666016</td>\n    </tr>\n    <tr>\n      <th>13202</th>\n      <td>439.064270</td>\n      <td>-1188.719727</td>\n      <td>457.135437</td>\n      <td>325.425537</td>\n    </tr>\n    <tr>\n      <th>13203</th>\n      <td>442.071136</td>\n      <td>-1193.476929</td>\n      <td>458.751099</td>\n      <td>340.463654</td>\n    </tr>\n    <tr>\n      <th>13204</th>\n      <td>435.933960</td>\n      <td>-1197.149414</td>\n      <td>442.688232</td>\n      <td>333.630859</td>\n    </tr>\n  </tbody>\n</table>\n</div>"
     },
     "execution_count": 5,
     "metadata": {},
     "output_type": "execute_result"
    }
   ],
   "source": [
    "dataset_downloader = data_retrieval.AuditoryDataDownloader()\n",
    "dataset_path = dataset_downloader.retrieve()\n",
    "dataset_formatter = formatting.AuditoryDataFormatter()\n",
    "data = dataset_formatter.format_data(dataset_path)\n",
    "print(f'{len(data.keys())} SUBJECTS LOADED FROM DATASET')\n",
    "print('SAMPLE:')\n",
    "sample_value = get_sample_value_from_map(data)\n",
    "sample_value.head()"
   ],
   "metadata": {
    "collapsed": false,
    "ExecuteTime": {
     "end_time": "2023-10-21T05:02:45.881618500Z",
     "start_time": "2023-10-21T05:02:45.526617300Z"
    }
   },
   "id": "5f35d7e8f68feae5"
  },
  {
   "cell_type": "markdown",
   "source": [
    "# Pre-process Data"
   ],
   "metadata": {
    "collapsed": false
   },
   "id": "de0cb96b51f62ae3"
  },
  {
   "cell_type": "markdown",
   "source": [
    "## Filter"
   ],
   "metadata": {
    "collapsed": false
   },
   "id": "c2ba98ab59b6e628"
  },
  {
   "cell_type": "code",
   "execution_count": 6,
   "outputs": [
    {
     "name": "stdout",
     "output_type": "stream",
     "text": [
      "Creating RawArray with float64 data, n_channels=4, n_times=24000\n",
      "    Range : 0 ... 23999 =      0.000 ...   119.995 secs\n",
      "Ready.\n",
      "Creating RawArray with float64 data, n_channels=4, n_times=24000\n",
      "    Range : 0 ... 23999 =      0.000 ...   119.995 secs\n",
      "Ready.\n",
      "Creating RawArray with float64 data, n_channels=4, n_times=24000\n",
      "    Range : 0 ... 23999 =      0.000 ...   119.995 secs\n",
      "Ready.\n",
      "Creating RawArray with float64 data, n_channels=4, n_times=24000\n",
      "    Range : 0 ... 23999 =      0.000 ...   119.995 secs\n",
      "Ready.\n",
      "Creating RawArray with float64 data, n_channels=4, n_times=40114\n",
      "    Range : 0 ... 40113 =      0.000 ...   200.565 secs\n",
      "Ready.\n",
      "Creating RawArray with float64 data, n_channels=4, n_times=24000\n",
      "    Range : 0 ... 23999 =      0.000 ...   119.995 secs\n",
      "Ready.\n",
      "Creating RawArray with float64 data, n_channels=4, n_times=24000\n",
      "    Range : 0 ... 23999 =      0.000 ...   119.995 secs\n",
      "Ready.\n",
      "Creating RawArray with float64 data, n_channels=4, n_times=24000\n",
      "    Range : 0 ... 23999 =      0.000 ...   119.995 secs\n",
      "Ready.\n",
      "Creating RawArray with float64 data, n_channels=4, n_times=24000\n",
      "    Range : 0 ... 23999 =      0.000 ...   119.995 secs\n",
      "Ready.\n",
      "Creating RawArray with float64 data, n_channels=4, n_times=24000\n",
      "    Range : 0 ... 23999 =      0.000 ...   119.995 secs\n",
      "Ready.\n",
      "Creating RawArray with float64 data, n_channels=4, n_times=24000\n",
      "    Range : 0 ... 23999 =      0.000 ...   119.995 secs\n",
      "Ready.\n",
      "Creating RawArray with float64 data, n_channels=4, n_times=24000\n",
      "    Range : 0 ... 23999 =      0.000 ...   119.995 secs\n",
      "Ready.\n",
      "Creating RawArray with float64 data, n_channels=4, n_times=24000\n",
      "    Range : 0 ... 23999 =      0.000 ...   119.995 secs\n",
      "Ready.\n",
      "Creating RawArray with float64 data, n_channels=4, n_times=24000\n",
      "    Range : 0 ... 23999 =      0.000 ...   119.995 secs\n",
      "Ready.\n",
      "Creating RawArray with float64 data, n_channels=4, n_times=24000\n",
      "    Range : 0 ... 23999 =      0.000 ...   119.995 secs\n",
      "Ready.\n",
      "Creating RawArray with float64 data, n_channels=4, n_times=24000\n",
      "    Range : 0 ... 23999 =      0.000 ...   119.995 secs\n",
      "Ready.\n",
      "Creating RawArray with float64 data, n_channels=4, n_times=24000\n",
      "    Range : 0 ... 23999 =      0.000 ...   119.995 secs\n",
      "Ready.\n",
      "Creating RawArray with float64 data, n_channels=4, n_times=24000\n",
      "    Range : 0 ... 23999 =      0.000 ...   119.995 secs\n",
      "Ready.\n",
      "Creating RawArray with float64 data, n_channels=4, n_times=24000\n",
      "    Range : 0 ... 23999 =      0.000 ...   119.995 secs\n",
      "Ready.\n",
      "Creating RawArray with float64 data, n_channels=4, n_times=24000\n",
      "    Range : 0 ... 23999 =      0.000 ...   119.995 secs\n",
      "Ready.\n",
      "FILTERED DATA\n",
      "SAMPLE:\n"
     ]
    },
    {
     "data": {
      "text/plain": "       T7.Alpha       T7.Beta      T7.Theta      T7.Gamma        T7.Raw  \\\n0 -7.704948e-08  4.041212e-08 -5.873080e-08 -8.437695e-08  4.312516e+08   \n1  1.597428e+06  5.617263e+06  2.604405e+05  6.113604e+06  4.442403e+08   \n2  3.003843e+06  7.803250e+06  5.161938e+05 -2.495471e+06  4.390643e+08   \n3  4.046442e+06  5.954752e+06  7.670393e+05  1.200391e+06  4.420711e+08   \n4  4.598322e+06  2.588707e+06  1.012805e+06 -2.499456e+06  4.359340e+08   \n\n       F8.Alpha       F8.Beta      F8.Theta      F8.Gamma        F8.Raw  \\\n0  1.941780e-07 -1.985079e-07  1.718625e-07  9.059420e-08 -1.189494e+09   \n1 -7.000751e+05 -1.784533e+06 -6.256944e+05 -3.457973e+06 -1.194416e+09   \n2 -1.323957e+06 -2.837481e+06 -1.221153e+06  4.026421e+06 -1.188720e+09   \n3 -1.809801e+06 -3.154577e+06 -1.753179e+06  1.247092e+06 -1.193477e+09   \n4 -2.103975e+06 -3.215320e+06 -2.199496e+06 -9.620595e+05 -1.197149e+09   \n\n       Cz.Alpha       Cz.Beta      Cz.Theta      Cz.Gamma        Cz.Raw  \\\n0 -6.883383e-08  6.328271e-08 -7.177592e-08 -8.881784e-10  4.544053e+08   \n1  1.179360e+06  2.073403e+06  1.060481e+05  1.429068e+07  4.712311e+08   \n2  2.203946e+06  2.787055e+06  2.240760e+05 -1.378198e+06  4.571354e+08   \n3  2.936890e+06  1.816007e+06  3.662799e+05  4.587554e+04  4.587511e+08   \n4  3.276660e+06 -3.953140e+03  5.449733e+05 -1.511896e+07  4.426882e+08   \n\n       P4.Alpha       P4.Beta      P4.Theta      P4.Gamma        P4.Raw  \n0 -6.150636e-08  5.373479e-08 -4.551914e-08 -3.108624e-08  3.453068e+08  \n1  6.424138e+05 -5.416940e+06 -2.233327e+05  2.443651e+07  3.636660e+08  \n2  1.211374e+06 -7.326968e+06 -4.342064e+05 -1.151809e+07  3.254255e+08  \n3  1.644117e+06 -4.896868e+06 -6.231300e+05  1.218548e+06  3.404637e+08  \n4  1.887982e+06 -4.539841e+05 -7.769190e+05 -9.855401e+06  3.336309e+08  ",
      "text/html": "<div>\n<style scoped>\n    .dataframe tbody tr th:only-of-type {\n        vertical-align: middle;\n    }\n\n    .dataframe tbody tr th {\n        vertical-align: top;\n    }\n\n    .dataframe thead th {\n        text-align: right;\n    }\n</style>\n<table border=\"1\" class=\"dataframe\">\n  <thead>\n    <tr style=\"text-align: right;\">\n      <th></th>\n      <th>T7.Alpha</th>\n      <th>T7.Beta</th>\n      <th>T7.Theta</th>\n      <th>T7.Gamma</th>\n      <th>T7.Raw</th>\n      <th>F8.Alpha</th>\n      <th>F8.Beta</th>\n      <th>F8.Theta</th>\n      <th>F8.Gamma</th>\n      <th>F8.Raw</th>\n      <th>Cz.Alpha</th>\n      <th>Cz.Beta</th>\n      <th>Cz.Theta</th>\n      <th>Cz.Gamma</th>\n      <th>Cz.Raw</th>\n      <th>P4.Alpha</th>\n      <th>P4.Beta</th>\n      <th>P4.Theta</th>\n      <th>P4.Gamma</th>\n      <th>P4.Raw</th>\n    </tr>\n  </thead>\n  <tbody>\n    <tr>\n      <th>0</th>\n      <td>-7.704948e-08</td>\n      <td>4.041212e-08</td>\n      <td>-5.873080e-08</td>\n      <td>-8.437695e-08</td>\n      <td>4.312516e+08</td>\n      <td>1.941780e-07</td>\n      <td>-1.985079e-07</td>\n      <td>1.718625e-07</td>\n      <td>9.059420e-08</td>\n      <td>-1.189494e+09</td>\n      <td>-6.883383e-08</td>\n      <td>6.328271e-08</td>\n      <td>-7.177592e-08</td>\n      <td>-8.881784e-10</td>\n      <td>4.544053e+08</td>\n      <td>-6.150636e-08</td>\n      <td>5.373479e-08</td>\n      <td>-4.551914e-08</td>\n      <td>-3.108624e-08</td>\n      <td>3.453068e+08</td>\n    </tr>\n    <tr>\n      <th>1</th>\n      <td>1.597428e+06</td>\n      <td>5.617263e+06</td>\n      <td>2.604405e+05</td>\n      <td>6.113604e+06</td>\n      <td>4.442403e+08</td>\n      <td>-7.000751e+05</td>\n      <td>-1.784533e+06</td>\n      <td>-6.256944e+05</td>\n      <td>-3.457973e+06</td>\n      <td>-1.194416e+09</td>\n      <td>1.179360e+06</td>\n      <td>2.073403e+06</td>\n      <td>1.060481e+05</td>\n      <td>1.429068e+07</td>\n      <td>4.712311e+08</td>\n      <td>6.424138e+05</td>\n      <td>-5.416940e+06</td>\n      <td>-2.233327e+05</td>\n      <td>2.443651e+07</td>\n      <td>3.636660e+08</td>\n    </tr>\n    <tr>\n      <th>2</th>\n      <td>3.003843e+06</td>\n      <td>7.803250e+06</td>\n      <td>5.161938e+05</td>\n      <td>-2.495471e+06</td>\n      <td>4.390643e+08</td>\n      <td>-1.323957e+06</td>\n      <td>-2.837481e+06</td>\n      <td>-1.221153e+06</td>\n      <td>4.026421e+06</td>\n      <td>-1.188720e+09</td>\n      <td>2.203946e+06</td>\n      <td>2.787055e+06</td>\n      <td>2.240760e+05</td>\n      <td>-1.378198e+06</td>\n      <td>4.571354e+08</td>\n      <td>1.211374e+06</td>\n      <td>-7.326968e+06</td>\n      <td>-4.342064e+05</td>\n      <td>-1.151809e+07</td>\n      <td>3.254255e+08</td>\n    </tr>\n    <tr>\n      <th>3</th>\n      <td>4.046442e+06</td>\n      <td>5.954752e+06</td>\n      <td>7.670393e+05</td>\n      <td>1.200391e+06</td>\n      <td>4.420711e+08</td>\n      <td>-1.809801e+06</td>\n      <td>-3.154577e+06</td>\n      <td>-1.753179e+06</td>\n      <td>1.247092e+06</td>\n      <td>-1.193477e+09</td>\n      <td>2.936890e+06</td>\n      <td>1.816007e+06</td>\n      <td>3.662799e+05</td>\n      <td>4.587554e+04</td>\n      <td>4.587511e+08</td>\n      <td>1.644117e+06</td>\n      <td>-4.896868e+06</td>\n      <td>-6.231300e+05</td>\n      <td>1.218548e+06</td>\n      <td>3.404637e+08</td>\n    </tr>\n    <tr>\n      <th>4</th>\n      <td>4.598322e+06</td>\n      <td>2.588707e+06</td>\n      <td>1.012805e+06</td>\n      <td>-2.499456e+06</td>\n      <td>4.359340e+08</td>\n      <td>-2.103975e+06</td>\n      <td>-3.215320e+06</td>\n      <td>-2.199496e+06</td>\n      <td>-9.620595e+05</td>\n      <td>-1.197149e+09</td>\n      <td>3.276660e+06</td>\n      <td>-3.953140e+03</td>\n      <td>5.449733e+05</td>\n      <td>-1.511896e+07</td>\n      <td>4.426882e+08</td>\n      <td>1.887982e+06</td>\n      <td>-4.539841e+05</td>\n      <td>-7.769190e+05</td>\n      <td>-9.855401e+06</td>\n      <td>3.336309e+08</td>\n    </tr>\n  </tbody>\n</table>\n</div>"
     },
     "execution_count": 6,
     "metadata": {},
     "output_type": "execute_result"
    }
   ],
   "source": [
    "data = filter_subject_data(data)\n",
    "print('FILTERED DATA')\n",
    "print('SAMPLE:')\n",
    "sample_value = get_sample_value_from_map(data)\n",
    "sample_value.head()"
   ],
   "metadata": {
    "collapsed": false,
    "ExecuteTime": {
     "end_time": "2023-10-21T05:02:46.579618100Z",
     "start_time": "2023-10-21T05:02:45.881618500Z"
    }
   },
   "id": "6d9e1d844e51101b"
  },
  {
   "cell_type": "markdown",
   "source": [
    "## Window"
   ],
   "metadata": {
    "collapsed": false
   },
   "id": "caa5e15b39630948"
  },
  {
   "cell_type": "code",
   "execution_count": 7,
   "outputs": [],
   "source": [
    "window_formatter = formatting.DataWindowFormatter(window_size=1200, overlap=0.5)\n",
    "windowed_data = {subject: window_formatter.create_windows(data) for subject, data in data.items()}"
   ],
   "metadata": {
    "collapsed": false,
    "ExecuteTime": {
     "end_time": "2023-10-21T05:02:46.596118100Z",
     "start_time": "2023-10-21T05:02:46.579116700Z"
    }
   },
   "id": "d3571b250e741033"
  },
  {
   "cell_type": "markdown",
   "source": [
    "# Feature Extraction"
   ],
   "metadata": {
    "collapsed": false
   },
   "id": "4457e60ca573f8a0"
  },
  {
   "cell_type": "code",
   "execution_count": 8,
   "outputs": [
    {
     "name": "stdout",
     "output_type": "stream",
     "text": [
      "EXTRACTED FEATURES\n",
      "SAMPLE:\n",
      "SIZE: 520\n",
      "ELEMENTS: [ 5.16522137e+01  2.24630794e+00 -9.03048407e-01 -5.82481784e-01\n",
      " -1.97534788e-01 -8.72548760e-02  3.46408427e-01  5.38384508e-01\n",
      " -2.40385954e-02 -2.88540029e-01 -1.69869593e-01  8.50351196e-02\n",
      "  1.13690514e-01 -4.26474550e-01  4.28296715e-02  2.24245348e-01\n",
      "  1.60818455e-01 -6.91497089e-02  4.95879506e-02  4.41601278e-02\n",
      " -1.01926451e-01 -2.73979528e-01 -9.29162278e-02  2.62771285e-01\n",
      "  2.74920747e-01 -2.60489809e-01 -5.32375179e+02  4.65319564e+00\n",
      " -1.03634806e+01  1.28730021e+01 -8.04141945e+00 -5.29821507e-01\n",
      "  4.34629590e+00 -1.51491641e+00 -2.24124622e+00  1.96164584e+00\n",
      "  3.67623140e-01 -1.28788791e+00  1.33769993e-01  5.27846890e-01\n",
      "  5.85958561e-01 -2.28847621e+00  1.86782973e+00  1.90941937e-01\n",
      " -1.08242894e+00 -3.59226297e-01  1.53422271e+00 -7.54151041e-01\n",
      " -7.37856488e-01  1.09292261e+00 -5.60687953e-01  1.00726258e-01\n",
      "  1.74189788e+00  2.17268855e+00 -6.83306976e-01 -5.12570144e-01\n",
      " -2.85191559e-01 -2.66779384e-01  1.94170645e-01  5.37076675e-01\n",
      "  1.11245342e-01 -1.73438080e-01 -7.48952415e-02  1.71234937e-01\n",
      "  1.50166870e-01 -5.16629849e-01 -8.79154159e-02  1.37057467e-01\n",
      "  1.17204227e-01 -9.96435641e-02  6.27401125e-02  1.88626892e-01\n",
      "  6.71733258e-02 -2.01865674e-01 -1.41179207e-01  1.08706302e-01\n",
      "  3.78091822e-02 -1.66741798e-02 -2.67434117e+04 -4.20364009e+00\n",
      " -1.10613475e+01 -2.19820287e+01 -3.53063531e+01 -4.70890990e+01\n",
      " -5.22199984e+01 -4.65880684e+01 -2.94289317e+01 -4.40760540e+00\n",
      "  2.13578251e+01  4.01001133e+01  4.67291519e+01  4.08278450e+01\n",
      "  2.64640821e+01  9.96111155e+00 -2.98589816e+00 -9.52348022e+00\n",
      " -1.00149131e+01 -6.94671285e+00 -3.13607694e+00 -4.23650541e-01\n",
      "  7.10160360e-01  7.28797048e-01  3.69285435e-01  9.13715687e-02\n",
      "  6.76550474e+07  4.17268303e-02  1.27002845e-01  1.89542733e-01\n",
      "  1.94957311e-01  8.99104996e-03 -1.55856922e-01 -4.63387031e-02\n",
      "  1.40836805e-02 -3.81520429e-02 -9.50129687e-02 -1.70932032e-02\n",
      "  1.45655716e-01  6.46327042e-02 -3.37481271e-02  5.69951211e-03\n",
      "  1.54560953e-01  5.05770588e-02  1.84032050e-02  2.81398288e-02\n",
      "  1.00196837e-01  2.51846029e-02 -5.25131732e-02  2.75724741e-03\n",
      "  1.07965733e-01  5.39915940e-03 -9.09999237e+00  2.21498399e+00\n",
      " -8.76369661e-01 -5.23465035e-01 -2.11424158e-01 -1.06585864e-01\n",
      "  2.17409453e-01  5.38541492e-01  7.88121066e-02 -1.75056242e-01\n",
      " -7.92580387e-02 -1.06148091e-01 -1.13728929e-01 -2.80660927e-01\n",
      "  2.31909763e-02  4.93247432e-01  8.68721858e-02 -1.33717136e-01\n",
      " -1.26691746e-01  1.68714936e-01 -1.34665940e-01 -1.85314305e-01\n",
      " -8.30038869e-02  1.90228854e-01  2.80178757e-01 -2.46308634e-01\n",
      "  8.66768276e+01  4.61500476e+00 -1.01897777e+01  1.25121348e+01\n",
      " -7.70552335e+00 -4.78166878e-01  3.84305593e+00 -9.93945158e-01\n",
      " -2.42668481e+00  1.98706287e+00  2.09980891e-01 -1.24374369e+00\n",
      "  5.50242758e-01  3.13089141e-02  2.24388140e-01 -7.76005583e-01\n",
      " -4.03058885e-02  1.57098236e+00 -1.83036719e+00  2.92685310e-01\n",
      "  6.00447351e-01  2.90604685e-01 -1.52637885e+00  1.48040214e+00\n",
      " -6.74113215e-01  1.14444638e-01  5.56907832e+00  2.25179213e+00\n",
      " -8.04374616e-01 -5.17884129e-01 -2.85479999e-01 -2.11286767e-01\n",
      "  1.55304527e-01  5.92672656e-01  1.48711101e-01 -1.36357723e-01\n",
      " -3.51063100e-02 -1.49169834e-02 -7.54910354e-02 -3.46075015e-01\n",
      " -6.45052295e-02  4.31915462e-01  4.47726215e-02 -1.79271788e-01\n",
      " -1.24155399e-01  3.09842628e-01  6.22379822e-03 -1.34617488e-01\n",
      " -1.16933982e-01  7.00845451e-02  5.99870617e-02 -2.83512585e-02\n",
      "  4.27896021e+03 -4.20251176e+00 -1.10802728e+01 -2.20892672e+01\n",
      " -3.56285590e+01 -4.77342155e+01 -5.31545223e+01 -4.74958902e+01\n",
      " -2.97020899e+01 -3.31099795e+00  2.43851538e+01  4.51382912e+01\n",
      "  5.31971468e+01  4.76002913e+01  3.22114839e+01  1.36656322e+01\n",
      " -1.72634152e+00 -1.03733081e+01 -1.21656349e+01 -9.45450117e+00\n",
      " -5.28091356e+00 -1.86395410e+00 -4.52017504e-02  4.42458935e-01\n",
      "  2.98843444e-01  9.01946900e-02 -1.79738884e+08  1.02359432e-01\n",
      "  1.49198968e-01  2.04291009e-01  2.14260948e-01  4.63031349e-02\n",
      " -1.53551864e-01 -3.79389879e-02  1.42348312e-02 -1.10159516e-02\n",
      " -1.09391048e-02  5.61697742e-02  1.16749515e-01 -8.11958508e-03\n",
      " -1.31000877e-01  8.36464477e-03  8.53507956e-02  7.44499380e-02\n",
      " -4.50864919e-03  9.65129963e-02  1.36606699e-01  2.60333809e-02\n",
      " -1.13499522e-01 -6.74172321e-02  3.88820359e-02  1.78556533e-02\n",
      " -3.12317682e+01  2.45091222e+00 -1.28498417e+00 -6.65390917e-01\n",
      "  1.50894324e-01  5.72079400e-02  2.67848445e-01  2.81795868e-01\n",
      "  6.22119743e-03 -4.13550211e-01  1.83169292e-01  6.31712854e-02\n",
      " -1.46217017e-01 -3.80609499e-01  1.38188469e-01  4.35096237e-01\n",
      "  8.39872863e-02 -3.79308086e-01  1.57763131e-02  2.80248994e-01\n",
      " -3.43163138e-02 -3.72393338e-01 -4.40211377e-02  2.23735912e-01\n",
      "  2.18420016e-01 -2.09736076e-01  3.21880117e+02  4.91049553e+00\n",
      " -1.15500944e+01  1.54439289e+01 -1.09504137e+01  5.76888141e-01\n",
      "  5.84458351e+00 -3.67106043e+00 -1.62252719e+00  2.45321102e+00\n",
      "  9.88240728e-01 -3.53023232e+00  2.11083729e+00  5.82653539e-01\n",
      " -9.10434427e-01 -1.16492742e+00  1.88496266e+00 -1.69709935e-02\n",
      " -1.56071312e+00  3.06504579e-01  1.81187382e+00 -2.07965710e+00\n",
      "  7.21949962e-01  2.52141998e-01 -3.00192901e-01  7.08072131e-02\n",
      " -3.55345262e+00  2.42620108e+00 -1.10716307e+00 -6.72553816e-01\n",
      "  3.07557653e-02 -6.72915668e-02  2.12678747e-01  3.37339773e-01\n",
      "  1.11615656e-01 -3.45847497e-01  2.22084726e-01  1.25903258e-01\n",
      " -1.28819819e-01 -4.73833871e-01  6.96491553e-03  3.88461109e-01\n",
      "  1.23678487e-01 -3.74639946e-01  2.69941432e-02  3.58236762e-01\n",
      "  6.38386901e-02 -3.38288632e-01 -7.70907423e-02  1.16821569e-01\n",
      "  8.02927556e-02 -4.92854020e-02  1.46273513e+04 -3.95951675e+00\n",
      " -9.80324654e+00 -1.83466569e+01 -2.75806446e+01 -3.39743437e+01\n",
      " -3.38366904e+01 -2.52620874e+01 -9.56660718e+00  8.60639113e+00\n",
      "  2.31209145e+01  2.91166631e+01  2.53124935e+01  1.44810563e+01\n",
      "  1.93007470e+00 -7.15412055e+00 -1.00240451e+01 -7.18632352e+00\n",
      " -1.48850981e+00  3.77582175e+00  6.53192143e+00  6.50542135e+00\n",
      "  4.71533472e+00  2.54551647e+00  9.67000540e-01  2.00828096e-01\n",
      "  4.24699415e+07  3.28005401e-01  3.12641047e-01  7.58751993e-02\n",
      "  1.10914716e-01 -1.85878277e-02 -1.46054202e-01 -5.24013465e-02\n",
      "  1.02405158e-01 -9.52095798e-02 -8.53408112e-02  8.54988617e-02\n",
      "  1.66597600e-01 -8.22926085e-03 -1.06681802e-01  2.04792439e-02\n",
      "  1.20702027e-01  3.52267498e-02 -6.13734223e-02  4.65167640e-02\n",
      "  1.50167806e-01  2.70610760e-02 -1.21759251e-01  2.20740120e-03\n",
      "  9.86256313e-02 -8.08221095e-02 -5.11528503e+01  2.26526520e+00\n",
      " -9.07994706e-01 -6.93524067e-01 -1.12368251e-01  2.06281544e-02\n",
      "  3.56154108e-01  3.11660815e-01 -1.37992275e-02 -1.55919219e-01\n",
      " -2.41448681e-03 -9.07809607e-02 -1.81217005e-01 -8.32855992e-02\n",
      "  4.45660732e-02  2.55212001e-01  3.80369413e-02 -3.94528832e-02\n",
      " -4.77716822e-02  1.25149299e-01 -1.18942554e-01 -1.49124081e-01\n",
      " -1.33324858e-01  1.04694182e-01  4.01285498e-01 -2.84892925e-01\n",
      "  5.52689820e+02  4.65412460e+00 -1.02213565e+01  1.21864889e+01\n",
      " -6.64544706e+00 -1.75566375e+00  4.21989355e+00 -5.90748525e-01\n",
      " -1.95629226e+00  3.46510460e-01  9.60399459e-01 -1.49724934e-01\n",
      " -3.21873570e-01 -5.12546926e-01  2.34708529e-01  8.05297603e-01\n",
      " -7.39929345e-01 -1.77526554e-01 -1.34136510e-01  1.06459557e+00\n",
      " -9.54442191e-01 -2.45283485e-01  9.91710047e-01 -8.49184892e-01\n",
      "  3.60860901e-01 -8.29081597e-02 -6.53091253e+00  2.12808395e+00\n",
      " -5.77790259e-01 -6.01674212e-01 -2.61724652e-01 -1.91453939e-01\n",
      "  1.96163075e-01  3.35375824e-01  1.07358042e-01 -2.58981356e-02\n",
      "  1.00048444e-01  2.26809234e-02 -1.44295875e-01 -1.67675576e-01\n",
      " -1.07323016e-01  1.37656503e-01  3.02654645e-03 -7.20541891e-02\n",
      " -3.25706963e-02  2.49300857e-01  8.01754328e-02 -5.27537098e-02\n",
      " -1.52954080e-01 -8.70720020e-02  1.13153913e-01 -1.93506706e-03\n",
      "  5.34293623e+04 -4.18483858e+00 -1.08738698e+01 -2.13389010e+01\n",
      " -3.38041767e+01 -4.44361936e+01 -4.85273985e+01 -4.26596605e+01\n",
      " -2.68164480e+01 -5.10851700e+00  1.55746489e+01  2.84937598e+01\n",
      "  3.00547245e+01  2.13151530e+01  7.15701084e+00 -6.24317402e+00\n",
      " -1.42656846e+01 -1.55233895e+01 -1.16977916e+01 -5.96370789e+00\n",
      " -1.13726174e+00  1.45213800e+00  1.96797014e+00  1.37068469e+00\n",
      "  6.05136779e-01  1.40611556e-01  6.45157892e+07  3.24879092e-02\n",
      "  2.07734285e-01  1.48560051e-01  1.67072416e-01 -1.82103482e-02\n",
      " -1.02751884e-01 -3.01281311e-02 -3.71494622e-02 -1.10244282e-01\n",
      " -7.76751702e-02  5.07399138e-02  9.22782208e-02  4.43659073e-02\n",
      " -4.49725121e-02  2.08415764e-02  1.14170032e-01  8.95303306e-02\n",
      "  1.54728340e-02  2.53286807e-02  8.03543652e-02  9.43102049e-02\n",
      "  1.45316175e-02  4.05526472e-03  3.67850261e-02 -6.33269411e-03]\n"
     ]
    }
   ],
   "source": [
    "features_map = extract_features(windowed_data)\n",
    "print('EXTRACTED FEATURES')\n",
    "sample_windows = get_sample_value_from_map(features_map)\n",
    "sample_value = sample_windows[0]\n",
    "print('SAMPLE:')\n",
    "print(f'SIZE: {len(sample_value)}')\n",
    "print(f'ELEMENTS: {sample_value}')"
   ],
   "metadata": {
    "collapsed": false,
    "ExecuteTime": {
     "end_time": "2023-10-21T05:03:41.014383100Z",
     "start_time": "2023-10-21T05:02:46.595117700Z"
    }
   },
   "id": "a7693112f3c5af6d"
  },
  {
   "cell_type": "markdown",
   "source": [
    "# Prepare Training and Test Data"
   ],
   "metadata": {
    "collapsed": false
   },
   "id": "61954277761953ee"
  },
  {
   "cell_type": "markdown",
   "source": [
    "## Label Datasets"
   ],
   "metadata": {
    "collapsed": false
   },
   "id": "95fcc21bd91d9570"
  },
  {
   "cell_type": "code",
   "execution_count": 9,
   "outputs": [
    {
     "name": "stdout",
     "output_type": "stream",
     "text": [
      "LABELLED DATA\n",
      "Subject: S01\n",
      "\tPositive data samples: 39\n",
      "\tNegative data samples: 767\n",
      "Subject: S02\n",
      "\tPositive data samples: 39\n",
      "\tNegative data samples: 767\n",
      "Subject: S03\n",
      "\tPositive data samples: 39\n",
      "\tNegative data samples: 767\n",
      "Subject: S04\n",
      "\tPositive data samples: 39\n",
      "\tNegative data samples: 767\n",
      "Subject: S05\n",
      "\tPositive data samples: 65\n",
      "\tNegative data samples: 741\n",
      "Subject: S06\n",
      "\tPositive data samples: 39\n",
      "\tNegative data samples: 767\n",
      "Subject: S07\n",
      "\tPositive data samples: 39\n",
      "\tNegative data samples: 767\n",
      "Subject: S08\n",
      "\tPositive data samples: 39\n",
      "\tNegative data samples: 767\n",
      "Subject: S09\n",
      "\tPositive data samples: 39\n",
      "\tNegative data samples: 767\n",
      "Subject: S10\n",
      "\tPositive data samples: 39\n",
      "\tNegative data samples: 767\n",
      "Subject: S11\n",
      "\tPositive data samples: 39\n",
      "\tNegative data samples: 767\n",
      "Subject: S12\n",
      "\tPositive data samples: 39\n",
      "\tNegative data samples: 767\n",
      "Subject: S13\n",
      "\tPositive data samples: 39\n",
      "\tNegative data samples: 767\n",
      "Subject: S14\n",
      "\tPositive data samples: 39\n",
      "\tNegative data samples: 767\n",
      "Subject: S15\n",
      "\tPositive data samples: 39\n",
      "\tNegative data samples: 767\n",
      "Subject: S16\n",
      "\tPositive data samples: 39\n",
      "\tNegative data samples: 767\n",
      "Subject: S17\n",
      "\tPositive data samples: 39\n",
      "\tNegative data samples: 767\n",
      "Subject: S18\n",
      "\tPositive data samples: 39\n",
      "\tNegative data samples: 767\n",
      "Subject: S19\n",
      "\tPositive data samples: 39\n",
      "\tNegative data samples: 767\n",
      "Subject: S20\n",
      "\tPositive data samples: 39\n",
      "\tNegative data samples: 767\n"
     ]
    }
   ],
   "source": [
    "labelled_feature_data = get_labelled_dataset_map(features_map)\n",
    "print_labelled_data_summary(labelled_feature_data)"
   ],
   "metadata": {
    "collapsed": false,
    "ExecuteTime": {
     "end_time": "2023-10-21T05:03:41.059412100Z",
     "start_time": "2023-10-21T05:03:41.015884Z"
    }
   },
   "id": "aa5584c83e6e688a"
  },
  {
   "cell_type": "markdown",
   "source": [
    "## Split Data"
   ],
   "metadata": {
    "collapsed": false
   },
   "id": "5f6297b9a455630c"
  },
  {
   "cell_type": "code",
   "execution_count": 10,
   "outputs": [
    {
     "name": "stdout",
     "output_type": "stream",
     "text": [
      "DATA SPLIT FOR 10-FOLD CROSS VALIDATION\n"
     ]
    }
   ],
   "source": [
    "stratified_data = apply_stratified_k_fold(labelled_feature_data, K_FOLDS)\n",
    "print(f'DATA SPLIT FOR {K_FOLDS}-FOLD CROSS VALIDATION')"
   ],
   "metadata": {
    "collapsed": false,
    "ExecuteTime": {
     "end_time": "2023-10-21T05:03:41.231773500Z",
     "start_time": "2023-10-21T05:03:41.030412200Z"
    }
   },
   "id": "5228b4a000aa45e7"
  },
  {
   "cell_type": "markdown",
   "source": [
    "# Model"
   ],
   "metadata": {
    "collapsed": false
   },
   "id": "48972406cc1fdfa0"
  },
  {
   "cell_type": "markdown",
   "source": [
    "## Configuration"
   ],
   "metadata": {
    "collapsed": false
   },
   "id": "ad6e6ff09bdff0ea"
  },
  {
   "cell_type": "code",
   "execution_count": 11,
   "outputs": [],
   "source": [
    "# Every subject gets their own classifier, trained to verify their data\n",
    "classifiers: typing.Dict[str, LinearSVC] = {\n",
    "    subject: LinearSVC(\n",
    "        random_state=32,\n",
    "        dual='auto',\n",
    "        max_iter=2000\n",
    "    )\n",
    "    for subject in stratified_data\n",
    "}"
   ],
   "metadata": {
    "collapsed": false,
    "ExecuteTime": {
     "end_time": "2023-10-21T05:03:41.260789Z",
     "start_time": "2023-10-21T05:03:41.233274100Z"
    }
   },
   "id": "efe78689a5a9c400"
  },
  {
   "cell_type": "markdown",
   "source": [
    "## Training"
   ],
   "metadata": {
    "collapsed": false
   },
   "id": "9fa35f6e28dae73b"
  },
  {
   "cell_type": "code",
   "execution_count": 12,
   "outputs": [
    {
     "name": "stdout",
     "output_type": "stream",
     "text": [
      "TRAINING MODEL FOR SUBJECT: S01\n",
      "FOLD: 1\n",
      "FOLD: 2\n",
      "FOLD: 3\n",
      "FOLD: 4\n",
      "FOLD: 5\n",
      "FOLD: 6\n",
      "FOLD: 7\n",
      "FOLD: 8\n",
      "FOLD: 9\n",
      "FOLD: 10\n",
      "TRAINING MODEL FOR SUBJECT: S02\n",
      "FOLD: 1\n",
      "FOLD: 2\n",
      "FOLD: 3\n",
      "FOLD: 4\n",
      "FOLD: 5\n",
      "FOLD: 6\n",
      "FOLD: 7\n",
      "FOLD: 8\n",
      "FOLD: 9\n",
      "FOLD: 10\n",
      "TRAINING MODEL FOR SUBJECT: S03\n",
      "FOLD: 1\n",
      "FOLD: 2\n",
      "FOLD: 3\n",
      "FOLD: 4\n",
      "FOLD: 5\n",
      "FOLD: 6\n",
      "FOLD: 7\n",
      "FOLD: 8\n",
      "FOLD: 9\n",
      "FOLD: 10\n",
      "TRAINING MODEL FOR SUBJECT: S04\n",
      "FOLD: 1\n",
      "FOLD: 2\n",
      "FOLD: 3\n",
      "FOLD: 4\n",
      "FOLD: 5\n",
      "FOLD: 6\n",
      "FOLD: 7\n",
      "FOLD: 8\n",
      "FOLD: 9\n",
      "FOLD: 10\n",
      "TRAINING MODEL FOR SUBJECT: S05\n",
      "FOLD: 1\n",
      "FOLD: 2\n",
      "FOLD: 3\n",
      "FOLD: 4\n",
      "FOLD: 5\n",
      "FOLD: 6\n",
      "FOLD: 7\n",
      "FOLD: 8\n",
      "FOLD: 9\n",
      "FOLD: 10\n",
      "TRAINING MODEL FOR SUBJECT: S06\n",
      "FOLD: 1\n",
      "FOLD: 2\n",
      "FOLD: 3\n",
      "FOLD: 4\n",
      "FOLD: 5\n",
      "FOLD: 6\n",
      "FOLD: 7\n",
      "FOLD: 8\n",
      "FOLD: 9\n",
      "FOLD: 10\n",
      "TRAINING MODEL FOR SUBJECT: S07\n",
      "FOLD: 1\n",
      "FOLD: 2\n",
      "FOLD: 3\n",
      "FOLD: 4\n",
      "FOLD: 5\n",
      "FOLD: 6\n",
      "FOLD: 7\n",
      "FOLD: 8\n",
      "FOLD: 9\n",
      "FOLD: 10\n",
      "TRAINING MODEL FOR SUBJECT: S08\n",
      "FOLD: 1\n",
      "FOLD: 2\n",
      "FOLD: 3\n",
      "FOLD: 4\n",
      "FOLD: 5\n",
      "FOLD: 6\n",
      "FOLD: 7\n",
      "FOLD: 8\n",
      "FOLD: 9\n",
      "FOLD: 10\n",
      "TRAINING MODEL FOR SUBJECT: S09\n",
      "FOLD: 1\n",
      "FOLD: 2\n",
      "FOLD: 3\n",
      "FOLD: 4\n",
      "FOLD: 5\n",
      "FOLD: 6\n",
      "FOLD: 7\n",
      "FOLD: 8\n",
      "FOLD: 9\n",
      "FOLD: 10\n",
      "TRAINING MODEL FOR SUBJECT: S10\n",
      "FOLD: 1\n",
      "FOLD: 2\n",
      "FOLD: 3\n",
      "FOLD: 4\n",
      "FOLD: 5\n",
      "FOLD: 6\n",
      "FOLD: 7\n",
      "FOLD: 8\n",
      "FOLD: 9\n",
      "FOLD: 10\n",
      "TRAINING MODEL FOR SUBJECT: S11\n",
      "FOLD: 1\n",
      "FOLD: 2\n",
      "FOLD: 3\n",
      "FOLD: 4\n",
      "FOLD: 5\n",
      "FOLD: 6\n",
      "FOLD: 7\n",
      "FOLD: 8\n",
      "FOLD: 9\n",
      "FOLD: 10\n",
      "TRAINING MODEL FOR SUBJECT: S12\n",
      "FOLD: 1\n",
      "FOLD: 2\n",
      "FOLD: 3\n",
      "FOLD: 4\n",
      "FOLD: 5\n",
      "FOLD: 6\n",
      "FOLD: 7\n",
      "FOLD: 8\n",
      "FOLD: 9\n",
      "FOLD: 10\n",
      "TRAINING MODEL FOR SUBJECT: S13\n",
      "FOLD: 1\n",
      "FOLD: 2\n",
      "FOLD: 3\n",
      "FOLD: 4\n",
      "FOLD: 5\n",
      "FOLD: 6\n",
      "FOLD: 7\n",
      "FOLD: 8\n",
      "FOLD: 9\n",
      "FOLD: 10\n",
      "TRAINING MODEL FOR SUBJECT: S14\n",
      "FOLD: 1\n",
      "FOLD: 2\n",
      "FOLD: 3\n",
      "FOLD: 4\n",
      "FOLD: 5\n",
      "FOLD: 6\n",
      "FOLD: 7\n",
      "FOLD: 8\n",
      "FOLD: 9\n",
      "FOLD: 10\n",
      "TRAINING MODEL FOR SUBJECT: S15\n",
      "FOLD: 1\n",
      "FOLD: 2\n",
      "FOLD: 3\n",
      "FOLD: 4\n",
      "FOLD: 5\n",
      "FOLD: 6\n",
      "FOLD: 7\n",
      "FOLD: 8\n",
      "FOLD: 9\n",
      "FOLD: 10\n",
      "TRAINING MODEL FOR SUBJECT: S16\n",
      "FOLD: 1\n",
      "FOLD: 2\n",
      "FOLD: 3\n",
      "FOLD: 4\n",
      "FOLD: 5\n",
      "FOLD: 6\n",
      "FOLD: 7\n",
      "FOLD: 8\n",
      "FOLD: 9\n",
      "FOLD: 10\n",
      "TRAINING MODEL FOR SUBJECT: S17\n",
      "FOLD: 1\n",
      "FOLD: 2\n",
      "FOLD: 3\n",
      "FOLD: 4\n",
      "FOLD: 5\n",
      "FOLD: 6\n",
      "FOLD: 7\n",
      "FOLD: 8\n",
      "FOLD: 9\n",
      "FOLD: 10\n",
      "TRAINING MODEL FOR SUBJECT: S18\n",
      "FOLD: 1\n",
      "FOLD: 2\n",
      "FOLD: 3\n",
      "FOLD: 4\n",
      "FOLD: 5\n",
      "FOLD: 6\n",
      "FOLD: 7\n",
      "FOLD: 8\n",
      "FOLD: 9\n",
      "FOLD: 10\n",
      "TRAINING MODEL FOR SUBJECT: S19\n",
      "FOLD: 1\n",
      "FOLD: 2\n",
      "FOLD: 3\n",
      "FOLD: 4\n",
      "FOLD: 5\n",
      "FOLD: 6\n",
      "FOLD: 7\n",
      "FOLD: 8\n",
      "FOLD: 9\n",
      "FOLD: 10\n",
      "TRAINING MODEL FOR SUBJECT: S20\n",
      "FOLD: 1\n",
      "FOLD: 2\n",
      "FOLD: 3\n",
      "FOLD: 4\n",
      "FOLD: 5\n",
      "FOLD: 6\n",
      "FOLD: 7\n",
      "FOLD: 8\n",
      "FOLD: 9\n",
      "FOLD: 10\n",
      "TRAINING COMPLETE\n"
     ]
    }
   ],
   "source": [
    "scores: typing.Dict[str, typing.List[float]] = {subject: [] for subject in stratified_data}\n",
    "x_idx = 0\n",
    "y_idx = 1\n",
    "for subject in stratified_data:\n",
    "    print(f'TRAINING MODEL FOR SUBJECT: {subject}')\n",
    "    k_folds = stratified_data[subject]\n",
    "    clf = classifiers[subject]\n",
    "    fold_counter = 1\n",
    "    for train_data, test_data in k_folds:\n",
    "        print(f'FOLD: {fold_counter}')\n",
    "        clf.fit(train_data[x_idx], train_data[y_idx])\n",
    "        scores[subject].append(\n",
    "            clf.score(test_data[x_idx], test_data[y_idx])\n",
    "        )\n",
    "        fold_counter += 1\n",
    "print('TRAINING COMPLETE')"
   ],
   "metadata": {
    "collapsed": false,
    "ExecuteTime": {
     "end_time": "2023-10-21T05:03:50.795289Z",
     "start_time": "2023-10-21T05:03:41.249289700Z"
    }
   },
   "id": "4e52efeac2231c90"
  },
  {
   "cell_type": "markdown",
   "source": [
    "## Results"
   ],
   "metadata": {
    "collapsed": false
   },
   "id": "2be29bc7a5a52331"
  },
  {
   "cell_type": "code",
   "execution_count": 13,
   "outputs": [
    {
     "name": "stdout",
     "output_type": "stream",
     "text": [
      "AVERAGE SCORES\n",
      "S01: 0.8140277777777778\n",
      "S02: 0.8003549382716049\n",
      "S03: 0.8076234567901235\n",
      "S04: 0.8069907407407408\n",
      "S05: 0.733179012345679\n",
      "S06: 0.7400462962962963\n",
      "S07: 0.699212962962963\n",
      "S08: 0.8153549382716049\n",
      "S09: 0.7278549382716049\n",
      "S10: 0.7451851851851852\n",
      "S11: 0.7787654320987654\n",
      "S12: 0.7997222222222222\n",
      "S13: 0.9065432098765432\n",
      "S14: 0.7773148148148148\n",
      "S15: 0.7734413580246914\n",
      "S16: 0.8084259259259259\n",
      "S17: 0.7996604938271605\n",
      "S18: 0.8486265432098765\n",
      "S19: 0.8507716049382715\n",
      "S20: 0.7599228395061728\n"
     ]
    }
   ],
   "source": [
    "print_scores_summary(scores)"
   ],
   "metadata": {
    "collapsed": false,
    "ExecuteTime": {
     "end_time": "2023-10-21T05:03:50.810789Z",
     "start_time": "2023-10-21T05:03:50.795289Z"
    }
   },
   "id": "5700ae19f21fae6a"
  },
  {
   "cell_type": "markdown",
   "source": [],
   "metadata": {
    "collapsed": false
   },
   "id": "ad0cc10581d7485c"
  }
 ],
 "metadata": {
  "kernelspec": {
   "display_name": "Python 3",
   "language": "python",
   "name": "python3"
  },
  "language_info": {
   "codemirror_mode": {
    "name": "ipython",
    "version": 2
   },
   "file_extension": ".py",
   "mimetype": "text/x-python",
   "name": "python",
   "nbconvert_exporter": "python",
   "pygments_lexer": "ipython2",
   "version": "2.7.6"
  }
 },
 "nbformat": 4,
 "nbformat_minor": 5
}
