{
 "cells": [
  {
   "cell_type": "markdown",
   "source": [
    "# Setup"
   ],
   "metadata": {
    "collapsed": false
   },
   "id": "e87529cbb033c6e0"
  },
  {
   "cell_type": "code",
   "outputs": [],
   "source": [
    "import numpy as np\n",
    "import pandas as pd\n",
    "import dataclasses\n",
    "import typing\n",
    "import random\n",
    "import statistics\n",
    "import eeg_bloom_template\n",
    "import eeg_bloom_template.backend\n",
    "\n",
    "from eeg_auth_models_framework import data, pre_process, features, processor, normalization\n",
    "from eeg_auth_models_framework.utils import conversion\n",
    "from eeg_bloom_template.utils.iteration import iter_ratio_slices"
   ],
   "metadata": {
    "collapsed": false,
    "ExecuteTime": {
     "end_time": "2024-03-30T03:41:41.915356Z",
     "start_time": "2024-03-30T03:41:40.415858Z"
    }
   },
   "id": "b9334d3cf4e5ce17",
   "execution_count": 1
  },
  {
   "cell_type": "markdown",
   "source": [
    "# Constants"
   ],
   "metadata": {
    "collapsed": false
   },
   "id": "7c078babbe01fd2e"
  },
  {
   "cell_type": "code",
   "outputs": [],
   "source": [
    "AUTHENTICATION_THRESHOLDS = [0.1, 0.2, 0.3, 0.4, 0.5, 0.6, 0.7, 0.8, 0.9, 1.0]\n",
    "SEGMENTATION_RATIOS = [0.1, 0.2, 0.3, 0.4, 0.5, 0.6, 0.7, 0.8, 0.9, 1]\n",
    "FALSE_POSITIVE_RATES = [0.05, 0.1, 0.15, 0.2, 0.25, 0.3, 0.35, 0.4, 0.45, 0.5]\n",
    "HASH_BACKENDS = [\n",
    "    eeg_bloom_template.backend.FNVBloomFilterBackend(),\n",
    "    eeg_bloom_template.backend.MMH3BloomFilterBackend()\n",
    "]\n",
    "DATASET_SAMPLE_FREQ_HZ = 200\n",
    "DATA_CHANNEL_NAMES = ['T7','F8','Cz','P4']\n",
    "FREQUENCIES = [\n",
    "    pre_process.FrequencyBand(lower=8.0, upper=12.0, label='Alpha'),\n",
    "    pre_process.FrequencyBand(lower=12.0, upper=35.0, label='Beta'),\n",
    "    pre_process.FrequencyBand(lower=4.0, upper=8.0, label='Theta'),\n",
    "    pre_process.FrequencyBand(lower=35.0, upper=None, label='Gamma'),\n",
    "    pre_process.FrequencyBand(lower=None, upper=None, label='Raw'),\n",
    "]\n",
    "WINDOW_SIZE = 1200\n",
    "WINDOW_OVERLAP = 0\n",
    "RESCALE_LOWER = 0\n",
    "RESCALE_UPPER = 255\n",
    "SAMPLE_PERCENTAGE = 0.1\n",
    "RANDOM_SEED = 100000000000\n",
    "RANDOM_GENERATOR = random.Random(RANDOM_SEED)"
   ],
   "metadata": {
    "collapsed": false,
    "ExecuteTime": {
     "end_time": "2024-03-30T03:41:41.930856Z",
     "start_time": "2024-03-30T03:41:41.916857Z"
    }
   },
   "id": "74fc12d929fbaf80",
   "execution_count": 2
  },
  {
   "cell_type": "markdown",
   "source": [
    "# Utilities"
   ],
   "metadata": {
    "collapsed": false
   },
   "id": "35b01453c4b82d01"
  },
  {
   "cell_type": "code",
   "outputs": [],
   "source": [
    "@dataclasses.dataclass\n",
    "class TemplateTest:\n",
    "    expected_result: bool\n",
    "    test_data: typing.List[np.ndarray]\n",
    "    \n",
    "    def run_test(self, test_template: eeg_bloom_template.EEGTemplate, test_threshold: float):\n",
    "        comparison_result = test_template.compare(self.test_data)\n",
    "        is_match = comparison_result.hit_ratio >= test_threshold\n",
    "        if is_match != self.expected_result:\n",
    "            return False\n",
    "        return True\n",
    "    \n",
    "\n",
    "@dataclasses.dataclass\n",
    "class TestTemplateData:\n",
    "    template: eeg_bloom_template.EEGTemplate\n",
    "    false_positive_rate: float\n",
    "    hash_backend: eeg_bloom_template.backend.BaseBloomFilterHashBackend\n",
    "    original_subject: str\n",
    "    \n",
    "    \n",
    "@dataclasses.dataclass\n",
    "class TemplateTestSet:\n",
    "    threshold: float\n",
    "    template_data: TestTemplateData\n",
    "    positive_cases: typing.List[TemplateTest]\n",
    "    negative_cases: typing.List[TemplateTest]"
   ],
   "metadata": {
    "collapsed": false,
    "ExecuteTime": {
     "end_time": "2024-03-30T03:41:41.946356Z",
     "start_time": "2024-03-30T03:41:41.931858Z"
    }
   },
   "id": "d77afdaf2e375e98",
   "execution_count": 3
  },
  {
   "cell_type": "markdown",
   "source": [
    "# Configuration"
   ],
   "metadata": {
    "collapsed": false
   },
   "id": "bd4a1eacf6e16f5a"
  },
  {
   "cell_type": "code",
   "outputs": [],
   "source": [
    "downloader = data.AuditoryDataDownloader()\n",
    "reader = data.AuditoryDataReader()\n",
    "converter = conversion.MNEDataFrameConverter(\n",
    "    channels=DATA_CHANNEL_NAMES, \n",
    "    sample_frequency=DATASET_SAMPLE_FREQ_HZ\n",
    ")"
   ],
   "metadata": {
    "collapsed": false,
    "ExecuteTime": {
     "end_time": "2024-03-30T03:41:41.961858Z",
     "start_time": "2024-03-30T03:41:41.947856Z"
    }
   },
   "id": "75bfbf6579124b68",
   "execution_count": 4
  },
  {
   "cell_type": "markdown",
   "source": [
    "# Data Processing Setup"
   ],
   "metadata": {
    "collapsed": false
   },
   "id": "dd0f0fd7d636944e"
  },
  {
   "cell_type": "markdown",
   "source": [
    "## Sample Data Processor"
   ],
   "metadata": {
    "collapsed": false
   },
   "id": "8b4dd223e88e171a"
  },
  {
   "cell_type": "markdown",
   "source": [
    "### Pre-Processing Steps"
   ],
   "metadata": {
    "collapsed": false
   },
   "id": "7ab9a2c1c60e36ae"
  },
  {
   "cell_type": "code",
   "outputs": [],
   "source": [
    "pre_process_steps = pre_process.PreProcessingPipeline([\n",
    "    pre_process.EEGBandpassFilterStep(\n",
    "        FREQUENCIES,\n",
    "        converter\n",
    "    ),\n",
    "    pre_process.DataWindowStep(WINDOW_SIZE, WINDOW_OVERLAP)\n",
    "])"
   ],
   "metadata": {
    "collapsed": false,
    "ExecuteTime": {
     "end_time": "2024-03-30T03:41:41.977358Z",
     "start_time": "2024-03-30T03:41:41.963857Z"
    }
   },
   "id": "cb1546861f56509e",
   "execution_count": 5
  },
  {
   "cell_type": "markdown",
   "source": [
    "### Feature Extraction Steps"
   ],
   "metadata": {
    "collapsed": false
   },
   "id": "41bf70ac66cb428e"
  },
  {
   "cell_type": "code",
   "outputs": [],
   "source": [
    "feature_extraction_steps = features.FeatureExtractPipeline([\n",
    "    features.StatisticalFeatureExtractor([\n",
    "        features.StatisticalFeature.MIN,\n",
    "        features.StatisticalFeature.MAX,\n",
    "        features.StatisticalFeature.MEAN,\n",
    "        features.StatisticalFeature.ZERO_CROSSING_RATE\n",
    "    ])\n",
    "])"
   ],
   "metadata": {
    "collapsed": false,
    "ExecuteTime": {
     "end_time": "2024-03-30T03:41:41.992858Z",
     "start_time": "2024-03-30T03:41:41.978856Z"
    }
   },
   "id": "9f7d923c4c079c73",
   "execution_count": 6
  },
  {
   "cell_type": "markdown",
   "source": [
    "### Normalization Steps"
   ],
   "metadata": {
    "collapsed": false
   },
   "id": "3e8cd3ca3a0d9dfd"
  },
  {
   "cell_type": "code",
   "outputs": [],
   "source": [
    "normalization_steps = normalization.NormalizationPipeline([\n",
    "    normalization.RescaleNormalizationStep(RESCALE_LOWER, RESCALE_UPPER),\n",
    "    normalization.HistogramEqualizationStep(RESCALE_LOWER, RESCALE_UPPER)\n",
    "])"
   ],
   "metadata": {
    "collapsed": false,
    "ExecuteTime": {
     "end_time": "2024-03-30T03:41:42.008357Z",
     "start_time": "2024-03-30T03:41:41.993857Z"
    }
   },
   "id": "dca47d264b318934",
   "execution_count": 7
  },
  {
   "cell_type": "markdown",
   "source": [
    "### Data Processor Setup"
   ],
   "metadata": {
    "collapsed": false
   },
   "id": "3e75d73ab1e1f8e8"
  },
  {
   "cell_type": "code",
   "outputs": [],
   "source": [
    "data_processor = processor.DataProcessor(\n",
    "    pre_process=pre_process_steps,\n",
    "    feature_extraction=feature_extraction_steps,\n",
    "    normalization=normalization_steps\n",
    ")"
   ],
   "metadata": {
    "collapsed": false,
    "ExecuteTime": {
     "end_time": "2024-03-30T03:41:42.023857Z",
     "start_time": "2024-03-30T03:41:42.009356Z"
    }
   },
   "id": "3c41639bc78597bd",
   "execution_count": 8
  },
  {
   "cell_type": "markdown",
   "source": [
    "# Subject Data"
   ],
   "metadata": {
    "collapsed": false
   },
   "id": "6cedb17c2a956396"
  },
  {
   "cell_type": "code",
   "outputs": [],
   "source": [
    "data_path = downloader.retrieve()\n",
    "subject_data_map = reader.format_data(data_path)"
   ],
   "metadata": {
    "collapsed": false,
    "ExecuteTime": {
     "end_time": "2024-03-30T03:41:42.380357Z",
     "start_time": "2024-03-30T03:41:42.024858Z"
    }
   },
   "id": "7797f267c21560a8",
   "execution_count": 9
  },
  {
   "cell_type": "markdown",
   "source": [
    "# Processing"
   ],
   "metadata": {
    "collapsed": false
   },
   "id": "e05e630093ab2c05"
  },
  {
   "cell_type": "markdown",
   "source": [
    "## Template Setup"
   ],
   "metadata": {
    "collapsed": false
   },
   "id": "922b8afcbceadfb8"
  },
  {
   "cell_type": "markdown",
   "source": [
    "### Template Generation"
   ],
   "metadata": {
    "collapsed": false
   },
   "id": "bdc28955aaed5138"
  },
  {
   "cell_type": "code",
   "outputs": [],
   "source": [
    "def iter_test_templates(subject_template_data: typing.Dict[str, typing.List[np.ndarray]]) -> typing.Iterator[TestTemplateData]:\n",
    "    templates = {}\n",
    "    for subject in subject_template_data:\n",
    "        data = subject_template_data[subject]\n",
    "        for backend in HASH_BACKENDS:\n",
    "            for ratio in SEGMENTATION_RATIOS:\n",
    "                for rate in FALSE_POSITIVE_RATES:\n",
    "                    template = eeg_bloom_template.EEGTemplate.make_template(\n",
    "                        data,\n",
    "                        backend,\n",
    "                        ratio,\n",
    "                        rate\n",
    "                    )\n",
    "                    yield TestTemplateData(\n",
    "                        template=template, \n",
    "                        false_positive_rate=rate, \n",
    "                        hash_backend=backend,\n",
    "                        original_subject=subject\n",
    "                    )"
   ],
   "metadata": {
    "collapsed": false,
    "ExecuteTime": {
     "end_time": "2024-03-30T03:41:42.395856Z",
     "start_time": "2024-03-30T03:41:42.381357Z"
    }
   },
   "id": "6397bcfee2202953",
   "execution_count": 10
  },
  {
   "cell_type": "markdown",
   "source": [
    "## Sample Data Setup"
   ],
   "metadata": {
    "collapsed": false
   },
   "id": "d47c3b5b30b09100"
  },
  {
   "cell_type": "code",
   "outputs": [
    {
     "name": "stdout",
     "output_type": "stream",
     "text": [
      "Creating RawArray with float64 data, n_channels=4, n_times=24000\n",
      "    Range : 0 ... 23999 =      0.000 ...   119.995 secs\n",
      "Ready.\n",
      "Creating RawArray with float64 data, n_channels=4, n_times=24000\n",
      "    Range : 0 ... 23999 =      0.000 ...   119.995 secs\n",
      "Ready.\n",
      "Creating RawArray with float64 data, n_channels=4, n_times=24000\n",
      "    Range : 0 ... 23999 =      0.000 ...   119.995 secs\n",
      "Ready.\n",
      "Creating RawArray with float64 data, n_channels=4, n_times=24000\n",
      "    Range : 0 ... 23999 =      0.000 ...   119.995 secs\n",
      "Ready.\n",
      "Creating RawArray with float64 data, n_channels=4, n_times=40114\n",
      "    Range : 0 ... 40113 =      0.000 ...   200.565 secs\n",
      "Ready.\n",
      "Creating RawArray with float64 data, n_channels=4, n_times=24000\n",
      "    Range : 0 ... 23999 =      0.000 ...   119.995 secs\n",
      "Ready.\n",
      "Creating RawArray with float64 data, n_channels=4, n_times=24000\n",
      "    Range : 0 ... 23999 =      0.000 ...   119.995 secs\n",
      "Ready.\n",
      "Creating RawArray with float64 data, n_channels=4, n_times=24000\n",
      "    Range : 0 ... 23999 =      0.000 ...   119.995 secs\n",
      "Ready.\n",
      "Creating RawArray with float64 data, n_channels=4, n_times=24000\n",
      "    Range : 0 ... 23999 =      0.000 ...   119.995 secs\n",
      "Ready.\n",
      "Creating RawArray with float64 data, n_channels=4, n_times=24000\n",
      "    Range : 0 ... 23999 =      0.000 ...   119.995 secs\n",
      "Ready.\n",
      "Creating RawArray with float64 data, n_channels=4, n_times=24000\n",
      "    Range : 0 ... 23999 =      0.000 ...   119.995 secs\n",
      "Ready.\n",
      "Creating RawArray with float64 data, n_channels=4, n_times=24000\n",
      "    Range : 0 ... 23999 =      0.000 ...   119.995 secs\n",
      "Ready.\n",
      "Creating RawArray with float64 data, n_channels=4, n_times=24000\n",
      "    Range : 0 ... 23999 =      0.000 ...   119.995 secs\n",
      "Ready.\n",
      "Creating RawArray with float64 data, n_channels=4, n_times=24000\n",
      "    Range : 0 ... 23999 =      0.000 ...   119.995 secs\n",
      "Ready.\n",
      "Creating RawArray with float64 data, n_channels=4, n_times=24000\n",
      "    Range : 0 ... 23999 =      0.000 ...   119.995 secs\n",
      "Ready.\n",
      "Creating RawArray with float64 data, n_channels=4, n_times=24000\n",
      "    Range : 0 ... 23999 =      0.000 ...   119.995 secs\n",
      "Ready.\n",
      "Creating RawArray with float64 data, n_channels=4, n_times=24000\n",
      "    Range : 0 ... 23999 =      0.000 ...   119.995 secs\n",
      "Ready.\n",
      "Creating RawArray with float64 data, n_channels=4, n_times=24000\n",
      "    Range : 0 ... 23999 =      0.000 ...   119.995 secs\n",
      "Ready.\n",
      "Creating RawArray with float64 data, n_channels=4, n_times=24000\n",
      "    Range : 0 ... 23999 =      0.000 ...   119.995 secs\n",
      "Ready.\n",
      "Creating RawArray with float64 data, n_channels=4, n_times=24000\n",
      "    Range : 0 ... 23999 =      0.000 ...   119.995 secs\n",
      "Ready.\n"
     ]
    }
   ],
   "source": [
    "processed_data_map = {\n",
    "    subject: data_processor.process(subject_data_map[subject])\n",
    "    for subject in subject_data_map\n",
    "}"
   ],
   "metadata": {
    "collapsed": false,
    "ExecuteTime": {
     "end_time": "2024-03-30T03:41:45.278856Z",
     "start_time": "2024-03-30T03:41:42.396858Z"
    }
   },
   "id": "14571cab6a6e2b3f",
   "execution_count": 11
  },
  {
   "cell_type": "markdown",
   "source": [
    "# Test Set Assembly"
   ],
   "metadata": {
    "collapsed": false
   },
   "id": "9b07aa6f74300e14"
  },
  {
   "cell_type": "markdown",
   "source": [
    "## Gathering Test Sets"
   ],
   "metadata": {
    "collapsed": false
   },
   "id": "e2360b694971281a"
  },
  {
   "cell_type": "code",
   "outputs": [],
   "source": [
    "def get_experiment_samples(subject_data_map: typing.Dict[str, typing.List[np.ndarray]], \n",
    "                           target: str) -> typing.Tuple[typing.List[np.ndarray], typing.List[np.ndarray]]:\n",
    "    positive_samples = list(\n",
    "        iter_ratio_slices(\n",
    "            subject_data_map[target], \n",
    "            SAMPLE_PERCENTAGE\n",
    "        )\n",
    "    )\n",
    "    negative_samples = []\n",
    "    subjects_available = list(subject_data_map.keys())\n",
    "    subjects_available.remove(target)\n",
    "    RANDOM_GENERATOR.shuffle(subjects_available)\n",
    "    while subjects_available and len(negative_samples) < len(positive_samples):\n",
    "        example_subject = subjects_available.pop()\n",
    "        negative_samples.extend(\n",
    "            list(\n",
    "                iter_ratio_slices(\n",
    "                    subject_data_map[example_subject], \n",
    "                    SAMPLE_PERCENTAGE\n",
    "                )\n",
    "            )\n",
    "        )\n",
    "    return positive_samples, negative_samples\n",
    "\n",
    "\n",
    "def iter_template_test_sets(subject_data_map: typing.Dict[str, typing.List[np.ndarray]]) -> typing.Iterator[TemplateTestSet]:\n",
    "    for template_data in iter_test_templates(subject_data_map):\n",
    "        for threshold in AUTHENTICATION_THRESHOLDS:\n",
    "            positive_samples, negative_samples = get_experiment_samples(\n",
    "                subject_data_map, \n",
    "                template_data.original_subject\n",
    "            )\n",
    "            yield TemplateTestSet(\n",
    "                threshold=threshold,\n",
    "                template_data=template_data,\n",
    "                positive_cases=[\n",
    "                    TemplateTest(expected_result=True, test_data=sample)\n",
    "                    for sample in positive_samples\n",
    "                ],\n",
    "                negative_cases=[\n",
    "                    TemplateTest(expected_result=False, test_data=sample)\n",
    "                    for sample in negative_samples\n",
    "                ]\n",
    "            )"
   ],
   "metadata": {
    "collapsed": false,
    "ExecuteTime": {
     "end_time": "2024-03-30T03:41:45.294356Z",
     "start_time": "2024-03-30T03:41:45.279857Z"
    }
   },
   "id": "1e6d30e2797ba855",
   "execution_count": 12
  },
  {
   "cell_type": "markdown",
   "source": [
    "# Execute Tests"
   ],
   "metadata": {
    "collapsed": false
   },
   "id": "33f687ed4b216d82"
  },
  {
   "cell_type": "code",
   "outputs": [],
   "source": [
    "def collect_test_results(test_items: typing.List[TemplateTest], \n",
    "                         template: eeg_bloom_template.EEGTemplate, \n",
    "                         threshold: float) -> int:\n",
    "    hits = 0\n",
    "    for item in test_items:\n",
    "        is_hit = item.run_test(template, threshold)\n",
    "        if is_hit:\n",
    "            hits += 1\n",
    "    return hits\n",
    "\n",
    "\n",
    "def run_template_test_set(test_set: TemplateTestSet) -> float:\n",
    "    total_tests = len(test_set.positive_cases) + len(test_set.negative_cases)\n",
    "    hits = collect_test_results(\n",
    "        test_set.positive_cases, \n",
    "        test_set.template_data.template, \n",
    "        test_set.threshold\n",
    "    )\n",
    "    hits += collect_test_results(\n",
    "        test_set.negative_cases, \n",
    "        test_set.template_data.template, \n",
    "        test_set.threshold\n",
    "    )\n",
    "    return (hits / total_tests) * 100"
   ],
   "metadata": {
    "collapsed": false,
    "ExecuteTime": {
     "end_time": "2024-03-30T03:41:45.309856Z",
     "start_time": "2024-03-30T03:41:45.295356Z"
    }
   },
   "id": "c194e9cedd588b3e",
   "execution_count": 13
  },
  {
   "cell_type": "code",
   "outputs": [],
   "source": [
    "results_data: typing.Dict[typing.Tuple[float, float, str], typing.List[float]] = {}\n",
    "for template_test_set in iter_template_test_sets(processed_data_map):\n",
    "    false_positive_rate = template_test_set.template_data.false_positive_rate\n",
    "    threshold = template_test_set.threshold\n",
    "    hash_backend = template_test_set.template_data.hash_backend.__class__.__name__\n",
    "    result_key = (\n",
    "        false_positive_rate,\n",
    "        threshold,\n",
    "        hash_backend\n",
    "    )\n",
    "    if result_key not in results_data:\n",
    "        results_data[result_key] = []\n",
    "    results_data[result_key].append(\n",
    "        run_template_test_set(template_test_set)\n",
    "    )"
   ],
   "metadata": {
    "collapsed": false,
    "ExecuteTime": {
     "end_time": "2024-03-30T03:44:24.101856Z",
     "start_time": "2024-03-30T03:41:45.311856Z"
    }
   },
   "id": "195e97184d2409c4",
   "execution_count": 14
  },
  {
   "cell_type": "code",
   "outputs": [
    {
     "data": {
      "text/plain": "      FPR  Threshold                 Backend  Average Accuracy\n132  0.20        0.3  MMH3BloomFilterBackend         80.832873\n32   0.20        0.3   FNVBloomFilterBackend         79.688902\n123  0.15        0.4  MMH3BloomFilterBackend         79.560906\n72   0.40        0.3   FNVBloomFilterBackend         79.301498\n102  0.05        0.3  MMH3BloomFilterBackend         79.164939\n122  0.15        0.3  MMH3BloomFilterBackend         79.156068\n142  0.25        0.3  MMH3BloomFilterBackend         78.880031\n22   0.15        0.3   FNVBloomFilterBackend         78.843971\n23   0.15        0.4   FNVBloomFilterBackend         78.737097\n12   0.10        0.3   FNVBloomFilterBackend         78.431068",
      "text/html": "<div>\n<style scoped>\n    .dataframe tbody tr th:only-of-type {\n        vertical-align: middle;\n    }\n\n    .dataframe tbody tr th {\n        vertical-align: top;\n    }\n\n    .dataframe thead th {\n        text-align: right;\n    }\n</style>\n<table border=\"1\" class=\"dataframe\">\n  <thead>\n    <tr style=\"text-align: right;\">\n      <th></th>\n      <th>FPR</th>\n      <th>Threshold</th>\n      <th>Backend</th>\n      <th>Average Accuracy</th>\n    </tr>\n  </thead>\n  <tbody>\n    <tr>\n      <th>132</th>\n      <td>0.20</td>\n      <td>0.3</td>\n      <td>MMH3BloomFilterBackend</td>\n      <td>80.832873</td>\n    </tr>\n    <tr>\n      <th>32</th>\n      <td>0.20</td>\n      <td>0.3</td>\n      <td>FNVBloomFilterBackend</td>\n      <td>79.688902</td>\n    </tr>\n    <tr>\n      <th>123</th>\n      <td>0.15</td>\n      <td>0.4</td>\n      <td>MMH3BloomFilterBackend</td>\n      <td>79.560906</td>\n    </tr>\n    <tr>\n      <th>72</th>\n      <td>0.40</td>\n      <td>0.3</td>\n      <td>FNVBloomFilterBackend</td>\n      <td>79.301498</td>\n    </tr>\n    <tr>\n      <th>102</th>\n      <td>0.05</td>\n      <td>0.3</td>\n      <td>MMH3BloomFilterBackend</td>\n      <td>79.164939</td>\n    </tr>\n    <tr>\n      <th>122</th>\n      <td>0.15</td>\n      <td>0.3</td>\n      <td>MMH3BloomFilterBackend</td>\n      <td>79.156068</td>\n    </tr>\n    <tr>\n      <th>142</th>\n      <td>0.25</td>\n      <td>0.3</td>\n      <td>MMH3BloomFilterBackend</td>\n      <td>78.880031</td>\n    </tr>\n    <tr>\n      <th>22</th>\n      <td>0.15</td>\n      <td>0.3</td>\n      <td>FNVBloomFilterBackend</td>\n      <td>78.843971</td>\n    </tr>\n    <tr>\n      <th>23</th>\n      <td>0.15</td>\n      <td>0.4</td>\n      <td>FNVBloomFilterBackend</td>\n      <td>78.737097</td>\n    </tr>\n    <tr>\n      <th>12</th>\n      <td>0.10</td>\n      <td>0.3</td>\n      <td>FNVBloomFilterBackend</td>\n      <td>78.431068</td>\n    </tr>\n  </tbody>\n</table>\n</div>"
     },
     "execution_count": 16,
     "metadata": {},
     "output_type": "execute_result"
    }
   ],
   "source": [
    "results_data_rows = []\n",
    "for data_key, accuracy_results in results_data.items():\n",
    "    fpr, threshold, backend = data_key\n",
    "    average_accuracy = statistics.mean(accuracy_results)\n",
    "    results_data_rows.append([fpr, threshold, backend, average_accuracy])\n",
    "results_dataframe = pd.DataFrame(results_data_rows, columns=['FPR', 'Threshold', 'Backend', 'Average Accuracy'])\n",
    "results_dataframe.sort_values(by=['Average Accuracy'], ascending=False).head(10)"
   ],
   "metadata": {
    "collapsed": false,
    "ExecuteTime": {
     "end_time": "2024-03-30T03:46:45.710017Z",
     "start_time": "2024-03-30T03:46:45.672520Z"
    }
   },
   "id": "620017393064315c",
   "execution_count": 16
  }
 ],
 "metadata": {
  "kernelspec": {
   "display_name": "Python 3",
   "language": "python",
   "name": "python3"
  },
  "language_info": {
   "codemirror_mode": {
    "name": "ipython",
    "version": 2
   },
   "file_extension": ".py",
   "mimetype": "text/x-python",
   "name": "python",
   "nbconvert_exporter": "python",
   "pygments_lexer": "ipython2",
   "version": "2.7.6"
  }
 },
 "nbformat": 4,
 "nbformat_minor": 5
}
