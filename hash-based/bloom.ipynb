{
 "cells": [
  {
   "cell_type": "markdown",
   "source": [
    "# Setup"
   ],
   "metadata": {
    "collapsed": false
   },
   "id": "e87529cbb033c6e0"
  },
  {
   "cell_type": "code",
   "outputs": [],
   "source": [
    "import numpy as np\n",
    "import pandas as pd\n",
    "import dataclasses\n",
    "import enum\n",
    "import typing\n",
    "import random\n",
    "import eeg_bloom_template\n",
    "import eeg_bloom_template.backend\n",
    "\n",
    "from eeg_auth_models_framework import data, pre_process, features, processor, normalization\n",
    "from eeg_auth_models_framework.utils import conversion\n",
    "from eeg_bloom_template.utils.iteration import iter_ratio_slices"
   ],
   "metadata": {
    "collapsed": false,
    "ExecuteTime": {
     "end_time": "2024-03-31T06:39:52.748708Z",
     "start_time": "2024-03-31T06:39:52.743708Z"
    }
   },
   "id": "b9334d3cf4e5ce17",
   "execution_count": 32
  },
  {
   "cell_type": "markdown",
   "source": [
    "# Constants"
   ],
   "metadata": {
    "collapsed": false
   },
   "id": "7c078babbe01fd2e"
  },
  {
   "cell_type": "code",
   "outputs": [],
   "source": [
    "AUTHENTICATION_THRESHOLDS = [0.1, 0.2, 0.3, 0.4, 0.5, 0.6, 0.7, 0.8, 0.9, 1.0]\n",
    "SEGMENTATION_RATIOS = [0.1, 0.2, 0.3, 0.4, 0.5, 0.6, 0.7, 0.8, 0.9, 1]\n",
    "FALSE_POSITIVE_RATES = [0.05, 0.1, 0.15, 0.2, 0.25, 0.3, 0.35, 0.4, 0.45, 0.5]\n",
    "HASH_BACKENDS = [\n",
    "    eeg_bloom_template.backend.FNVBloomFilterBackend(),\n",
    "    eeg_bloom_template.backend.MMH3BloomFilterBackend()\n",
    "]\n",
    "DATASET_SAMPLE_FREQ_HZ = 200\n",
    "DATA_CHANNEL_NAMES = ['T7','F8','Cz','P4']\n",
    "FREQUENCIES = [\n",
    "    pre_process.FrequencyBand(lower=8.0, upper=12.0, label='Alpha'),\n",
    "    pre_process.FrequencyBand(lower=12.0, upper=35.0, label='Beta'),\n",
    "    pre_process.FrequencyBand(lower=4.0, upper=8.0, label='Theta'),\n",
    "    pre_process.FrequencyBand(lower=35.0, upper=None, label='Gamma'),\n",
    "    pre_process.FrequencyBand(lower=None, upper=None, label='Raw'),\n",
    "]\n",
    "WINDOW_SIZE = 1200\n",
    "WINDOW_OVERLAP = 0\n",
    "RESCALE_LOWER = 0\n",
    "RESCALE_UPPER = 255\n",
    "SAMPLE_PERCENTAGE = 0.1\n",
    "RANDOM_SEED = 100000000000\n",
    "RANDOM_GENERATOR = random.Random(RANDOM_SEED)"
   ],
   "metadata": {
    "collapsed": false,
    "ExecuteTime": {
     "end_time": "2024-03-31T06:39:52.795209Z",
     "start_time": "2024-03-31T06:39:52.781711Z"
    }
   },
   "id": "74fc12d929fbaf80",
   "execution_count": 33
  },
  {
   "cell_type": "markdown",
   "source": [
    "# Utilities"
   ],
   "metadata": {
    "collapsed": false
   },
   "id": "35b01453c4b82d01"
  },
  {
   "cell_type": "code",
   "outputs": [],
   "source": [
    "class TestResultType(enum.Enum):\n",
    "    TRUE_POSITIVE = enum.auto()\n",
    "    FALSE_POSITIVE = enum.auto()\n",
    "    FALSE_NEGATIVE = enum.auto()\n",
    "    TRUE_NEGATIVE = enum.auto()\n",
    "\n",
    "\n",
    "@dataclasses.dataclass\n",
    "class TestResultsSummary:\n",
    "    true_positives: int = 0\n",
    "    false_positives: int = 0\n",
    "    false_negatives: int = 0\n",
    "    true_negatives: int = 0\n",
    "    \n",
    "    @classmethod\n",
    "    def merge_summaries(cls, \n",
    "                        summary_a: 'TestResultsSummary', \n",
    "                        summary_b: 'TestResultsSummary') -> 'TestResultsSummary':\n",
    "        return TestResultsSummary(\n",
    "            true_positives=summary_a.true_positives + summary_b.true_positives,\n",
    "            false_positives=summary_a.false_positives + summary_b.false_negatives,\n",
    "            false_negatives=summary_a.false_negatives + summary_b.false_negatives,\n",
    "            true_negatives=summary_a.true_negatives + summary_b.true_negatives\n",
    "        )\n",
    "    \n",
    "    def increment_count(self, result_type: TestResultType):\n",
    "        if result_type == TestResultType.TRUE_POSITIVE:\n",
    "            self.true_positives += 1\n",
    "        elif result_type == TestResultType.FALSE_POSITIVE:\n",
    "            self.false_positives += 1\n",
    "        elif result_type == TestResultType.FALSE_NEGATIVE:\n",
    "            self.false_negatives += 1\n",
    "        else:\n",
    "            self.true_negatives += 1\n",
    "    \n",
    "    @property\n",
    "    def accuracy(self) -> float:\n",
    "        hits = self.true_positives + self.true_negatives\n",
    "        total = (\n",
    "            self.true_positives + self.true_negatives + \n",
    "            self.false_positives + self.false_negatives\n",
    "        )\n",
    "        return hits / total\n",
    "\n",
    "    @property\n",
    "    def false_accept_rate(self) -> float:\n",
    "        return self.false_positives / (self.false_positives + self.true_negatives)\n",
    "    \n",
    "    @property\n",
    "    def false_reject_rate(self):\n",
    "        return self.false_negatives / (self.false_negatives + self.true_positives)\n",
    "\n",
    "\n",
    "@dataclasses.dataclass\n",
    "class TemplateTest:\n",
    "    expected_result: bool\n",
    "    if_expected: TestResultType\n",
    "    if_unexpected: TestResultType\n",
    "    test_data: typing.List[np.ndarray]\n",
    "    \n",
    "    def run_test(self, test_template: eeg_bloom_template.EEGTemplate, test_threshold: float):\n",
    "        comparison_result = test_template.compare(self.test_data)\n",
    "        is_match = comparison_result.hit_ratio >= test_threshold\n",
    "        if is_match != self.expected_result:\n",
    "            return self.if_unexpected\n",
    "        return self.if_expected\n",
    "    \n",
    "\n",
    "@dataclasses.dataclass\n",
    "class TestTemplateData:\n",
    "    template: eeg_bloom_template.EEGTemplate\n",
    "    false_positive_rate: float\n",
    "    hash_backend: eeg_bloom_template.backend.BaseBloomFilterHashBackend\n",
    "    original_subject: str\n",
    "    \n",
    "    \n",
    "@dataclasses.dataclass\n",
    "class TemplateTestSet:\n",
    "    threshold: float\n",
    "    template_data: TestTemplateData\n",
    "    positive_cases: typing.List[TemplateTest]\n",
    "    negative_cases: typing.List[TemplateTest]"
   ],
   "metadata": {
    "collapsed": false,
    "ExecuteTime": {
     "end_time": "2024-03-31T06:39:52.810708Z",
     "start_time": "2024-03-31T06:39:52.797213Z"
    }
   },
   "id": "d77afdaf2e375e98",
   "execution_count": 34
  },
  {
   "cell_type": "markdown",
   "source": [
    "# Configuration"
   ],
   "metadata": {
    "collapsed": false
   },
   "id": "bd4a1eacf6e16f5a"
  },
  {
   "cell_type": "code",
   "outputs": [],
   "source": [
    "downloader = data.AuditoryDataDownloader()\n",
    "reader = data.AuditoryDataReader()\n",
    "converter = conversion.MNEDataFrameConverter(\n",
    "    channels=DATA_CHANNEL_NAMES, \n",
    "    sample_frequency=DATASET_SAMPLE_FREQ_HZ\n",
    ")"
   ],
   "metadata": {
    "collapsed": false,
    "ExecuteTime": {
     "end_time": "2024-03-31T06:39:52.826209Z",
     "start_time": "2024-03-31T06:39:52.812209Z"
    }
   },
   "id": "75bfbf6579124b68",
   "execution_count": 35
  },
  {
   "cell_type": "markdown",
   "source": [
    "# Data Processing Setup"
   ],
   "metadata": {
    "collapsed": false
   },
   "id": "dd0f0fd7d636944e"
  },
  {
   "cell_type": "markdown",
   "source": [
    "## Sample Data Processor"
   ],
   "metadata": {
    "collapsed": false
   },
   "id": "8b4dd223e88e171a"
  },
  {
   "cell_type": "markdown",
   "source": [
    "### Pre-Processing Steps"
   ],
   "metadata": {
    "collapsed": false
   },
   "id": "7ab9a2c1c60e36ae"
  },
  {
   "cell_type": "code",
   "outputs": [],
   "source": [
    "pre_process_steps = pre_process.PreProcessingPipeline([\n",
    "    pre_process.EEGBandpassFilterStep(\n",
    "        FREQUENCIES,\n",
    "        converter\n",
    "    ),\n",
    "    pre_process.DataWindowStep(WINDOW_SIZE, WINDOW_OVERLAP)\n",
    "])"
   ],
   "metadata": {
    "collapsed": false,
    "ExecuteTime": {
     "end_time": "2024-03-31T06:39:52.841708Z",
     "start_time": "2024-03-31T06:39:52.828208Z"
    }
   },
   "id": "cb1546861f56509e",
   "execution_count": 36
  },
  {
   "cell_type": "markdown",
   "source": [
    "### Feature Extraction Steps"
   ],
   "metadata": {
    "collapsed": false
   },
   "id": "41bf70ac66cb428e"
  },
  {
   "cell_type": "code",
   "outputs": [],
   "source": [
    "feature_extraction_steps = features.FeatureExtractPipeline([\n",
    "    features.StatisticalFeatureExtractor([\n",
    "        features.StatisticalFeature.MIN,\n",
    "        features.StatisticalFeature.MAX,\n",
    "        features.StatisticalFeature.MEAN,\n",
    "        features.StatisticalFeature.ZERO_CROSSING_RATE\n",
    "    ])\n",
    "])"
   ],
   "metadata": {
    "collapsed": false,
    "ExecuteTime": {
     "end_time": "2024-03-31T06:39:52.857209Z",
     "start_time": "2024-03-31T06:39:52.843211Z"
    }
   },
   "id": "9f7d923c4c079c73",
   "execution_count": 37
  },
  {
   "cell_type": "markdown",
   "source": [
    "### Normalization Steps"
   ],
   "metadata": {
    "collapsed": false
   },
   "id": "3e8cd3ca3a0d9dfd"
  },
  {
   "cell_type": "code",
   "outputs": [],
   "source": [
    "normalization_steps = normalization.NormalizationPipeline([\n",
    "    normalization.RescaleNormalizationStep(RESCALE_LOWER, RESCALE_UPPER),\n",
    "    normalization.HistogramEqualizationStep(RESCALE_LOWER, RESCALE_UPPER)\n",
    "])"
   ],
   "metadata": {
    "collapsed": false,
    "ExecuteTime": {
     "end_time": "2024-03-31T06:39:52.872457Z",
     "start_time": "2024-03-31T06:39:52.858712Z"
    }
   },
   "id": "dca47d264b318934",
   "execution_count": 38
  },
  {
   "cell_type": "markdown",
   "source": [
    "### Data Processor Setup"
   ],
   "metadata": {
    "collapsed": false
   },
   "id": "3e75d73ab1e1f8e8"
  },
  {
   "cell_type": "code",
   "outputs": [],
   "source": [
    "data_processor = processor.DataProcessor(\n",
    "    pre_process=pre_process_steps,\n",
    "    feature_extraction=feature_extraction_steps,\n",
    "    normalization=normalization_steps\n",
    ")"
   ],
   "metadata": {
    "collapsed": false,
    "ExecuteTime": {
     "end_time": "2024-03-31T06:39:52.887756Z",
     "start_time": "2024-03-31T06:39:52.873709Z"
    }
   },
   "id": "3c41639bc78597bd",
   "execution_count": 39
  },
  {
   "cell_type": "markdown",
   "source": [
    "# Subject Data"
   ],
   "metadata": {
    "collapsed": false
   },
   "id": "6cedb17c2a956396"
  },
  {
   "cell_type": "code",
   "outputs": [],
   "source": [
    "data_path = downloader.retrieve()\n",
    "subject_data_map = reader.format_data(data_path)"
   ],
   "metadata": {
    "collapsed": false,
    "ExecuteTime": {
     "end_time": "2024-03-31T06:39:53.476708Z",
     "start_time": "2024-03-31T06:39:52.889709Z"
    }
   },
   "id": "7797f267c21560a8",
   "execution_count": 40
  },
  {
   "cell_type": "markdown",
   "source": [
    "# Processing"
   ],
   "metadata": {
    "collapsed": false
   },
   "id": "e05e630093ab2c05"
  },
  {
   "cell_type": "markdown",
   "source": [
    "## Template Setup"
   ],
   "metadata": {
    "collapsed": false
   },
   "id": "922b8afcbceadfb8"
  },
  {
   "cell_type": "markdown",
   "source": [
    "### Template Generation"
   ],
   "metadata": {
    "collapsed": false
   },
   "id": "bdc28955aaed5138"
  },
  {
   "cell_type": "code",
   "outputs": [],
   "source": [
    "def iter_test_templates(subject_template_data: typing.Dict[str, typing.List[np.ndarray]]) -> typing.Iterator[TestTemplateData]:\n",
    "    for subject in subject_template_data:\n",
    "        subject_data = subject_template_data[subject]\n",
    "        for backend_option in HASH_BACKENDS:\n",
    "            for ratio in SEGMENTATION_RATIOS:\n",
    "                for rate in FALSE_POSITIVE_RATES:\n",
    "                    template = eeg_bloom_template.EEGTemplate.make_template(\n",
    "                        subject_data,\n",
    "                        backend_option,\n",
    "                        ratio,\n",
    "                        rate\n",
    "                    )\n",
    "                    yield TestTemplateData(\n",
    "                        template=template, \n",
    "                        false_positive_rate=rate, \n",
    "                        hash_backend=backend_option,\n",
    "                        original_subject=subject\n",
    "                    )"
   ],
   "metadata": {
    "collapsed": false,
    "ExecuteTime": {
     "end_time": "2024-03-31T06:39:53.492207Z",
     "start_time": "2024-03-31T06:39:53.478708Z"
    }
   },
   "id": "6397bcfee2202953",
   "execution_count": 41
  },
  {
   "cell_type": "markdown",
   "source": [
    "## Sample Data Setup"
   ],
   "metadata": {
    "collapsed": false
   },
   "id": "d47c3b5b30b09100"
  },
  {
   "cell_type": "code",
   "outputs": [
    {
     "name": "stdout",
     "output_type": "stream",
     "text": [
      "Creating RawArray with float64 data, n_channels=4, n_times=24000\n",
      "    Range : 0 ... 23999 =      0.000 ...   119.995 secs\n",
      "Ready.\n",
      "Creating RawArray with float64 data, n_channels=4, n_times=24000\n",
      "    Range : 0 ... 23999 =      0.000 ...   119.995 secs\n",
      "Ready.\n",
      "Creating RawArray with float64 data, n_channels=4, n_times=24000\n",
      "    Range : 0 ... 23999 =      0.000 ...   119.995 secs\n",
      "Ready.\n",
      "Creating RawArray with float64 data, n_channels=4, n_times=24000\n",
      "    Range : 0 ... 23999 =      0.000 ...   119.995 secs\n",
      "Ready.\n",
      "Creating RawArray with float64 data, n_channels=4, n_times=40114\n",
      "    Range : 0 ... 40113 =      0.000 ...   200.565 secs\n",
      "Ready.\n",
      "Creating RawArray with float64 data, n_channels=4, n_times=24000\n",
      "    Range : 0 ... 23999 =      0.000 ...   119.995 secs\n",
      "Ready.\n",
      "Creating RawArray with float64 data, n_channels=4, n_times=24000\n",
      "    Range : 0 ... 23999 =      0.000 ...   119.995 secs\n",
      "Ready.\n",
      "Creating RawArray with float64 data, n_channels=4, n_times=24000\n",
      "    Range : 0 ... 23999 =      0.000 ...   119.995 secs\n",
      "Ready.\n",
      "Creating RawArray with float64 data, n_channels=4, n_times=24000\n",
      "    Range : 0 ... 23999 =      0.000 ...   119.995 secs\n",
      "Ready.\n",
      "Creating RawArray with float64 data, n_channels=4, n_times=24000\n",
      "    Range : 0 ... 23999 =      0.000 ...   119.995 secs\n",
      "Ready.\n",
      "Creating RawArray with float64 data, n_channels=4, n_times=24000\n",
      "    Range : 0 ... 23999 =      0.000 ...   119.995 secs\n",
      "Ready.\n",
      "Creating RawArray with float64 data, n_channels=4, n_times=24000\n",
      "    Range : 0 ... 23999 =      0.000 ...   119.995 secs\n",
      "Ready.\n",
      "Creating RawArray with float64 data, n_channels=4, n_times=24000\n",
      "    Range : 0 ... 23999 =      0.000 ...   119.995 secs\n",
      "Ready.\n",
      "Creating RawArray with float64 data, n_channels=4, n_times=24000\n",
      "    Range : 0 ... 23999 =      0.000 ...   119.995 secs\n",
      "Ready.\n",
      "Creating RawArray with float64 data, n_channels=4, n_times=24000\n",
      "    Range : 0 ... 23999 =      0.000 ...   119.995 secs\n",
      "Ready.\n",
      "Creating RawArray with float64 data, n_channels=4, n_times=24000\n",
      "    Range : 0 ... 23999 =      0.000 ...   119.995 secs\n",
      "Ready.\n",
      "Creating RawArray with float64 data, n_channels=4, n_times=24000\n",
      "    Range : 0 ... 23999 =      0.000 ...   119.995 secs\n",
      "Ready.\n",
      "Creating RawArray with float64 data, n_channels=4, n_times=24000\n",
      "    Range : 0 ... 23999 =      0.000 ...   119.995 secs\n",
      "Ready.\n",
      "Creating RawArray with float64 data, n_channels=4, n_times=24000\n",
      "    Range : 0 ... 23999 =      0.000 ...   119.995 secs\n",
      "Ready.\n",
      "Creating RawArray with float64 data, n_channels=4, n_times=24000\n",
      "    Range : 0 ... 23999 =      0.000 ...   119.995 secs\n",
      "Ready.\n"
     ]
    }
   ],
   "source": [
    "processed_data_map = {\n",
    "    subject: data_processor.process(subject_data_map[subject])\n",
    "    for subject in subject_data_map\n",
    "}"
   ],
   "metadata": {
    "collapsed": false,
    "ExecuteTime": {
     "end_time": "2024-03-31T06:39:56.220207Z",
     "start_time": "2024-03-31T06:39:53.495708Z"
    }
   },
   "id": "14571cab6a6e2b3f",
   "execution_count": 42
  },
  {
   "cell_type": "markdown",
   "source": [
    "# Test Set Assembly"
   ],
   "metadata": {
    "collapsed": false
   },
   "id": "9b07aa6f74300e14"
  },
  {
   "cell_type": "markdown",
   "source": [
    "## Gathering Test Sets"
   ],
   "metadata": {
    "collapsed": false
   },
   "id": "e2360b694971281a"
  },
  {
   "cell_type": "code",
   "outputs": [],
   "source": [
    "def get_experiment_samples(data_map: typing.Dict[str, typing.List[np.ndarray]], \n",
    "                           target: str) -> typing.Tuple[typing.List[np.ndarray], typing.List[np.ndarray]]:\n",
    "    positive_samples = list(\n",
    "        iter_ratio_slices(\n",
    "            data_map[target], \n",
    "            SAMPLE_PERCENTAGE\n",
    "        )\n",
    "    )\n",
    "    negative_samples = []\n",
    "    subjects_available = list(data_map.keys())\n",
    "    subjects_available.remove(target)\n",
    "    RANDOM_GENERATOR.shuffle(subjects_available)\n",
    "    while subjects_available and len(negative_samples) < len(positive_samples):\n",
    "        example_subject = subjects_available.pop()\n",
    "        negative_samples.extend(\n",
    "            list(\n",
    "                iter_ratio_slices(\n",
    "                    data_map[example_subject], \n",
    "                    SAMPLE_PERCENTAGE\n",
    "                )\n",
    "            )\n",
    "        )\n",
    "    return positive_samples, negative_samples\n",
    "\n",
    "\n",
    "def iter_template_test_sets(data_map: typing.Dict[str, typing.List[np.ndarray]]) -> typing.Iterator[TemplateTestSet]:\n",
    "    for template_data in iter_test_templates(data_map):\n",
    "        for auth_threshold in AUTHENTICATION_THRESHOLDS:\n",
    "            positive_samples, negative_samples = get_experiment_samples(\n",
    "                data_map, \n",
    "                template_data.original_subject\n",
    "            )\n",
    "            yield TemplateTestSet(\n",
    "                threshold=auth_threshold,\n",
    "                template_data=template_data,\n",
    "                positive_cases=[\n",
    "                    TemplateTest(\n",
    "                        expected_result=True, \n",
    "                        test_data=sample,\n",
    "                        if_expected=TestResultType.TRUE_POSITIVE,\n",
    "                        if_unexpected=TestResultType.FALSE_NEGATIVE\n",
    "                    )\n",
    "                    for sample in positive_samples\n",
    "                ],\n",
    "                negative_cases=[\n",
    "                    TemplateTest(\n",
    "                        expected_result=False, \n",
    "                        test_data=sample,\n",
    "                        if_expected=TestResultType.TRUE_NEGATIVE,\n",
    "                        if_unexpected=TestResultType.FALSE_POSITIVE\n",
    "                    )\n",
    "                    for sample in negative_samples\n",
    "                ]\n",
    "            )"
   ],
   "metadata": {
    "collapsed": false,
    "ExecuteTime": {
     "end_time": "2024-03-31T06:39:56.235708Z",
     "start_time": "2024-03-31T06:39:56.221209Z"
    }
   },
   "id": "1e6d30e2797ba855",
   "execution_count": 43
  },
  {
   "cell_type": "markdown",
   "source": [
    "# Execute Tests"
   ],
   "metadata": {
    "collapsed": false
   },
   "id": "33f687ed4b216d82"
  },
  {
   "cell_type": "code",
   "outputs": [],
   "source": [
    "def run_template_test_set(test_set: TemplateTestSet) -> TestResultsSummary:\n",
    "    summary = TestResultsSummary()\n",
    "    for test_item in test_set.positive_cases:\n",
    "        result_type = test_item.run_test(\n",
    "            test_set.template_data.template,\n",
    "            test_set.threshold\n",
    "        )\n",
    "        summary.increment_count(result_type)\n",
    "    for test_item in test_set.negative_cases:\n",
    "        result_type = test_item.run_test(\n",
    "            test_set.template_data.template,\n",
    "            test_set.threshold\n",
    "        )\n",
    "        summary.increment_count(result_type)\n",
    "    return summary"
   ],
   "metadata": {
    "collapsed": false,
    "ExecuteTime": {
     "end_time": "2024-03-31T06:39:56.251208Z",
     "start_time": "2024-03-31T06:39:56.236708Z"
    }
   },
   "id": "c194e9cedd588b3e",
   "execution_count": 44
  },
  {
   "cell_type": "code",
   "outputs": [],
   "source": [
    "results_data: typing.Dict[typing.Tuple[float, float, str], TestResultsSummary] = {}\n",
    "for template_test_set in iter_template_test_sets(processed_data_map):\n",
    "    false_positive_rate = template_test_set.template_data.false_positive_rate\n",
    "    threshold = template_test_set.threshold\n",
    "    hash_backend = template_test_set.template_data.hash_backend.__class__.__name__\n",
    "    result_key = (\n",
    "        false_positive_rate,\n",
    "        threshold,\n",
    "        hash_backend\n",
    "    )\n",
    "    if result_key not in results_data:\n",
    "        results_data[result_key] = TestResultsSummary()\n",
    "    results_data[result_key] = TestResultsSummary.merge_summaries(\n",
    "        results_data[result_key],\n",
    "        run_template_test_set(template_test_set)\n",
    "    )"
   ],
   "metadata": {
    "collapsed": false,
    "ExecuteTime": {
     "end_time": "2024-03-31T06:42:29.977712Z",
     "start_time": "2024-03-31T06:39:56.252209Z"
    }
   },
   "id": "195e97184d2409c4",
   "execution_count": 45
  },
  {
   "cell_type": "code",
   "outputs": [
    {
     "data": {
      "text/plain": "      FPR  Threshold                 Backend       FAR       FRR  Accuracy\n190  0.50        0.1  MMH3BloomFilterBackend  0.186441  0.005473  0.989367\n180  0.45        0.1  MMH3BloomFilterBackend  0.277778  0.007463  0.985465\n90   0.50        0.1   FNVBloomFilterBackend  0.181818  0.007960  0.984747\n70   0.40        0.1   FNVBloomFilterBackend  0.246575  0.008955  0.982717\n60   0.35        0.1   FNVBloomFilterBackend  0.294118  0.014925  0.971591\n150  0.30        0.1  MMH3BloomFilterBackend  0.240876  0.016418  0.969259\n160  0.35        0.1  MMH3BloomFilterBackend  0.232877  0.016915  0.968460\n80   0.45        0.1   FNVBloomFilterBackend  0.408602  0.018905  0.963861\n50   0.30        0.1   FNVBloomFilterBackend  0.300000  0.020896  0.960930\n170  0.40        0.1  MMH3BloomFilterBackend  0.454545  0.022388  0.957326",
      "text/html": "<div>\n<style scoped>\n    .dataframe tbody tr th:only-of-type {\n        vertical-align: middle;\n    }\n\n    .dataframe tbody tr th {\n        vertical-align: top;\n    }\n\n    .dataframe thead th {\n        text-align: right;\n    }\n</style>\n<table border=\"1\" class=\"dataframe\">\n  <thead>\n    <tr style=\"text-align: right;\">\n      <th></th>\n      <th>FPR</th>\n      <th>Threshold</th>\n      <th>Backend</th>\n      <th>FAR</th>\n      <th>FRR</th>\n      <th>Accuracy</th>\n    </tr>\n  </thead>\n  <tbody>\n    <tr>\n      <th>190</th>\n      <td>0.50</td>\n      <td>0.1</td>\n      <td>MMH3BloomFilterBackend</td>\n      <td>0.186441</td>\n      <td>0.005473</td>\n      <td>0.989367</td>\n    </tr>\n    <tr>\n      <th>180</th>\n      <td>0.45</td>\n      <td>0.1</td>\n      <td>MMH3BloomFilterBackend</td>\n      <td>0.277778</td>\n      <td>0.007463</td>\n      <td>0.985465</td>\n    </tr>\n    <tr>\n      <th>90</th>\n      <td>0.50</td>\n      <td>0.1</td>\n      <td>FNVBloomFilterBackend</td>\n      <td>0.181818</td>\n      <td>0.007960</td>\n      <td>0.984747</td>\n    </tr>\n    <tr>\n      <th>70</th>\n      <td>0.40</td>\n      <td>0.1</td>\n      <td>FNVBloomFilterBackend</td>\n      <td>0.246575</td>\n      <td>0.008955</td>\n      <td>0.982717</td>\n    </tr>\n    <tr>\n      <th>60</th>\n      <td>0.35</td>\n      <td>0.1</td>\n      <td>FNVBloomFilterBackend</td>\n      <td>0.294118</td>\n      <td>0.014925</td>\n      <td>0.971591</td>\n    </tr>\n    <tr>\n      <th>150</th>\n      <td>0.30</td>\n      <td>0.1</td>\n      <td>MMH3BloomFilterBackend</td>\n      <td>0.240876</td>\n      <td>0.016418</td>\n      <td>0.969259</td>\n    </tr>\n    <tr>\n      <th>160</th>\n      <td>0.35</td>\n      <td>0.1</td>\n      <td>MMH3BloomFilterBackend</td>\n      <td>0.232877</td>\n      <td>0.016915</td>\n      <td>0.968460</td>\n    </tr>\n    <tr>\n      <th>80</th>\n      <td>0.45</td>\n      <td>0.1</td>\n      <td>FNVBloomFilterBackend</td>\n      <td>0.408602</td>\n      <td>0.018905</td>\n      <td>0.963861</td>\n    </tr>\n    <tr>\n      <th>50</th>\n      <td>0.30</td>\n      <td>0.1</td>\n      <td>FNVBloomFilterBackend</td>\n      <td>0.300000</td>\n      <td>0.020896</td>\n      <td>0.960930</td>\n    </tr>\n    <tr>\n      <th>170</th>\n      <td>0.40</td>\n      <td>0.1</td>\n      <td>MMH3BloomFilterBackend</td>\n      <td>0.454545</td>\n      <td>0.022388</td>\n      <td>0.957326</td>\n    </tr>\n  </tbody>\n</table>\n</div>"
     },
     "execution_count": 46,
     "metadata": {},
     "output_type": "execute_result"
    }
   ],
   "source": [
    "results_data_rows = []\n",
    "for data_key, results_summary in results_data.items():\n",
    "    fpr, threshold, backend = data_key\n",
    "    results_data_rows.append([\n",
    "        fpr, threshold, \n",
    "        backend, results_summary.false_accept_rate, \n",
    "        results_summary.false_reject_rate, results_summary.accuracy\n",
    "    ])\n",
    "results_dataframe = pd.DataFrame(\n",
    "    results_data_rows, \n",
    "    columns=['FPR', 'Threshold', 'Backend', 'FAR', 'FRR', 'Accuracy']\n",
    ")\n",
    "results_dataframe.sort_values(by=['Accuracy'], ascending=False).head(10)"
   ],
   "metadata": {
    "collapsed": false,
    "ExecuteTime": {
     "end_time": "2024-03-31T06:42:30.008711Z",
     "start_time": "2024-03-31T06:42:29.978709Z"
    }
   },
   "id": "620017393064315c",
   "execution_count": 46
  }
 ],
 "metadata": {
  "kernelspec": {
   "display_name": "Python 3",
   "language": "python",
   "name": "python3"
  },
  "language_info": {
   "codemirror_mode": {
    "name": "ipython",
    "version": 2
   },
   "file_extension": ".py",
   "mimetype": "text/x-python",
   "name": "python",
   "nbconvert_exporter": "python",
   "pygments_lexer": "ipython2",
   "version": "2.7.6"
  }
 },
 "nbformat": 4,
 "nbformat_minor": 5
}
