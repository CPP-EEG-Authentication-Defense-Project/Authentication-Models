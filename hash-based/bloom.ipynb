{
 "cells": [
  {
   "cell_type": "markdown",
   "id": "e87529cbb033c6e0",
   "metadata": {
    "collapsed": false
   },
   "source": [
    "# Setup"
   ]
  },
  {
   "cell_type": "code",
   "execution_count": 1,
   "id": "b9334d3cf4e5ce17",
   "metadata": {
    "ExecuteTime": {
     "end_time": "2024-05-11T02:09:26.894616Z",
     "start_time": "2024-05-11T02:09:25.141618Z"
    },
    "collapsed": false
   },
   "outputs": [],
   "source": [
    "import numpy as np\n",
    "import pandas as pd\n",
    "import dataclasses\n",
    "import enum\n",
    "import typing\n",
    "import random\n",
    "import secrets\n",
    "import time\n",
    "import statistics\n",
    "import eeg_bloom_template\n",
    "import eeg_bloom_template.backend\n",
    "\n",
    "from eeg_bloom_template.backend import BaseBloomFilterHashBackend\n",
    "from eeg_auth_models_framework import data, pre_process, features, processor, normalization\n",
    "from eeg_auth_models_framework.utils import conversion\n",
    "from eeg_bloom_template.utils.iteration import iter_ratio_slices\n",
    "from eeg_bloom_template.utils.orthonormalization import TokenDataGenerator"
   ]
  },
  {
   "cell_type": "markdown",
   "id": "7c078babbe01fd2e",
   "metadata": {
    "collapsed": false
   },
   "source": [
    "# Constants"
   ]
  },
  {
   "cell_type": "code",
   "execution_count": 2,
   "id": "74fc12d929fbaf80",
   "metadata": {
    "ExecuteTime": {
     "end_time": "2024-05-11T02:09:26.910116Z",
     "start_time": "2024-05-11T02:09:26.896618Z"
    },
    "collapsed": false
   },
   "outputs": [],
   "source": [
    "AUTHENTICATION_THRESHOLDS = [0.1, 0.2, 0.3, 0.4, 0.5, 0.6, 0.7, 0.8, 0.9, 1.0]\n",
    "SEGMENTATION_RATIOS = [0.1, 0.2, 0.3, 0.4, 0.5, 0.6, 0.7, 0.8, 0.9, 1]\n",
    "FALSE_POSITIVE_RATES = [0.05, 0.1, 0.15, 0.2, 0.25, 0.3, 0.35, 0.4, 0.45, 0.5]\n",
    "DATASET_SAMPLE_FREQ_HZ = 200\n",
    "DATA_CHANNEL_NAMES = ['T7','F8','Cz','P4']\n",
    "FREQUENCIES = [\n",
    "    pre_process.FrequencyBand(lower=8.0, upper=12.0, label='Alpha'),\n",
    "    pre_process.FrequencyBand(lower=12.0, upper=35.0, label='Beta'),\n",
    "    pre_process.FrequencyBand(lower=4.0, upper=8.0, label='Theta'),\n",
    "    pre_process.FrequencyBand(lower=35.0, upper=None, label='Gamma'),\n",
    "    pre_process.FrequencyBand(lower=None, upper=None, label='Raw'),\n",
    "]\n",
    "WINDOW_SIZE = 1200\n",
    "WINDOW_OVERLAP = 0\n",
    "RESCALE_LOWER = 0\n",
    "RESCALE_UPPER = 255\n",
    "SAMPLE_PERCENTAGE = 0.1\n",
    "RANDOM_SEED = 100000000000\n",
    "RANDOM_GENERATOR = random.Random(RANDOM_SEED)\n",
    "SYSTEMIC_SAMPLE_RATE = 3"
   ]
  },
  {
   "cell_type": "markdown",
   "id": "35b01453c4b82d01",
   "metadata": {
    "collapsed": false
   },
   "source": [
    "# Utilities"
   ]
  },
  {
   "cell_type": "code",
   "execution_count": 3,
   "id": "d77afdaf2e375e98",
   "metadata": {
    "ExecuteTime": {
     "end_time": "2024-05-11T02:09:26.925619Z",
     "start_time": "2024-05-11T02:09:26.911118Z"
    },
    "collapsed": false
   },
   "outputs": [],
   "source": [
    "class HashBackendWrapper(BaseBloomFilterHashBackend):\n",
    "    def __init__(self, \n",
    "                 real_backend: BaseBloomFilterHashBackend, \n",
    "                 label: str):\n",
    "        self.real_backend = real_backend\n",
    "        self.label = label\n",
    "        super().__init__()\n",
    "    \n",
    "    def run_hash_function(self, input_data: bytes) -> int:\n",
    "        return self.real_backend.run_hash_function(input_data)\n",
    "\n",
    "\n",
    "class TestResultType(enum.Enum):\n",
    "    TRUE_POSITIVE = enum.auto()\n",
    "    FALSE_POSITIVE = enum.auto()\n",
    "    FALSE_NEGATIVE = enum.auto()\n",
    "    TRUE_NEGATIVE = enum.auto()\n",
    "\n",
    "\n",
    "@dataclasses.dataclass\n",
    "class TestResultsSummary:\n",
    "    true_positives: int = 0\n",
    "    false_positives: int = 0\n",
    "    false_negatives: int = 0\n",
    "    true_negatives: int = 0\n",
    "    \n",
    "    @classmethod\n",
    "    def merge_summaries(cls, \n",
    "                        summary_a: 'TestResultsSummary', \n",
    "                        summary_b: 'TestResultsSummary') -> 'TestResultsSummary':\n",
    "        return TestResultsSummary(\n",
    "            true_positives=summary_a.true_positives + summary_b.true_positives,\n",
    "            false_positives=summary_a.false_positives + summary_b.false_positives,\n",
    "            false_negatives=summary_a.false_negatives + summary_b.false_negatives,\n",
    "            true_negatives=summary_a.true_negatives + summary_b.true_negatives\n",
    "        )\n",
    "    \n",
    "    def increment_count(self, result_type: TestResultType):\n",
    "        if result_type == TestResultType.TRUE_POSITIVE:\n",
    "            self.true_positives += 1\n",
    "        elif result_type == TestResultType.FALSE_POSITIVE:\n",
    "            self.false_positives += 1\n",
    "        elif result_type == TestResultType.FALSE_NEGATIVE:\n",
    "            self.false_negatives += 1\n",
    "        else:\n",
    "            self.true_negatives += 1\n",
    "    \n",
    "    @property\n",
    "    def accuracy(self) -> float:\n",
    "        hits = self.true_positives + self.true_negatives\n",
    "        total = (\n",
    "            self.true_positives + self.true_negatives + \n",
    "            self.false_positives + self.false_negatives\n",
    "        )\n",
    "        return hits / total\n",
    "\n",
    "    @property\n",
    "    def false_accept_rate(self) -> float:\n",
    "        return self.false_positives / (self.false_positives + self.true_negatives)\n",
    "    \n",
    "    @property\n",
    "    def false_reject_rate(self) -> float:\n",
    "        return self.false_negatives / (self.false_negatives + self.true_positives)\n",
    "    \n",
    "    @property\n",
    "    def half_total_error_rate(self) -> float:\n",
    "        return (self.false_accept_rate + self.false_reject_rate) / 2\n",
    "\n",
    "\n",
    "@dataclasses.dataclass\n",
    "class TemplateTest:\n",
    "    expected_result: bool\n",
    "    if_expected: TestResultType\n",
    "    if_unexpected: TestResultType\n",
    "    test_data: typing.List[np.ndarray]\n",
    "    \n",
    "    def run_test(self, test_template: eeg_bloom_template.EEGTemplate, test_threshold: float):\n",
    "        comparison_result = test_template.compare(self.test_data)\n",
    "        is_match = comparison_result.hit_ratio >= test_threshold\n",
    "        if is_match != self.expected_result:\n",
    "            return self.if_unexpected\n",
    "        return self.if_expected\n",
    "    \n",
    "\n",
    "@dataclasses.dataclass\n",
    "class TestTemplateData:\n",
    "    template: eeg_bloom_template.EEGTemplate\n",
    "    false_positive_rate: float\n",
    "    hash_backend: eeg_bloom_template.backend.BaseBloomFilterHashBackend\n",
    "    original_subject: str\n",
    "    \n",
    "    \n",
    "@dataclasses.dataclass\n",
    "class TemplateTestSet:\n",
    "    threshold: float\n",
    "    template_data: TestTemplateData\n",
    "    positive_cases: typing.List[TemplateTest]\n",
    "    negative_cases: typing.List[TemplateTest]"
   ]
  },
  {
   "cell_type": "markdown",
   "id": "bd4a1eacf6e16f5a",
   "metadata": {
    "collapsed": false
   },
   "source": [
    "# Configuration"
   ]
  },
  {
   "cell_type": "code",
   "execution_count": 4,
   "id": "75bfbf6579124b68",
   "metadata": {
    "ExecuteTime": {
     "end_time": "2024-05-11T02:09:26.941116Z",
     "start_time": "2024-05-11T02:09:26.927119Z"
    },
    "collapsed": false
   },
   "outputs": [],
   "source": [
    "downloader = data.AuditoryDataDownloader()\n",
    "reader = data.AuditoryDataReader()\n",
    "converter = conversion.MNEDataFrameConverter(\n",
    "    channels=DATA_CHANNEL_NAMES, \n",
    "    sample_frequency=DATASET_SAMPLE_FREQ_HZ\n",
    ")"
   ]
  },
  {
   "cell_type": "markdown",
   "id": "dd0f0fd7d636944e",
   "metadata": {
    "collapsed": false
   },
   "source": [
    "# Data Processing Setup"
   ]
  },
  {
   "cell_type": "markdown",
   "id": "8b4dd223e88e171a",
   "metadata": {
    "collapsed": false
   },
   "source": [
    "## Sample Data Processor"
   ]
  },
  {
   "cell_type": "markdown",
   "id": "7ab9a2c1c60e36ae",
   "metadata": {
    "collapsed": false
   },
   "source": [
    "### Pre-Processing Steps"
   ]
  },
  {
   "cell_type": "code",
   "execution_count": 5,
   "id": "cb1546861f56509e",
   "metadata": {
    "ExecuteTime": {
     "end_time": "2024-05-11T02:09:26.956616Z",
     "start_time": "2024-05-11T02:09:26.942616Z"
    },
    "collapsed": false
   },
   "outputs": [],
   "source": [
    "pre_process_steps = pre_process.PreProcessingPipeline([\n",
    "    pre_process.EEGBandpassFilterStep(\n",
    "        FREQUENCIES,\n",
    "        converter\n",
    "    ),\n",
    "    pre_process.DataWindowStep(WINDOW_SIZE, WINDOW_OVERLAP)\n",
    "])"
   ]
  },
  {
   "cell_type": "markdown",
   "id": "41bf70ac66cb428e",
   "metadata": {
    "collapsed": false
   },
   "source": [
    "### Feature Extraction Steps"
   ]
  },
  {
   "cell_type": "code",
   "execution_count": 6,
   "id": "9f7d923c4c079c73",
   "metadata": {
    "ExecuteTime": {
     "end_time": "2024-05-11T02:09:26.972117Z",
     "start_time": "2024-05-11T02:09:26.958618Z"
    },
    "collapsed": false
   },
   "outputs": [],
   "source": [
    "feature_extraction_steps = features.FeatureExtractPipeline([\n",
    "    features.StatisticalFeatureExtractor([\n",
    "        features.StatisticalFeature.MIN,\n",
    "        features.StatisticalFeature.MAX,\n",
    "        features.StatisticalFeature.MEAN,\n",
    "        features.StatisticalFeature.ZERO_CROSSING_RATE\n",
    "    ])\n",
    "])"
   ]
  },
  {
   "cell_type": "markdown",
   "id": "3e8cd3ca3a0d9dfd",
   "metadata": {
    "collapsed": false
   },
   "source": [
    "### Normalization Steps"
   ]
  },
  {
   "cell_type": "code",
   "execution_count": 7,
   "id": "dca47d264b318934",
   "metadata": {
    "ExecuteTime": {
     "end_time": "2024-05-11T02:09:26.987616Z",
     "start_time": "2024-05-11T02:09:26.973117Z"
    },
    "collapsed": false
   },
   "outputs": [],
   "source": [
    "normalization_steps = normalization.NormalizationPipeline([\n",
    "    normalization.RescaleNormalizationStep(RESCALE_LOWER, RESCALE_UPPER),\n",
    "    normalization.HistogramEqualizationStep(RESCALE_LOWER, RESCALE_UPPER)\n",
    "])"
   ]
  },
  {
   "cell_type": "markdown",
   "id": "3e75d73ab1e1f8e8",
   "metadata": {
    "collapsed": false
   },
   "source": [
    "### Data Processor Setup"
   ]
  },
  {
   "cell_type": "code",
   "execution_count": 8,
   "id": "3c41639bc78597bd",
   "metadata": {
    "ExecuteTime": {
     "end_time": "2024-05-11T02:09:27.003116Z",
     "start_time": "2024-05-11T02:09:26.988617Z"
    },
    "collapsed": false
   },
   "outputs": [],
   "source": [
    "data_processor = processor.DataProcessor(\n",
    "    pre_process=pre_process_steps,\n",
    "    feature_extraction=feature_extraction_steps,\n",
    "    normalization=normalization_steps\n",
    ")\n",
    "token_data_processor = processor.DataProcessor(\n",
    "    pre_process=pre_process_steps,\n",
    "    feature_extraction=feature_extraction_steps,\n",
    ")"
   ]
  },
  {
   "cell_type": "markdown",
   "id": "6cedb17c2a956396",
   "metadata": {
    "collapsed": false
   },
   "source": [
    "# Subject Data"
   ]
  },
  {
   "cell_type": "code",
   "execution_count": 9,
   "id": "dc1ee50b",
   "metadata": {},
   "outputs": [],
   "source": [
    "RawDataMap = typing.Dict[str, typing.List[pd.DataFrame]]"
   ]
  },
  {
   "cell_type": "code",
   "execution_count": 10,
   "id": "1995be87",
   "metadata": {},
   "outputs": [],
   "source": [
    "def make_training_test_maps(data_map: RawDataMap) -> typing.Tuple[RawDataMap, RawDataMap]:\n",
    "    result_training = {}\n",
    "    result_test = {}\n",
    "\n",
    "    for subject in data_map:\n",
    "        result_training[subject] = []\n",
    "        result_test[subject] = []\n",
    "        for frame_data in data_map[subject]:\n",
    "            training_frame, test_frame = make_training_test_frames(frame_data)\n",
    "            result_training[subject].append(training_frame)\n",
    "            result_test[subject].append(test_frame)\n",
    "\n",
    "    return result_training, result_test\n",
    "\n",
    "\n",
    "def make_training_test_frames(frame: pd.DataFrame) -> typing.Tuple[pd.DataFrame, pd.DataFrame]:\n",
    "    training = frame[::SYSTEMIC_SAMPLE_RATE]\n",
    "    test = frame.drop(training.index)\n",
    "    return training, test"
   ]
  },
  {
   "cell_type": "code",
   "execution_count": 11,
   "id": "7797f267c21560a8",
   "metadata": {
    "ExecuteTime": {
     "end_time": "2024-05-11T02:09:27.359616Z",
     "start_time": "2024-05-11T02:09:27.004118Z"
    },
    "collapsed": false
   },
   "outputs": [],
   "source": [
    "data_path = downloader.retrieve()\n",
    "subject_data_map = reader.format_data(data_path)\n",
    "subject_data_train, subject_data_test = make_training_test_maps(subject_data_map)"
   ]
  },
  {
   "cell_type": "markdown",
   "id": "c9b69a4494e24d8e",
   "metadata": {},
   "source": [
    "## Token Setup"
   ]
  },
  {
   "cell_type": "code",
   "execution_count": 12,
   "id": "6c13ff9c8db8f7ec",
   "metadata": {
    "ExecuteTime": {
     "end_time": "2024-05-11T02:09:27.375117Z",
     "start_time": "2024-05-11T02:09:27.361618Z"
    }
   },
   "outputs": [],
   "source": [
    "subject_seeds_map = {subject: secrets.randbits(32) for subject in subject_data_map}\n",
    "subject_tokens_map = {subject: TokenDataGenerator.generate_random_token() for subject in subject_data_map}"
   ]
  },
  {
   "cell_type": "markdown",
   "id": "e05e630093ab2c05",
   "metadata": {
    "collapsed": false
   },
   "source": [
    "# Processing"
   ]
  },
  {
   "cell_type": "markdown",
   "id": "3a629cac93be0927",
   "metadata": {},
   "source": [
    "## Hash Backend Construction"
   ]
  },
  {
   "cell_type": "code",
   "execution_count": 13,
   "id": "2252f2850b9ae93f",
   "metadata": {
    "ExecuteTime": {
     "end_time": "2024-05-11T02:09:27.390616Z",
     "start_time": "2024-05-11T02:09:27.376117Z"
    }
   },
   "outputs": [],
   "source": [
    "def generate_hash_backends(seed: int, token: str) -> typing.List[HashBackendWrapper]:\n",
    "    return [\n",
    "        HashBackendWrapper(\n",
    "            eeg_bloom_template.backend.FNVBloomFilterBackend(),\n",
    "            'FNV Backend'\n",
    "        ),\n",
    "        HashBackendWrapper(\n",
    "            eeg_bloom_template.backend.MMH3BloomFilterBackend(),\n",
    "            'MMH3 Backend (No Seed)'\n",
    "        ),\n",
    "        HashBackendWrapper(\n",
    "            eeg_bloom_template.backend.MMH3BloomFilterBackend(\n",
    "                seed=seed\n",
    "            ),\n",
    "            'MMH3 Backend (Seed)'\n",
    "        ),\n",
    "        HashBackendWrapper(\n",
    "            eeg_bloom_template.backend.TokenBackend(\n",
    "                token\n",
    "            ),\n",
    "            'Token Backend'\n",
    "        )\n",
    "    ]"
   ]
  },
  {
   "cell_type": "markdown",
   "id": "922b8afcbceadfb8",
   "metadata": {
    "collapsed": false
   },
   "source": [
    "## Template Setup"
   ]
  },
  {
   "cell_type": "markdown",
   "id": "bdc28955aaed5138",
   "metadata": {
    "collapsed": false
   },
   "source": [
    "### Template Generation"
   ]
  },
  {
   "cell_type": "code",
   "execution_count": 14,
   "id": "6397bcfee2202953",
   "metadata": {
    "ExecuteTime": {
     "end_time": "2024-05-11T02:09:27.406116Z",
     "start_time": "2024-05-11T02:09:27.391617Z"
    },
    "collapsed": false
   },
   "outputs": [],
   "source": [
    "def iter_test_templates(subject_template_data: typing.Dict[str, typing.List[np.ndarray]], \n",
    "                        subject_seeds: typing.Dict[str, int],\n",
    "                        subject_tokens: typing.Dict[str, str]) -> typing.Iterator[TestTemplateData]:\n",
    "    for subject in subject_template_data:\n",
    "        subject_data = subject_template_data[subject]\n",
    "        seed = subject_seeds[subject]\n",
    "        token = subject_tokens[subject]\n",
    "        for row_wise_setting in (True, False):\n",
    "            for backend_option in generate_hash_backends(seed, token):\n",
    "                for ratio in SEGMENTATION_RATIOS:\n",
    "                    for rate in FALSE_POSITIVE_RATES:\n",
    "                        template = eeg_bloom_template.EEGTemplate.make_template(\n",
    "                            feature_data=subject_data,\n",
    "                            hash_backend=backend_option,\n",
    "                            segment_ratio=ratio,\n",
    "                            false_positive_ratio=rate,\n",
    "                            row_wise=row_wise_setting\n",
    "                        )\n",
    "                        yield TestTemplateData(\n",
    "                            template=template, \n",
    "                            false_positive_rate=rate, \n",
    "                            hash_backend=backend_option,\n",
    "                            original_subject=subject\n",
    "                        )"
   ]
  },
  {
   "cell_type": "markdown",
   "id": "d47c3b5b30b09100",
   "metadata": {
    "collapsed": false
   },
   "source": [
    "## Sample Data Setup"
   ]
  },
  {
   "cell_type": "code",
   "execution_count": 15,
   "id": "14571cab6a6e2b3f",
   "metadata": {
    "ExecuteTime": {
     "end_time": "2024-05-11T02:09:30.165117Z",
     "start_time": "2024-05-11T02:09:27.407117Z"
    },
    "collapsed": false
   },
   "outputs": [
    {
     "name": "stdout",
     "output_type": "stream",
     "text": [
      "Creating RawArray with float64 data, n_channels=4, n_times=8000\n",
      "    Range : 0 ... 7999 =      0.000 ...    39.995 secs\n",
      "Ready.\n",
      "Creating RawArray with float64 data, n_channels=4, n_times=8000\n",
      "    Range : 0 ... 7999 =      0.000 ...    39.995 secs\n",
      "Ready.\n",
      "Creating RawArray with float64 data, n_channels=4, n_times=8000\n",
      "    Range : 0 ... 7999 =      0.000 ...    39.995 secs\n",
      "Ready.\n",
      "Creating RawArray with float64 data, n_channels=4, n_times=8000\n",
      "    Range : 0 ... 7999 =      0.000 ...    39.995 secs\n",
      "Ready.\n",
      "Creating RawArray with float64 data, n_channels=4, n_times=8000\n",
      "    Range : 0 ... 7999 =      0.000 ...    39.995 secs\n",
      "Ready.\n",
      "Creating RawArray with float64 data, n_channels=4, n_times=13372\n",
      "    Range : 0 ... 13371 =      0.000 ...    66.855 secs\n",
      "Ready.\n",
      "Creating RawArray with float64 data, n_channels=4, n_times=8000\n",
      "    Range : 0 ... 7999 =      0.000 ...    39.995 secs\n",
      "Ready.\n",
      "Creating RawArray with float64 data, n_channels=4, n_times=8000\n",
      "    Range : 0 ... 7999 =      0.000 ...    39.995 secs\n",
      "Ready.\n",
      "Creating RawArray with float64 data, n_channels=4, n_times=8000\n",
      "    Range : 0 ... 7999 =      0.000 ...    39.995 secs\n",
      "Ready.\n",
      "Creating RawArray with float64 data, n_channels=4, n_times=8000\n",
      "    Range : 0 ... 7999 =      0.000 ...    39.995 secs\n",
      "Ready.\n",
      "Creating RawArray with float64 data, n_channels=4, n_times=8000\n",
      "    Range : 0 ... 7999 =      0.000 ...    39.995 secs\n",
      "Ready.\n",
      "Creating RawArray with float64 data, n_channels=4, n_times=8000\n",
      "    Range : 0 ... 7999 =      0.000 ...    39.995 secs\n",
      "Ready.\n",
      "Creating RawArray with float64 data, n_channels=4, n_times=8000\n",
      "    Range : 0 ... 7999 =      0.000 ...    39.995 secs\n",
      "Ready.\n",
      "Creating RawArray with float64 data, n_channels=4, n_times=8000\n",
      "    Range : 0 ... 7999 =      0.000 ...    39.995 secs\n",
      "Ready.\n",
      "Creating RawArray with float64 data, n_channels=4, n_times=8000\n",
      "    Range : 0 ... 7999 =      0.000 ...    39.995 secs\n",
      "Ready.\n",
      "Creating RawArray with float64 data, n_channels=4, n_times=8000\n",
      "    Range : 0 ... 7999 =      0.000 ...    39.995 secs\n",
      "Ready.\n",
      "Creating RawArray with float64 data, n_channels=4, n_times=8000\n",
      "    Range : 0 ... 7999 =      0.000 ...    39.995 secs\n",
      "Ready.\n",
      "Creating RawArray with float64 data, n_channels=4, n_times=8000\n",
      "    Range : 0 ... 7999 =      0.000 ...    39.995 secs\n",
      "Ready.\n",
      "Creating RawArray with float64 data, n_channels=4, n_times=8000\n",
      "    Range : 0 ... 7999 =      0.000 ...    39.995 secs\n",
      "Ready.\n",
      "Creating RawArray with float64 data, n_channels=4, n_times=8000\n",
      "    Range : 0 ... 7999 =      0.000 ...    39.995 secs\n",
      "Ready.\n",
      "Creating RawArray with float64 data, n_channels=4, n_times=16000\n",
      "    Range : 0 ... 15999 =      0.000 ...    79.995 secs\n",
      "Ready.\n",
      "Creating RawArray with float64 data, n_channels=4, n_times=16000\n",
      "    Range : 0 ... 15999 =      0.000 ...    79.995 secs\n",
      "Ready.\n",
      "Creating RawArray with float64 data, n_channels=4, n_times=16000\n",
      "    Range : 0 ... 15999 =      0.000 ...    79.995 secs\n",
      "Ready.\n",
      "Creating RawArray with float64 data, n_channels=4, n_times=16000\n",
      "    Range : 0 ... 15999 =      0.000 ...    79.995 secs\n",
      "Ready.\n",
      "Creating RawArray with float64 data, n_channels=4, n_times=16000\n",
      "    Range : 0 ... 15999 =      0.000 ...    79.995 secs\n",
      "Ready.\n",
      "Creating RawArray with float64 data, n_channels=4, n_times=26742\n",
      "    Range : 0 ... 26741 =      0.000 ...   133.705 secs\n",
      "Ready.\n",
      "Creating RawArray with float64 data, n_channels=4, n_times=16000\n",
      "    Range : 0 ... 15999 =      0.000 ...    79.995 secs\n",
      "Ready.\n",
      "Creating RawArray with float64 data, n_channels=4, n_times=16000\n",
      "    Range : 0 ... 15999 =      0.000 ...    79.995 secs\n",
      "Ready.\n",
      "Creating RawArray with float64 data, n_channels=4, n_times=16000\n",
      "    Range : 0 ... 15999 =      0.000 ...    79.995 secs\n",
      "Ready.\n",
      "Creating RawArray with float64 data, n_channels=4, n_times=16000\n",
      "    Range : 0 ... 15999 =      0.000 ...    79.995 secs\n",
      "Ready.\n",
      "Creating RawArray with float64 data, n_channels=4, n_times=16000\n",
      "    Range : 0 ... 15999 =      0.000 ...    79.995 secs\n",
      "Ready.\n",
      "Creating RawArray with float64 data, n_channels=4, n_times=16000\n",
      "    Range : 0 ... 15999 =      0.000 ...    79.995 secs\n",
      "Ready.\n",
      "Creating RawArray with float64 data, n_channels=4, n_times=16000\n",
      "    Range : 0 ... 15999 =      0.000 ...    79.995 secs\n",
      "Ready.\n",
      "Creating RawArray with float64 data, n_channels=4, n_times=16000\n",
      "    Range : 0 ... 15999 =      0.000 ...    79.995 secs\n",
      "Ready.\n",
      "Creating RawArray with float64 data, n_channels=4, n_times=16000\n",
      "    Range : 0 ... 15999 =      0.000 ...    79.995 secs\n",
      "Ready.\n",
      "Creating RawArray with float64 data, n_channels=4, n_times=16000\n",
      "    Range : 0 ... 15999 =      0.000 ...    79.995 secs\n",
      "Ready.\n",
      "Creating RawArray with float64 data, n_channels=4, n_times=16000\n",
      "    Range : 0 ... 15999 =      0.000 ...    79.995 secs\n",
      "Ready.\n",
      "Creating RawArray with float64 data, n_channels=4, n_times=16000\n",
      "    Range : 0 ... 15999 =      0.000 ...    79.995 secs\n",
      "Ready.\n",
      "Creating RawArray with float64 data, n_channels=4, n_times=16000\n",
      "    Range : 0 ... 15999 =      0.000 ...    79.995 secs\n",
      "Ready.\n",
      "Creating RawArray with float64 data, n_channels=4, n_times=16000\n",
      "    Range : 0 ... 15999 =      0.000 ...    79.995 secs\n",
      "Ready.\n"
     ]
    }
   ],
   "source": [
    "processed_training_data = {\n",
    "    subject: data_processor.process(subject_data_train[subject])\n",
    "    for subject in subject_data_train\n",
    "}\n",
    "processed_testing_data = {\n",
    "    subject: data_processor.process(subject_data_test[subject])\n",
    "    for subject in subject_data_test\n",
    "}"
   ]
  },
  {
   "cell_type": "markdown",
   "id": "9b07aa6f74300e14",
   "metadata": {
    "collapsed": false
   },
   "source": [
    "# Test Set Assembly"
   ]
  },
  {
   "cell_type": "markdown",
   "id": "e2360b694971281a",
   "metadata": {
    "collapsed": false
   },
   "source": [
    "## Gathering Test Sets"
   ]
  },
  {
   "cell_type": "code",
   "execution_count": 16,
   "id": "1e6d30e2797ba855",
   "metadata": {
    "ExecuteTime": {
     "end_time": "2024-05-11T02:09:30.180619Z",
     "start_time": "2024-05-11T02:09:30.166617Z"
    },
    "collapsed": false
   },
   "outputs": [],
   "source": [
    "def get_experiment_samples(data_map: typing.Dict[str, typing.List[np.ndarray]], \n",
    "                           target: str) -> typing.Tuple[typing.List[np.ndarray], typing.List[np.ndarray]]:\n",
    "    positive_samples = list(\n",
    "        iter_ratio_slices(\n",
    "            data_map[target], \n",
    "            SAMPLE_PERCENTAGE\n",
    "        )\n",
    "    )\n",
    "    negative_samples = []\n",
    "    subjects_available = list(data_map.keys())\n",
    "    subjects_available.remove(target)\n",
    "    RANDOM_GENERATOR.shuffle(subjects_available)\n",
    "    while subjects_available and len(negative_samples) < len(positive_samples):\n",
    "        example_subject = subjects_available.pop()\n",
    "        negative_samples.extend(\n",
    "            list(\n",
    "                iter_ratio_slices(\n",
    "                    data_map[example_subject], \n",
    "                    SAMPLE_PERCENTAGE\n",
    "                )\n",
    "            )\n",
    "        )\n",
    "    return positive_samples, negative_samples\n",
    "\n",
    "\n",
    "def iter_template_test_sets(training_data_map: typing.Dict[str, typing.List[np.ndarray]],\n",
    "                            testing_data_map: typing.Dict[str, typing.List[np.ndarray]],\n",
    "                            subject_seeds: typing.Dict[str, int],\n",
    "                            subject_tokens: typing.Dict[str, str]) -> typing.Iterator[TemplateTestSet]:\n",
    "    for template_data in iter_test_templates(training_data_map, subject_seeds, subject_tokens):\n",
    "        for auth_threshold in AUTHENTICATION_THRESHOLDS:\n",
    "            positive_samples, negative_samples = get_experiment_samples(\n",
    "                testing_data_map, \n",
    "                template_data.original_subject\n",
    "            )\n",
    "            yield TemplateTestSet(\n",
    "                threshold=auth_threshold,\n",
    "                template_data=template_data,\n",
    "                positive_cases=[\n",
    "                    TemplateTest(\n",
    "                        expected_result=True, \n",
    "                        test_data=sample,\n",
    "                        if_expected=TestResultType.TRUE_POSITIVE,\n",
    "                        if_unexpected=TestResultType.FALSE_NEGATIVE\n",
    "                    )\n",
    "                    for sample in positive_samples\n",
    "                ],\n",
    "                negative_cases=[\n",
    "                    TemplateTest(\n",
    "                        expected_result=False, \n",
    "                        test_data=sample,\n",
    "                        if_expected=TestResultType.TRUE_NEGATIVE,\n",
    "                        if_unexpected=TestResultType.FALSE_POSITIVE\n",
    "                    )\n",
    "                    for sample in negative_samples\n",
    "                ]\n",
    "            )"
   ]
  },
  {
   "cell_type": "markdown",
   "id": "33f687ed4b216d82",
   "metadata": {
    "collapsed": false
   },
   "source": [
    "# Execute Tests"
   ]
  },
  {
   "cell_type": "code",
   "execution_count": 17,
   "id": "c194e9cedd588b3e",
   "metadata": {
    "ExecuteTime": {
     "end_time": "2024-05-11T02:09:30.196116Z",
     "start_time": "2024-05-11T02:09:30.182117Z"
    },
    "collapsed": false
   },
   "outputs": [],
   "source": [
    "def run_template_test_set(test_set: TemplateTestSet) -> TestResultsSummary:\n",
    "    summary = TestResultsSummary()\n",
    "    for test_item in test_set.positive_cases:\n",
    "        result_type = test_item.run_test(\n",
    "            test_set.template_data.template,\n",
    "            test_set.threshold\n",
    "        )\n",
    "        summary.increment_count(result_type)\n",
    "    for test_item in test_set.negative_cases:\n",
    "        result_type = test_item.run_test(\n",
    "            test_set.template_data.template,\n",
    "            test_set.threshold\n",
    "        )\n",
    "        summary.increment_count(result_type)\n",
    "    return summary"
   ]
  },
  {
   "cell_type": "code",
   "execution_count": 18,
   "id": "195e97184d2409c4",
   "metadata": {
    "ExecuteTime": {
     "end_time": "2024-05-11T02:57:22.548631Z",
     "start_time": "2024-05-11T02:09:30.197617Z"
    },
    "collapsed": false
   },
   "outputs": [],
   "source": [
    "results_data: typing.Dict[typing.Tuple[float, float, str, float, bool], TestResultsSummary] = {}\n",
    "for template_test_set in iter_template_test_sets(processed_training_data, processed_testing_data, subject_seeds_map, subject_tokens_map):\n",
    "    false_positive_rate = template_test_set.template_data.false_positive_rate\n",
    "    threshold = template_test_set.threshold\n",
    "    hash_backend_label = template_test_set.template_data.hash_backend.label\n",
    "    segment_ratio = template_test_set.template_data.template.segment_ratio\n",
    "    row_wise = template_test_set.template_data.template.row_wise\n",
    "    result_key = (\n",
    "        false_positive_rate,\n",
    "        threshold,\n",
    "        hash_backend_label,\n",
    "        segment_ratio,\n",
    "        row_wise\n",
    "    )\n",
    "    if result_key not in results_data:\n",
    "        results_data[result_key] = TestResultsSummary()\n",
    "    results_data[result_key] = TestResultsSummary.merge_summaries(\n",
    "        results_data[result_key],\n",
    "        run_template_test_set(template_test_set)\n",
    "    )"
   ]
  },
  {
   "cell_type": "code",
   "execution_count": 19,
   "id": "620017393064315c",
   "metadata": {
    "ExecuteTime": {
     "end_time": "2024-05-11T02:57:22.626131Z",
     "start_time": "2024-05-11T02:57:22.550133Z"
    },
    "collapsed": false
   },
   "outputs": [
    {
     "data": {
      "text/html": [
       "<div>\n",
       "<style scoped>\n",
       "    .dataframe tbody tr th:only-of-type {\n",
       "        vertical-align: middle;\n",
       "    }\n",
       "\n",
       "    .dataframe tbody tr th {\n",
       "        vertical-align: top;\n",
       "    }\n",
       "\n",
       "    .dataframe thead th {\n",
       "        text-align: right;\n",
       "    }\n",
       "</style>\n",
       "<table border=\"1\" class=\"dataframe\">\n",
       "  <thead>\n",
       "    <tr style=\"text-align: right;\">\n",
       "      <th></th>\n",
       "      <th>FPR</th>\n",
       "      <th>Threshold</th>\n",
       "      <th>Segment Ratio</th>\n",
       "      <th>Processing</th>\n",
       "      <th>Backend</th>\n",
       "      <th>FAR</th>\n",
       "      <th>FRR</th>\n",
       "      <th>HTER</th>\n",
       "      <th>Accuracy</th>\n",
       "    </tr>\n",
       "  </thead>\n",
       "  <tbody>\n",
       "    <tr>\n",
       "      <th>2553</th>\n",
       "      <td>0.30</td>\n",
       "      <td>0.4</td>\n",
       "      <td>0.6</td>\n",
       "      <td>Rows</td>\n",
       "      <td>MMH3 Backend (Seed)</td>\n",
       "      <td>0.018450</td>\n",
       "      <td>0.174419</td>\n",
       "      <td>0.096434</td>\n",
       "      <td>0.905482</td>\n",
       "    </tr>\n",
       "    <tr>\n",
       "      <th>2412</th>\n",
       "      <td>0.10</td>\n",
       "      <td>0.3</td>\n",
       "      <td>0.5</td>\n",
       "      <td>Rows</td>\n",
       "      <td>MMH3 Backend (Seed)</td>\n",
       "      <td>0.026923</td>\n",
       "      <td>0.186047</td>\n",
       "      <td>0.106485</td>\n",
       "      <td>0.893822</td>\n",
       "    </tr>\n",
       "    <tr>\n",
       "      <th>522</th>\n",
       "      <td>0.15</td>\n",
       "      <td>0.3</td>\n",
       "      <td>0.6</td>\n",
       "      <td>Rows</td>\n",
       "      <td>FNV Backend</td>\n",
       "      <td>0.059041</td>\n",
       "      <td>0.186047</td>\n",
       "      <td>0.122544</td>\n",
       "      <td>0.879017</td>\n",
       "    </tr>\n",
       "    <tr>\n",
       "      <th>1433</th>\n",
       "      <td>0.20</td>\n",
       "      <td>0.4</td>\n",
       "      <td>0.5</td>\n",
       "      <td>Rows</td>\n",
       "      <td>MMH3 Backend (No Seed)</td>\n",
       "      <td>0.011538</td>\n",
       "      <td>0.240310</td>\n",
       "      <td>0.125924</td>\n",
       "      <td>0.874517</td>\n",
       "    </tr>\n",
       "    <tr>\n",
       "      <th>1542</th>\n",
       "      <td>0.25</td>\n",
       "      <td>0.3</td>\n",
       "      <td>0.6</td>\n",
       "      <td>Rows</td>\n",
       "      <td>MMH3 Backend (No Seed)</td>\n",
       "      <td>0.077491</td>\n",
       "      <td>0.182171</td>\n",
       "      <td>0.129831</td>\n",
       "      <td>0.871456</td>\n",
       "    </tr>\n",
       "    <tr>\n",
       "      <th>1353</th>\n",
       "      <td>0.30</td>\n",
       "      <td>0.4</td>\n",
       "      <td>0.4</td>\n",
       "      <td>Rows</td>\n",
       "      <td>MMH3 Backend (No Seed)</td>\n",
       "      <td>0.112628</td>\n",
       "      <td>0.158915</td>\n",
       "      <td>0.135771</td>\n",
       "      <td>0.865699</td>\n",
       "    </tr>\n",
       "    <tr>\n",
       "      <th>503</th>\n",
       "      <td>0.05</td>\n",
       "      <td>0.4</td>\n",
       "      <td>0.6</td>\n",
       "      <td>Rows</td>\n",
       "      <td>FNV Backend</td>\n",
       "      <td>0.036900</td>\n",
       "      <td>0.240310</td>\n",
       "      <td>0.138605</td>\n",
       "      <td>0.863894</td>\n",
       "    </tr>\n",
       "    <tr>\n",
       "      <th>2434</th>\n",
       "      <td>0.20</td>\n",
       "      <td>0.5</td>\n",
       "      <td>0.5</td>\n",
       "      <td>Rows</td>\n",
       "      <td>MMH3 Backend (Seed)</td>\n",
       "      <td>0.034615</td>\n",
       "      <td>0.240310</td>\n",
       "      <td>0.137463</td>\n",
       "      <td>0.862934</td>\n",
       "    </tr>\n",
       "    <tr>\n",
       "      <th>2533</th>\n",
       "      <td>0.20</td>\n",
       "      <td>0.4</td>\n",
       "      <td>0.6</td>\n",
       "      <td>Rows</td>\n",
       "      <td>MMH3 Backend (Seed)</td>\n",
       "      <td>0.044280</td>\n",
       "      <td>0.236434</td>\n",
       "      <td>0.140357</td>\n",
       "      <td>0.862004</td>\n",
       "    </tr>\n",
       "    <tr>\n",
       "      <th>412</th>\n",
       "      <td>0.10</td>\n",
       "      <td>0.3</td>\n",
       "      <td>0.5</td>\n",
       "      <td>Rows</td>\n",
       "      <td>FNV Backend</td>\n",
       "      <td>0.095745</td>\n",
       "      <td>0.186047</td>\n",
       "      <td>0.140896</td>\n",
       "      <td>0.861111</td>\n",
       "    </tr>\n",
       "  </tbody>\n",
       "</table>\n",
       "</div>"
      ],
      "text/plain": [
       "       FPR  Threshold  Segment Ratio Processing                 Backend  \\\n",
       "2553  0.30        0.4            0.6       Rows     MMH3 Backend (Seed)   \n",
       "2412  0.10        0.3            0.5       Rows     MMH3 Backend (Seed)   \n",
       "522   0.15        0.3            0.6       Rows             FNV Backend   \n",
       "1433  0.20        0.4            0.5       Rows  MMH3 Backend (No Seed)   \n",
       "1542  0.25        0.3            0.6       Rows  MMH3 Backend (No Seed)   \n",
       "1353  0.30        0.4            0.4       Rows  MMH3 Backend (No Seed)   \n",
       "503   0.05        0.4            0.6       Rows             FNV Backend   \n",
       "2434  0.20        0.5            0.5       Rows     MMH3 Backend (Seed)   \n",
       "2533  0.20        0.4            0.6       Rows     MMH3 Backend (Seed)   \n",
       "412   0.10        0.3            0.5       Rows             FNV Backend   \n",
       "\n",
       "           FAR       FRR      HTER  Accuracy  \n",
       "2553  0.018450  0.174419  0.096434  0.905482  \n",
       "2412  0.026923  0.186047  0.106485  0.893822  \n",
       "522   0.059041  0.186047  0.122544  0.879017  \n",
       "1433  0.011538  0.240310  0.125924  0.874517  \n",
       "1542  0.077491  0.182171  0.129831  0.871456  \n",
       "1353  0.112628  0.158915  0.135771  0.865699  \n",
       "503   0.036900  0.240310  0.138605  0.863894  \n",
       "2434  0.034615  0.240310  0.137463  0.862934  \n",
       "2533  0.044280  0.236434  0.140357  0.862004  \n",
       "412   0.095745  0.186047  0.140896  0.861111  "
      ]
     },
     "execution_count": 19,
     "metadata": {},
     "output_type": "execute_result"
    }
   ],
   "source": [
    "results_data_rows = []\n",
    "for data_key, results_summary in results_data.items():\n",
    "    fpr, threshold, backend_label, segment_ratio, row_wise = data_key\n",
    "    row_wise_label = 'Rows' if row_wise else 'Columns'\n",
    "    results_data_rows.append([\n",
    "        fpr, threshold, segment_ratio, row_wise_label,\n",
    "        backend_label, results_summary.false_accept_rate, \n",
    "        results_summary.false_reject_rate, results_summary.half_total_error_rate, \n",
    "        results_summary.accuracy\n",
    "    ])\n",
    "results_dataframe = pd.DataFrame(\n",
    "    results_data_rows, \n",
    "    columns=['FPR', 'Threshold', 'Segment Ratio', 'Processing', 'Backend', 'FAR', 'FRR', 'HTER', 'Accuracy']\n",
    ")\n",
    "results_dataframe.sort_values(by=['Accuracy'], ascending=False).head(10)"
   ]
  },
  {
   "cell_type": "code",
   "execution_count": 20,
   "id": "10382652b12e7d91",
   "metadata": {
    "ExecuteTime": {
     "end_time": "2024-05-11T02:57:22.641634Z",
     "start_time": "2024-05-11T02:57:22.627132Z"
    }
   },
   "outputs": [
    {
     "data": {
      "text/html": [
       "<div>\n",
       "<style scoped>\n",
       "    .dataframe tbody tr th:only-of-type {\n",
       "        vertical-align: middle;\n",
       "    }\n",
       "\n",
       "    .dataframe tbody tr th {\n",
       "        vertical-align: top;\n",
       "    }\n",
       "\n",
       "    .dataframe thead th {\n",
       "        text-align: right;\n",
       "    }\n",
       "</style>\n",
       "<table border=\"1\" class=\"dataframe\">\n",
       "  <thead>\n",
       "    <tr style=\"text-align: right;\">\n",
       "      <th></th>\n",
       "      <th>FPR</th>\n",
       "      <th>Threshold</th>\n",
       "      <th>Segment Ratio</th>\n",
       "      <th>Processing</th>\n",
       "      <th>Backend</th>\n",
       "      <th>FAR</th>\n",
       "      <th>FRR</th>\n",
       "      <th>HTER</th>\n",
       "      <th>Accuracy</th>\n",
       "    </tr>\n",
       "  </thead>\n",
       "  <tbody>\n",
       "    <tr>\n",
       "      <th>2553</th>\n",
       "      <td>0.30</td>\n",
       "      <td>0.4</td>\n",
       "      <td>0.6</td>\n",
       "      <td>Rows</td>\n",
       "      <td>MMH3 Backend (Seed)</td>\n",
       "      <td>0.018450</td>\n",
       "      <td>0.174419</td>\n",
       "      <td>0.096434</td>\n",
       "      <td>0.905482</td>\n",
       "    </tr>\n",
       "    <tr>\n",
       "      <th>2412</th>\n",
       "      <td>0.10</td>\n",
       "      <td>0.3</td>\n",
       "      <td>0.5</td>\n",
       "      <td>Rows</td>\n",
       "      <td>MMH3 Backend (Seed)</td>\n",
       "      <td>0.026923</td>\n",
       "      <td>0.186047</td>\n",
       "      <td>0.106485</td>\n",
       "      <td>0.893822</td>\n",
       "    </tr>\n",
       "    <tr>\n",
       "      <th>522</th>\n",
       "      <td>0.15</td>\n",
       "      <td>0.3</td>\n",
       "      <td>0.6</td>\n",
       "      <td>Rows</td>\n",
       "      <td>FNV Backend</td>\n",
       "      <td>0.059041</td>\n",
       "      <td>0.186047</td>\n",
       "      <td>0.122544</td>\n",
       "      <td>0.879017</td>\n",
       "    </tr>\n",
       "    <tr>\n",
       "      <th>1433</th>\n",
       "      <td>0.20</td>\n",
       "      <td>0.4</td>\n",
       "      <td>0.5</td>\n",
       "      <td>Rows</td>\n",
       "      <td>MMH3 Backend (No Seed)</td>\n",
       "      <td>0.011538</td>\n",
       "      <td>0.240310</td>\n",
       "      <td>0.125924</td>\n",
       "      <td>0.874517</td>\n",
       "    </tr>\n",
       "    <tr>\n",
       "      <th>1542</th>\n",
       "      <td>0.25</td>\n",
       "      <td>0.3</td>\n",
       "      <td>0.6</td>\n",
       "      <td>Rows</td>\n",
       "      <td>MMH3 Backend (No Seed)</td>\n",
       "      <td>0.077491</td>\n",
       "      <td>0.182171</td>\n",
       "      <td>0.129831</td>\n",
       "      <td>0.871456</td>\n",
       "    </tr>\n",
       "    <tr>\n",
       "      <th>1353</th>\n",
       "      <td>0.30</td>\n",
       "      <td>0.4</td>\n",
       "      <td>0.4</td>\n",
       "      <td>Rows</td>\n",
       "      <td>MMH3 Backend (No Seed)</td>\n",
       "      <td>0.112628</td>\n",
       "      <td>0.158915</td>\n",
       "      <td>0.135771</td>\n",
       "      <td>0.865699</td>\n",
       "    </tr>\n",
       "    <tr>\n",
       "      <th>2434</th>\n",
       "      <td>0.20</td>\n",
       "      <td>0.5</td>\n",
       "      <td>0.5</td>\n",
       "      <td>Rows</td>\n",
       "      <td>MMH3 Backend (Seed)</td>\n",
       "      <td>0.034615</td>\n",
       "      <td>0.240310</td>\n",
       "      <td>0.137463</td>\n",
       "      <td>0.862934</td>\n",
       "    </tr>\n",
       "    <tr>\n",
       "      <th>503</th>\n",
       "      <td>0.05</td>\n",
       "      <td>0.4</td>\n",
       "      <td>0.6</td>\n",
       "      <td>Rows</td>\n",
       "      <td>FNV Backend</td>\n",
       "      <td>0.036900</td>\n",
       "      <td>0.240310</td>\n",
       "      <td>0.138605</td>\n",
       "      <td>0.863894</td>\n",
       "    </tr>\n",
       "    <tr>\n",
       "      <th>2533</th>\n",
       "      <td>0.20</td>\n",
       "      <td>0.4</td>\n",
       "      <td>0.6</td>\n",
       "      <td>Rows</td>\n",
       "      <td>MMH3 Backend (Seed)</td>\n",
       "      <td>0.044280</td>\n",
       "      <td>0.236434</td>\n",
       "      <td>0.140357</td>\n",
       "      <td>0.862004</td>\n",
       "    </tr>\n",
       "    <tr>\n",
       "      <th>412</th>\n",
       "      <td>0.10</td>\n",
       "      <td>0.3</td>\n",
       "      <td>0.5</td>\n",
       "      <td>Rows</td>\n",
       "      <td>FNV Backend</td>\n",
       "      <td>0.095745</td>\n",
       "      <td>0.186047</td>\n",
       "      <td>0.140896</td>\n",
       "      <td>0.861111</td>\n",
       "    </tr>\n",
       "  </tbody>\n",
       "</table>\n",
       "</div>"
      ],
      "text/plain": [
       "       FPR  Threshold  Segment Ratio Processing                 Backend  \\\n",
       "2553  0.30        0.4            0.6       Rows     MMH3 Backend (Seed)   \n",
       "2412  0.10        0.3            0.5       Rows     MMH3 Backend (Seed)   \n",
       "522   0.15        0.3            0.6       Rows             FNV Backend   \n",
       "1433  0.20        0.4            0.5       Rows  MMH3 Backend (No Seed)   \n",
       "1542  0.25        0.3            0.6       Rows  MMH3 Backend (No Seed)   \n",
       "1353  0.30        0.4            0.4       Rows  MMH3 Backend (No Seed)   \n",
       "2434  0.20        0.5            0.5       Rows     MMH3 Backend (Seed)   \n",
       "503   0.05        0.4            0.6       Rows             FNV Backend   \n",
       "2533  0.20        0.4            0.6       Rows     MMH3 Backend (Seed)   \n",
       "412   0.10        0.3            0.5       Rows             FNV Backend   \n",
       "\n",
       "           FAR       FRR      HTER  Accuracy  \n",
       "2553  0.018450  0.174419  0.096434  0.905482  \n",
       "2412  0.026923  0.186047  0.106485  0.893822  \n",
       "522   0.059041  0.186047  0.122544  0.879017  \n",
       "1433  0.011538  0.240310  0.125924  0.874517  \n",
       "1542  0.077491  0.182171  0.129831  0.871456  \n",
       "1353  0.112628  0.158915  0.135771  0.865699  \n",
       "2434  0.034615  0.240310  0.137463  0.862934  \n",
       "503   0.036900  0.240310  0.138605  0.863894  \n",
       "2533  0.044280  0.236434  0.140357  0.862004  \n",
       "412   0.095745  0.186047  0.140896  0.861111  "
      ]
     },
     "execution_count": 20,
     "metadata": {},
     "output_type": "execute_result"
    }
   ],
   "source": [
    "results_dataframe.sort_values(by=['HTER'], ascending=True).head(10)"
   ]
  },
  {
   "cell_type": "code",
   "execution_count": 21,
   "id": "762cc867a11472fb",
   "metadata": {
    "ExecuteTime": {
     "end_time": "2024-05-11T02:57:22.657130Z",
     "start_time": "2024-05-11T02:57:22.643132Z"
    }
   },
   "outputs": [
    {
     "name": "stdout",
     "output_type": "stream",
     "text": [
      "Total number of test results: 8000\n"
     ]
    }
   ],
   "source": [
    "print(f'Total number of test results: {len(results_data)}')"
   ]
  },
  {
   "cell_type": "markdown",
   "id": "364d7d7b",
   "metadata": {},
   "source": [
    "# Simulated Execution"
   ]
  },
  {
   "cell_type": "code",
   "execution_count": 22,
   "id": "eca5ba00",
   "metadata": {},
   "outputs": [],
   "source": [
    "def simulate_model_executions(training_data_map: typing.Dict[str, typing.List[np.ndarray]],\n",
    "                              testing_data_map: typing.Dict[str, typing.List[np.ndarray]],\n",
    "                              backend: eeg_bloom_template.backend.BaseBloomFilterHashBackend):\n",
    "    templates: typing.Dict[str, eeg_bloom_template.EEGTemplate] = {}\n",
    "    template_timings: typing.List[float] = []\n",
    "    compare_timings: typing.List[float] = []\n",
    "    for subject, test_data in training_data_map.items():\n",
    "        if len(template_timings) >= 20:\n",
    "            break\n",
    "        template_start = time.perf_counter()\n",
    "        template = eeg_bloom_template.EEGTemplate.make_template(\n",
    "            test_data,\n",
    "            backend,\n",
    "            0.1,\n",
    "            0.1\n",
    "        )\n",
    "        template_end = time.perf_counter()\n",
    "        template_timings.append(template_end - template_start)\n",
    "        templates[subject] = template\n",
    "    for subject, template in templates.items():\n",
    "        if len(compare_timings) >= 20:\n",
    "            break\n",
    "        sample_data = testing_data_map[subject]\n",
    "        compare_start = time.perf_counter()\n",
    "        template.compare(sample_data)\n",
    "        compare_end = time.perf_counter()\n",
    "        compare_timings.append(compare_end - compare_start)\n",
    "    return len(template_timings), statistics.mean(template_timings), statistics.mean(compare_timings)"
   ]
  },
  {
   "cell_type": "code",
   "execution_count": 23,
   "id": "69fde489",
   "metadata": {},
   "outputs": [],
   "source": [
    "fnv_backend = eeg_bloom_template.backend.FNVBloomFilterBackend()\n",
    "mmh3_backend = eeg_bloom_template.backend.MMH3BloomFilterBackend()"
   ]
  },
  {
   "cell_type": "code",
   "execution_count": 24,
   "id": "c39667f5",
   "metadata": {},
   "outputs": [
    {
     "name": "stdout",
     "output_type": "stream",
     "text": [
      "FNV\n",
      "Executions: 20\n",
      "Average template generation time: 0.0011572210962185637 seconds\n",
      "Average compare timing: 0.0017876223995699548 seconds\n"
     ]
    }
   ],
   "source": [
    "fnv_executions, fnv_template_timing, fnv_compare_timing = simulate_model_executions(processed_training_data, processed_testing_data, fnv_backend)\n",
    "print(\"FNV\")\n",
    "print(f\"Executions: {fnv_executions}\")\n",
    "print(f\"Average template generation time: {fnv_template_timing} seconds\")\n",
    "print(f\"Average compare timing: {fnv_compare_timing} seconds\")"
   ]
  },
  {
   "cell_type": "code",
   "execution_count": 25,
   "id": "7abfe214",
   "metadata": {},
   "outputs": [
    {
     "name": "stdout",
     "output_type": "stream",
     "text": [
      "MMH3\n",
      "Executions: 20\n",
      "Average template generation time: 0.0006970085989451036 seconds\n",
      "Average compare timing: 0.001056241150945425 seconds\n"
     ]
    }
   ],
   "source": [
    "mmh3_executions, mmh3_template_timing, mmh3_compare_timing = simulate_model_executions(processed_training_data, processed_testing_data, mmh3_backend)\n",
    "print(\"MMH3\")\n",
    "print(f\"Executions: {mmh3_executions}\")\n",
    "print(f\"Average template generation time: {mmh3_template_timing} seconds\")\n",
    "print(f\"Average compare timing: {mmh3_compare_timing} seconds\")"
   ]
  }
 ],
 "metadata": {
  "kernelspec": {
   "display_name": "Python 3",
   "language": "python",
   "name": "python3"
  },
  "language_info": {
   "codemirror_mode": {
    "name": "ipython",
    "version": 3
   },
   "file_extension": ".py",
   "mimetype": "text/x-python",
   "name": "python",
   "nbconvert_exporter": "python",
   "pygments_lexer": "ipython3",
   "version": "3.9.20"
  }
 },
 "nbformat": 4,
 "nbformat_minor": 5
}
