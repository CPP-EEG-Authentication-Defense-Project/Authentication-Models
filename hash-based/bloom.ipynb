{
 "cells": [
  {
   "cell_type": "markdown",
   "source": [
    "# Setup"
   ],
   "metadata": {
    "collapsed": false
   },
   "id": "e87529cbb033c6e0"
  },
  {
   "cell_type": "code",
   "source": [
    "import numpy as np\n",
    "import pandas as pd\n",
    "import dataclasses\n",
    "import enum\n",
    "import typing\n",
    "import random\n",
    "import secrets\n",
    "import eeg_bloom_template\n",
    "import eeg_bloom_template.backend\n",
    "\n",
    "from eeg_bloom_template.backend import BaseBloomFilterHashBackend\n",
    "from eeg_auth_models_framework import data, pre_process, features, processor, normalization\n",
    "from eeg_auth_models_framework.utils import conversion\n",
    "from eeg_bloom_template.utils.iteration import iter_ratio_slices\n",
    "from eeg_bloom_template.utils.orthonormalization import TokenDataGenerator"
   ],
   "metadata": {
    "collapsed": false,
    "ExecuteTime": {
     "end_time": "2024-05-11T02:09:26.894616Z",
     "start_time": "2024-05-11T02:09:25.141618Z"
    }
   },
   "id": "b9334d3cf4e5ce17",
   "outputs": [],
   "execution_count": 1
  },
  {
   "cell_type": "markdown",
   "source": [
    "# Constants"
   ],
   "metadata": {
    "collapsed": false
   },
   "id": "7c078babbe01fd2e"
  },
  {
   "cell_type": "code",
   "source": [
    "AUTHENTICATION_THRESHOLDS = [0.1, 0.2, 0.3, 0.4, 0.5, 0.6, 0.7, 0.8, 0.9, 1.0]\n",
    "SEGMENTATION_RATIOS = [0.1, 0.2, 0.3, 0.4, 0.5, 0.6, 0.7, 0.8, 0.9, 1]\n",
    "FALSE_POSITIVE_RATES = [0.05, 0.1, 0.15, 0.2, 0.25, 0.3, 0.35, 0.4, 0.45, 0.5]\n",
    "DATASET_SAMPLE_FREQ_HZ = 200\n",
    "DATA_CHANNEL_NAMES = ['T7','F8','Cz','P4']\n",
    "FREQUENCIES = [\n",
    "    pre_process.FrequencyBand(lower=8.0, upper=12.0, label='Alpha'),\n",
    "    pre_process.FrequencyBand(lower=12.0, upper=35.0, label='Beta'),\n",
    "    pre_process.FrequencyBand(lower=4.0, upper=8.0, label='Theta'),\n",
    "    pre_process.FrequencyBand(lower=35.0, upper=None, label='Gamma'),\n",
    "    pre_process.FrequencyBand(lower=None, upper=None, label='Raw'),\n",
    "]\n",
    "WINDOW_SIZE = 1200\n",
    "WINDOW_OVERLAP = 0\n",
    "RESCALE_LOWER = 0\n",
    "RESCALE_UPPER = 255\n",
    "SAMPLE_PERCENTAGE = 0.1\n",
    "RANDOM_SEED = 100000000000\n",
    "RANDOM_GENERATOR = random.Random(RANDOM_SEED)"
   ],
   "metadata": {
    "collapsed": false,
    "ExecuteTime": {
     "end_time": "2024-05-11T02:09:26.910116Z",
     "start_time": "2024-05-11T02:09:26.896618Z"
    }
   },
   "id": "74fc12d929fbaf80",
   "outputs": [],
   "execution_count": 2
  },
  {
   "cell_type": "markdown",
   "source": [
    "# Utilities"
   ],
   "metadata": {
    "collapsed": false
   },
   "id": "35b01453c4b82d01"
  },
  {
   "cell_type": "code",
   "source": [
    "class HashBackendWrapper(BaseBloomFilterHashBackend):\n",
    "    def __init__(self, \n",
    "                 real_backend: BaseBloomFilterHashBackend, \n",
    "                 label: str):\n",
    "        self.real_backend = real_backend\n",
    "        self.label = label\n",
    "        super().__init__()\n",
    "    \n",
    "    def run_hash_function(self, input_data: bytes) -> int:\n",
    "        return self.real_backend.run_hash_function(input_data)\n",
    "\n",
    "\n",
    "class TestResultType(enum.Enum):\n",
    "    TRUE_POSITIVE = enum.auto()\n",
    "    FALSE_POSITIVE = enum.auto()\n",
    "    FALSE_NEGATIVE = enum.auto()\n",
    "    TRUE_NEGATIVE = enum.auto()\n",
    "\n",
    "\n",
    "@dataclasses.dataclass\n",
    "class TestResultsSummary:\n",
    "    true_positives: int = 0\n",
    "    false_positives: int = 0\n",
    "    false_negatives: int = 0\n",
    "    true_negatives: int = 0\n",
    "    \n",
    "    @classmethod\n",
    "    def merge_summaries(cls, \n",
    "                        summary_a: 'TestResultsSummary', \n",
    "                        summary_b: 'TestResultsSummary') -> 'TestResultsSummary':\n",
    "        return TestResultsSummary(\n",
    "            true_positives=summary_a.true_positives + summary_b.true_positives,\n",
    "            false_positives=summary_a.false_positives + summary_b.false_positives,\n",
    "            false_negatives=summary_a.false_negatives + summary_b.false_negatives,\n",
    "            true_negatives=summary_a.true_negatives + summary_b.true_negatives\n",
    "        )\n",
    "    \n",
    "    def increment_count(self, result_type: TestResultType):\n",
    "        if result_type == TestResultType.TRUE_POSITIVE:\n",
    "            self.true_positives += 1\n",
    "        elif result_type == TestResultType.FALSE_POSITIVE:\n",
    "            self.false_positives += 1\n",
    "        elif result_type == TestResultType.FALSE_NEGATIVE:\n",
    "            self.false_negatives += 1\n",
    "        else:\n",
    "            self.true_negatives += 1\n",
    "    \n",
    "    @property\n",
    "    def accuracy(self) -> float:\n",
    "        hits = self.true_positives + self.true_negatives\n",
    "        total = (\n",
    "            self.true_positives + self.true_negatives + \n",
    "            self.false_positives + self.false_negatives\n",
    "        )\n",
    "        return hits / total\n",
    "\n",
    "    @property\n",
    "    def false_accept_rate(self) -> float:\n",
    "        return self.false_positives / (self.false_positives + self.true_negatives)\n",
    "    \n",
    "    @property\n",
    "    def false_reject_rate(self) -> float:\n",
    "        return self.false_negatives / (self.false_negatives + self.true_positives)\n",
    "    \n",
    "    @property\n",
    "    def half_total_error_rate(self) -> float:\n",
    "        return (self.false_accept_rate + self.false_reject_rate) / 2\n",
    "\n",
    "\n",
    "@dataclasses.dataclass\n",
    "class TemplateTest:\n",
    "    expected_result: bool\n",
    "    if_expected: TestResultType\n",
    "    if_unexpected: TestResultType\n",
    "    test_data: typing.List[np.ndarray]\n",
    "    \n",
    "    def run_test(self, test_template: eeg_bloom_template.EEGTemplate, test_threshold: float):\n",
    "        comparison_result = test_template.compare(self.test_data)\n",
    "        is_match = comparison_result.hit_ratio >= test_threshold\n",
    "        if is_match != self.expected_result:\n",
    "            return self.if_unexpected\n",
    "        return self.if_expected\n",
    "    \n",
    "\n",
    "@dataclasses.dataclass\n",
    "class TestTemplateData:\n",
    "    template: eeg_bloom_template.EEGTemplate\n",
    "    false_positive_rate: float\n",
    "    hash_backend: eeg_bloom_template.backend.BaseBloomFilterHashBackend\n",
    "    original_subject: str\n",
    "    \n",
    "    \n",
    "@dataclasses.dataclass\n",
    "class TemplateTestSet:\n",
    "    threshold: float\n",
    "    template_data: TestTemplateData\n",
    "    positive_cases: typing.List[TemplateTest]\n",
    "    negative_cases: typing.List[TemplateTest]"
   ],
   "metadata": {
    "collapsed": false,
    "ExecuteTime": {
     "end_time": "2024-05-11T02:09:26.925619Z",
     "start_time": "2024-05-11T02:09:26.911118Z"
    }
   },
   "id": "d77afdaf2e375e98",
   "outputs": [],
   "execution_count": 3
  },
  {
   "cell_type": "markdown",
   "source": [
    "# Configuration"
   ],
   "metadata": {
    "collapsed": false
   },
   "id": "bd4a1eacf6e16f5a"
  },
  {
   "cell_type": "code",
   "source": [
    "downloader = data.AuditoryDataDownloader()\n",
    "reader = data.AuditoryDataReader()\n",
    "converter = conversion.MNEDataFrameConverter(\n",
    "    channels=DATA_CHANNEL_NAMES, \n",
    "    sample_frequency=DATASET_SAMPLE_FREQ_HZ\n",
    ")"
   ],
   "metadata": {
    "collapsed": false,
    "ExecuteTime": {
     "end_time": "2024-05-11T02:09:26.941116Z",
     "start_time": "2024-05-11T02:09:26.927119Z"
    }
   },
   "id": "75bfbf6579124b68",
   "outputs": [],
   "execution_count": 4
  },
  {
   "cell_type": "markdown",
   "source": [
    "# Data Processing Setup"
   ],
   "metadata": {
    "collapsed": false
   },
   "id": "dd0f0fd7d636944e"
  },
  {
   "cell_type": "markdown",
   "source": [
    "## Sample Data Processor"
   ],
   "metadata": {
    "collapsed": false
   },
   "id": "8b4dd223e88e171a"
  },
  {
   "cell_type": "markdown",
   "source": [
    "### Pre-Processing Steps"
   ],
   "metadata": {
    "collapsed": false
   },
   "id": "7ab9a2c1c60e36ae"
  },
  {
   "cell_type": "code",
   "source": [
    "pre_process_steps = pre_process.PreProcessingPipeline([\n",
    "    pre_process.EEGBandpassFilterStep(\n",
    "        FREQUENCIES,\n",
    "        converter\n",
    "    ),\n",
    "    pre_process.DataWindowStep(WINDOW_SIZE, WINDOW_OVERLAP)\n",
    "])"
   ],
   "metadata": {
    "collapsed": false,
    "ExecuteTime": {
     "end_time": "2024-05-11T02:09:26.956616Z",
     "start_time": "2024-05-11T02:09:26.942616Z"
    }
   },
   "id": "cb1546861f56509e",
   "outputs": [],
   "execution_count": 5
  },
  {
   "cell_type": "markdown",
   "source": [
    "### Feature Extraction Steps"
   ],
   "metadata": {
    "collapsed": false
   },
   "id": "41bf70ac66cb428e"
  },
  {
   "cell_type": "code",
   "source": [
    "feature_extraction_steps = features.FeatureExtractPipeline([\n",
    "    features.StatisticalFeatureExtractor([\n",
    "        features.StatisticalFeature.MIN,\n",
    "        features.StatisticalFeature.MAX,\n",
    "        features.StatisticalFeature.MEAN,\n",
    "        features.StatisticalFeature.ZERO_CROSSING_RATE\n",
    "    ])\n",
    "])"
   ],
   "metadata": {
    "collapsed": false,
    "ExecuteTime": {
     "end_time": "2024-05-11T02:09:26.972117Z",
     "start_time": "2024-05-11T02:09:26.958618Z"
    }
   },
   "id": "9f7d923c4c079c73",
   "outputs": [],
   "execution_count": 6
  },
  {
   "cell_type": "markdown",
   "source": [
    "### Normalization Steps"
   ],
   "metadata": {
    "collapsed": false
   },
   "id": "3e8cd3ca3a0d9dfd"
  },
  {
   "cell_type": "code",
   "source": [
    "normalization_steps = normalization.NormalizationPipeline([\n",
    "    normalization.RescaleNormalizationStep(RESCALE_LOWER, RESCALE_UPPER),\n",
    "    normalization.HistogramEqualizationStep(RESCALE_LOWER, RESCALE_UPPER)\n",
    "])"
   ],
   "metadata": {
    "collapsed": false,
    "ExecuteTime": {
     "end_time": "2024-05-11T02:09:26.987616Z",
     "start_time": "2024-05-11T02:09:26.973117Z"
    }
   },
   "id": "dca47d264b318934",
   "outputs": [],
   "execution_count": 7
  },
  {
   "cell_type": "markdown",
   "source": [
    "### Data Processor Setup"
   ],
   "metadata": {
    "collapsed": false
   },
   "id": "3e75d73ab1e1f8e8"
  },
  {
   "cell_type": "code",
   "source": [
    "data_processor = processor.DataProcessor(\n",
    "    pre_process=pre_process_steps,\n",
    "    feature_extraction=feature_extraction_steps,\n",
    "    normalization=normalization_steps\n",
    ")\n",
    "token_data_processor = processor.DataProcessor(\n",
    "    pre_process=pre_process_steps,\n",
    "    feature_extraction=feature_extraction_steps,\n",
    ")"
   ],
   "metadata": {
    "collapsed": false,
    "ExecuteTime": {
     "end_time": "2024-05-11T02:09:27.003116Z",
     "start_time": "2024-05-11T02:09:26.988617Z"
    }
   },
   "id": "3c41639bc78597bd",
   "outputs": [],
   "execution_count": 8
  },
  {
   "cell_type": "markdown",
   "source": [
    "# Subject Data"
   ],
   "metadata": {
    "collapsed": false
   },
   "id": "6cedb17c2a956396"
  },
  {
   "cell_type": "code",
   "source": [
    "data_path = downloader.retrieve()\n",
    "subject_data_map = reader.format_data(data_path)"
   ],
   "metadata": {
    "collapsed": false,
    "ExecuteTime": {
     "end_time": "2024-05-11T02:09:27.359616Z",
     "start_time": "2024-05-11T02:09:27.004118Z"
    }
   },
   "id": "7797f267c21560a8",
   "outputs": [],
   "execution_count": 9
  },
  {
   "metadata": {},
   "cell_type": "markdown",
   "source": "## Token Setup",
   "id": "c9b69a4494e24d8e"
  },
  {
   "metadata": {
    "ExecuteTime": {
     "end_time": "2024-05-11T02:09:27.375117Z",
     "start_time": "2024-05-11T02:09:27.361618Z"
    }
   },
   "cell_type": "code",
   "source": [
    "subject_seeds_map = {subject: secrets.randbits(32) for subject in subject_data_map}\n",
    "subject_tokens_map = {subject: TokenDataGenerator.generate_random_token() for subject in subject_data_map}"
   ],
   "id": "6c13ff9c8db8f7ec",
   "outputs": [],
   "execution_count": 10
  },
  {
   "cell_type": "markdown",
   "source": [
    "# Processing"
   ],
   "metadata": {
    "collapsed": false
   },
   "id": "e05e630093ab2c05"
  },
  {
   "metadata": {},
   "cell_type": "markdown",
   "source": "## Hash Backend Construction",
   "id": "3a629cac93be0927"
  },
  {
   "metadata": {
    "ExecuteTime": {
     "end_time": "2024-05-11T02:09:27.390616Z",
     "start_time": "2024-05-11T02:09:27.376117Z"
    }
   },
   "cell_type": "code",
   "source": [
    "def generate_hash_backends(seed: int, token: str) -> typing.List[HashBackendWrapper]:\n",
    "    return [\n",
    "        HashBackendWrapper(\n",
    "            eeg_bloom_template.backend.FNVBloomFilterBackend(),\n",
    "            'FNV Backend'\n",
    "        ),\n",
    "        HashBackendWrapper(\n",
    "            eeg_bloom_template.backend.MMH3BloomFilterBackend(),\n",
    "            'MMH3 Backend (No Seed)'\n",
    "        ),\n",
    "        HashBackendWrapper(\n",
    "            eeg_bloom_template.backend.MMH3BloomFilterBackend(\n",
    "                seed=seed\n",
    "            ),\n",
    "            'MMH3 Backend (Seed)'\n",
    "        ),\n",
    "        HashBackendWrapper(\n",
    "            eeg_bloom_template.backend.TokenBackend(\n",
    "                token\n",
    "            ),\n",
    "            'Token Backend'\n",
    "        )\n",
    "    ]"
   ],
   "id": "2252f2850b9ae93f",
   "outputs": [],
   "execution_count": 11
  },
  {
   "cell_type": "markdown",
   "source": [
    "## Template Setup"
   ],
   "metadata": {
    "collapsed": false
   },
   "id": "922b8afcbceadfb8"
  },
  {
   "cell_type": "markdown",
   "source": [
    "### Template Generation"
   ],
   "metadata": {
    "collapsed": false
   },
   "id": "bdc28955aaed5138"
  },
  {
   "cell_type": "code",
   "source": [
    "def iter_test_templates(subject_template_data: typing.Dict[str, typing.List[np.ndarray]], \n",
    "                        subject_seeds: typing.Dict[str, int],\n",
    "                        subject_tokens: typing.Dict[str, str]) -> typing.Iterator[TestTemplateData]:\n",
    "    for subject in subject_template_data:\n",
    "        subject_data = subject_template_data[subject]\n",
    "        seed = subject_seeds[subject]\n",
    "        token = subject_tokens[subject]\n",
    "        for row_wise_setting in (True, False):\n",
    "            for backend_option in generate_hash_backends(seed, token):\n",
    "                for ratio in SEGMENTATION_RATIOS:\n",
    "                    for rate in FALSE_POSITIVE_RATES:\n",
    "                        template = eeg_bloom_template.EEGTemplate.make_template(\n",
    "                            feature_data=subject_data,\n",
    "                            hash_backend=backend_option,\n",
    "                            segment_ratio=ratio,\n",
    "                            false_positive_ratio=rate,\n",
    "                            row_wise=row_wise_setting\n",
    "                        )\n",
    "                        yield TestTemplateData(\n",
    "                            template=template, \n",
    "                            false_positive_rate=rate, \n",
    "                            hash_backend=backend_option,\n",
    "                            original_subject=subject\n",
    "                        )"
   ],
   "metadata": {
    "collapsed": false,
    "ExecuteTime": {
     "end_time": "2024-05-11T02:09:27.406116Z",
     "start_time": "2024-05-11T02:09:27.391617Z"
    }
   },
   "id": "6397bcfee2202953",
   "outputs": [],
   "execution_count": 12
  },
  {
   "cell_type": "markdown",
   "source": [
    "## Sample Data Setup"
   ],
   "metadata": {
    "collapsed": false
   },
   "id": "d47c3b5b30b09100"
  },
  {
   "cell_type": "code",
   "source": [
    "processed_data_map = {\n",
    "    subject: data_processor.process(subject_data_map[subject])\n",
    "    for subject in subject_data_map\n",
    "}"
   ],
   "metadata": {
    "collapsed": false,
    "ExecuteTime": {
     "end_time": "2024-05-11T02:09:30.165117Z",
     "start_time": "2024-05-11T02:09:27.407117Z"
    }
   },
   "id": "14571cab6a6e2b3f",
   "outputs": [
    {
     "name": "stdout",
     "output_type": "stream",
     "text": [
      "Creating RawArray with float64 data, n_channels=4, n_times=24000\n",
      "    Range : 0 ... 23999 =      0.000 ...   119.995 secs\n",
      "Ready.\n",
      "Creating RawArray with float64 data, n_channels=4, n_times=24000\n",
      "    Range : 0 ... 23999 =      0.000 ...   119.995 secs\n",
      "Ready.\n",
      "Creating RawArray with float64 data, n_channels=4, n_times=24000\n",
      "    Range : 0 ... 23999 =      0.000 ...   119.995 secs\n",
      "Ready.\n",
      "Creating RawArray with float64 data, n_channels=4, n_times=24000\n",
      "    Range : 0 ... 23999 =      0.000 ...   119.995 secs\n",
      "Ready.\n",
      "Creating RawArray with float64 data, n_channels=4, n_times=40114\n",
      "    Range : 0 ... 40113 =      0.000 ...   200.565 secs\n",
      "Ready.\n",
      "Creating RawArray with float64 data, n_channels=4, n_times=24000\n",
      "    Range : 0 ... 23999 =      0.000 ...   119.995 secs\n",
      "Ready.\n",
      "Creating RawArray with float64 data, n_channels=4, n_times=24000\n",
      "    Range : 0 ... 23999 =      0.000 ...   119.995 secs\n",
      "Ready.\n",
      "Creating RawArray with float64 data, n_channels=4, n_times=24000\n",
      "    Range : 0 ... 23999 =      0.000 ...   119.995 secs\n",
      "Ready.\n",
      "Creating RawArray with float64 data, n_channels=4, n_times=24000\n",
      "    Range : 0 ... 23999 =      0.000 ...   119.995 secs\n",
      "Ready.\n",
      "Creating RawArray with float64 data, n_channels=4, n_times=24000\n",
      "    Range : 0 ... 23999 =      0.000 ...   119.995 secs\n",
      "Ready.\n",
      "Creating RawArray with float64 data, n_channels=4, n_times=24000\n",
      "    Range : 0 ... 23999 =      0.000 ...   119.995 secs\n",
      "Ready.\n",
      "Creating RawArray with float64 data, n_channels=4, n_times=24000\n",
      "    Range : 0 ... 23999 =      0.000 ...   119.995 secs\n",
      "Ready.\n",
      "Creating RawArray with float64 data, n_channels=4, n_times=24000\n",
      "    Range : 0 ... 23999 =      0.000 ...   119.995 secs\n",
      "Ready.\n",
      "Creating RawArray with float64 data, n_channels=4, n_times=24000\n",
      "    Range : 0 ... 23999 =      0.000 ...   119.995 secs\n",
      "Ready.\n",
      "Creating RawArray with float64 data, n_channels=4, n_times=24000\n",
      "    Range : 0 ... 23999 =      0.000 ...   119.995 secs\n",
      "Ready.\n",
      "Creating RawArray with float64 data, n_channels=4, n_times=24000\n",
      "    Range : 0 ... 23999 =      0.000 ...   119.995 secs\n",
      "Ready.\n",
      "Creating RawArray with float64 data, n_channels=4, n_times=24000\n",
      "    Range : 0 ... 23999 =      0.000 ...   119.995 secs\n",
      "Ready.\n",
      "Creating RawArray with float64 data, n_channels=4, n_times=24000\n",
      "    Range : 0 ... 23999 =      0.000 ...   119.995 secs\n",
      "Ready.\n",
      "Creating RawArray with float64 data, n_channels=4, n_times=24000\n",
      "    Range : 0 ... 23999 =      0.000 ...   119.995 secs\n",
      "Ready.\n",
      "Creating RawArray with float64 data, n_channels=4, n_times=24000\n",
      "    Range : 0 ... 23999 =      0.000 ...   119.995 secs\n",
      "Ready.\n"
     ]
    }
   ],
   "execution_count": 13
  },
  {
   "cell_type": "markdown",
   "source": [
    "# Test Set Assembly"
   ],
   "metadata": {
    "collapsed": false
   },
   "id": "9b07aa6f74300e14"
  },
  {
   "cell_type": "markdown",
   "source": [
    "## Gathering Test Sets"
   ],
   "metadata": {
    "collapsed": false
   },
   "id": "e2360b694971281a"
  },
  {
   "cell_type": "code",
   "source": [
    "def get_experiment_samples(data_map: typing.Dict[str, typing.List[np.ndarray]], \n",
    "                           target: str) -> typing.Tuple[typing.List[np.ndarray], typing.List[np.ndarray]]:\n",
    "    positive_samples = list(\n",
    "        iter_ratio_slices(\n",
    "            data_map[target], \n",
    "            SAMPLE_PERCENTAGE\n",
    "        )\n",
    "    )\n",
    "    negative_samples = []\n",
    "    subjects_available = list(data_map.keys())\n",
    "    subjects_available.remove(target)\n",
    "    RANDOM_GENERATOR.shuffle(subjects_available)\n",
    "    while subjects_available and len(negative_samples) < len(positive_samples):\n",
    "        example_subject = subjects_available.pop()\n",
    "        negative_samples.extend(\n",
    "            list(\n",
    "                iter_ratio_slices(\n",
    "                    data_map[example_subject], \n",
    "                    SAMPLE_PERCENTAGE\n",
    "                )\n",
    "            )\n",
    "        )\n",
    "    return positive_samples, negative_samples\n",
    "\n",
    "\n",
    "def iter_template_test_sets(data_map: typing.Dict[str, typing.List[np.ndarray]],\n",
    "                            subject_seeds: typing.Dict[str, int],\n",
    "                            subject_tokens: typing.Dict[str, str]) -> typing.Iterator[TemplateTestSet]:\n",
    "    for template_data in iter_test_templates(data_map, subject_seeds, subject_tokens):\n",
    "        for auth_threshold in AUTHENTICATION_THRESHOLDS:\n",
    "            positive_samples, negative_samples = get_experiment_samples(\n",
    "                data_map, \n",
    "                template_data.original_subject\n",
    "            )\n",
    "            yield TemplateTestSet(\n",
    "                threshold=auth_threshold,\n",
    "                template_data=template_data,\n",
    "                positive_cases=[\n",
    "                    TemplateTest(\n",
    "                        expected_result=True, \n",
    "                        test_data=sample,\n",
    "                        if_expected=TestResultType.TRUE_POSITIVE,\n",
    "                        if_unexpected=TestResultType.FALSE_NEGATIVE\n",
    "                    )\n",
    "                    for sample in positive_samples\n",
    "                ],\n",
    "                negative_cases=[\n",
    "                    TemplateTest(\n",
    "                        expected_result=False, \n",
    "                        test_data=sample,\n",
    "                        if_expected=TestResultType.TRUE_NEGATIVE,\n",
    "                        if_unexpected=TestResultType.FALSE_POSITIVE\n",
    "                    )\n",
    "                    for sample in negative_samples\n",
    "                ]\n",
    "            )"
   ],
   "metadata": {
    "collapsed": false,
    "ExecuteTime": {
     "end_time": "2024-05-11T02:09:30.180619Z",
     "start_time": "2024-05-11T02:09:30.166617Z"
    }
   },
   "id": "1e6d30e2797ba855",
   "outputs": [],
   "execution_count": 14
  },
  {
   "cell_type": "markdown",
   "source": [
    "# Execute Tests"
   ],
   "metadata": {
    "collapsed": false
   },
   "id": "33f687ed4b216d82"
  },
  {
   "cell_type": "code",
   "source": [
    "def run_template_test_set(test_set: TemplateTestSet) -> TestResultsSummary:\n",
    "    summary = TestResultsSummary()\n",
    "    for test_item in test_set.positive_cases:\n",
    "        result_type = test_item.run_test(\n",
    "            test_set.template_data.template,\n",
    "            test_set.threshold\n",
    "        )\n",
    "        summary.increment_count(result_type)\n",
    "    for test_item in test_set.negative_cases:\n",
    "        result_type = test_item.run_test(\n",
    "            test_set.template_data.template,\n",
    "            test_set.threshold\n",
    "        )\n",
    "        summary.increment_count(result_type)\n",
    "    return summary"
   ],
   "metadata": {
    "collapsed": false,
    "ExecuteTime": {
     "end_time": "2024-05-11T02:09:30.196116Z",
     "start_time": "2024-05-11T02:09:30.182117Z"
    }
   },
   "id": "c194e9cedd588b3e",
   "outputs": [],
   "execution_count": 15
  },
  {
   "cell_type": "code",
   "source": [
    "results_data: typing.Dict[typing.Tuple[float, float, str, float, bool], TestResultsSummary] = {}\n",
    "for template_test_set in iter_template_test_sets(processed_data_map, subject_seeds_map, subject_tokens_map):\n",
    "    false_positive_rate = template_test_set.template_data.false_positive_rate\n",
    "    threshold = template_test_set.threshold\n",
    "    hash_backend_label = template_test_set.template_data.hash_backend.label\n",
    "    segment_ratio = template_test_set.template_data.template.segment_ratio\n",
    "    row_wise = template_test_set.template_data.template.row_wise\n",
    "    result_key = (\n",
    "        false_positive_rate,\n",
    "        threshold,\n",
    "        hash_backend_label,\n",
    "        segment_ratio,\n",
    "        row_wise\n",
    "    )\n",
    "    if result_key not in results_data:\n",
    "        results_data[result_key] = TestResultsSummary()\n",
    "    results_data[result_key] = TestResultsSummary.merge_summaries(\n",
    "        results_data[result_key],\n",
    "        run_template_test_set(template_test_set)\n",
    "    )"
   ],
   "metadata": {
    "collapsed": false,
    "ExecuteTime": {
     "end_time": "2024-05-11T02:57:22.548631Z",
     "start_time": "2024-05-11T02:09:30.197617Z"
    }
   },
   "id": "195e97184d2409c4",
   "outputs": [],
   "execution_count": 16
  },
  {
   "cell_type": "code",
   "source": [
    "results_data_rows = []\n",
    "for data_key, results_summary in results_data.items():\n",
    "    fpr, threshold, backend_label, segment_ratio, row_wise = data_key\n",
    "    row_wise_label = 'Rows' if row_wise else 'Columns'\n",
    "    results_data_rows.append([\n",
    "        fpr, threshold, segment_ratio, row_wise_label,\n",
    "        backend_label, results_summary.false_accept_rate, \n",
    "        results_summary.false_reject_rate, results_summary.half_total_error_rate, \n",
    "        results_summary.accuracy\n",
    "    ])\n",
    "results_dataframe = pd.DataFrame(\n",
    "    results_data_rows, \n",
    "    columns=['FPR', 'Threshold', 'Segment Ratio', 'Processing', 'Backend', 'FAR', 'FRR', 'HTER', 'Accuracy']\n",
    ")\n",
    "results_dataframe.sort_values(by=['Accuracy'], ascending=False).head(10)"
   ],
   "metadata": {
    "collapsed": false,
    "ExecuteTime": {
     "end_time": "2024-05-11T02:57:22.626131Z",
     "start_time": "2024-05-11T02:57:22.550133Z"
    }
   },
   "id": "620017393064315c",
   "outputs": [
    {
     "data": {
      "text/plain": [
       "       FPR  Threshold  Segment Ratio Processing                 Backend  \\\n",
       "1462  0.35        0.3            0.5       Rows  MMH3 Backend (No Seed)   \n",
       "622   0.15        0.3            0.7       Rows             FNV Backend   \n",
       "1532  0.20        0.3            0.6       Rows  MMH3 Backend (No Seed)   \n",
       "33    0.20        0.4            0.1       Rows             FNV Backend   \n",
       "1411  0.10        0.2            0.5       Rows  MMH3 Backend (No Seed)   \n",
       "1502  0.05        0.3            0.6       Rows  MMH3 Backend (No Seed)   \n",
       "2422  0.15        0.3            0.5       Rows     MMH3 Backend (Seed)   \n",
       "1542  0.25        0.3            0.6       Rows  MMH3 Backend (No Seed)   \n",
       "1522  0.15        0.3            0.6       Rows  MMH3 Backend (No Seed)   \n",
       "512   0.10        0.3            0.6       Rows             FNV Backend   \n",
       "\n",
       "           FAR       FRR      HTER  Accuracy  \n",
       "1462  0.109005  0.124378  0.116691  0.883495  \n",
       "622   0.037915  0.203980  0.120947  0.881068  \n",
       "1532  0.023810  0.228856  0.126333  0.875912  \n",
       "33    0.094340  0.159204  0.126772  0.874092  \n",
       "1411  0.033175  0.223881  0.128528  0.873786  \n",
       "1502  0.000000  0.263682  0.131841  0.871671  \n",
       "2422  0.047619  0.213930  0.130775  0.871046  \n",
       "1542  0.004717  0.263682  0.134199  0.869249  \n",
       "1522  0.009479  0.263682  0.136580  0.866505  \n",
       "512   0.009524  0.263682  0.136603  0.866180  "
      ],
      "text/html": [
       "<div>\n",
       "<style scoped>\n",
       "    .dataframe tbody tr th:only-of-type {\n",
       "        vertical-align: middle;\n",
       "    }\n",
       "\n",
       "    .dataframe tbody tr th {\n",
       "        vertical-align: top;\n",
       "    }\n",
       "\n",
       "    .dataframe thead th {\n",
       "        text-align: right;\n",
       "    }\n",
       "</style>\n",
       "<table border=\"1\" class=\"dataframe\">\n",
       "  <thead>\n",
       "    <tr style=\"text-align: right;\">\n",
       "      <th></th>\n",
       "      <th>FPR</th>\n",
       "      <th>Threshold</th>\n",
       "      <th>Segment Ratio</th>\n",
       "      <th>Processing</th>\n",
       "      <th>Backend</th>\n",
       "      <th>FAR</th>\n",
       "      <th>FRR</th>\n",
       "      <th>HTER</th>\n",
       "      <th>Accuracy</th>\n",
       "    </tr>\n",
       "  </thead>\n",
       "  <tbody>\n",
       "    <tr>\n",
       "      <th>1462</th>\n",
       "      <td>0.35</td>\n",
       "      <td>0.3</td>\n",
       "      <td>0.5</td>\n",
       "      <td>Rows</td>\n",
       "      <td>MMH3 Backend (No Seed)</td>\n",
       "      <td>0.109005</td>\n",
       "      <td>0.124378</td>\n",
       "      <td>0.116691</td>\n",
       "      <td>0.883495</td>\n",
       "    </tr>\n",
       "    <tr>\n",
       "      <th>622</th>\n",
       "      <td>0.15</td>\n",
       "      <td>0.3</td>\n",
       "      <td>0.7</td>\n",
       "      <td>Rows</td>\n",
       "      <td>FNV Backend</td>\n",
       "      <td>0.037915</td>\n",
       "      <td>0.203980</td>\n",
       "      <td>0.120947</td>\n",
       "      <td>0.881068</td>\n",
       "    </tr>\n",
       "    <tr>\n",
       "      <th>1532</th>\n",
       "      <td>0.20</td>\n",
       "      <td>0.3</td>\n",
       "      <td>0.6</td>\n",
       "      <td>Rows</td>\n",
       "      <td>MMH3 Backend (No Seed)</td>\n",
       "      <td>0.023810</td>\n",
       "      <td>0.228856</td>\n",
       "      <td>0.126333</td>\n",
       "      <td>0.875912</td>\n",
       "    </tr>\n",
       "    <tr>\n",
       "      <th>33</th>\n",
       "      <td>0.20</td>\n",
       "      <td>0.4</td>\n",
       "      <td>0.1</td>\n",
       "      <td>Rows</td>\n",
       "      <td>FNV Backend</td>\n",
       "      <td>0.094340</td>\n",
       "      <td>0.159204</td>\n",
       "      <td>0.126772</td>\n",
       "      <td>0.874092</td>\n",
       "    </tr>\n",
       "    <tr>\n",
       "      <th>1411</th>\n",
       "      <td>0.10</td>\n",
       "      <td>0.2</td>\n",
       "      <td>0.5</td>\n",
       "      <td>Rows</td>\n",
       "      <td>MMH3 Backend (No Seed)</td>\n",
       "      <td>0.033175</td>\n",
       "      <td>0.223881</td>\n",
       "      <td>0.128528</td>\n",
       "      <td>0.873786</td>\n",
       "    </tr>\n",
       "    <tr>\n",
       "      <th>1502</th>\n",
       "      <td>0.05</td>\n",
       "      <td>0.3</td>\n",
       "      <td>0.6</td>\n",
       "      <td>Rows</td>\n",
       "      <td>MMH3 Backend (No Seed)</td>\n",
       "      <td>0.000000</td>\n",
       "      <td>0.263682</td>\n",
       "      <td>0.131841</td>\n",
       "      <td>0.871671</td>\n",
       "    </tr>\n",
       "    <tr>\n",
       "      <th>2422</th>\n",
       "      <td>0.15</td>\n",
       "      <td>0.3</td>\n",
       "      <td>0.5</td>\n",
       "      <td>Rows</td>\n",
       "      <td>MMH3 Backend (Seed)</td>\n",
       "      <td>0.047619</td>\n",
       "      <td>0.213930</td>\n",
       "      <td>0.130775</td>\n",
       "      <td>0.871046</td>\n",
       "    </tr>\n",
       "    <tr>\n",
       "      <th>1542</th>\n",
       "      <td>0.25</td>\n",
       "      <td>0.3</td>\n",
       "      <td>0.6</td>\n",
       "      <td>Rows</td>\n",
       "      <td>MMH3 Backend (No Seed)</td>\n",
       "      <td>0.004717</td>\n",
       "      <td>0.263682</td>\n",
       "      <td>0.134199</td>\n",
       "      <td>0.869249</td>\n",
       "    </tr>\n",
       "    <tr>\n",
       "      <th>1522</th>\n",
       "      <td>0.15</td>\n",
       "      <td>0.3</td>\n",
       "      <td>0.6</td>\n",
       "      <td>Rows</td>\n",
       "      <td>MMH3 Backend (No Seed)</td>\n",
       "      <td>0.009479</td>\n",
       "      <td>0.263682</td>\n",
       "      <td>0.136580</td>\n",
       "      <td>0.866505</td>\n",
       "    </tr>\n",
       "    <tr>\n",
       "      <th>512</th>\n",
       "      <td>0.10</td>\n",
       "      <td>0.3</td>\n",
       "      <td>0.6</td>\n",
       "      <td>Rows</td>\n",
       "      <td>FNV Backend</td>\n",
       "      <td>0.009524</td>\n",
       "      <td>0.263682</td>\n",
       "      <td>0.136603</td>\n",
       "      <td>0.866180</td>\n",
       "    </tr>\n",
       "  </tbody>\n",
       "</table>\n",
       "</div>"
      ]
     },
     "execution_count": 17,
     "metadata": {},
     "output_type": "execute_result"
    }
   ],
   "execution_count": 17
  },
  {
   "metadata": {
    "ExecuteTime": {
     "end_time": "2024-05-11T02:57:22.641634Z",
     "start_time": "2024-05-11T02:57:22.627132Z"
    }
   },
   "cell_type": "code",
   "source": "results_dataframe.sort_values(by=['HTER'], ascending=True).head(10)",
   "id": "10382652b12e7d91",
   "outputs": [
    {
     "data": {
      "text/plain": [
       "       FPR  Threshold  Segment Ratio Processing                 Backend  \\\n",
       "1462  0.35        0.3            0.5       Rows  MMH3 Backend (No Seed)   \n",
       "622   0.15        0.3            0.7       Rows             FNV Backend   \n",
       "1532  0.20        0.3            0.6       Rows  MMH3 Backend (No Seed)   \n",
       "33    0.20        0.4            0.1       Rows             FNV Backend   \n",
       "1411  0.10        0.2            0.5       Rows  MMH3 Backend (No Seed)   \n",
       "2422  0.15        0.3            0.5       Rows     MMH3 Backend (Seed)   \n",
       "1502  0.05        0.3            0.6       Rows  MMH3 Backend (No Seed)   \n",
       "1542  0.25        0.3            0.6       Rows  MMH3 Backend (No Seed)   \n",
       "1522  0.15        0.3            0.6       Rows  MMH3 Backend (No Seed)   \n",
       "512   0.10        0.3            0.6       Rows             FNV Backend   \n",
       "\n",
       "           FAR       FRR      HTER  Accuracy  \n",
       "1462  0.109005  0.124378  0.116691  0.883495  \n",
       "622   0.037915  0.203980  0.120947  0.881068  \n",
       "1532  0.023810  0.228856  0.126333  0.875912  \n",
       "33    0.094340  0.159204  0.126772  0.874092  \n",
       "1411  0.033175  0.223881  0.128528  0.873786  \n",
       "2422  0.047619  0.213930  0.130775  0.871046  \n",
       "1502  0.000000  0.263682  0.131841  0.871671  \n",
       "1542  0.004717  0.263682  0.134199  0.869249  \n",
       "1522  0.009479  0.263682  0.136580  0.866505  \n",
       "512   0.009524  0.263682  0.136603  0.866180  "
      ],
      "text/html": [
       "<div>\n",
       "<style scoped>\n",
       "    .dataframe tbody tr th:only-of-type {\n",
       "        vertical-align: middle;\n",
       "    }\n",
       "\n",
       "    .dataframe tbody tr th {\n",
       "        vertical-align: top;\n",
       "    }\n",
       "\n",
       "    .dataframe thead th {\n",
       "        text-align: right;\n",
       "    }\n",
       "</style>\n",
       "<table border=\"1\" class=\"dataframe\">\n",
       "  <thead>\n",
       "    <tr style=\"text-align: right;\">\n",
       "      <th></th>\n",
       "      <th>FPR</th>\n",
       "      <th>Threshold</th>\n",
       "      <th>Segment Ratio</th>\n",
       "      <th>Processing</th>\n",
       "      <th>Backend</th>\n",
       "      <th>FAR</th>\n",
       "      <th>FRR</th>\n",
       "      <th>HTER</th>\n",
       "      <th>Accuracy</th>\n",
       "    </tr>\n",
       "  </thead>\n",
       "  <tbody>\n",
       "    <tr>\n",
       "      <th>1462</th>\n",
       "      <td>0.35</td>\n",
       "      <td>0.3</td>\n",
       "      <td>0.5</td>\n",
       "      <td>Rows</td>\n",
       "      <td>MMH3 Backend (No Seed)</td>\n",
       "      <td>0.109005</td>\n",
       "      <td>0.124378</td>\n",
       "      <td>0.116691</td>\n",
       "      <td>0.883495</td>\n",
       "    </tr>\n",
       "    <tr>\n",
       "      <th>622</th>\n",
       "      <td>0.15</td>\n",
       "      <td>0.3</td>\n",
       "      <td>0.7</td>\n",
       "      <td>Rows</td>\n",
       "      <td>FNV Backend</td>\n",
       "      <td>0.037915</td>\n",
       "      <td>0.203980</td>\n",
       "      <td>0.120947</td>\n",
       "      <td>0.881068</td>\n",
       "    </tr>\n",
       "    <tr>\n",
       "      <th>1532</th>\n",
       "      <td>0.20</td>\n",
       "      <td>0.3</td>\n",
       "      <td>0.6</td>\n",
       "      <td>Rows</td>\n",
       "      <td>MMH3 Backend (No Seed)</td>\n",
       "      <td>0.023810</td>\n",
       "      <td>0.228856</td>\n",
       "      <td>0.126333</td>\n",
       "      <td>0.875912</td>\n",
       "    </tr>\n",
       "    <tr>\n",
       "      <th>33</th>\n",
       "      <td>0.20</td>\n",
       "      <td>0.4</td>\n",
       "      <td>0.1</td>\n",
       "      <td>Rows</td>\n",
       "      <td>FNV Backend</td>\n",
       "      <td>0.094340</td>\n",
       "      <td>0.159204</td>\n",
       "      <td>0.126772</td>\n",
       "      <td>0.874092</td>\n",
       "    </tr>\n",
       "    <tr>\n",
       "      <th>1411</th>\n",
       "      <td>0.10</td>\n",
       "      <td>0.2</td>\n",
       "      <td>0.5</td>\n",
       "      <td>Rows</td>\n",
       "      <td>MMH3 Backend (No Seed)</td>\n",
       "      <td>0.033175</td>\n",
       "      <td>0.223881</td>\n",
       "      <td>0.128528</td>\n",
       "      <td>0.873786</td>\n",
       "    </tr>\n",
       "    <tr>\n",
       "      <th>2422</th>\n",
       "      <td>0.15</td>\n",
       "      <td>0.3</td>\n",
       "      <td>0.5</td>\n",
       "      <td>Rows</td>\n",
       "      <td>MMH3 Backend (Seed)</td>\n",
       "      <td>0.047619</td>\n",
       "      <td>0.213930</td>\n",
       "      <td>0.130775</td>\n",
       "      <td>0.871046</td>\n",
       "    </tr>\n",
       "    <tr>\n",
       "      <th>1502</th>\n",
       "      <td>0.05</td>\n",
       "      <td>0.3</td>\n",
       "      <td>0.6</td>\n",
       "      <td>Rows</td>\n",
       "      <td>MMH3 Backend (No Seed)</td>\n",
       "      <td>0.000000</td>\n",
       "      <td>0.263682</td>\n",
       "      <td>0.131841</td>\n",
       "      <td>0.871671</td>\n",
       "    </tr>\n",
       "    <tr>\n",
       "      <th>1542</th>\n",
       "      <td>0.25</td>\n",
       "      <td>0.3</td>\n",
       "      <td>0.6</td>\n",
       "      <td>Rows</td>\n",
       "      <td>MMH3 Backend (No Seed)</td>\n",
       "      <td>0.004717</td>\n",
       "      <td>0.263682</td>\n",
       "      <td>0.134199</td>\n",
       "      <td>0.869249</td>\n",
       "    </tr>\n",
       "    <tr>\n",
       "      <th>1522</th>\n",
       "      <td>0.15</td>\n",
       "      <td>0.3</td>\n",
       "      <td>0.6</td>\n",
       "      <td>Rows</td>\n",
       "      <td>MMH3 Backend (No Seed)</td>\n",
       "      <td>0.009479</td>\n",
       "      <td>0.263682</td>\n",
       "      <td>0.136580</td>\n",
       "      <td>0.866505</td>\n",
       "    </tr>\n",
       "    <tr>\n",
       "      <th>512</th>\n",
       "      <td>0.10</td>\n",
       "      <td>0.3</td>\n",
       "      <td>0.6</td>\n",
       "      <td>Rows</td>\n",
       "      <td>FNV Backend</td>\n",
       "      <td>0.009524</td>\n",
       "      <td>0.263682</td>\n",
       "      <td>0.136603</td>\n",
       "      <td>0.866180</td>\n",
       "    </tr>\n",
       "  </tbody>\n",
       "</table>\n",
       "</div>"
      ]
     },
     "execution_count": 18,
     "metadata": {},
     "output_type": "execute_result"
    }
   ],
   "execution_count": 18
  },
  {
   "metadata": {
    "ExecuteTime": {
     "end_time": "2024-05-11T02:57:22.657130Z",
     "start_time": "2024-05-11T02:57:22.643132Z"
    }
   },
   "cell_type": "code",
   "source": "print(f'Total number of test results: {len(results_data)}')",
   "id": "762cc867a11472fb",
   "outputs": [
    {
     "name": "stdout",
     "output_type": "stream",
     "text": [
      "Total number of test results: 8000\n"
     ]
    }
   ],
   "execution_count": 19
  }
 ],
 "metadata": {
  "kernelspec": {
   "display_name": "Python 3",
   "language": "python",
   "name": "python3"
  },
  "language_info": {
   "codemirror_mode": {
    "name": "ipython",
    "version": 2
   },
   "file_extension": ".py",
   "mimetype": "text/x-python",
   "name": "python",
   "nbconvert_exporter": "python",
   "pygments_lexer": "ipython2",
   "version": "2.7.6"
  }
 },
 "nbformat": 4,
 "nbformat_minor": 5
}
