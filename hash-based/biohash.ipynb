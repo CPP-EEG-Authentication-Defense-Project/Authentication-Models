{
 "cells": [
  {
   "cell_type": "markdown",
   "source": [
    "# Setup\n",
    "\n",
    "Initial module setup."
   ],
   "metadata": {
    "collapsed": false
   },
   "id": "da4f13ce619dc02a"
  },
  {
   "cell_type": "code",
   "outputs": [],
   "source": [
    "import numpy as np\n",
    "import dataclasses\n",
    "import typing\n",
    "import random\n",
    "import auth_biohash.hash\n",
    "import auth_biohash.random_token\n",
    "import feature_encoding.threshold\n",
    "\n",
    "from eeg_auth_models_framework import data, pre_process, features, processor\n",
    "from eeg_auth_models_framework.utils import conversion"
   ],
   "metadata": {
    "collapsed": false,
    "ExecuteTime": {
     "end_time": "2024-03-11T05:20:15.615105Z",
     "start_time": "2024-03-11T05:20:09.660106Z"
    }
   },
   "id": "77dbb2b529fba557",
   "execution_count": 1
  },
  {
   "cell_type": "markdown",
   "source": [
    "# Constants"
   ],
   "metadata": {
    "collapsed": false
   },
   "id": "f0aaec4b61b22133"
  },
  {
   "cell_type": "code",
   "outputs": [],
   "source": [
    "AUTHENTICATION_THRESHOLDS = [0.1, 0.2, 0.3, 0.4, 0.5, 0.6, 0.7, 0.8, 0.9]\n",
    "DATASET_SAMPLE_FREQ_HZ = 200\n",
    "DATA_CHANNEL_NAMES = ['T7','F8','Cz','P4']\n",
    "FREQUENCIES = [\n",
    "    pre_process.FrequencyBand(lower=8.0, upper=12.0, label='Alpha'),\n",
    "    pre_process.FrequencyBand(lower=12.0, upper=35.0, label='Beta'),\n",
    "    pre_process.FrequencyBand(lower=4.0, upper=8.0, label='Theta'),\n",
    "    pre_process.FrequencyBand(lower=35.0, upper=None, label='Gamma'),\n",
    "    pre_process.FrequencyBand(lower=None, upper=None, label='Raw'),\n",
    "]\n",
    "WINDOW_SIZE = 1200\n",
    "WINDOW_OVERLAP = 0\n",
    "BINARY_THRESHOLD = 50"
   ],
   "metadata": {
    "collapsed": false,
    "ExecuteTime": {
     "end_time": "2024-03-11T05:20:15.630607Z",
     "start_time": "2024-03-11T05:20:15.616607Z"
    }
   },
   "id": "aeed6ee7832bc937",
   "execution_count": 2
  },
  {
   "cell_type": "markdown",
   "source": [
    "# Utilities"
   ],
   "metadata": {
    "collapsed": false
   },
   "id": "13bda9cd27dc1c7d"
  },
  {
   "cell_type": "code",
   "outputs": [],
   "source": [
    "@dataclasses.dataclass\n",
    "class HashTest:\n",
    "    expected_result: bool\n",
    "    hashes: typing.Tuple[auth_biohash.hash.BioHash, auth_biohash.hash.BioHash]\n",
    "    \n",
    "    def run_test(self):\n",
    "        result = (self.hashes[0] == self.hashes[1])\n",
    "        if result != self.expected_result:\n",
    "            return False\n",
    "        return True\n",
    "\n",
    "@dataclasses.dataclass\n",
    "class ThresholdTestSet:\n",
    "    threshold: str\n",
    "    template_hash: auth_biohash.hash.BioHash\n",
    "    positive_cases: typing.List[auth_biohash.hash.BioHash]\n",
    "    negative_cases: typing.List[auth_biohash.hash.BioHash]\n",
    "\n",
    "@dataclasses.dataclass\n",
    "class SubjectTestSet:\n",
    "    subject_id: str\n",
    "    threshold_tests: typing.List[ThresholdTestSet]"
   ],
   "metadata": {
    "collapsed": false,
    "ExecuteTime": {
     "end_time": "2024-03-11T05:20:15.646107Z",
     "start_time": "2024-03-11T05:20:15.631605Z"
    }
   },
   "id": "87196d459e581a50",
   "execution_count": 3
  },
  {
   "cell_type": "markdown",
   "source": [
    "# Configuration"
   ],
   "metadata": {
    "collapsed": false
   },
   "id": "3ac0435ab0259cc6"
  },
  {
   "cell_type": "code",
   "outputs": [],
   "source": [
    "downloader = data.AuditoryDataDownloader()\n",
    "reader = data.AuditoryDataReader()\n",
    "converter = conversion.MNEDataFrameConverter(\n",
    "    channels=DATA_CHANNEL_NAMES, \n",
    "    sample_frequency=DATASET_SAMPLE_FREQ_HZ\n",
    ")"
   ],
   "metadata": {
    "collapsed": false,
    "ExecuteTime": {
     "end_time": "2024-03-11T05:20:15.661605Z",
     "start_time": "2024-03-11T05:20:15.647606Z"
    }
   },
   "id": "7579517532835c5a",
   "execution_count": 4
  },
  {
   "cell_type": "markdown",
   "source": [
    "# Data Processing Setup"
   ],
   "metadata": {
    "collapsed": false
   },
   "id": "72fc4ed2b371256f"
  },
  {
   "cell_type": "markdown",
   "source": [
    "## Template Hash Processor"
   ],
   "metadata": {
    "collapsed": false
   },
   "id": "a4a25e7c77d6f1c5"
  },
  {
   "cell_type": "markdown",
   "source": [
    "### Pre-Processing Steps"
   ],
   "metadata": {
    "collapsed": false
   },
   "id": "8c8b96cc069323e4"
  },
  {
   "cell_type": "code",
   "outputs": [],
   "source": [
    "template_pre_process_steps = pre_process.PreProcessingPipeline([\n",
    "    pre_process.EEGBandpassFilterStep(\n",
    "        FREQUENCIES,\n",
    "        converter\n",
    "    )\n",
    "])"
   ],
   "metadata": {
    "collapsed": false,
    "ExecuteTime": {
     "end_time": "2024-03-11T05:20:15.677106Z",
     "start_time": "2024-03-11T05:20:15.663606Z"
    }
   },
   "id": "c7efbdfd5a13740e",
   "execution_count": 5
  },
  {
   "cell_type": "markdown",
   "source": [
    "### Feature Extraction Steps"
   ],
   "metadata": {
    "collapsed": false
   },
   "id": "d99e6996522d9c29"
  },
  {
   "cell_type": "code",
   "outputs": [],
   "source": [
    "template_feature_extraction_steps = features.FeatureExtractPipeline([\n",
    "    features.StatisticalFeatureExtractor([\n",
    "        features.StatisticalFeature.MIN,\n",
    "        features.StatisticalFeature.MAX,\n",
    "        features.StatisticalFeature.MEAN,\n",
    "        features.StatisticalFeature.ZERO_CROSSING_RATE\n",
    "    ])\n",
    "])"
   ],
   "metadata": {
    "collapsed": false,
    "ExecuteTime": {
     "end_time": "2024-03-11T05:20:15.692606Z",
     "start_time": "2024-03-11T05:20:15.678605Z"
    }
   },
   "id": "9704959409db63bb",
   "execution_count": 6
  },
  {
   "cell_type": "markdown",
   "source": [
    "### Processor"
   ],
   "metadata": {
    "collapsed": false
   },
   "id": "d849dc2ada492d85"
  },
  {
   "cell_type": "code",
   "outputs": [],
   "source": [
    "template_data_processor = processor.DataProcessor(\n",
    "    pre_process=template_pre_process_steps,\n",
    "    feature_extraction=template_feature_extraction_steps\n",
    ")"
   ],
   "metadata": {
    "collapsed": false,
    "ExecuteTime": {
     "end_time": "2024-03-11T05:20:15.708127Z",
     "start_time": "2024-03-11T05:20:15.694105Z"
    }
   },
   "id": "1442faa54098f6",
   "execution_count": 7
  },
  {
   "cell_type": "markdown",
   "source": [
    "## Sample Hash Processor"
   ],
   "metadata": {
    "collapsed": false
   },
   "id": "993a651822b6459e"
  },
  {
   "cell_type": "markdown",
   "source": [
    "### Pre-Processing Steps"
   ],
   "metadata": {
    "collapsed": false
   },
   "id": "b527d47c1f13033"
  },
  {
   "cell_type": "code",
   "outputs": [],
   "source": [
    "sample_pre_process_steps = pre_process.PreProcessingPipeline([\n",
    "    pre_process.EEGBandpassFilterStep(\n",
    "        FREQUENCIES,\n",
    "        converter\n",
    "    ),\n",
    "    pre_process.DataWindowStep(WINDOW_SIZE, WINDOW_OVERLAP)\n",
    "])"
   ],
   "metadata": {
    "collapsed": false,
    "ExecuteTime": {
     "end_time": "2024-03-11T05:20:15.723605Z",
     "start_time": "2024-03-11T05:20:15.709605Z"
    }
   },
   "id": "b12f85a89a924fdf",
   "execution_count": 8
  },
  {
   "cell_type": "markdown",
   "source": [
    "### Feature Extraction Steps"
   ],
   "metadata": {
    "collapsed": false
   },
   "id": "297f5a69a316f5b8"
  },
  {
   "cell_type": "code",
   "outputs": [],
   "source": [
    "sample_feature_extraction_steps = features.FeatureExtractPipeline([\n",
    "    features.StatisticalFeatureExtractor([\n",
    "        features.StatisticalFeature.MIN,\n",
    "        features.StatisticalFeature.MAX,\n",
    "        features.StatisticalFeature.MEAN,\n",
    "        features.StatisticalFeature.ZERO_CROSSING_RATE\n",
    "    ])\n",
    "])"
   ],
   "metadata": {
    "collapsed": false,
    "ExecuteTime": {
     "end_time": "2024-03-11T05:20:15.739105Z",
     "start_time": "2024-03-11T05:20:15.725105Z"
    }
   },
   "id": "8ead5ce50ad8e4a3",
   "execution_count": 9
  },
  {
   "cell_type": "markdown",
   "source": [
    "### Processor"
   ],
   "metadata": {
    "collapsed": false
   },
   "id": "e6c2f7c7de2ccd2a"
  },
  {
   "cell_type": "code",
   "outputs": [],
   "source": [
    "sample_data_processor = processor.DataProcessor(\n",
    "    pre_process=sample_pre_process_steps,\n",
    "    feature_extraction=sample_feature_extraction_steps\n",
    ")"
   ],
   "metadata": {
    "collapsed": false,
    "ExecuteTime": {
     "end_time": "2024-03-11T05:20:15.754606Z",
     "start_time": "2024-03-11T05:20:15.740606Z"
    }
   },
   "id": "96cda2e2a18aec21",
   "execution_count": 10
  },
  {
   "cell_type": "markdown",
   "source": [
    "# Subject Data"
   ],
   "metadata": {
    "collapsed": false
   },
   "id": "ad82ca1877854ce6"
  },
  {
   "cell_type": "code",
   "outputs": [],
   "source": [
    "data_path = downloader.retrieve()\n",
    "subject_data_map = reader.format_data(data_path)"
   ],
   "metadata": {
    "collapsed": false,
    "ExecuteTime": {
     "end_time": "2024-03-11T05:20:16.297106Z",
     "start_time": "2024-03-11T05:20:15.756106Z"
    }
   },
   "id": "65c233cea5cfefda",
   "execution_count": 11
  },
  {
   "cell_type": "markdown",
   "source": [
    "## Token Setup"
   ],
   "metadata": {
    "collapsed": false
   },
   "id": "9c873a699c65e119"
  },
  {
   "cell_type": "code",
   "outputs": [],
   "source": [
    "subject_tokens_map = {subject: auth_biohash.random_token.generate_token() for subject in subject_data_map}"
   ],
   "metadata": {
    "collapsed": false,
    "ExecuteTime": {
     "end_time": "2024-03-11T05:20:16.312605Z",
     "start_time": "2024-03-11T05:20:16.298105Z"
    }
   },
   "id": "2163f478debcf65d",
   "execution_count": 12
  },
  {
   "cell_type": "markdown",
   "source": [
    "## Template Hash Setup"
   ],
   "metadata": {
    "collapsed": false
   },
   "id": "1f4971ba34eabb90"
  },
  {
   "cell_type": "markdown",
   "source": [
    "### Processing"
   ],
   "metadata": {
    "collapsed": false
   },
   "id": "9e17726ec1164985"
  },
  {
   "cell_type": "code",
   "outputs": [
    {
     "name": "stdout",
     "output_type": "stream",
     "text": [
      "Creating RawArray with float64 data, n_channels=4, n_times=24000\n",
      "    Range : 0 ... 23999 =      0.000 ...   119.995 secs\n",
      "Ready.\n",
      "Creating RawArray with float64 data, n_channels=4, n_times=24000\n",
      "    Range : 0 ... 23999 =      0.000 ...   119.995 secs\n",
      "Ready.\n",
      "Creating RawArray with float64 data, n_channels=4, n_times=24000\n",
      "    Range : 0 ... 23999 =      0.000 ...   119.995 secs\n",
      "Ready.\n",
      "Creating RawArray with float64 data, n_channels=4, n_times=24000\n",
      "    Range : 0 ... 23999 =      0.000 ...   119.995 secs\n",
      "Ready.\n",
      "Creating RawArray with float64 data, n_channels=4, n_times=40114\n",
      "    Range : 0 ... 40113 =      0.000 ...   200.565 secs\n",
      "Ready.\n",
      "Creating RawArray with float64 data, n_channels=4, n_times=24000\n",
      "    Range : 0 ... 23999 =      0.000 ...   119.995 secs\n",
      "Ready.\n",
      "Creating RawArray with float64 data, n_channels=4, n_times=24000\n",
      "    Range : 0 ... 23999 =      0.000 ...   119.995 secs\n",
      "Ready.\n",
      "Creating RawArray with float64 data, n_channels=4, n_times=24000\n",
      "    Range : 0 ... 23999 =      0.000 ...   119.995 secs\n",
      "Ready.\n",
      "Creating RawArray with float64 data, n_channels=4, n_times=24000\n",
      "    Range : 0 ... 23999 =      0.000 ...   119.995 secs\n",
      "Ready.\n",
      "Creating RawArray with float64 data, n_channels=4, n_times=24000\n",
      "    Range : 0 ... 23999 =      0.000 ...   119.995 secs\n",
      "Ready.\n",
      "Creating RawArray with float64 data, n_channels=4, n_times=24000\n",
      "    Range : 0 ... 23999 =      0.000 ...   119.995 secs\n",
      "Ready.\n",
      "Creating RawArray with float64 data, n_channels=4, n_times=24000\n",
      "    Range : 0 ... 23999 =      0.000 ...   119.995 secs\n",
      "Ready.\n",
      "Creating RawArray with float64 data, n_channels=4, n_times=24000\n",
      "    Range : 0 ... 23999 =      0.000 ...   119.995 secs\n",
      "Ready.\n",
      "Creating RawArray with float64 data, n_channels=4, n_times=24000\n",
      "    Range : 0 ... 23999 =      0.000 ...   119.995 secs\n",
      "Ready.\n",
      "Creating RawArray with float64 data, n_channels=4, n_times=24000\n",
      "    Range : 0 ... 23999 =      0.000 ...   119.995 secs\n",
      "Ready.\n",
      "Creating RawArray with float64 data, n_channels=4, n_times=24000\n",
      "    Range : 0 ... 23999 =      0.000 ...   119.995 secs\n",
      "Ready.\n",
      "Creating RawArray with float64 data, n_channels=4, n_times=24000\n",
      "    Range : 0 ... 23999 =      0.000 ...   119.995 secs\n",
      "Ready.\n",
      "Creating RawArray with float64 data, n_channels=4, n_times=24000\n",
      "    Range : 0 ... 23999 =      0.000 ...   119.995 secs\n",
      "Ready.\n",
      "Creating RawArray with float64 data, n_channels=4, n_times=24000\n",
      "    Range : 0 ... 23999 =      0.000 ...   119.995 secs\n",
      "Ready.\n",
      "Creating RawArray with float64 data, n_channels=4, n_times=24000\n",
      "    Range : 0 ... 23999 =      0.000 ...   119.995 secs\n",
      "Ready.\n"
     ]
    }
   ],
   "source": [
    "processed_template_data_map = {subject: template_data_processor.process(subject_data_map[subject]) for subject in subject_data_map}"
   ],
   "metadata": {
    "collapsed": false,
    "ExecuteTime": {
     "end_time": "2024-03-11T05:20:17.366161Z",
     "start_time": "2024-03-11T05:20:16.313606Z"
    }
   },
   "id": "c7249c199623f435",
   "execution_count": 13
  },
  {
   "cell_type": "markdown",
   "source": [
    "### Hashing"
   ],
   "metadata": {
    "collapsed": false
   },
   "id": "6bdac03a48bf5821"
  },
  {
   "cell_type": "markdown",
   "source": [
    "#### Token Normalization"
   ],
   "metadata": {
    "collapsed": false
   },
   "id": "7db8dc9dff9ae063"
  },
  {
   "cell_type": "code",
   "outputs": [],
   "source": [
    "def normalize_vectors(vectors_to_normalize: typing.List[np.ndarray], token: str) -> typing.List[np.ndarray]:\n",
    "    matrix_generator = auth_biohash.random_token.MatrixGenerator(token)\n",
    "    normalization = auth_biohash.hash.TokenMatrixNormalization(matrix_generator)\n",
    "    return [normalization.normalize(v) for v in vectors_to_normalize]"
   ],
   "metadata": {
    "collapsed": false,
    "ExecuteTime": {
     "end_time": "2024-03-11T05:20:17.381663Z",
     "start_time": "2024-03-11T05:20:17.368161Z"
    }
   },
   "id": "74eb35532416fc98",
   "execution_count": 14
  },
  {
   "cell_type": "code",
   "outputs": [],
   "source": [
    "normalized_template_data_map = {subject: normalize_vectors(processed_template_data_map[subject], subject_tokens_map[subject]) for subject in processed_template_data_map}"
   ],
   "metadata": {
    "collapsed": false,
    "ExecuteTime": {
     "end_time": "2024-03-11T05:20:17.490161Z",
     "start_time": "2024-03-11T05:20:17.382663Z"
    }
   },
   "id": "ffc8435d3b29490e",
   "execution_count": 15
  },
  {
   "cell_type": "markdown",
   "source": [
    "#### Encoding"
   ],
   "metadata": {
    "collapsed": false
   },
   "id": "194c1cddc212389b"
  },
  {
   "cell_type": "code",
   "outputs": [],
   "source": [
    "def hash_vectors(vectors_to_hash: typing.List[np.ndarray], threshold: float) -> typing.List[auth_biohash.hash.BioHash]:\n",
    "    encoder = feature_encoding.threshold.ThresholdBinaryEncoder(BINARY_THRESHOLD)\n",
    "    return [auth_biohash.hash.BioHash.generate_hash(v, threshold, encoder) for v in vectors_to_hash]\n",
    "\n",
    "\n",
    "def make_map_of_threshold_hashes(vectors_to_hash: typing.List[np.ndarray]) -> typing.Dict[str, typing.List[auth_biohash.hash.BioHash]]:\n",
    "    result = {}\n",
    "    for threshold in AUTHENTICATION_THRESHOLDS:\n",
    "        result[str(threshold)] = hash_vectors(vectors_to_hash, threshold)\n",
    "    return result\n",
    "\n",
    "\n",
    "def normalize_template_hashes_map(raw_hashes_map: typing.Dict[str, typing.Dict[str, typing.List[auth_biohash.hash.BioHash]]]) -> typing.Dict[str, typing.Dict[str, auth_biohash.hash.BioHash]]:\n",
    "    result = {}\n",
    "    for subject in raw_hashes_map:\n",
    "        result[subject] = {}\n",
    "        for threshold in raw_hashes_map[subject]:\n",
    "            template_hash_list = raw_hashes_map[subject][threshold]\n",
    "            if len(template_hash_list) != 1:\n",
    "                print(\n",
    "                    f'Warning: there should be only one template hash per subject, '\n",
    "                    f'but subject {subject} has {len(template_hash_list)} template hashes'\n",
    "                )\n",
    "            result[subject][threshold] = template_hash_list[0]\n",
    "    return result"
   ],
   "metadata": {
    "collapsed": false,
    "ExecuteTime": {
     "end_time": "2024-03-11T05:20:17.505661Z",
     "start_time": "2024-03-11T05:20:17.491162Z"
    }
   },
   "id": "94ef067b3ef633b0",
   "execution_count": 16
  },
  {
   "cell_type": "code",
   "outputs": [],
   "source": [
    "subject_template_hashes_map = normalize_template_hashes_map(\n",
    "    {\n",
    "        subject: make_map_of_threshold_hashes(normalized_template_data_map[subject]) \n",
    "        for subject in normalized_template_data_map\n",
    "    }\n",
    ")"
   ],
   "metadata": {
    "collapsed": false,
    "ExecuteTime": {
     "end_time": "2024-03-11T05:20:17.521162Z",
     "start_time": "2024-03-11T05:20:17.506663Z"
    }
   },
   "id": "29567f2af3741261",
   "execution_count": 17
  },
  {
   "cell_type": "markdown",
   "source": [
    "## Sample Hash Setup"
   ],
   "metadata": {
    "collapsed": false
   },
   "id": "2c09d95332c4e738"
  },
  {
   "cell_type": "markdown",
   "source": [
    "### Processing"
   ],
   "metadata": {
    "collapsed": false
   },
   "id": "5513fde2d0127e36"
  },
  {
   "cell_type": "code",
   "outputs": [
    {
     "name": "stdout",
     "output_type": "stream",
     "text": [
      "Creating RawArray with float64 data, n_channels=4, n_times=24000\n",
      "    Range : 0 ... 23999 =      0.000 ...   119.995 secs\n",
      "Ready.\n",
      "Creating RawArray with float64 data, n_channels=4, n_times=24000\n",
      "    Range : 0 ... 23999 =      0.000 ...   119.995 secs\n",
      "Ready.\n",
      "Creating RawArray with float64 data, n_channels=4, n_times=24000\n",
      "    Range : 0 ... 23999 =      0.000 ...   119.995 secs\n",
      "Ready.\n",
      "Creating RawArray with float64 data, n_channels=4, n_times=24000\n",
      "    Range : 0 ... 23999 =      0.000 ...   119.995 secs\n",
      "Ready.\n",
      "Creating RawArray with float64 data, n_channels=4, n_times=40114\n",
      "    Range : 0 ... 40113 =      0.000 ...   200.565 secs\n",
      "Ready.\n",
      "Creating RawArray with float64 data, n_channels=4, n_times=24000\n",
      "    Range : 0 ... 23999 =      0.000 ...   119.995 secs\n",
      "Ready.\n",
      "Creating RawArray with float64 data, n_channels=4, n_times=24000\n",
      "    Range : 0 ... 23999 =      0.000 ...   119.995 secs\n",
      "Ready.\n",
      "Creating RawArray with float64 data, n_channels=4, n_times=24000\n",
      "    Range : 0 ... 23999 =      0.000 ...   119.995 secs\n",
      "Ready.\n",
      "Creating RawArray with float64 data, n_channels=4, n_times=24000\n",
      "    Range : 0 ... 23999 =      0.000 ...   119.995 secs\n",
      "Ready.\n",
      "Creating RawArray with float64 data, n_channels=4, n_times=24000\n",
      "    Range : 0 ... 23999 =      0.000 ...   119.995 secs\n",
      "Ready.\n",
      "Creating RawArray with float64 data, n_channels=4, n_times=24000\n",
      "    Range : 0 ... 23999 =      0.000 ...   119.995 secs\n",
      "Ready.\n",
      "Creating RawArray with float64 data, n_channels=4, n_times=24000\n",
      "    Range : 0 ... 23999 =      0.000 ...   119.995 secs\n",
      "Ready.\n",
      "Creating RawArray with float64 data, n_channels=4, n_times=24000\n",
      "    Range : 0 ... 23999 =      0.000 ...   119.995 secs\n",
      "Ready.\n",
      "Creating RawArray with float64 data, n_channels=4, n_times=24000\n",
      "    Range : 0 ... 23999 =      0.000 ...   119.995 secs\n",
      "Ready.\n",
      "Creating RawArray with float64 data, n_channels=4, n_times=24000\n",
      "    Range : 0 ... 23999 =      0.000 ...   119.995 secs\n",
      "Ready.\n",
      "Creating RawArray with float64 data, n_channels=4, n_times=24000\n",
      "    Range : 0 ... 23999 =      0.000 ...   119.995 secs\n",
      "Ready.\n",
      "Creating RawArray with float64 data, n_channels=4, n_times=24000\n",
      "    Range : 0 ... 23999 =      0.000 ...   119.995 secs\n",
      "Ready.\n",
      "Creating RawArray with float64 data, n_channels=4, n_times=24000\n",
      "    Range : 0 ... 23999 =      0.000 ...   119.995 secs\n",
      "Ready.\n",
      "Creating RawArray with float64 data, n_channels=4, n_times=24000\n",
      "    Range : 0 ... 23999 =      0.000 ...   119.995 secs\n",
      "Ready.\n",
      "Creating RawArray with float64 data, n_channels=4, n_times=24000\n",
      "    Range : 0 ... 23999 =      0.000 ...   119.995 secs\n",
      "Ready.\n"
     ]
    }
   ],
   "source": [
    "processed_data_map = {subject: sample_data_processor.process(subject_data_map[subject]) for subject in subject_data_map}"
   ],
   "metadata": {
    "collapsed": false,
    "ExecuteTime": {
     "end_time": "2024-03-11T05:20:19.257161Z",
     "start_time": "2024-03-11T05:20:17.522164Z"
    }
   },
   "id": "45137623ff340cd6",
   "execution_count": 18
  },
  {
   "cell_type": "markdown",
   "source": [
    "### Hashing"
   ],
   "metadata": {
    "collapsed": false
   },
   "id": "256aa1a8ad30843c"
  },
  {
   "cell_type": "markdown",
   "source": [
    "#### Token Normalization"
   ],
   "metadata": {
    "collapsed": false
   },
   "id": "570588497a87dce4"
  },
  {
   "cell_type": "code",
   "outputs": [],
   "source": [
    "normalized_data_map = {subject: normalize_vectors(processed_data_map[subject], subject_tokens_map[subject]) for subject in processed_data_map}"
   ],
   "metadata": {
    "collapsed": false,
    "ExecuteTime": {
     "end_time": "2024-03-11T05:20:20.528161Z",
     "start_time": "2024-03-11T05:20:19.258163Z"
    }
   },
   "id": "ffdcbb747d2b305e",
   "execution_count": 19
  },
  {
   "cell_type": "markdown",
   "source": [
    "#### Encoding"
   ],
   "metadata": {
    "collapsed": false
   },
   "id": "6636cd49c79953a1"
  },
  {
   "cell_type": "code",
   "outputs": [],
   "source": [
    "subject_hashes_map = {subject: make_map_of_threshold_hashes(normalized_data_map[subject]) for subject in normalized_data_map}"
   ],
   "metadata": {
    "collapsed": false,
    "ExecuteTime": {
     "end_time": "2024-03-11T05:20:20.574662Z",
     "start_time": "2024-03-11T05:20:20.529163Z"
    }
   },
   "id": "f752b778aa5d07ef",
   "execution_count": 20
  },
  {
   "cell_type": "markdown",
   "source": [
    "# Test Set Assembly"
   ],
   "metadata": {
    "collapsed": false
   },
   "id": "532edd13a1d7457e"
  },
  {
   "cell_type": "markdown",
   "source": [
    "## Gathering Test Sets"
   ],
   "metadata": {
    "collapsed": false
   },
   "id": "b8d16952f33d8817"
  },
  {
   "cell_type": "code",
   "outputs": [],
   "source": [
    "def make_threshold_test_sets(sample_hashes_map: typing.Dict[str, typing.Dict[str, typing.List[auth_biohash.hash.BioHash]]],\n",
    "                             template_hashes_map: typing.Dict[str, typing.Dict[str, auth_biohash.hash.BioHash]],\n",
    "                             target_subject: str) -> typing.List[ThresholdTestSet]:\n",
    "    threshold_test_sets: typing.Dict[str, ThresholdTestSet] = {\n",
    "        str(threshold): ThresholdTestSet(\n",
    "            threshold=threshold, template_hash=template_hashes_map[target_subject][str(threshold)],\n",
    "            positive_cases=[], negative_cases=[]\n",
    "        )\n",
    "        for threshold in AUTHENTICATION_THRESHOLDS\n",
    "    }\n",
    "    for subject in sample_hashes_map: \n",
    "        for threshold in sample_hashes_map[subject]:\n",
    "            test_set = threshold_test_sets[threshold]\n",
    "            if subject == target_subject:\n",
    "                test_set.positive_cases.extend(sample_hashes_map[subject][threshold])\n",
    "            else:\n",
    "                test_set.negative_cases.extend(sample_hashes_map[subject][threshold])\n",
    "    return list(threshold_test_sets.values())"
   ],
   "metadata": {
    "collapsed": false,
    "ExecuteTime": {
     "end_time": "2024-03-11T05:20:20.590162Z",
     "start_time": "2024-03-11T05:20:20.575661Z"
    }
   },
   "id": "247b0c7a4a4fffa8",
   "execution_count": 21
  },
  {
   "cell_type": "code",
   "outputs": [],
   "source": [
    "subject_test_sets = [\n",
    "    SubjectTestSet(\n",
    "        subject, \n",
    "        make_threshold_test_sets(\n",
    "            subject_hashes_map, subject_template_hashes_map, subject\n",
    "        )\n",
    "    ) \n",
    "    for subject in subject_hashes_map\n",
    "]"
   ],
   "metadata": {
    "collapsed": false,
    "ExecuteTime": {
     "end_time": "2024-03-11T05:20:20.605661Z",
     "start_time": "2024-03-11T05:20:20.591163Z"
    }
   },
   "id": "dfc60522e59349bb",
   "execution_count": 22
  },
  {
   "cell_type": "markdown",
   "source": [
    "## Generating Hash Tests"
   ],
   "metadata": {
    "collapsed": false
   },
   "id": "f30295b6e9df77a1"
  },
  {
   "cell_type": "code",
   "outputs": [],
   "source": [
    "def make_hash_tests(test_set: ThresholdTestSet) -> typing.List[HashTest]:\n",
    "    tests = []\n",
    "    # Use the minimum to ensure that the same amount of tests are possible from both populations\n",
    "    # (there are more than likely more negative cases than positive ones)\n",
    "    sample_size = min(len(test_set.positive_cases), len(test_set.negative_cases))\n",
    "    should_match_cases: typing.List[auth_biohash.hash.BioHash] = random.sample(test_set.positive_cases, sample_size)\n",
    "    should_not_match_cases: typing.List[auth_biohash.hash.BioHash] = random.sample(test_set.negative_cases, sample_size)\n",
    "    for case in should_match_cases:\n",
    "        tests.append(HashTest(True, (test_set.template_hash, case)))\n",
    "    for case in should_not_match_cases:\n",
    "        tests.append(HashTest(False, (test_set.template_hash, case)))\n",
    "    return tests\n",
    "\n",
    "def make_threshold_tests_map(subject_tests: typing.List[SubjectTestSet]) -> typing.Dict[str, typing.List[HashTest]]:\n",
    "    threshold_tests = {str(threshold): [] for threshold in AUTHENTICATION_THRESHOLDS}\n",
    "    for subject_test in subject_tests:\n",
    "        for threshold_test_data in subject_test.threshold_tests:\n",
    "            threshold_tests[str(threshold_test_data.threshold)].extend(\n",
    "                make_hash_tests(threshold_test_data)\n",
    "            )\n",
    "    return threshold_tests"
   ],
   "metadata": {
    "collapsed": false,
    "ExecuteTime": {
     "end_time": "2024-03-11T05:20:20.621161Z",
     "start_time": "2024-03-11T05:20:20.606663Z"
    }
   },
   "id": "fc2f37c53e848aa0",
   "execution_count": 23
  },
  {
   "cell_type": "code",
   "outputs": [],
   "source": [
    "threshold_tests_map = make_threshold_tests_map(subject_test_sets)"
   ],
   "metadata": {
    "collapsed": false,
    "ExecuteTime": {
     "end_time": "2024-03-11T05:20:20.636662Z",
     "start_time": "2024-03-11T05:20:20.622162Z"
    }
   },
   "id": "a3ed7544a11e44ae",
   "execution_count": 24
  },
  {
   "cell_type": "markdown",
   "source": [
    "# Execute Tests"
   ],
   "metadata": {
    "collapsed": false
   },
   "id": "a7640bc382687a81"
  },
  {
   "cell_type": "code",
   "outputs": [],
   "source": [
    "def run_threshold_tests(test_data: typing.Dict[str, typing.List[HashTest]]) -> typing.Dict[str, float]:\n",
    "    results = {}\n",
    "    for threshold in test_data:\n",
    "        hits = 0\n",
    "        for test in test_data[threshold]:\n",
    "            is_hit = test.run_test()\n",
    "            if is_hit:\n",
    "                hits += 1\n",
    "        results[threshold] = (hits / len(test_data[threshold])) * 100\n",
    "    return results"
   ],
   "metadata": {
    "collapsed": false,
    "ExecuteTime": {
     "end_time": "2024-03-11T05:20:20.652180Z",
     "start_time": "2024-03-11T05:20:20.637661Z"
    }
   },
   "id": "1646044c6bc81daa",
   "execution_count": 25
  },
  {
   "cell_type": "code",
   "outputs": [
    {
     "name": "stdout",
     "output_type": "stream",
     "text": [
      "Threshold: 0.1, Accuracy: 93.34140435835351%\n",
      "Threshold: 0.2, Accuracy: 95.15738498789347%\n",
      "Threshold: 0.3, Accuracy: 96.12590799031477%\n",
      "Threshold: 0.4, Accuracy: 92.61501210653753%\n",
      "Threshold: 0.5, Accuracy: 70.09685230024213%\n",
      "Threshold: 0.6, Accuracy: 51.3317191283293%\n",
      "Threshold: 0.7, Accuracy: 50.0%\n",
      "Threshold: 0.8, Accuracy: 50.0%\n",
      "Threshold: 0.9, Accuracy: 50.0%\n"
     ]
    }
   ],
   "source": [
    "test_results_map = run_threshold_tests(threshold_tests_map)\n",
    "for threshold_type, accuracy in test_results_map.items():\n",
    "    print(f'Threshold: {threshold_type}, Accuracy: {accuracy}%')"
   ],
   "metadata": {
    "collapsed": false,
    "ExecuteTime": {
     "end_time": "2024-03-11T05:20:20.714189Z",
     "start_time": "2024-03-11T05:20:20.653180Z"
    }
   },
   "id": "ae0bcfac89488908",
   "execution_count": 26
  }
 ],
 "metadata": {
  "kernelspec": {
   "display_name": "Python 3",
   "language": "python",
   "name": "python3"
  },
  "language_info": {
   "codemirror_mode": {
    "name": "ipython",
    "version": 2
   },
   "file_extension": ".py",
   "mimetype": "text/x-python",
   "name": "python",
   "nbconvert_exporter": "python",
   "pygments_lexer": "ipython2",
   "version": "2.7.6"
  }
 },
 "nbformat": 4,
 "nbformat_minor": 5
}
