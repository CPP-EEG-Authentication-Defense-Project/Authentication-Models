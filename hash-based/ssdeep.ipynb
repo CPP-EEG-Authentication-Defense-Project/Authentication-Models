{
 "cells": [
  {
   "cell_type": "markdown",
   "source": [
    "# Setup"
   ],
   "metadata": {
    "collapsed": false
   },
   "id": "e87529cbb033c6e0"
  },
  {
   "cell_type": "code",
   "outputs": [],
   "source": [
    "import numpy as np\n",
    "import dataclasses\n",
    "import typing\n",
    "import random\n",
    "import fuzzy_hash_lib\n",
    "import feature_encoding.threshold\n",
    "\n",
    "from eeg_auth_models_framework import data, pre_process, features, processor, normalization\n",
    "from eeg_auth_models_framework.utils import conversion"
   ],
   "metadata": {
    "collapsed": false,
    "ExecuteTime": {
     "end_time": "2024-03-27T06:50:54.346109Z",
     "start_time": "2024-03-27T06:50:54.343056Z"
    }
   },
   "id": "b9334d3cf4e5ce17",
   "execution_count": 40
  },
  {
   "cell_type": "markdown",
   "source": [
    "# Constants"
   ],
   "metadata": {
    "collapsed": false
   },
   "id": "7c078babbe01fd2e"
  },
  {
   "cell_type": "code",
   "outputs": [],
   "source": [
    "AUTHENTICATION_THRESHOLDS = [10, 20, 30, 40, 50, 60, 70, 80, 90]\n",
    "DATASET_SAMPLE_FREQ_HZ = 200\n",
    "DATA_CHANNEL_NAMES = ['T7','F8','Cz','P4']\n",
    "FREQUENCIES = [\n",
    "    pre_process.FrequencyBand(lower=8.0, upper=12.0, label='Alpha'),\n",
    "    pre_process.FrequencyBand(lower=12.0, upper=35.0, label='Beta'),\n",
    "    pre_process.FrequencyBand(lower=4.0, upper=8.0, label='Theta'),\n",
    "    pre_process.FrequencyBand(lower=35.0, upper=None, label='Gamma'),\n",
    "    pre_process.FrequencyBand(lower=None, upper=None, label='Raw'),\n",
    "]\n",
    "WINDOW_SIZE = 1200\n",
    "WINDOW_OVERLAP = 0\n",
    "BINARY_THRESHOLD = 127\n",
    "RESCALE_LOWER = 0\n",
    "RESCALE_UPPER = 255"
   ],
   "metadata": {
    "collapsed": false,
    "ExecuteTime": {
     "end_time": "2024-03-27T06:50:54.433155Z",
     "start_time": "2024-03-27T06:50:54.429105Z"
    }
   },
   "id": "74fc12d929fbaf80",
   "execution_count": 41
  },
  {
   "cell_type": "markdown",
   "source": [
    "# Utilities"
   ],
   "metadata": {
    "collapsed": false
   },
   "id": "35b01453c4b82d01"
  },
  {
   "cell_type": "code",
   "outputs": [],
   "source": [
    "@dataclasses.dataclass\n",
    "class HashTest:\n",
    "    expected_result: bool\n",
    "    threshold: int\n",
    "    hashes: typing.Tuple[fuzzy_hash_lib.FuzzyHash, fuzzy_hash_lib.FuzzyHash]\n",
    "    \n",
    "    def run_test(self):\n",
    "        similarity = fuzzy_hash_lib.FuzzyHash.compare(self.hashes[0], self.hashes[1])\n",
    "        is_match = similarity >= self.threshold\n",
    "        if is_match != self.expected_result:\n",
    "            return False\n",
    "        return True\n",
    "    \n",
    "@dataclasses.dataclass\n",
    "class ThresholdTestSet:\n",
    "    threshold: int\n",
    "    template_hash: fuzzy_hash_lib.FuzzyHash\n",
    "    positive_cases: typing.List[fuzzy_hash_lib.FuzzyHash]\n",
    "    negative_cases: typing.List[fuzzy_hash_lib.FuzzyHash]\n",
    "    \n",
    "@dataclasses.dataclass\n",
    "class SubjectTestSet:\n",
    "    subject_id: str\n",
    "    threshold_tests: typing.List[ThresholdTestSet]"
   ],
   "metadata": {
    "collapsed": false,
    "ExecuteTime": {
     "end_time": "2024-03-27T06:50:54.440641Z",
     "start_time": "2024-03-27T06:50:54.435035Z"
    }
   },
   "id": "d77afdaf2e375e98",
   "execution_count": 42
  },
  {
   "cell_type": "markdown",
   "source": [
    "# Configuration"
   ],
   "metadata": {
    "collapsed": false
   },
   "id": "bd4a1eacf6e16f5a"
  },
  {
   "cell_type": "code",
   "outputs": [],
   "source": [
    "downloader = data.AuditoryDataDownloader()\n",
    "reader = data.AuditoryDataReader()\n",
    "converter = conversion.MNEDataFrameConverter(\n",
    "    channels=DATA_CHANNEL_NAMES, \n",
    "    sample_frequency=DATASET_SAMPLE_FREQ_HZ\n",
    ")"
   ],
   "metadata": {
    "collapsed": false,
    "ExecuteTime": {
     "end_time": "2024-03-27T06:50:54.446886Z",
     "start_time": "2024-03-27T06:50:54.442251Z"
    }
   },
   "id": "75bfbf6579124b68",
   "execution_count": 43
  },
  {
   "cell_type": "markdown",
   "source": [
    "# Data Processing Setup"
   ],
   "metadata": {
    "collapsed": false
   },
   "id": "dd0f0fd7d636944e"
  },
  {
   "cell_type": "markdown",
   "source": [
    "## Template Hash Processor"
   ],
   "metadata": {
    "collapsed": false
   },
   "id": "76b7186e3249193c"
  },
  {
   "cell_type": "markdown",
   "source": [
    "### Pre-Processing Steps"
   ],
   "metadata": {
    "collapsed": false
   },
   "id": "f7ee06c4e477a5a4"
  },
  {
   "cell_type": "code",
   "outputs": [],
   "source": [
    "template_pre_process_steps = pre_process.PreProcessingPipeline([\n",
    "    pre_process.EEGBandpassFilterStep(\n",
    "        FREQUENCIES,\n",
    "        converter\n",
    "    )\n",
    "])"
   ],
   "metadata": {
    "collapsed": false,
    "ExecuteTime": {
     "end_time": "2024-03-27T06:50:54.452600Z",
     "start_time": "2024-03-27T06:50:54.448113Z"
    }
   },
   "id": "d3db3bb9c8b689c2",
   "execution_count": 44
  },
  {
   "cell_type": "markdown",
   "source": [
    "### Feature Extraction Steps"
   ],
   "metadata": {
    "collapsed": false
   },
   "id": "eea5c276c742bb8e"
  },
  {
   "cell_type": "code",
   "outputs": [],
   "source": [
    "template_feature_extraction_steps = features.FeatureExtractPipeline([\n",
    "    features.StatisticalFeatureExtractor([\n",
    "        features.StatisticalFeature.MIN,\n",
    "        features.StatisticalFeature.MAX,\n",
    "        features.StatisticalFeature.MEAN,\n",
    "        features.StatisticalFeature.ZERO_CROSSING_RATE\n",
    "    ])\n",
    "])"
   ],
   "metadata": {
    "collapsed": false,
    "ExecuteTime": {
     "end_time": "2024-03-27T06:50:54.458528Z",
     "start_time": "2024-03-27T06:50:54.453677Z"
    }
   },
   "id": "d5ef89540e783a6c",
   "execution_count": 45
  },
  {
   "cell_type": "markdown",
   "source": [
    "### Normalization Steps"
   ],
   "metadata": {
    "collapsed": false
   },
   "id": "2e41ff9f4766b9e9"
  },
  {
   "cell_type": "code",
   "outputs": [],
   "source": [
    "template_normalization_steps = normalization.NormalizationPipeline([\n",
    "    normalization.RescaleNormalizationStep(RESCALE_LOWER, RESCALE_UPPER),\n",
    "    normalization.HistogramEqualizationStep(RESCALE_LOWER, RESCALE_UPPER)\n",
    "])"
   ],
   "metadata": {
    "collapsed": false,
    "ExecuteTime": {
     "end_time": "2024-03-27T06:50:54.465820Z",
     "start_time": "2024-03-27T06:50:54.459982Z"
    }
   },
   "id": "fd430d300289bb7f",
   "execution_count": 46
  },
  {
   "cell_type": "markdown",
   "source": [
    "### Data Processor Setup"
   ],
   "metadata": {
    "collapsed": false
   },
   "id": "f0856751c508f732"
  },
  {
   "cell_type": "code",
   "outputs": [],
   "source": [
    "template_data_processor = processor.DataProcessor(\n",
    "    pre_process=template_pre_process_steps,\n",
    "    feature_extraction=template_feature_extraction_steps,\n",
    "    normalization=template_normalization_steps\n",
    ")"
   ],
   "metadata": {
    "collapsed": false,
    "ExecuteTime": {
     "end_time": "2024-03-27T06:50:54.474650Z",
     "start_time": "2024-03-27T06:50:54.466955Z"
    }
   },
   "id": "1b4049bbc6bb64e2",
   "execution_count": 47
  },
  {
   "cell_type": "markdown",
   "source": [
    "## Sample Data Processor"
   ],
   "metadata": {
    "collapsed": false
   },
   "id": "8b4dd223e88e171a"
  },
  {
   "cell_type": "markdown",
   "source": [
    "### Pre-Processing Steps"
   ],
   "metadata": {
    "collapsed": false
   },
   "id": "7ab9a2c1c60e36ae"
  },
  {
   "cell_type": "code",
   "outputs": [],
   "source": [
    "pre_process_steps = pre_process.PreProcessingPipeline([\n",
    "    pre_process.EEGBandpassFilterStep(\n",
    "        FREQUENCIES,\n",
    "        converter\n",
    "    ),\n",
    "    pre_process.DataWindowStep(WINDOW_SIZE, WINDOW_OVERLAP)\n",
    "])"
   ],
   "metadata": {
    "collapsed": false,
    "ExecuteTime": {
     "end_time": "2024-03-27T06:50:54.480791Z",
     "start_time": "2024-03-27T06:50:54.475785Z"
    }
   },
   "id": "cb1546861f56509e",
   "execution_count": 48
  },
  {
   "cell_type": "markdown",
   "source": [
    "### Feature Extraction Steps"
   ],
   "metadata": {
    "collapsed": false
   },
   "id": "41bf70ac66cb428e"
  },
  {
   "cell_type": "code",
   "outputs": [],
   "source": [
    "feature_extraction_steps = features.FeatureExtractPipeline([\n",
    "    features.StatisticalFeatureExtractor([\n",
    "        features.StatisticalFeature.MIN,\n",
    "        features.StatisticalFeature.MAX,\n",
    "        features.StatisticalFeature.MEAN,\n",
    "        features.StatisticalFeature.ZERO_CROSSING_RATE\n",
    "    ])\n",
    "])"
   ],
   "metadata": {
    "collapsed": false,
    "ExecuteTime": {
     "end_time": "2024-03-27T06:50:54.490399Z",
     "start_time": "2024-03-27T06:50:54.481983Z"
    }
   },
   "id": "9f7d923c4c079c73",
   "execution_count": 49
  },
  {
   "cell_type": "markdown",
   "source": [
    "### Normalization Steps"
   ],
   "metadata": {
    "collapsed": false
   },
   "id": "3e8cd3ca3a0d9dfd"
  },
  {
   "cell_type": "code",
   "outputs": [],
   "source": [
    "normalization_steps = normalization.NormalizationPipeline([\n",
    "    normalization.RescaleNormalizationStep(RESCALE_LOWER, RESCALE_UPPER),\n",
    "    normalization.HistogramEqualizationStep(RESCALE_LOWER, RESCALE_UPPER)\n",
    "])"
   ],
   "metadata": {
    "collapsed": false,
    "ExecuteTime": {
     "end_time": "2024-03-27T06:50:54.497554Z",
     "start_time": "2024-03-27T06:50:54.491901Z"
    }
   },
   "id": "dca47d264b318934",
   "execution_count": 50
  },
  {
   "cell_type": "markdown",
   "source": [
    "### Data Processor Setup"
   ],
   "metadata": {
    "collapsed": false
   },
   "id": "3e75d73ab1e1f8e8"
  },
  {
   "cell_type": "code",
   "outputs": [],
   "source": [
    "data_processor = processor.DataProcessor(\n",
    "    pre_process=pre_process_steps,\n",
    "    feature_extraction=feature_extraction_steps,\n",
    "    normalization=normalization_steps\n",
    ")"
   ],
   "metadata": {
    "collapsed": false,
    "ExecuteTime": {
     "end_time": "2024-03-27T06:50:54.503649Z",
     "start_time": "2024-03-27T06:50:54.499236Z"
    }
   },
   "id": "3c41639bc78597bd",
   "execution_count": 51
  },
  {
   "cell_type": "markdown",
   "source": [
    "# Subject Data"
   ],
   "metadata": {
    "collapsed": false
   },
   "id": "6cedb17c2a956396"
  },
  {
   "cell_type": "code",
   "outputs": [],
   "source": [
    "data_path = downloader.retrieve()\n",
    "subject_data_map = reader.format_data(data_path)"
   ],
   "metadata": {
    "collapsed": false,
    "ExecuteTime": {
     "end_time": "2024-03-27T06:50:54.559590Z",
     "start_time": "2024-03-27T06:50:54.505061Z"
    }
   },
   "id": "7797f267c21560a8",
   "execution_count": 52
  },
  {
   "cell_type": "markdown",
   "source": [
    "# Processing"
   ],
   "metadata": {
    "collapsed": false
   },
   "id": "e05e630093ab2c05"
  },
  {
   "cell_type": "markdown",
   "source": [
    "## Metadata"
   ],
   "metadata": {
    "collapsed": false
   },
   "id": "6b7e4fcaa7ef6cd7"
  },
  {
   "cell_type": "code",
   "outputs": [
    {
     "name": "stdout",
     "output_type": "stream",
     "text": [
      "Creating RawArray with float64 data, n_channels=4, n_times=24000\n",
      "    Range : 0 ... 23999 =      0.000 ...   119.995 secs\n",
      "Ready.\n",
      "Creating RawArray with float64 data, n_channels=4, n_times=24000\n",
      "    Range : 0 ... 23999 =      0.000 ...   119.995 secs\n",
      "Ready.\n",
      "Creating RawArray with float64 data, n_channels=4, n_times=24000\n",
      "    Range : 0 ... 23999 =      0.000 ...   119.995 secs\n",
      "Ready.\n",
      "Creating RawArray with float64 data, n_channels=4, n_times=24000\n",
      "    Range : 0 ... 23999 =      0.000 ...   119.995 secs\n",
      "Ready.\n"
     ]
    }
   ],
   "source": [
    "metadata_map = {subject: data_processor.extract_metadata(subject_data_map[subject]) for subject in subject_data_map}"
   ],
   "metadata": {
    "collapsed": false,
    "ExecuteTime": {
     "end_time": "2024-03-27T06:50:55.148484Z",
     "start_time": "2024-03-27T06:50:54.561550Z"
    }
   },
   "id": "987517e7c06a77a5",
   "execution_count": 53
  },
  {
   "cell_type": "markdown",
   "source": [
    "## Template Hash Setup"
   ],
   "metadata": {
    "collapsed": false
   },
   "id": "922b8afcbceadfb8"
  },
  {
   "cell_type": "markdown",
   "source": [
    "### Subject Data"
   ],
   "metadata": {
    "collapsed": false
   },
   "id": "eb45b4e3dfc73b71"
  },
  {
   "cell_type": "code",
   "outputs": [
    {
     "name": "stdout",
     "output_type": "stream",
     "text": [
      "Creating RawArray with float64 data, n_channels=4, n_times=24000\n",
      "    Range : 0 ... 23999 =      0.000 ...   119.995 secs\n",
      "Ready.\n",
      "Creating RawArray with float64 data, n_channels=4, n_times=24000\n",
      "    Range : 0 ... 23999 =      0.000 ...   119.995 secs\n",
      "Ready.\n",
      "Creating RawArray with float64 data, n_channels=4, n_times=24000\n",
      "    Range : 0 ... 23999 =      0.000 ...   119.995 secs\n",
      "Ready.\n",
      "Creating RawArray with float64 data, n_channels=4, n_times=24000\n",
      "    Range : 0 ... 23999 =      0.000 ...   119.995 secs\n",
      "Ready.\n"
     ]
    }
   ],
   "source": [
    "template_data_map = {\n",
    "    subject: template_data_processor.process(subject_data_map[subject], metadata_map[subject]) \n",
    "    for subject in subject_data_map\n",
    "}"
   ],
   "metadata": {
    "collapsed": false,
    "ExecuteTime": {
     "end_time": "2024-03-27T06:50:55.350504Z",
     "start_time": "2024-03-27T06:50:55.149845Z"
    }
   },
   "id": "3c55ac43b7e3bd3a",
   "execution_count": 54
  },
  {
   "cell_type": "markdown",
   "source": [
    "### Encoding"
   ],
   "metadata": {
    "collapsed": false
   },
   "id": "bdc28955aaed5138"
  },
  {
   "cell_type": "code",
   "outputs": [],
   "source": [
    "def hash_template_vectors(vectors_to_hash: typing.List[np.ndarray]) -> typing.List[fuzzy_hash_lib.FuzzyHash]:\n",
    "    encoder = feature_encoding.threshold.ThresholdBinaryEncoder(BINARY_THRESHOLD)\n",
    "    binary_vectors = [encoder.encode(v) for v in vectors_to_hash]\n",
    "    return [fuzzy_hash_lib.FuzzyHash.from_text(bv) for bv in binary_vectors]\n",
    "\n",
    "\n",
    "def make_template_hashes_map(template_data: typing.Dict[str, typing.List[np.ndarray]]) -> typing.Dict[str, fuzzy_hash_lib.FuzzyHash]:\n",
    "    template_hashes = {}\n",
    "    for subject in template_data:\n",
    "        hash_list = hash_template_vectors(template_data[subject])\n",
    "        if len(hash_list) != 1:\n",
    "            print(\n",
    "                f'Warning: there should be only one template hash per subject, '\n",
    "                f'but subject {subject} has {len(hash_list)} template hashes'\n",
    "            )\n",
    "        template_hashes[subject] = hash_list[0]\n",
    "    return template_hashes"
   ],
   "metadata": {
    "collapsed": false,
    "ExecuteTime": {
     "end_time": "2024-03-27T06:50:55.356288Z",
     "start_time": "2024-03-27T06:50:55.352178Z"
    }
   },
   "id": "6397bcfee2202953",
   "execution_count": 55
  },
  {
   "cell_type": "code",
   "outputs": [],
   "source": [
    "subject_template_hashes_map = make_template_hashes_map(template_data_map)"
   ],
   "metadata": {
    "collapsed": false,
    "ExecuteTime": {
     "end_time": "2024-03-27T06:50:55.364965Z",
     "start_time": "2024-03-27T06:50:55.357554Z"
    }
   },
   "id": "2070e189544aaee2",
   "execution_count": 56
  },
  {
   "cell_type": "markdown",
   "source": [
    "## Sample Hashes Setup"
   ],
   "metadata": {
    "collapsed": false
   },
   "id": "d47c3b5b30b09100"
  },
  {
   "cell_type": "markdown",
   "source": [
    "### Subject Data"
   ],
   "metadata": {
    "collapsed": false
   },
   "id": "61922cf3aa69029f"
  },
  {
   "cell_type": "code",
   "outputs": [
    {
     "name": "stdout",
     "output_type": "stream",
     "text": [
      "Creating RawArray with float64 data, n_channels=4, n_times=24000\n",
      "    Range : 0 ... 23999 =      0.000 ...   119.995 secs\n",
      "Ready.\n",
      "Creating RawArray with float64 data, n_channels=4, n_times=24000\n",
      "    Range : 0 ... 23999 =      0.000 ...   119.995 secs\n",
      "Ready.\n",
      "Creating RawArray with float64 data, n_channels=4, n_times=24000\n",
      "    Range : 0 ... 23999 =      0.000 ...   119.995 secs\n",
      "Ready.\n",
      "Creating RawArray with float64 data, n_channels=4, n_times=24000\n",
      "    Range : 0 ... 23999 =      0.000 ...   119.995 secs\n",
      "Ready.\n"
     ]
    }
   ],
   "source": [
    "processed_data_map = {\n",
    "    subject: data_processor.process(subject_data_map[subject], metadata_map[subject])\n",
    "    for subject in subject_data_map\n",
    "}"
   ],
   "metadata": {
    "collapsed": false,
    "ExecuteTime": {
     "end_time": "2024-03-27T06:50:55.929710Z",
     "start_time": "2024-03-27T06:50:55.366251Z"
    }
   },
   "id": "14571cab6a6e2b3f",
   "execution_count": 57
  },
  {
   "cell_type": "markdown",
   "source": [
    "### Encoding"
   ],
   "metadata": {
    "collapsed": false
   },
   "id": "a288831ff9f35c2a"
  },
  {
   "cell_type": "code",
   "outputs": [],
   "source": [
    "def hash_vectors(vectors_to_hash: typing.List[np.ndarray]) -> typing.List[fuzzy_hash_lib.FuzzyHash]:\n",
    "    encoder = feature_encoding.threshold.ThresholdBinaryEncoder(BINARY_THRESHOLD)\n",
    "    binary_vectors = [encoder.encode(v) for v in vectors_to_hash]\n",
    "    return [fuzzy_hash_lib.FuzzyHash.from_text(bv) for bv in binary_vectors]"
   ],
   "metadata": {
    "collapsed": false,
    "ExecuteTime": {
     "end_time": "2024-03-27T06:50:55.934032Z",
     "start_time": "2024-03-27T06:50:55.930953Z"
    }
   },
   "id": "cf09dd99058aea55",
   "execution_count": 58
  },
  {
   "cell_type": "code",
   "outputs": [],
   "source": [
    "subject_hashes_map = {subject: hash_vectors(processed_data_map[subject]) for subject in processed_data_map}"
   ],
   "metadata": {
    "collapsed": false,
    "ExecuteTime": {
     "end_time": "2024-03-27T06:50:55.954515Z",
     "start_time": "2024-03-27T06:50:55.935388Z"
    }
   },
   "id": "f673a37698b69800",
   "execution_count": 59
  },
  {
   "cell_type": "markdown",
   "source": [
    "# Test Set Assembly"
   ],
   "metadata": {
    "collapsed": false
   },
   "id": "9b07aa6f74300e14"
  },
  {
   "cell_type": "markdown",
   "source": [
    "## Gathering Test Sets"
   ],
   "metadata": {
    "collapsed": false
   },
   "id": "e2360b694971281a"
  },
  {
   "cell_type": "code",
   "outputs": [],
   "source": [
    "def make_threshold_test_sets(sample_hashes_map: typing.Dict[str, typing.List[fuzzy_hash_lib.FuzzyHash]],\n",
    "                             template_hashes_map: typing.Dict[str, fuzzy_hash_lib.FuzzyHash],\n",
    "                             target_subject: str) -> typing.List[ThresholdTestSet]:\n",
    "    results = []\n",
    "    for threshold in AUTHENTICATION_THRESHOLDS:\n",
    "        threshold_test_set = ThresholdTestSet(\n",
    "            positive_cases=[], negative_cases=[], \n",
    "            template_hash=template_hashes_map[target_subject], threshold=threshold\n",
    "        )\n",
    "        for subject in sample_hashes_map:\n",
    "            if subject == target_subject:\n",
    "                threshold_test_set.positive_cases.extend(sample_hashes_map[subject])\n",
    "            else:\n",
    "                threshold_test_set.negative_cases.extend(sample_hashes_map[subject])\n",
    "        results.append(threshold_test_set)\n",
    "    return results"
   ],
   "metadata": {
    "collapsed": false,
    "ExecuteTime": {
     "end_time": "2024-03-27T06:50:55.961206Z",
     "start_time": "2024-03-27T06:50:55.956565Z"
    }
   },
   "id": "1e6d30e2797ba855",
   "execution_count": 60
  },
  {
   "cell_type": "code",
   "outputs": [],
   "source": [
    "subject_test_sets = [\n",
    "    SubjectTestSet(\n",
    "        subject, \n",
    "        make_threshold_test_sets(subject_hashes_map, subject_template_hashes_map, subject)\n",
    "    )\n",
    "    for subject in subject_hashes_map\n",
    "]"
   ],
   "metadata": {
    "collapsed": false,
    "ExecuteTime": {
     "end_time": "2024-03-27T06:50:55.968786Z",
     "start_time": "2024-03-27T06:50:55.962355Z"
    }
   },
   "id": "6c59cc2fb5641508",
   "execution_count": 61
  },
  {
   "cell_type": "markdown",
   "source": [
    "## Generating Hash Tests"
   ],
   "metadata": {
    "collapsed": false
   },
   "id": "c688683e63476bca"
  },
  {
   "cell_type": "code",
   "outputs": [],
   "source": [
    "def make_hash_tests(test_set: ThresholdTestSet) -> typing.List[HashTest]:\n",
    "    tests = []\n",
    "    sample_size = min(len(test_set.positive_cases), len(test_set.negative_cases))\n",
    "    should_match_cases: typing.List[fuzzy_hash_lib.FuzzyHash] = random.sample(test_set.positive_cases, sample_size)\n",
    "    should_not_match_cases: typing.List[fuzzy_hash_lib.FuzzyHash] = random.sample(test_set.negative_cases, sample_size)\n",
    "    for sample in should_match_cases:\n",
    "        tests.append(HashTest(True, test_set.threshold, (test_set.template_hash, sample)))\n",
    "    for sample in should_not_match_cases:\n",
    "        tests.append(HashTest(False, test_set.threshold, (test_set.template_hash, sample)))\n",
    "    return tests\n",
    "\n",
    "def make_threshold_tests_map(subject_tests: typing.List[SubjectTestSet]) -> typing.Dict[str, typing.List[HashTest]]:\n",
    "    threshold_tests = {str(threshold): [] for threshold in AUTHENTICATION_THRESHOLDS}\n",
    "    for subject_test in subject_tests:\n",
    "        for threshold_test_data in subject_test.threshold_tests:\n",
    "            threshold_tests[str(threshold_test_data.threshold)].extend(\n",
    "                make_hash_tests(threshold_test_data)\n",
    "            )\n",
    "    return threshold_tests"
   ],
   "metadata": {
    "collapsed": false,
    "ExecuteTime": {
     "end_time": "2024-03-27T06:50:55.975082Z",
     "start_time": "2024-03-27T06:50:55.969822Z"
    }
   },
   "id": "cb9c52ad46dd1b9c",
   "execution_count": 62
  },
  {
   "cell_type": "code",
   "outputs": [],
   "source": [
    "threshold_tests_map = make_threshold_tests_map(subject_test_sets)"
   ],
   "metadata": {
    "collapsed": false,
    "ExecuteTime": {
     "end_time": "2024-03-27T06:50:55.984185Z",
     "start_time": "2024-03-27T06:50:55.976120Z"
    }
   },
   "id": "20fd005ef4293bf6",
   "execution_count": 63
  },
  {
   "cell_type": "markdown",
   "source": [
    "# Execute Tests"
   ],
   "metadata": {
    "collapsed": false
   },
   "id": "33f687ed4b216d82"
  },
  {
   "cell_type": "code",
   "outputs": [],
   "source": [
    "def run_threshold_tests(test_data: typing.Dict[str, typing.List[HashTest]]) -> typing.Dict[str, float]:\n",
    "    results = {}\n",
    "    for threshold in test_data:\n",
    "        hits = 0\n",
    "        for test in test_data[threshold]:\n",
    "            is_hit = test.run_test()\n",
    "            if is_hit:\n",
    "                hits += 1\n",
    "        results[threshold] = (hits / len(test_data[threshold])) * 100\n",
    "    return results"
   ],
   "metadata": {
    "collapsed": false,
    "ExecuteTime": {
     "end_time": "2024-03-27T06:50:55.996542Z",
     "start_time": "2024-03-27T06:50:55.985372Z"
    }
   },
   "id": "c194e9cedd588b3e",
   "execution_count": 64
  },
  {
   "cell_type": "code",
   "outputs": [
    {
     "name": "stdout",
     "output_type": "stream",
     "text": [
      "Threshold: 10, Accuracy: 49.375%\n",
      "Threshold: 20, Accuracy: 50.625%\n",
      "Threshold: 30, Accuracy: 72.5%\n",
      "Threshold: 40, Accuracy: 71.25%\n",
      "Threshold: 50, Accuracy: 75.0%\n",
      "Threshold: 60, Accuracy: 75.625%\n",
      "Threshold: 70, Accuracy: 72.5%\n",
      "Threshold: 80, Accuracy: 71.25%\n",
      "Threshold: 90, Accuracy: 73.75%\n"
     ]
    }
   ],
   "source": [
    "test_results_map = run_threshold_tests(threshold_tests_map)\n",
    "for threshold_type, accuracy in test_results_map.items():\n",
    "    print(f'Threshold: {threshold_type}, Accuracy: {accuracy}%')"
   ],
   "metadata": {
    "collapsed": false,
    "ExecuteTime": {
     "end_time": "2024-03-27T06:50:56.138967Z",
     "start_time": "2024-03-27T06:50:55.997686Z"
    }
   },
   "id": "195e97184d2409c4",
   "execution_count": 65
  }
 ],
 "metadata": {
  "kernelspec": {
   "display_name": "Python 3",
   "language": "python",
   "name": "python3"
  },
  "language_info": {
   "codemirror_mode": {
    "name": "ipython",
    "version": 2
   },
   "file_extension": ".py",
   "mimetype": "text/x-python",
   "name": "python",
   "nbconvert_exporter": "python",
   "pygments_lexer": "ipython2",
   "version": "2.7.6"
  }
 },
 "nbformat": 4,
 "nbformat_minor": 5
}
