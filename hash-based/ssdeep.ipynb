{
 "cells": [
  {
   "cell_type": "markdown",
   "source": [
    "# Setup"
   ],
   "metadata": {
    "collapsed": false
   },
   "id": "e87529cbb033c6e0"
  },
  {
   "cell_type": "code",
   "outputs": [],
   "source": [
    "import numpy as np\n",
    "import pandas as pd\n",
    "import dataclasses\n",
    "import enum\n",
    "import typing\n",
    "import random\n",
    "import fuzzy_hash_lib\n",
    "import feature_encoding.base\n",
    "import feature_encoding.threshold\n",
    "import feature_encoding.direct\n",
    "import feature_encoding.gray\n",
    "\n",
    "from eeg_auth_models_framework import data, pre_process, features, processor, normalization\n",
    "from eeg_auth_models_framework.utils import conversion"
   ],
   "metadata": {
    "collapsed": false,
    "ExecuteTime": {
     "end_time": "2024-04-04T05:28:18.484171Z",
     "start_time": "2024-04-04T05:28:17.027658Z"
    }
   },
   "id": "b9334d3cf4e5ce17",
   "execution_count": 1
  },
  {
   "cell_type": "markdown",
   "source": [
    "# Constants"
   ],
   "metadata": {
    "collapsed": false
   },
   "id": "7c078babbe01fd2e"
  },
  {
   "cell_type": "code",
   "outputs": [],
   "source": [
    "AUTHENTICATION_THRESHOLDS = [10, 20, 30, 40, 50, 60, 70, 80, 90]\n",
    "DATASET_SAMPLE_FREQ_HZ = 200\n",
    "DATA_CHANNEL_NAMES = ['T7','F8','Cz','P4']\n",
    "FREQUENCIES = [\n",
    "    pre_process.FrequencyBand(lower=8.0, upper=12.0, label='Alpha'),\n",
    "    pre_process.FrequencyBand(lower=12.0, upper=35.0, label='Beta'),\n",
    "    pre_process.FrequencyBand(lower=4.0, upper=8.0, label='Theta'),\n",
    "    pre_process.FrequencyBand(lower=35.0, upper=None, label='Gamma'),\n",
    "    pre_process.FrequencyBand(lower=None, upper=None, label='Raw'),\n",
    "]\n",
    "WINDOW_SIZE = 1200\n",
    "WINDOW_OVERLAP = 0\n",
    "BINARY_THRESHOLD = 127\n",
    "RESCALE_LOWER = 0\n",
    "RESCALE_UPPER = 255\n",
    "RANDOM_SEED = 100000000000\n",
    "RANDOM_GENERATOR = random.Random(RANDOM_SEED)"
   ],
   "metadata": {
    "collapsed": false,
    "ExecuteTime": {
     "end_time": "2024-04-04T05:28:18.499688Z",
     "start_time": "2024-04-04T05:28:18.485671Z"
    }
   },
   "id": "74fc12d929fbaf80",
   "execution_count": 2
  },
  {
   "cell_type": "markdown",
   "source": [
    "# Utilities"
   ],
   "metadata": {
    "collapsed": false
   },
   "id": "35b01453c4b82d01"
  },
  {
   "cell_type": "code",
   "outputs": [],
   "source": [
    "class TestResultType(enum.Enum):\n",
    "    TRUE_POSITIVE = enum.auto()\n",
    "    FALSE_POSITIVE = enum.auto()\n",
    "    FALSE_NEGATIVE = enum.auto()\n",
    "    TRUE_NEGATIVE = enum.auto()\n",
    "\n",
    "\n",
    "@dataclasses.dataclass\n",
    "class TestResultsSummary:\n",
    "    true_positives: int = 0\n",
    "    false_positives: int = 0\n",
    "    false_negatives: int = 0\n",
    "    true_negatives: int = 0\n",
    "    \n",
    "    @classmethod\n",
    "    def merge_summaries(cls, \n",
    "                        summary_a: 'TestResultsSummary', \n",
    "                        summary_b: 'TestResultsSummary') -> 'TestResultsSummary':\n",
    "        return TestResultsSummary(\n",
    "            true_positives=summary_a.true_positives + summary_b.true_positives,\n",
    "            false_positives=summary_a.false_positives + summary_b.false_positives,\n",
    "            false_negatives=summary_a.false_negatives + summary_b.false_negatives,\n",
    "            true_negatives=summary_a.true_negatives + summary_b.true_negatives\n",
    "        )\n",
    "    \n",
    "    def increment_count(self, result_type: TestResultType):\n",
    "        if result_type == TestResultType.TRUE_POSITIVE:\n",
    "            self.true_positives += 1\n",
    "        elif result_type == TestResultType.FALSE_POSITIVE:\n",
    "            self.false_positives += 1\n",
    "        elif result_type == TestResultType.FALSE_NEGATIVE:\n",
    "            self.false_negatives += 1\n",
    "        else:\n",
    "            self.true_negatives += 1\n",
    "    \n",
    "    @property\n",
    "    def accuracy(self) -> float:\n",
    "        hits = self.true_positives + self.true_negatives\n",
    "        total = (\n",
    "            self.true_positives + self.true_negatives + \n",
    "            self.false_positives + self.false_negatives\n",
    "        )\n",
    "        return hits / total\n",
    "\n",
    "    @property\n",
    "    def false_accept_rate(self) -> float:\n",
    "        return self.false_positives / (self.false_positives + self.true_negatives)\n",
    "    \n",
    "    @property\n",
    "    def false_reject_rate(self):\n",
    "        return self.false_negatives / (self.false_negatives + self.true_positives)\n",
    "\n",
    "\n",
    "@dataclasses.dataclass\n",
    "class HashTest:\n",
    "    expected_result: bool\n",
    "    threshold: int\n",
    "    if_expected: TestResultType\n",
    "    if_unexpected: TestResultType\n",
    "    hashes: typing.Tuple[fuzzy_hash_lib.FuzzyHash, fuzzy_hash_lib.FuzzyHash]\n",
    "    \n",
    "    def run_test(self):\n",
    "        similarity = fuzzy_hash_lib.FuzzyHash.compare(self.hashes[0], self.hashes[1])\n",
    "        is_match = similarity >= self.threshold\n",
    "        if is_match != self.expected_result:\n",
    "            return self.if_unexpected\n",
    "        return self.if_expected\n",
    "    \n",
    "@dataclasses.dataclass\n",
    "class ThresholdTestSet:\n",
    "    threshold: int\n",
    "    template_hash: fuzzy_hash_lib.FuzzyHash\n",
    "    positive_cases: typing.List[fuzzy_hash_lib.FuzzyHash]\n",
    "    negative_cases: typing.List[fuzzy_hash_lib.FuzzyHash]\n",
    "    \n",
    "@dataclasses.dataclass\n",
    "class SubjectTestSet:\n",
    "    subject_id: str\n",
    "    threshold_tests: typing.List[ThresholdTestSet]"
   ],
   "metadata": {
    "collapsed": false,
    "ExecuteTime": {
     "end_time": "2024-04-04T05:28:18.515188Z",
     "start_time": "2024-04-04T05:28:18.500690Z"
    }
   },
   "id": "d77afdaf2e375e98",
   "execution_count": 3
  },
  {
   "cell_type": "markdown",
   "source": [
    "# Configuration"
   ],
   "metadata": {
    "collapsed": false
   },
   "id": "bd4a1eacf6e16f5a"
  },
  {
   "cell_type": "code",
   "outputs": [],
   "source": [
    "downloader = data.AuditoryDataDownloader()\n",
    "reader = data.AuditoryDataReader()\n",
    "converter = conversion.MNEDataFrameConverter(\n",
    "    channels=DATA_CHANNEL_NAMES, \n",
    "    sample_frequency=DATASET_SAMPLE_FREQ_HZ\n",
    ")"
   ],
   "metadata": {
    "collapsed": false,
    "ExecuteTime": {
     "end_time": "2024-04-04T05:28:18.530688Z",
     "start_time": "2024-04-04T05:28:18.517689Z"
    }
   },
   "id": "75bfbf6579124b68",
   "execution_count": 4
  },
  {
   "cell_type": "markdown",
   "source": [
    "# Data Processing Setup"
   ],
   "metadata": {
    "collapsed": false
   },
   "id": "dd0f0fd7d636944e"
  },
  {
   "cell_type": "markdown",
   "source": [
    "## Template Hash Processor"
   ],
   "metadata": {
    "collapsed": false
   },
   "id": "76b7186e3249193c"
  },
  {
   "cell_type": "markdown",
   "source": [
    "### Pre-Processing Steps"
   ],
   "metadata": {
    "collapsed": false
   },
   "id": "f7ee06c4e477a5a4"
  },
  {
   "cell_type": "code",
   "outputs": [],
   "source": [
    "template_pre_process_steps = pre_process.PreProcessingPipeline([\n",
    "    pre_process.EEGBandpassFilterStep(\n",
    "        FREQUENCIES,\n",
    "        converter\n",
    "    )\n",
    "])"
   ],
   "metadata": {
    "collapsed": false,
    "ExecuteTime": {
     "end_time": "2024-04-04T05:28:18.546188Z",
     "start_time": "2024-04-04T05:28:18.532191Z"
    }
   },
   "id": "d3db3bb9c8b689c2",
   "execution_count": 5
  },
  {
   "cell_type": "markdown",
   "source": [
    "### Feature Extraction Steps"
   ],
   "metadata": {
    "collapsed": false
   },
   "id": "eea5c276c742bb8e"
  },
  {
   "cell_type": "code",
   "outputs": [],
   "source": [
    "template_feature_extraction_steps = features.FeatureExtractPipeline([\n",
    "    features.StatisticalFeatureExtractor([\n",
    "        features.StatisticalFeature.MIN,\n",
    "        features.StatisticalFeature.MAX,\n",
    "        features.StatisticalFeature.MEAN,\n",
    "        features.StatisticalFeature.ZERO_CROSSING_RATE\n",
    "    ])\n",
    "])"
   ],
   "metadata": {
    "collapsed": false,
    "ExecuteTime": {
     "end_time": "2024-04-04T05:28:18.561689Z",
     "start_time": "2024-04-04T05:28:18.547188Z"
    }
   },
   "id": "d5ef89540e783a6c",
   "execution_count": 6
  },
  {
   "cell_type": "markdown",
   "source": [
    "### Normalization Steps"
   ],
   "metadata": {
    "collapsed": false
   },
   "id": "2e41ff9f4766b9e9"
  },
  {
   "cell_type": "code",
   "outputs": [],
   "source": [
    "template_normalization_steps = normalization.NormalizationPipeline([\n",
    "    normalization.RescaleNormalizationStep(RESCALE_LOWER, RESCALE_UPPER),\n",
    "    normalization.HistogramEqualizationStep(RESCALE_LOWER, RESCALE_UPPER)\n",
    "])"
   ],
   "metadata": {
    "collapsed": false,
    "ExecuteTime": {
     "end_time": "2024-04-04T05:28:18.577188Z",
     "start_time": "2024-04-04T05:28:18.562688Z"
    }
   },
   "id": "fd430d300289bb7f",
   "execution_count": 7
  },
  {
   "cell_type": "markdown",
   "source": [
    "### Data Processor Setup"
   ],
   "metadata": {
    "collapsed": false
   },
   "id": "f0856751c508f732"
  },
  {
   "cell_type": "code",
   "outputs": [],
   "source": [
    "template_data_processor = processor.DataProcessor(\n",
    "    pre_process=template_pre_process_steps,\n",
    "    feature_extraction=template_feature_extraction_steps,\n",
    "    normalization=template_normalization_steps\n",
    ")"
   ],
   "metadata": {
    "collapsed": false,
    "ExecuteTime": {
     "end_time": "2024-04-04T05:28:18.592688Z",
     "start_time": "2024-04-04T05:28:18.578189Z"
    }
   },
   "id": "1b4049bbc6bb64e2",
   "execution_count": 8
  },
  {
   "cell_type": "markdown",
   "source": [
    "## Sample Data Processor"
   ],
   "metadata": {
    "collapsed": false
   },
   "id": "8b4dd223e88e171a"
  },
  {
   "cell_type": "markdown",
   "source": [
    "### Pre-Processing Steps"
   ],
   "metadata": {
    "collapsed": false
   },
   "id": "7ab9a2c1c60e36ae"
  },
  {
   "cell_type": "code",
   "outputs": [],
   "source": [
    "pre_process_steps = pre_process.PreProcessingPipeline([\n",
    "    pre_process.EEGBandpassFilterStep(\n",
    "        FREQUENCIES,\n",
    "        converter\n",
    "    ),\n",
    "    pre_process.DataWindowStep(WINDOW_SIZE, WINDOW_OVERLAP)\n",
    "])"
   ],
   "metadata": {
    "collapsed": false,
    "ExecuteTime": {
     "end_time": "2024-04-04T05:28:18.608188Z",
     "start_time": "2024-04-04T05:28:18.593689Z"
    }
   },
   "id": "cb1546861f56509e",
   "execution_count": 9
  },
  {
   "cell_type": "markdown",
   "source": [
    "### Feature Extraction Steps"
   ],
   "metadata": {
    "collapsed": false
   },
   "id": "41bf70ac66cb428e"
  },
  {
   "cell_type": "code",
   "outputs": [],
   "source": [
    "feature_extraction_steps = features.FeatureExtractPipeline([\n",
    "    features.StatisticalFeatureExtractor([\n",
    "        features.StatisticalFeature.MIN,\n",
    "        features.StatisticalFeature.MAX,\n",
    "        features.StatisticalFeature.MEAN,\n",
    "        features.StatisticalFeature.ZERO_CROSSING_RATE\n",
    "    ])\n",
    "])"
   ],
   "metadata": {
    "collapsed": false,
    "ExecuteTime": {
     "end_time": "2024-04-04T05:28:18.623688Z",
     "start_time": "2024-04-04T05:28:18.610690Z"
    }
   },
   "id": "9f7d923c4c079c73",
   "execution_count": 10
  },
  {
   "cell_type": "markdown",
   "source": [
    "### Normalization Steps"
   ],
   "metadata": {
    "collapsed": false
   },
   "id": "3e8cd3ca3a0d9dfd"
  },
  {
   "cell_type": "code",
   "outputs": [],
   "source": [
    "normalization_steps = normalization.NormalizationPipeline([\n",
    "    normalization.RescaleNormalizationStep(RESCALE_LOWER, RESCALE_UPPER),\n",
    "    normalization.HistogramEqualizationStep(RESCALE_LOWER, RESCALE_UPPER)\n",
    "])"
   ],
   "metadata": {
    "collapsed": false,
    "ExecuteTime": {
     "end_time": "2024-04-04T05:28:18.639188Z",
     "start_time": "2024-04-04T05:28:18.624688Z"
    }
   },
   "id": "dca47d264b318934",
   "execution_count": 11
  },
  {
   "cell_type": "markdown",
   "source": [
    "### Data Processor Setup"
   ],
   "metadata": {
    "collapsed": false
   },
   "id": "3e75d73ab1e1f8e8"
  },
  {
   "cell_type": "code",
   "outputs": [],
   "source": [
    "data_processor = processor.DataProcessor(\n",
    "    pre_process=pre_process_steps,\n",
    "    feature_extraction=feature_extraction_steps,\n",
    "    normalization=normalization_steps\n",
    ")"
   ],
   "metadata": {
    "collapsed": false,
    "ExecuteTime": {
     "end_time": "2024-04-04T05:28:18.654688Z",
     "start_time": "2024-04-04T05:28:18.640188Z"
    }
   },
   "id": "3c41639bc78597bd",
   "execution_count": 12
  },
  {
   "cell_type": "markdown",
   "source": [
    "# Subject Data"
   ],
   "metadata": {
    "collapsed": false
   },
   "id": "6cedb17c2a956396"
  },
  {
   "cell_type": "code",
   "outputs": [],
   "source": [
    "data_path = downloader.retrieve()\n",
    "subject_data_map = reader.format_data(data_path)"
   ],
   "metadata": {
    "collapsed": false,
    "ExecuteTime": {
     "end_time": "2024-04-04T05:28:18.995688Z",
     "start_time": "2024-04-04T05:28:18.655689Z"
    }
   },
   "id": "7797f267c21560a8",
   "execution_count": 13
  },
  {
   "cell_type": "markdown",
   "source": [
    "# Processing"
   ],
   "metadata": {
    "collapsed": false
   },
   "id": "e05e630093ab2c05"
  },
  {
   "cell_type": "markdown",
   "source": [
    "## Metadata"
   ],
   "metadata": {
    "collapsed": false
   },
   "id": "6b7e4fcaa7ef6cd7"
  },
  {
   "cell_type": "code",
   "outputs": [
    {
     "name": "stdout",
     "output_type": "stream",
     "text": [
      "Creating RawArray with float64 data, n_channels=4, n_times=24000\n",
      "    Range : 0 ... 23999 =      0.000 ...   119.995 secs\n",
      "Ready.\n",
      "Creating RawArray with float64 data, n_channels=4, n_times=24000\n",
      "    Range : 0 ... 23999 =      0.000 ...   119.995 secs\n",
      "Ready.\n",
      "Creating RawArray with float64 data, n_channels=4, n_times=24000\n",
      "    Range : 0 ... 23999 =      0.000 ...   119.995 secs\n",
      "Ready.\n",
      "Creating RawArray with float64 data, n_channels=4, n_times=24000\n",
      "    Range : 0 ... 23999 =      0.000 ...   119.995 secs\n",
      "Ready.\n",
      "Creating RawArray with float64 data, n_channels=4, n_times=40114\n",
      "    Range : 0 ... 40113 =      0.000 ...   200.565 secs\n",
      "Ready.\n",
      "Creating RawArray with float64 data, n_channels=4, n_times=24000\n",
      "    Range : 0 ... 23999 =      0.000 ...   119.995 secs\n",
      "Ready.\n",
      "Creating RawArray with float64 data, n_channels=4, n_times=24000\n",
      "    Range : 0 ... 23999 =      0.000 ...   119.995 secs\n",
      "Ready.\n",
      "Creating RawArray with float64 data, n_channels=4, n_times=24000\n",
      "    Range : 0 ... 23999 =      0.000 ...   119.995 secs\n",
      "Ready.\n",
      "Creating RawArray with float64 data, n_channels=4, n_times=24000\n",
      "    Range : 0 ... 23999 =      0.000 ...   119.995 secs\n",
      "Ready.\n",
      "Creating RawArray with float64 data, n_channels=4, n_times=24000\n",
      "    Range : 0 ... 23999 =      0.000 ...   119.995 secs\n",
      "Ready.\n",
      "Creating RawArray with float64 data, n_channels=4, n_times=24000\n",
      "    Range : 0 ... 23999 =      0.000 ...   119.995 secs\n",
      "Ready.\n",
      "Creating RawArray with float64 data, n_channels=4, n_times=24000\n",
      "    Range : 0 ... 23999 =      0.000 ...   119.995 secs\n",
      "Ready.\n",
      "Creating RawArray with float64 data, n_channels=4, n_times=24000\n",
      "    Range : 0 ... 23999 =      0.000 ...   119.995 secs\n",
      "Ready.\n",
      "Creating RawArray with float64 data, n_channels=4, n_times=24000\n",
      "    Range : 0 ... 23999 =      0.000 ...   119.995 secs\n",
      "Ready.\n",
      "Creating RawArray with float64 data, n_channels=4, n_times=24000\n",
      "    Range : 0 ... 23999 =      0.000 ...   119.995 secs\n",
      "Ready.\n",
      "Creating RawArray with float64 data, n_channels=4, n_times=24000\n",
      "    Range : 0 ... 23999 =      0.000 ...   119.995 secs\n",
      "Ready.\n",
      "Creating RawArray with float64 data, n_channels=4, n_times=24000\n",
      "    Range : 0 ... 23999 =      0.000 ...   119.995 secs\n",
      "Ready.\n",
      "Creating RawArray with float64 data, n_channels=4, n_times=24000\n",
      "    Range : 0 ... 23999 =      0.000 ...   119.995 secs\n",
      "Ready.\n",
      "Creating RawArray with float64 data, n_channels=4, n_times=24000\n",
      "    Range : 0 ... 23999 =      0.000 ...   119.995 secs\n",
      "Ready.\n",
      "Creating RawArray with float64 data, n_channels=4, n_times=24000\n",
      "    Range : 0 ... 23999 =      0.000 ...   119.995 secs\n",
      "Ready.\n"
     ]
    }
   ],
   "source": [
    "metadata_map = {subject: data_processor.extract_metadata(subject_data_map[subject]) for subject in subject_data_map}"
   ],
   "metadata": {
    "collapsed": false,
    "ExecuteTime": {
     "end_time": "2024-04-04T05:28:21.894192Z",
     "start_time": "2024-04-04T05:28:18.997190Z"
    }
   },
   "id": "987517e7c06a77a5",
   "execution_count": 14
  },
  {
   "cell_type": "markdown",
   "source": [
    "## Template Hash Setup"
   ],
   "metadata": {
    "collapsed": false
   },
   "id": "922b8afcbceadfb8"
  },
  {
   "cell_type": "markdown",
   "source": [
    "### Processing"
   ],
   "metadata": {
    "collapsed": false
   },
   "id": "eb45b4e3dfc73b71"
  },
  {
   "cell_type": "code",
   "outputs": [
    {
     "name": "stdout",
     "output_type": "stream",
     "text": [
      "Creating RawArray with float64 data, n_channels=4, n_times=24000\n",
      "    Range : 0 ... 23999 =      0.000 ...   119.995 secs\n",
      "Ready.\n",
      "Creating RawArray with float64 data, n_channels=4, n_times=24000\n",
      "    Range : 0 ... 23999 =      0.000 ...   119.995 secs\n",
      "Ready.\n",
      "Creating RawArray with float64 data, n_channels=4, n_times=24000\n",
      "    Range : 0 ... 23999 =      0.000 ...   119.995 secs\n",
      "Ready.\n",
      "Creating RawArray with float64 data, n_channels=4, n_times=24000\n",
      "    Range : 0 ... 23999 =      0.000 ...   119.995 secs\n",
      "Ready.\n",
      "Creating RawArray with float64 data, n_channels=4, n_times=40114\n",
      "    Range : 0 ... 40113 =      0.000 ...   200.565 secs\n",
      "Ready.\n",
      "Creating RawArray with float64 data, n_channels=4, n_times=24000\n",
      "    Range : 0 ... 23999 =      0.000 ...   119.995 secs\n",
      "Ready.\n",
      "Creating RawArray with float64 data, n_channels=4, n_times=24000\n",
      "    Range : 0 ... 23999 =      0.000 ...   119.995 secs\n",
      "Ready.\n",
      "Creating RawArray with float64 data, n_channels=4, n_times=24000\n",
      "    Range : 0 ... 23999 =      0.000 ...   119.995 secs\n",
      "Ready.\n",
      "Creating RawArray with float64 data, n_channels=4, n_times=24000\n",
      "    Range : 0 ... 23999 =      0.000 ...   119.995 secs\n",
      "Ready.\n",
      "Creating RawArray with float64 data, n_channels=4, n_times=24000\n",
      "    Range : 0 ... 23999 =      0.000 ...   119.995 secs\n",
      "Ready.\n",
      "Creating RawArray with float64 data, n_channels=4, n_times=24000\n",
      "    Range : 0 ... 23999 =      0.000 ...   119.995 secs\n",
      "Ready.\n",
      "Creating RawArray with float64 data, n_channels=4, n_times=24000\n",
      "    Range : 0 ... 23999 =      0.000 ...   119.995 secs\n",
      "Ready.\n",
      "Creating RawArray with float64 data, n_channels=4, n_times=24000\n",
      "    Range : 0 ... 23999 =      0.000 ...   119.995 secs\n",
      "Ready.\n",
      "Creating RawArray with float64 data, n_channels=4, n_times=24000\n",
      "    Range : 0 ... 23999 =      0.000 ...   119.995 secs\n",
      "Ready.\n",
      "Creating RawArray with float64 data, n_channels=4, n_times=24000\n",
      "    Range : 0 ... 23999 =      0.000 ...   119.995 secs\n",
      "Ready.\n",
      "Creating RawArray with float64 data, n_channels=4, n_times=24000\n",
      "    Range : 0 ... 23999 =      0.000 ...   119.995 secs\n",
      "Ready.\n",
      "Creating RawArray with float64 data, n_channels=4, n_times=24000\n",
      "    Range : 0 ... 23999 =      0.000 ...   119.995 secs\n",
      "Ready.\n",
      "Creating RawArray with float64 data, n_channels=4, n_times=24000\n",
      "    Range : 0 ... 23999 =      0.000 ...   119.995 secs\n",
      "Ready.\n",
      "Creating RawArray with float64 data, n_channels=4, n_times=24000\n",
      "    Range : 0 ... 23999 =      0.000 ...   119.995 secs\n",
      "Ready.\n",
      "Creating RawArray with float64 data, n_channels=4, n_times=24000\n",
      "    Range : 0 ... 23999 =      0.000 ...   119.995 secs\n",
      "Ready.\n"
     ]
    }
   ],
   "source": [
    "template_data_map = {\n",
    "    subject: template_data_processor.process(subject_data_map[subject], metadata_map[subject]) \n",
    "    for subject in subject_data_map\n",
    "}"
   ],
   "metadata": {
    "collapsed": false,
    "ExecuteTime": {
     "end_time": "2024-04-04T05:28:22.870688Z",
     "start_time": "2024-04-04T05:28:21.895691Z"
    }
   },
   "id": "3c55ac43b7e3bd3a",
   "execution_count": 15
  },
  {
   "cell_type": "markdown",
   "source": [
    "### Hashing"
   ],
   "metadata": {
    "collapsed": false
   },
   "id": "bdc28955aaed5138"
  },
  {
   "cell_type": "code",
   "outputs": [],
   "source": [
    "SubjectTemplatePair = typing.Tuple[str, fuzzy_hash_lib.FuzzyHash]\n",
    "SubjectProcessedData = typing.Dict[str, typing.List[np.ndarray]]"
   ],
   "metadata": {
    "collapsed": false,
    "ExecuteTime": {
     "end_time": "2024-04-04T05:28:22.886188Z",
     "start_time": "2024-04-04T05:28:22.872189Z"
    }
   },
   "id": "7e6434d226cf753d",
   "execution_count": 16
  },
  {
   "cell_type": "code",
   "outputs": [],
   "source": [
    "def hash_vectors(vectors_to_hash: typing.List[np.ndarray], encoder: feature_encoding.base.BinaryEncoder) -> typing.List[fuzzy_hash_lib.FuzzyHash]:\n",
    "    binary_vectors = [encoder.encode(v) for v in vectors_to_hash]\n",
    "    return [fuzzy_hash_lib.FuzzyHash.from_text(bv) for bv in binary_vectors]\n",
    "\n",
    "\n",
    "def iter_template_hashes(template_data: SubjectProcessedData, encoder: feature_encoding.base.BinaryEncoder) -> typing.Iterator[SubjectTemplatePair]:\n",
    "    for subject in template_data:\n",
    "        hashes_list = hash_vectors(template_data[subject], encoder)\n",
    "        if len(hashes_list) != 1:\n",
    "            print(\n",
    "                f'[warning] There should be only one template hash per subject, '\n",
    "                f'but subject {subject} has {len(hashes_list)} template hashes'\n",
    "            )\n",
    "            continue\n",
    "        yield subject, hashes_list[0]"
   ],
   "metadata": {
    "collapsed": false,
    "ExecuteTime": {
     "end_time": "2024-04-04T05:28:22.901689Z",
     "start_time": "2024-04-04T05:28:22.887190Z"
    }
   },
   "id": "a2b982db6a2fadd1",
   "execution_count": 17
  },
  {
   "cell_type": "markdown",
   "source": [
    "## Sample Hashes Setup"
   ],
   "metadata": {
    "collapsed": false
   },
   "id": "d47c3b5b30b09100"
  },
  {
   "cell_type": "markdown",
   "source": [
    "### Subject Data"
   ],
   "metadata": {
    "collapsed": false
   },
   "id": "61922cf3aa69029f"
  },
  {
   "cell_type": "code",
   "outputs": [
    {
     "name": "stdout",
     "output_type": "stream",
     "text": [
      "Creating RawArray with float64 data, n_channels=4, n_times=24000\n",
      "    Range : 0 ... 23999 =      0.000 ...   119.995 secs\n",
      "Ready.\n",
      "Creating RawArray with float64 data, n_channels=4, n_times=24000\n",
      "    Range : 0 ... 23999 =      0.000 ...   119.995 secs\n",
      "Ready.\n",
      "Creating RawArray with float64 data, n_channels=4, n_times=24000\n",
      "    Range : 0 ... 23999 =      0.000 ...   119.995 secs\n",
      "Ready.\n",
      "Creating RawArray with float64 data, n_channels=4, n_times=24000\n",
      "    Range : 0 ... 23999 =      0.000 ...   119.995 secs\n",
      "Ready.\n",
      "Creating RawArray with float64 data, n_channels=4, n_times=40114\n",
      "    Range : 0 ... 40113 =      0.000 ...   200.565 secs\n",
      "Ready.\n",
      "Creating RawArray with float64 data, n_channels=4, n_times=24000\n",
      "    Range : 0 ... 23999 =      0.000 ...   119.995 secs\n",
      "Ready.\n",
      "Creating RawArray with float64 data, n_channels=4, n_times=24000\n",
      "    Range : 0 ... 23999 =      0.000 ...   119.995 secs\n",
      "Ready.\n",
      "Creating RawArray with float64 data, n_channels=4, n_times=24000\n",
      "    Range : 0 ... 23999 =      0.000 ...   119.995 secs\n",
      "Ready.\n",
      "Creating RawArray with float64 data, n_channels=4, n_times=24000\n",
      "    Range : 0 ... 23999 =      0.000 ...   119.995 secs\n",
      "Ready.\n",
      "Creating RawArray with float64 data, n_channels=4, n_times=24000\n",
      "    Range : 0 ... 23999 =      0.000 ...   119.995 secs\n",
      "Ready.\n",
      "Creating RawArray with float64 data, n_channels=4, n_times=24000\n",
      "    Range : 0 ... 23999 =      0.000 ...   119.995 secs\n",
      "Ready.\n",
      "Creating RawArray with float64 data, n_channels=4, n_times=24000\n",
      "    Range : 0 ... 23999 =      0.000 ...   119.995 secs\n",
      "Ready.\n",
      "Creating RawArray with float64 data, n_channels=4, n_times=24000\n",
      "    Range : 0 ... 23999 =      0.000 ...   119.995 secs\n",
      "Ready.\n",
      "Creating RawArray with float64 data, n_channels=4, n_times=24000\n",
      "    Range : 0 ... 23999 =      0.000 ...   119.995 secs\n",
      "Ready.\n",
      "Creating RawArray with float64 data, n_channels=4, n_times=24000\n",
      "    Range : 0 ... 23999 =      0.000 ...   119.995 secs\n",
      "Ready.\n",
      "Creating RawArray with float64 data, n_channels=4, n_times=24000\n",
      "    Range : 0 ... 23999 =      0.000 ...   119.995 secs\n",
      "Ready.\n",
      "Creating RawArray with float64 data, n_channels=4, n_times=24000\n",
      "    Range : 0 ... 23999 =      0.000 ...   119.995 secs\n",
      "Ready.\n",
      "Creating RawArray with float64 data, n_channels=4, n_times=24000\n",
      "    Range : 0 ... 23999 =      0.000 ...   119.995 secs\n",
      "Ready.\n",
      "Creating RawArray with float64 data, n_channels=4, n_times=24000\n",
      "    Range : 0 ... 23999 =      0.000 ...   119.995 secs\n",
      "Ready.\n",
      "Creating RawArray with float64 data, n_channels=4, n_times=24000\n",
      "    Range : 0 ... 23999 =      0.000 ...   119.995 secs\n",
      "Ready.\n"
     ]
    }
   ],
   "source": [
    "processed_data_map = {\n",
    "    subject: data_processor.process(subject_data_map[subject], metadata_map[subject])\n",
    "    for subject in subject_data_map\n",
    "}"
   ],
   "metadata": {
    "collapsed": false,
    "ExecuteTime": {
     "end_time": "2024-04-04T05:28:25.459188Z",
     "start_time": "2024-04-04T05:28:22.903189Z"
    }
   },
   "id": "14571cab6a6e2b3f",
   "execution_count": 18
  },
  {
   "cell_type": "markdown",
   "source": [
    "### Hashing"
   ],
   "metadata": {
    "collapsed": false
   },
   "id": "a288831ff9f35c2a"
  },
  {
   "cell_type": "code",
   "outputs": [],
   "source": [
    "SubjectSamplesPair = typing.Tuple[str, typing.List[fuzzy_hash_lib.FuzzyHash]]"
   ],
   "metadata": {
    "collapsed": false,
    "ExecuteTime": {
     "end_time": "2024-04-04T05:28:25.474688Z",
     "start_time": "2024-04-04T05:28:25.460189Z"
    }
   },
   "id": "b238964a0fbfffbc",
   "execution_count": 19
  },
  {
   "cell_type": "code",
   "outputs": [],
   "source": [
    "def iter_sample_hashes(data_map: SubjectProcessedData, encoder: feature_encoding.base.BinaryEncoder) -> typing.Iterator[SubjectSamplesPair]:\n",
    "    for subject in data_map:\n",
    "        vectors = hash_vectors(data_map[subject], encoder)\n",
    "        yield subject, vectors"
   ],
   "metadata": {
    "collapsed": false,
    "ExecuteTime": {
     "end_time": "2024-04-04T05:28:25.490188Z",
     "start_time": "2024-04-04T05:28:25.475692Z"
    }
   },
   "id": "db0180b3ef2eeb0d",
   "execution_count": 20
  },
  {
   "cell_type": "markdown",
   "source": [
    "# Test Set Assembly"
   ],
   "metadata": {
    "collapsed": false
   },
   "id": "9b07aa6f74300e14"
  },
  {
   "cell_type": "markdown",
   "source": [
    "## Gathering Test Sets"
   ],
   "metadata": {
    "collapsed": false
   },
   "id": "e2360b694971281a"
  },
  {
   "cell_type": "code",
   "outputs": [],
   "source": [
    "def iter_subject_test_sets(template_data: SubjectProcessedData, sample_data: SubjectProcessedData, encoder: feature_encoding.base.BinaryEncoder) -> typing.Iterator[SubjectTestSet]:\n",
    "    for target_subject, template_hash in iter_template_hashes(template_data, encoder):\n",
    "        threshold_tests = []\n",
    "        for threshold in AUTHENTICATION_THRESHOLDS:\n",
    "            threshold_test_set = ThresholdTestSet(\n",
    "                positive_cases=[], negative_cases=[], \n",
    "                template_hash=template_hash, threshold=threshold\n",
    "            )\n",
    "            for subject, hashes in iter_sample_hashes(sample_data, encoder):\n",
    "                if subject == target_subject:\n",
    "                    threshold_test_set.positive_cases.extend(hashes)\n",
    "                else:\n",
    "                    threshold_test_set.negative_cases.extend(hashes)\n",
    "            threshold_tests.append(threshold_test_set)\n",
    "        yield SubjectTestSet(\n",
    "            subject_id=target_subject,\n",
    "            threshold_tests=threshold_tests\n",
    "        )"
   ],
   "metadata": {
    "collapsed": false,
    "ExecuteTime": {
     "end_time": "2024-04-04T05:28:25.505690Z",
     "start_time": "2024-04-04T05:28:25.491190Z"
    }
   },
   "id": "fd39807ddd3d9d41",
   "execution_count": 21
  },
  {
   "cell_type": "markdown",
   "source": [
    "## Generating Hash Tests"
   ],
   "metadata": {
    "collapsed": false
   },
   "id": "c688683e63476bca"
  },
  {
   "cell_type": "code",
   "outputs": [],
   "source": [
    "ThresholdTestsPair = typing.Tuple[str, typing.List[HashTest]]"
   ],
   "metadata": {
    "collapsed": false,
    "ExecuteTime": {
     "end_time": "2024-04-04T05:28:25.521189Z",
     "start_time": "2024-04-04T05:28:25.506690Z"
    }
   },
   "id": "7bd675d75ce04fc3",
   "execution_count": 22
  },
  {
   "cell_type": "code",
   "outputs": [],
   "source": [
    "def make_hash_tests(test_set: ThresholdTestSet) -> typing.List[HashTest]:\n",
    "    tests = []\n",
    "    sample_size = min(len(test_set.positive_cases), len(test_set.negative_cases))\n",
    "    should_match_cases: typing.List[fuzzy_hash_lib.FuzzyHash] = RANDOM_GENERATOR.sample(test_set.positive_cases, sample_size)\n",
    "    should_not_match_cases: typing.List[fuzzy_hash_lib.FuzzyHash] = RANDOM_GENERATOR.sample(test_set.negative_cases, sample_size)\n",
    "    for sample in should_match_cases:\n",
    "        tests.append(\n",
    "            HashTest(\n",
    "                expected_result=True, \n",
    "                threshold=test_set.threshold, \n",
    "                hashes=(test_set.template_hash, sample),\n",
    "                if_expected=TestResultType.TRUE_POSITIVE,\n",
    "                if_unexpected=TestResultType.FALSE_NEGATIVE\n",
    "            )\n",
    "        )\n",
    "    for sample in should_not_match_cases:\n",
    "        tests.append(\n",
    "            HashTest(\n",
    "                expected_result=False, \n",
    "                threshold=test_set.threshold, \n",
    "                hashes=(test_set.template_hash, sample),\n",
    "                if_expected=TestResultType.TRUE_NEGATIVE,\n",
    "                if_unexpected=TestResultType.FALSE_POSITIVE\n",
    "            )\n",
    "        )\n",
    "    return tests\n",
    "\n",
    "\n",
    "def iter_hash_tests(template_data: SubjectProcessedData, sample_data: SubjectProcessedData, encoder: feature_encoding.base.BinaryEncoder) -> ThresholdTestsPair:\n",
    "    for subject_test_set in iter_subject_test_sets(template_data, sample_data, encoder):\n",
    "        for threshold_test_data in subject_test_set.threshold_tests:\n",
    "            yield threshold_test_data.threshold, make_hash_tests(threshold_test_data)"
   ],
   "metadata": {
    "collapsed": false,
    "ExecuteTime": {
     "end_time": "2024-04-04T05:28:25.536688Z",
     "start_time": "2024-04-04T05:28:25.522189Z"
    }
   },
   "id": "cb9c52ad46dd1b9c",
   "execution_count": 23
  },
  {
   "cell_type": "markdown",
   "source": [
    "# Execute Tests"
   ],
   "metadata": {
    "collapsed": false
   },
   "id": "33f687ed4b216d82"
  },
  {
   "cell_type": "code",
   "outputs": [],
   "source": [
    "def run_hash_tests(hash_tests: typing.List[HashTest]) -> TestResultsSummary:\n",
    "    summary = TestResultsSummary()\n",
    "    for test in hash_tests:\n",
    "        result_type = test.run_test()\n",
    "        summary.increment_count(result_type)\n",
    "    return summary"
   ],
   "metadata": {
    "collapsed": false,
    "ExecuteTime": {
     "end_time": "2024-04-04T05:28:25.552190Z",
     "start_time": "2024-04-04T05:28:25.537692Z"
    }
   },
   "id": "e077206a6e179ebc",
   "execution_count": 24
  },
  {
   "cell_type": "markdown",
   "source": [
    "## Threshold-Based Encoding"
   ],
   "metadata": {
    "collapsed": false
   },
   "id": "d1bf7b7f961beb28"
  },
  {
   "cell_type": "code",
   "outputs": [],
   "source": [
    "threshold_results_map = {}\n",
    "threshold_encoder = feature_encoding.threshold.ThresholdBinaryEncoder(BINARY_THRESHOLD)\n",
    "threshold_test_args = (\n",
    "    template_data_map, processed_data_map, threshold_encoder\n",
    ")\n",
    "for threshold_type, hash_test_data in iter_hash_tests(*threshold_test_args):\n",
    "    if threshold_type not in threshold_results_map:\n",
    "        threshold_results_map[threshold_type] = TestResultsSummary()\n",
    "    threshold_results_map[threshold_type] = TestResultsSummary.merge_summaries(\n",
    "        threshold_results_map[threshold_type],\n",
    "        run_hash_tests(hash_test_data)\n",
    "    )"
   ],
   "metadata": {
    "collapsed": false,
    "ExecuteTime": {
     "end_time": "2024-04-04T05:28:38.820188Z",
     "start_time": "2024-04-04T05:28:25.553189Z"
    }
   },
   "id": "e3dd953ac30d82d4",
   "execution_count": 25
  },
  {
   "cell_type": "code",
   "outputs": [
    {
     "data": {
      "text/plain": "   Threshold       FAR       FRR  Accuracy\n0         10  0.055690  0.181598  0.881356\n1         20  0.055690  0.181598  0.881356\n2         30  0.004843  0.283293  0.855932\n3         40  0.004843  0.285714  0.854722\n4         50  0.002421  0.285714  0.855932\n5         60  0.004843  0.285714  0.854722\n6         70  0.000000  0.285714  0.857143\n7         80  0.002421  0.285714  0.855932\n8         90  0.004843  0.285714  0.854722",
      "text/html": "<div>\n<style scoped>\n    .dataframe tbody tr th:only-of-type {\n        vertical-align: middle;\n    }\n\n    .dataframe tbody tr th {\n        vertical-align: top;\n    }\n\n    .dataframe thead th {\n        text-align: right;\n    }\n</style>\n<table border=\"1\" class=\"dataframe\">\n  <thead>\n    <tr style=\"text-align: right;\">\n      <th></th>\n      <th>Threshold</th>\n      <th>FAR</th>\n      <th>FRR</th>\n      <th>Accuracy</th>\n    </tr>\n  </thead>\n  <tbody>\n    <tr>\n      <th>0</th>\n      <td>10</td>\n      <td>0.055690</td>\n      <td>0.181598</td>\n      <td>0.881356</td>\n    </tr>\n    <tr>\n      <th>1</th>\n      <td>20</td>\n      <td>0.055690</td>\n      <td>0.181598</td>\n      <td>0.881356</td>\n    </tr>\n    <tr>\n      <th>2</th>\n      <td>30</td>\n      <td>0.004843</td>\n      <td>0.283293</td>\n      <td>0.855932</td>\n    </tr>\n    <tr>\n      <th>3</th>\n      <td>40</td>\n      <td>0.004843</td>\n      <td>0.285714</td>\n      <td>0.854722</td>\n    </tr>\n    <tr>\n      <th>4</th>\n      <td>50</td>\n      <td>0.002421</td>\n      <td>0.285714</td>\n      <td>0.855932</td>\n    </tr>\n    <tr>\n      <th>5</th>\n      <td>60</td>\n      <td>0.004843</td>\n      <td>0.285714</td>\n      <td>0.854722</td>\n    </tr>\n    <tr>\n      <th>6</th>\n      <td>70</td>\n      <td>0.000000</td>\n      <td>0.285714</td>\n      <td>0.857143</td>\n    </tr>\n    <tr>\n      <th>7</th>\n      <td>80</td>\n      <td>0.002421</td>\n      <td>0.285714</td>\n      <td>0.855932</td>\n    </tr>\n    <tr>\n      <th>8</th>\n      <td>90</td>\n      <td>0.004843</td>\n      <td>0.285714</td>\n      <td>0.854722</td>\n    </tr>\n  </tbody>\n</table>\n</div>"
     },
     "execution_count": 26,
     "metadata": {},
     "output_type": "execute_result"
    }
   ],
   "source": [
    "threshold_results = []\n",
    "for threshold_type, result_summary in threshold_results_map.items():\n",
    "    threshold_results.append([\n",
    "        threshold_type, result_summary.false_accept_rate, \n",
    "        result_summary.false_reject_rate, result_summary.accuracy\n",
    "    ])\n",
    "threshold_df = pd.DataFrame(threshold_results, columns=['Threshold', 'FAR', 'FRR', 'Accuracy'])\n",
    "threshold_df"
   ],
   "metadata": {
    "collapsed": false,
    "ExecuteTime": {
     "end_time": "2024-04-04T05:28:38.835691Z",
     "start_time": "2024-04-04T05:28:38.821187Z"
    }
   },
   "id": "195e97184d2409c4",
   "execution_count": 26
  },
  {
   "cell_type": "markdown",
   "source": [
    "## Direct Encoding"
   ],
   "metadata": {
    "collapsed": false
   },
   "id": "c231134076f12920"
  },
  {
   "cell_type": "code",
   "outputs": [],
   "source": [
    "direct_results_map = {}\n",
    "direct_encoder = feature_encoding.direct.DirectBinaryEncoder()\n",
    "direct_test_args = (\n",
    "    template_data_map, processed_data_map, direct_encoder\n",
    ")\n",
    "for threshold_type, hash_test_data in iter_hash_tests(*direct_test_args):\n",
    "    if threshold_type not in direct_results_map:\n",
    "        direct_results_map[threshold_type] = TestResultsSummary()\n",
    "    direct_results_map[threshold_type] = TestResultsSummary.merge_summaries(\n",
    "        direct_results_map[threshold_type],\n",
    "        run_hash_tests(hash_test_data)\n",
    "    )"
   ],
   "metadata": {
    "collapsed": false,
    "ExecuteTime": {
     "end_time": "2024-04-04T05:53:24.141819Z",
     "start_time": "2024-04-04T05:28:38.836691Z"
    }
   },
   "id": "e9aea62b9a35f543",
   "execution_count": 27
  },
  {
   "cell_type": "code",
   "outputs": [
    {
     "data": {
      "text/plain": "   Threshold  FAR  FRR  Accuracy\n0         10  0.0  1.0       0.5\n1         20  0.0  1.0       0.5\n2         30  0.0  1.0       0.5\n3         40  0.0  1.0       0.5\n4         50  0.0  1.0       0.5\n5         60  0.0  1.0       0.5\n6         70  0.0  1.0       0.5\n7         80  0.0  1.0       0.5\n8         90  0.0  1.0       0.5",
      "text/html": "<div>\n<style scoped>\n    .dataframe tbody tr th:only-of-type {\n        vertical-align: middle;\n    }\n\n    .dataframe tbody tr th {\n        vertical-align: top;\n    }\n\n    .dataframe thead th {\n        text-align: right;\n    }\n</style>\n<table border=\"1\" class=\"dataframe\">\n  <thead>\n    <tr style=\"text-align: right;\">\n      <th></th>\n      <th>Threshold</th>\n      <th>FAR</th>\n      <th>FRR</th>\n      <th>Accuracy</th>\n    </tr>\n  </thead>\n  <tbody>\n    <tr>\n      <th>0</th>\n      <td>10</td>\n      <td>0.0</td>\n      <td>1.0</td>\n      <td>0.5</td>\n    </tr>\n    <tr>\n      <th>1</th>\n      <td>20</td>\n      <td>0.0</td>\n      <td>1.0</td>\n      <td>0.5</td>\n    </tr>\n    <tr>\n      <th>2</th>\n      <td>30</td>\n      <td>0.0</td>\n      <td>1.0</td>\n      <td>0.5</td>\n    </tr>\n    <tr>\n      <th>3</th>\n      <td>40</td>\n      <td>0.0</td>\n      <td>1.0</td>\n      <td>0.5</td>\n    </tr>\n    <tr>\n      <th>4</th>\n      <td>50</td>\n      <td>0.0</td>\n      <td>1.0</td>\n      <td>0.5</td>\n    </tr>\n    <tr>\n      <th>5</th>\n      <td>60</td>\n      <td>0.0</td>\n      <td>1.0</td>\n      <td>0.5</td>\n    </tr>\n    <tr>\n      <th>6</th>\n      <td>70</td>\n      <td>0.0</td>\n      <td>1.0</td>\n      <td>0.5</td>\n    </tr>\n    <tr>\n      <th>7</th>\n      <td>80</td>\n      <td>0.0</td>\n      <td>1.0</td>\n      <td>0.5</td>\n    </tr>\n    <tr>\n      <th>8</th>\n      <td>90</td>\n      <td>0.0</td>\n      <td>1.0</td>\n      <td>0.5</td>\n    </tr>\n  </tbody>\n</table>\n</div>"
     },
     "execution_count": 28,
     "metadata": {},
     "output_type": "execute_result"
    }
   ],
   "source": [
    "direct_results = []\n",
    "for threshold_type, result_summary in direct_results_map.items():\n",
    "    direct_results.append([\n",
    "        threshold_type, result_summary.false_accept_rate, \n",
    "        result_summary.false_reject_rate, result_summary.accuracy\n",
    "    ])\n",
    "direct_df = pd.DataFrame(direct_results, columns=['Threshold', 'FAR', 'FRR', 'Accuracy'])\n",
    "direct_df"
   ],
   "metadata": {
    "collapsed": false,
    "ExecuteTime": {
     "end_time": "2024-04-04T05:53:24.157319Z",
     "start_time": "2024-04-04T05:53:24.144819Z"
    }
   },
   "id": "48f9bd925d7dab45",
   "execution_count": 28
  },
  {
   "cell_type": "markdown",
   "source": [
    "## Gray Encoding"
   ],
   "metadata": {
    "collapsed": false
   },
   "id": "386204228d0c30b4"
  },
  {
   "cell_type": "code",
   "outputs": [],
   "source": [
    "gray_results_map = {}\n",
    "gray_encoder = feature_encoding.gray.GrayCodeBinaryEncoder(8, round_to_whole=True)\n",
    "gray_test_args = (\n",
    "    template_data_map, processed_data_map, gray_encoder\n",
    ")\n",
    "for threshold_type, hash_test_data in iter_hash_tests(*gray_test_args):\n",
    "    if threshold_type not in gray_results_map:\n",
    "        gray_results_map[threshold_type] = TestResultsSummary()\n",
    "    gray_results_map[threshold_type] = TestResultsSummary.merge_summaries(\n",
    "        gray_results_map[threshold_type],\n",
    "        run_hash_tests(hash_test_data)\n",
    "    )"
   ],
   "metadata": {
    "collapsed": false,
    "ExecuteTime": {
     "end_time": "2024-04-04T05:55:16.810819Z",
     "start_time": "2024-04-04T05:53:24.158319Z"
    }
   },
   "id": "4af3b18950e8be66",
   "execution_count": 29
  },
  {
   "cell_type": "code",
   "outputs": [
    {
     "data": {
      "text/plain": "   Threshold  FAR  FRR  Accuracy\n0         10  0.0  1.0       0.5\n1         20  0.0  1.0       0.5\n2         30  0.0  1.0       0.5\n3         40  0.0  1.0       0.5\n4         50  0.0  1.0       0.5\n5         60  0.0  1.0       0.5\n6         70  0.0  1.0       0.5\n7         80  0.0  1.0       0.5\n8         90  0.0  1.0       0.5",
      "text/html": "<div>\n<style scoped>\n    .dataframe tbody tr th:only-of-type {\n        vertical-align: middle;\n    }\n\n    .dataframe tbody tr th {\n        vertical-align: top;\n    }\n\n    .dataframe thead th {\n        text-align: right;\n    }\n</style>\n<table border=\"1\" class=\"dataframe\">\n  <thead>\n    <tr style=\"text-align: right;\">\n      <th></th>\n      <th>Threshold</th>\n      <th>FAR</th>\n      <th>FRR</th>\n      <th>Accuracy</th>\n    </tr>\n  </thead>\n  <tbody>\n    <tr>\n      <th>0</th>\n      <td>10</td>\n      <td>0.0</td>\n      <td>1.0</td>\n      <td>0.5</td>\n    </tr>\n    <tr>\n      <th>1</th>\n      <td>20</td>\n      <td>0.0</td>\n      <td>1.0</td>\n      <td>0.5</td>\n    </tr>\n    <tr>\n      <th>2</th>\n      <td>30</td>\n      <td>0.0</td>\n      <td>1.0</td>\n      <td>0.5</td>\n    </tr>\n    <tr>\n      <th>3</th>\n      <td>40</td>\n      <td>0.0</td>\n      <td>1.0</td>\n      <td>0.5</td>\n    </tr>\n    <tr>\n      <th>4</th>\n      <td>50</td>\n      <td>0.0</td>\n      <td>1.0</td>\n      <td>0.5</td>\n    </tr>\n    <tr>\n      <th>5</th>\n      <td>60</td>\n      <td>0.0</td>\n      <td>1.0</td>\n      <td>0.5</td>\n    </tr>\n    <tr>\n      <th>6</th>\n      <td>70</td>\n      <td>0.0</td>\n      <td>1.0</td>\n      <td>0.5</td>\n    </tr>\n    <tr>\n      <th>7</th>\n      <td>80</td>\n      <td>0.0</td>\n      <td>1.0</td>\n      <td>0.5</td>\n    </tr>\n    <tr>\n      <th>8</th>\n      <td>90</td>\n      <td>0.0</td>\n      <td>1.0</td>\n      <td>0.5</td>\n    </tr>\n  </tbody>\n</table>\n</div>"
     },
     "execution_count": 30,
     "metadata": {},
     "output_type": "execute_result"
    }
   ],
   "source": [
    "gray_results = []\n",
    "for threshold_type, result_summary in gray_results_map.items():\n",
    "    gray_results.append([\n",
    "        threshold_type, result_summary.false_accept_rate, \n",
    "        result_summary.false_reject_rate, result_summary.accuracy\n",
    "    ])\n",
    "gray_df = pd.DataFrame(gray_results, columns=['Threshold', 'FAR', 'FRR', 'Accuracy'])\n",
    "gray_df"
   ],
   "metadata": {
    "collapsed": false,
    "ExecuteTime": {
     "end_time": "2024-04-04T05:55:16.826319Z",
     "start_time": "2024-04-04T05:55:16.811819Z"
    }
   },
   "id": "4716c919280bd01b",
   "execution_count": 30
  }
 ],
 "metadata": {
  "kernelspec": {
   "display_name": "Python 3",
   "language": "python",
   "name": "python3"
  },
  "language_info": {
   "codemirror_mode": {
    "name": "ipython",
    "version": 2
   },
   "file_extension": ".py",
   "mimetype": "text/x-python",
   "name": "python",
   "nbconvert_exporter": "python",
   "pygments_lexer": "ipython2",
   "version": "2.7.6"
  }
 },
 "nbformat": 4,
 "nbformat_minor": 5
}
