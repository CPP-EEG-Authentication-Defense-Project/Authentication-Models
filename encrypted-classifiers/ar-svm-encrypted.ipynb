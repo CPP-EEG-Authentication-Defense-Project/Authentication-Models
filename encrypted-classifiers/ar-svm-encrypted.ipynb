{
 "cells": [
  {
   "cell_type": "markdown",
   "id": "6a85031c830d3bd8",
   "metadata": {
    "collapsed": false
   },
   "source": [
    "# Setup\n",
    "\n",
    "Initial module setup."
   ]
  },
  {
   "cell_type": "code",
   "execution_count": 40,
   "id": "952789ebdbd41432",
   "metadata": {
    "ExecuteTime": {
     "end_time": "2024-03-30T23:32:07.322266Z",
     "start_time": "2024-03-30T23:32:07.318909Z"
    },
    "collapsed": false
   },
   "outputs": [],
   "source": [
    "import typing\n",
    "import time\n",
    "import statistics\n",
    "import numpy.typing as np_types\n",
    "import pandas as pd\n",
    "\n",
    "from concrete.ml.sklearn.svm import LinearSVC\n",
    "from sklearn.model_selection import train_test_split\n",
    "from eeg_auth_models_framework import data, pre_process, features, training, model, processor\n",
    "from eeg_auth_models_framework.utils import conversion"
   ]
  },
  {
   "cell_type": "markdown",
   "id": "a2051422fdd18f30",
   "metadata": {
    "collapsed": false
   },
   "source": [
    "# Constants"
   ]
  },
  {
   "cell_type": "code",
   "execution_count": 41,
   "id": "a6fdc728b1d12694",
   "metadata": {
    "ExecuteTime": {
     "end_time": "2024-03-30T23:32:07.339495Z",
     "start_time": "2024-03-30T23:32:07.335980Z"
    },
    "collapsed": false
   },
   "outputs": [],
   "source": [
    "DATASET_SAMPLE_FREQ_HZ = 200\n",
    "DATA_CHANNEL_NAMES = ['T7','F8','Cz','P4']\n",
    "FREQUENCIES = [\n",
    "    pre_process.FrequencyBand(lower=8.0, upper=12.0, label='Alpha'),\n",
    "    pre_process.FrequencyBand(lower=12.0, upper=35.0, label='Beta'),\n",
    "    pre_process.FrequencyBand(lower=4.0, upper=8.0, label='Theta'),\n",
    "    pre_process.FrequencyBand(lower=35.0, upper=None, label='Gamma'),\n",
    "    pre_process.FrequencyBand(lower=None, upper=None, label='Raw'),\n",
    "]\n",
    "WINDOW_SIZE = 1200\n",
    "WINDOW_OVERLAP = 0.5\n",
    "K_FOLDS = 10\n",
    "RANDOM_SEED = 42"
   ]
  },
  {
   "cell_type": "markdown",
   "id": "4f35f26c9a821b4d",
   "metadata": {
    "collapsed": false
   },
   "source": [
    "# Model Builder Configuration\n",
    "\n",
    "Configure data source, data reading method, data labelling method, and training process. "
   ]
  },
  {
   "cell_type": "code",
   "execution_count": 42,
   "id": "ddb81df42056f73f",
   "metadata": {
    "ExecuteTime": {
     "end_time": "2024-03-30T23:32:07.356807Z",
     "start_time": "2024-03-30T23:32:07.352663Z"
    },
    "collapsed": false
   },
   "outputs": [],
   "source": [
    "class ARSVMBuilder(model.ModelBuilder[LinearSVC]):\n",
    "    def create_classifier(self) -> LinearSVC:\n",
    "        return LinearSVC(\n",
    "            random_state=RANDOM_SEED,\n",
    "            dual=True,\n",
    "            max_iter=2000\n",
    "        )\n",
    "    \n",
    "    def train_classifier(self, classifier: LinearSVC, x_data: np_types.ArrayLike, y_data: np_types.ArrayLike):\n",
    "        classifier.fit(x_data, y_data)\n",
    "        \n",
    "    def score_classifier(self, classifier: LinearSVC, x_data: np_types.ArrayLike, y_data: np_types.ArrayLike) -> float:\n",
    "        return classifier.score(x_data, y_data)"
   ]
  },
  {
   "cell_type": "markdown",
   "id": "a16a03467401caff",
   "metadata": {
    "collapsed": false
   },
   "source": [
    "# Configuration"
   ]
  },
  {
   "cell_type": "code",
   "execution_count": 43,
   "id": "62adba3877408d18",
   "metadata": {
    "ExecuteTime": {
     "end_time": "2024-03-30T23:32:07.362661Z",
     "start_time": "2024-03-30T23:32:07.358471Z"
    },
    "collapsed": false
   },
   "outputs": [],
   "source": [
    "downloader = data.AuditoryDataDownloader()\n",
    "reader = data.AuditoryDataReader()\n",
    "labeller = training.SubjectDataLabeller()\n",
    "converter = conversion.MNEDataFrameConverter(\n",
    "    channels=DATA_CHANNEL_NAMES, \n",
    "    sample_frequency=DATASET_SAMPLE_FREQ_HZ\n",
    ")"
   ]
  },
  {
   "cell_type": "markdown",
   "id": "d112e87d05c05b58",
   "metadata": {
    "collapsed": false
   },
   "source": [
    "# Data Processing"
   ]
  },
  {
   "cell_type": "markdown",
   "id": "1c753f819554c218",
   "metadata": {
    "collapsed": false
   },
   "source": [
    "## Pre-Processing Steps\n",
    "\n",
    "Define pre-processing steps to be used in model."
   ]
  },
  {
   "cell_type": "code",
   "execution_count": 44,
   "id": "8add1f51547b0126",
   "metadata": {
    "ExecuteTime": {
     "end_time": "2024-03-30T23:32:07.369014Z",
     "start_time": "2024-03-30T23:32:07.364311Z"
    },
    "collapsed": false
   },
   "outputs": [],
   "source": [
    "pre_process_steps = pre_process.PreProcessingPipeline([\n",
    "    pre_process.EEGBandpassFilterStep(\n",
    "        FREQUENCIES, \n",
    "        converter\n",
    "    ),\n",
    "    pre_process.DataWindowStep(WINDOW_SIZE, WINDOW_OVERLAP)\n",
    "])"
   ]
  },
  {
   "cell_type": "markdown",
   "id": "dc858e8568302508",
   "metadata": {
    "collapsed": false
   },
   "source": [
    "## Feature Extraction Steps\n",
    "\n",
    "Define feature extraction steps to be applied to the pre-processed data."
   ]
  },
  {
   "cell_type": "code",
   "execution_count": 45,
   "id": "67d535c06de0c59b",
   "metadata": {
    "ExecuteTime": {
     "end_time": "2024-03-30T23:32:07.375501Z",
     "start_time": "2024-03-30T23:32:07.371073Z"
    },
    "collapsed": false
   },
   "outputs": [],
   "source": [
    "feature_extraction_steps = features.FeatureExtractPipeline([\n",
    "    features.ARFeatureExtractor({'lags': 25})\n",
    "])"
   ]
  },
  {
   "cell_type": "markdown",
   "id": "905138f29a042f35",
   "metadata": {
    "collapsed": false
   },
   "source": [
    "## Data Processor"
   ]
  },
  {
   "cell_type": "code",
   "execution_count": 46,
   "id": "2c708911815aadb6",
   "metadata": {
    "ExecuteTime": {
     "end_time": "2024-03-30T23:32:07.383292Z",
     "start_time": "2024-03-30T23:32:07.376964Z"
    },
    "collapsed": false
   },
   "outputs": [],
   "source": [
    "data_processor = processor.DataProcessor(\n",
    "    pre_process=pre_process_steps,\n",
    "    feature_extraction=feature_extraction_steps\n",
    ")"
   ]
  },
  {
   "cell_type": "markdown",
   "id": "6fed093321ec2d07",
   "metadata": {
    "collapsed": false
   },
   "source": [
    "# Training\n",
    "\n",
    "Execute training of authentication models."
   ]
  },
  {
   "cell_type": "code",
   "execution_count": 47,
   "id": "9533e8c9d21f977a",
   "metadata": {
    "ExecuteTime": {
     "end_time": "2024-03-30T23:35:44.970494Z",
     "start_time": "2024-03-30T23:32:07.384552Z"
    },
    "collapsed": false
   },
   "outputs": [
    {
     "name": "stdout",
     "output_type": "stream",
     "text": [
      "Creating RawArray with float64 data, n_channels=4, n_times=24000\n",
      "    Range : 0 ... 23999 =      0.000 ...   119.995 secs\n",
      "Ready.\n",
      "Creating RawArray with float64 data, n_channels=4, n_times=24000\n",
      "    Range : 0 ... 23999 =      0.000 ...   119.995 secs\n",
      "Ready.\n",
      "Creating RawArray with float64 data, n_channels=4, n_times=24000\n",
      "    Range : 0 ... 23999 =      0.000 ...   119.995 secs\n",
      "Ready.\n",
      "Creating RawArray with float64 data, n_channels=4, n_times=24000\n",
      "    Range : 0 ... 23999 =      0.000 ...   119.995 secs\n",
      "Ready.\n",
      "Creating RawArray with float64 data, n_channels=4, n_times=24000\n",
      "    Range : 0 ... 23999 =      0.000 ...   119.995 secs\n",
      "Ready.\n",
      "Creating RawArray with float64 data, n_channels=4, n_times=40114\n",
      "    Range : 0 ... 40113 =      0.000 ...   200.565 secs\n",
      "Ready.\n",
      "Creating RawArray with float64 data, n_channels=4, n_times=24000\n",
      "    Range : 0 ... 23999 =      0.000 ...   119.995 secs\n",
      "Ready.\n",
      "Creating RawArray with float64 data, n_channels=4, n_times=24000\n",
      "    Range : 0 ... 23999 =      0.000 ...   119.995 secs\n",
      "Ready.\n",
      "Creating RawArray with float64 data, n_channels=4, n_times=24000\n",
      "    Range : 0 ... 23999 =      0.000 ...   119.995 secs\n",
      "Ready.\n",
      "Creating RawArray with float64 data, n_channels=4, n_times=24000\n",
      "    Range : 0 ... 23999 =      0.000 ...   119.995 secs\n",
      "Ready.\n",
      "Creating RawArray with float64 data, n_channels=4, n_times=24000\n",
      "    Range : 0 ... 23999 =      0.000 ...   119.995 secs\n",
      "Ready.\n",
      "Creating RawArray with float64 data, n_channels=4, n_times=24000\n",
      "    Range : 0 ... 23999 =      0.000 ...   119.995 secs\n",
      "Ready.\n",
      "Creating RawArray with float64 data, n_channels=4, n_times=24000\n",
      "    Range : 0 ... 23999 =      0.000 ...   119.995 secs\n",
      "Ready.\n",
      "Creating RawArray with float64 data, n_channels=4, n_times=24000\n",
      "    Range : 0 ... 23999 =      0.000 ...   119.995 secs\n",
      "Ready.\n",
      "Creating RawArray with float64 data, n_channels=4, n_times=24000\n",
      "    Range : 0 ... 23999 =      0.000 ...   119.995 secs\n",
      "Ready.\n",
      "Creating RawArray with float64 data, n_channels=4, n_times=24000\n",
      "    Range : 0 ... 23999 =      0.000 ...   119.995 secs\n",
      "Ready.\n",
      "Creating RawArray with float64 data, n_channels=4, n_times=24000\n",
      "    Range : 0 ... 23999 =      0.000 ...   119.995 secs\n",
      "Ready.\n",
      "Creating RawArray with float64 data, n_channels=4, n_times=24000\n",
      "    Range : 0 ... 23999 =      0.000 ...   119.995 secs\n",
      "Ready.\n",
      "Creating RawArray with float64 data, n_channels=4, n_times=24000\n",
      "    Range : 0 ... 23999 =      0.000 ...   119.995 secs\n",
      "Ready.\n",
      "Creating RawArray with float64 data, n_channels=4, n_times=24000\n",
      "    Range : 0 ... 23999 =      0.000 ...   119.995 secs\n",
      "Ready.\n"
     ]
    }
   ],
   "source": [
    "ar_svm_builder = ARSVMBuilder(\n",
    "    data_downloader=downloader,\n",
    "    data_reader=reader,\n",
    "    data_labeller=labeller,\n",
    "    data_processor=data_processor\n",
    ")\n",
    "results = ar_svm_builder.train(K_FOLDS)"
   ]
  },
  {
   "cell_type": "code",
   "execution_count": 48,
   "id": "c86159e7f0c5ff1a",
   "metadata": {
    "ExecuteTime": {
     "end_time": "2024-03-30T23:35:44.982544Z",
     "start_time": "2024-03-30T23:35:44.971836Z"
    },
    "collapsed": false
   },
   "outputs": [
    {
     "data": {
      "text/html": [
       "<div>\n",
       "<style scoped>\n",
       "    .dataframe tbody tr th:only-of-type {\n",
       "        vertical-align: middle;\n",
       "    }\n",
       "\n",
       "    .dataframe tbody tr th {\n",
       "        vertical-align: top;\n",
       "    }\n",
       "\n",
       "    .dataframe thead th {\n",
       "        text-align: right;\n",
       "    }\n",
       "</style>\n",
       "<table border=\"1\" class=\"dataframe\">\n",
       "  <thead>\n",
       "    <tr style=\"text-align: right;\">\n",
       "      <th></th>\n",
       "      <th>Subject</th>\n",
       "      <th>Average Score</th>\n",
       "      <th>Training Duration</th>\n",
       "    </tr>\n",
       "  </thead>\n",
       "  <tbody>\n",
       "    <tr>\n",
       "      <th>0</th>\n",
       "      <td>S17</td>\n",
       "      <td>0.548148</td>\n",
       "      <td>7.531289</td>\n",
       "    </tr>\n",
       "    <tr>\n",
       "      <th>1</th>\n",
       "      <td>S12</td>\n",
       "      <td>0.751019</td>\n",
       "      <td>5.784782</td>\n",
       "    </tr>\n",
       "    <tr>\n",
       "      <th>2</th>\n",
       "      <td>S18</td>\n",
       "      <td>0.768519</td>\n",
       "      <td>5.069022</td>\n",
       "    </tr>\n",
       "    <tr>\n",
       "      <th>3</th>\n",
       "      <td>S02</td>\n",
       "      <td>0.664830</td>\n",
       "      <td>5.912776</td>\n",
       "    </tr>\n",
       "    <tr>\n",
       "      <th>4</th>\n",
       "      <td>S01</td>\n",
       "      <td>0.627099</td>\n",
       "      <td>6.547088</td>\n",
       "    </tr>\n",
       "    <tr>\n",
       "      <th>5</th>\n",
       "      <td>S05</td>\n",
       "      <td>0.662253</td>\n",
       "      <td>6.622164</td>\n",
       "    </tr>\n",
       "    <tr>\n",
       "      <th>6</th>\n",
       "      <td>S07</td>\n",
       "      <td>0.816466</td>\n",
       "      <td>7.083066</td>\n",
       "    </tr>\n",
       "    <tr>\n",
       "      <th>7</th>\n",
       "      <td>S19</td>\n",
       "      <td>0.897222</td>\n",
       "      <td>2.886192</td>\n",
       "    </tr>\n",
       "    <tr>\n",
       "      <th>8</th>\n",
       "      <td>S08</td>\n",
       "      <td>0.728889</td>\n",
       "      <td>6.067623</td>\n",
       "    </tr>\n",
       "    <tr>\n",
       "      <th>9</th>\n",
       "      <td>S20</td>\n",
       "      <td>0.711358</td>\n",
       "      <td>7.218823</td>\n",
       "    </tr>\n",
       "    <tr>\n",
       "      <th>10</th>\n",
       "      <td>S13</td>\n",
       "      <td>0.919475</td>\n",
       "      <td>2.447009</td>\n",
       "    </tr>\n",
       "    <tr>\n",
       "      <th>11</th>\n",
       "      <td>S03</td>\n",
       "      <td>0.745062</td>\n",
       "      <td>5.615120</td>\n",
       "    </tr>\n",
       "    <tr>\n",
       "      <th>12</th>\n",
       "      <td>S10</td>\n",
       "      <td>0.595278</td>\n",
       "      <td>8.145104</td>\n",
       "    </tr>\n",
       "    <tr>\n",
       "      <th>13</th>\n",
       "      <td>S15</td>\n",
       "      <td>0.534306</td>\n",
       "      <td>8.141395</td>\n",
       "    </tr>\n",
       "    <tr>\n",
       "      <th>14</th>\n",
       "      <td>S16</td>\n",
       "      <td>0.491960</td>\n",
       "      <td>7.321052</td>\n",
       "    </tr>\n",
       "    <tr>\n",
       "      <th>15</th>\n",
       "      <td>S04</td>\n",
       "      <td>0.659444</td>\n",
       "      <td>6.218152</td>\n",
       "    </tr>\n",
       "    <tr>\n",
       "      <th>16</th>\n",
       "      <td>S14</td>\n",
       "      <td>0.735046</td>\n",
       "      <td>6.098267</td>\n",
       "    </tr>\n",
       "    <tr>\n",
       "      <th>17</th>\n",
       "      <td>S06</td>\n",
       "      <td>0.733534</td>\n",
       "      <td>5.319316</td>\n",
       "    </tr>\n",
       "    <tr>\n",
       "      <th>18</th>\n",
       "      <td>S11</td>\n",
       "      <td>0.644552</td>\n",
       "      <td>6.324479</td>\n",
       "    </tr>\n",
       "    <tr>\n",
       "      <th>19</th>\n",
       "      <td>S09</td>\n",
       "      <td>0.551188</td>\n",
       "      <td>7.376410</td>\n",
       "    </tr>\n",
       "  </tbody>\n",
       "</table>\n",
       "</div>"
      ],
      "text/plain": [
       "   Subject  Average Score  Training Duration\n",
       "0      S17       0.548148           7.531289\n",
       "1      S12       0.751019           5.784782\n",
       "2      S18       0.768519           5.069022\n",
       "3      S02       0.664830           5.912776\n",
       "4      S01       0.627099           6.547088\n",
       "5      S05       0.662253           6.622164\n",
       "6      S07       0.816466           7.083066\n",
       "7      S19       0.897222           2.886192\n",
       "8      S08       0.728889           6.067623\n",
       "9      S20       0.711358           7.218823\n",
       "10     S13       0.919475           2.447009\n",
       "11     S03       0.745062           5.615120\n",
       "12     S10       0.595278           8.145104\n",
       "13     S15       0.534306           8.141395\n",
       "14     S16       0.491960           7.321052\n",
       "15     S04       0.659444           6.218152\n",
       "16     S14       0.735046           6.098267\n",
       "17     S06       0.733534           5.319316\n",
       "18     S11       0.644552           6.324479\n",
       "19     S09       0.551188           7.376410"
      ]
     },
     "execution_count": 48,
     "metadata": {},
     "output_type": "execute_result"
    }
   ],
   "source": [
    "subject_score_rows = []\n",
    "for subject in results.training_statistics:\n",
    "    subject_score_rows.append([\n",
    "        subject,\n",
    "        results.training_statistics[subject].average_score,\n",
    "        results.training_statistics[subject].training_duration\n",
    "    ])\n",
    "subject_scores = pd.DataFrame(subject_score_rows, columns=['Subject', 'Average Score', 'Training Duration'])\n",
    "subject_scores"
   ]
  },
  {
   "cell_type": "code",
   "execution_count": 49,
   "id": "338478591badd73",
   "metadata": {
    "ExecuteTime": {
     "end_time": "2024-03-30T23:35:44.991973Z",
     "start_time": "2024-03-30T23:35:44.983883Z"
    },
    "collapsed": false
   },
   "outputs": [
    {
     "data": {
      "text/html": [
       "<div>\n",
       "<style scoped>\n",
       "    .dataframe tbody tr th:only-of-type {\n",
       "        vertical-align: middle;\n",
       "    }\n",
       "\n",
       "    .dataframe tbody tr th {\n",
       "        vertical-align: top;\n",
       "    }\n",
       "\n",
       "    .dataframe thead th {\n",
       "        text-align: right;\n",
       "    }\n",
       "</style>\n",
       "<table border=\"1\" class=\"dataframe\">\n",
       "  <thead>\n",
       "    <tr style=\"text-align: right;\">\n",
       "      <th></th>\n",
       "      <th>Subject</th>\n",
       "      <th>Average FAR</th>\n",
       "      <th>Average FRR</th>\n",
       "    </tr>\n",
       "  </thead>\n",
       "  <tbody>\n",
       "    <tr>\n",
       "      <th>0</th>\n",
       "      <td>S17</td>\n",
       "      <td>0.431869</td>\n",
       "      <td>0.850000</td>\n",
       "    </tr>\n",
       "    <tr>\n",
       "      <th>1</th>\n",
       "      <td>S12</td>\n",
       "      <td>0.226777</td>\n",
       "      <td>0.700000</td>\n",
       "    </tr>\n",
       "    <tr>\n",
       "      <th>2</th>\n",
       "      <td>S18</td>\n",
       "      <td>0.222659</td>\n",
       "      <td>0.400000</td>\n",
       "    </tr>\n",
       "    <tr>\n",
       "      <th>3</th>\n",
       "      <td>S02</td>\n",
       "      <td>0.327837</td>\n",
       "      <td>0.483333</td>\n",
       "    </tr>\n",
       "    <tr>\n",
       "      <th>4</th>\n",
       "      <td>S01</td>\n",
       "      <td>0.359706</td>\n",
       "      <td>0.650000</td>\n",
       "    </tr>\n",
       "    <tr>\n",
       "      <th>5</th>\n",
       "      <td>S05</td>\n",
       "      <td>0.322937</td>\n",
       "      <td>0.519048</td>\n",
       "    </tr>\n",
       "    <tr>\n",
       "      <th>6</th>\n",
       "      <td>S07</td>\n",
       "      <td>0.146104</td>\n",
       "      <td>0.925000</td>\n",
       "    </tr>\n",
       "    <tr>\n",
       "      <th>7</th>\n",
       "      <td>S19</td>\n",
       "      <td>0.102837</td>\n",
       "      <td>0.100000</td>\n",
       "    </tr>\n",
       "    <tr>\n",
       "      <th>8</th>\n",
       "      <td>S08</td>\n",
       "      <td>0.260509</td>\n",
       "      <td>0.500000</td>\n",
       "    </tr>\n",
       "    <tr>\n",
       "      <th>9</th>\n",
       "      <td>S20</td>\n",
       "      <td>0.259245</td>\n",
       "      <td>0.866667</td>\n",
       "    </tr>\n",
       "    <tr>\n",
       "      <th>10</th>\n",
       "      <td>S13</td>\n",
       "      <td>0.084723</td>\n",
       "      <td>0.000000</td>\n",
       "    </tr>\n",
       "    <tr>\n",
       "      <th>11</th>\n",
       "      <td>S03</td>\n",
       "      <td>0.252614</td>\n",
       "      <td>0.300000</td>\n",
       "    </tr>\n",
       "    <tr>\n",
       "      <th>12</th>\n",
       "      <td>S10</td>\n",
       "      <td>0.386928</td>\n",
       "      <td>0.725000</td>\n",
       "    </tr>\n",
       "    <tr>\n",
       "      <th>13</th>\n",
       "      <td>S15</td>\n",
       "      <td>0.443712</td>\n",
       "      <td>0.900000</td>\n",
       "    </tr>\n",
       "    <tr>\n",
       "      <th>14</th>\n",
       "      <td>S16</td>\n",
       "      <td>0.502683</td>\n",
       "      <td>0.625000</td>\n",
       "    </tr>\n",
       "    <tr>\n",
       "      <th>15</th>\n",
       "      <td>S04</td>\n",
       "      <td>0.326470</td>\n",
       "      <td>0.608333</td>\n",
       "    </tr>\n",
       "    <tr>\n",
       "      <th>16</th>\n",
       "      <td>S14</td>\n",
       "      <td>0.252392</td>\n",
       "      <td>0.525000</td>\n",
       "    </tr>\n",
       "    <tr>\n",
       "      <th>17</th>\n",
       "      <td>S06</td>\n",
       "      <td>0.256306</td>\n",
       "      <td>0.475000</td>\n",
       "    </tr>\n",
       "    <tr>\n",
       "      <th>18</th>\n",
       "      <td>S11</td>\n",
       "      <td>0.339508</td>\n",
       "      <td>0.650000</td>\n",
       "    </tr>\n",
       "    <tr>\n",
       "      <th>19</th>\n",
       "      <td>S09</td>\n",
       "      <td>0.429870</td>\n",
       "      <td>0.825000</td>\n",
       "    </tr>\n",
       "  </tbody>\n",
       "</table>\n",
       "</div>"
      ],
      "text/plain": [
       "   Subject  Average FAR  Average FRR\n",
       "0      S17     0.431869     0.850000\n",
       "1      S12     0.226777     0.700000\n",
       "2      S18     0.222659     0.400000\n",
       "3      S02     0.327837     0.483333\n",
       "4      S01     0.359706     0.650000\n",
       "5      S05     0.322937     0.519048\n",
       "6      S07     0.146104     0.925000\n",
       "7      S19     0.102837     0.100000\n",
       "8      S08     0.260509     0.500000\n",
       "9      S20     0.259245     0.866667\n",
       "10     S13     0.084723     0.000000\n",
       "11     S03     0.252614     0.300000\n",
       "12     S10     0.386928     0.725000\n",
       "13     S15     0.443712     0.900000\n",
       "14     S16     0.502683     0.625000\n",
       "15     S04     0.326470     0.608333\n",
       "16     S14     0.252392     0.525000\n",
       "17     S06     0.256306     0.475000\n",
       "18     S11     0.339508     0.650000\n",
       "19     S09     0.429870     0.825000"
      ]
     },
     "execution_count": 49,
     "metadata": {},
     "output_type": "execute_result"
    }
   ],
   "source": [
    "subject_rates_rows = []\n",
    "for subject in results.training_statistics:\n",
    "    subject_rates_rows.append([\n",
    "        subject,\n",
    "        results.training_statistics[subject].average_false_accept_rate,\n",
    "        results.training_statistics[subject].average_false_reject_rate\n",
    "    ])\n",
    "subject_rates = pd.DataFrame(subject_rates_rows, columns=['Subject', 'Average FAR', 'Average FRR'])\n",
    "subject_rates"
   ]
  },
  {
   "cell_type": "code",
   "execution_count": 50,
   "id": "7c3a4998f0d3d5aa",
   "metadata": {
    "ExecuteTime": {
     "end_time": "2024-03-30T23:35:45.001860Z",
     "start_time": "2024-03-30T23:35:44.993754Z"
    },
    "collapsed": false
   },
   "outputs": [
    {
     "data": {
      "text/html": [
       "<div>\n",
       "<style scoped>\n",
       "    .dataframe tbody tr th:only-of-type {\n",
       "        vertical-align: middle;\n",
       "    }\n",
       "\n",
       "    .dataframe tbody tr th {\n",
       "        vertical-align: top;\n",
       "    }\n",
       "\n",
       "    .dataframe thead th {\n",
       "        text-align: right;\n",
       "    }\n",
       "</style>\n",
       "<table border=\"1\" class=\"dataframe\">\n",
       "  <thead>\n",
       "    <tr style=\"text-align: right;\">\n",
       "      <th></th>\n",
       "      <th>Global Average Score</th>\n",
       "      <th>Global Average FAR</th>\n",
       "      <th>Global Average FRR</th>\n",
       "      <th>Global Average Time</th>\n",
       "    </tr>\n",
       "  </thead>\n",
       "  <tbody>\n",
       "    <tr>\n",
       "      <th>0</th>\n",
       "      <td>0.689282</td>\n",
       "      <td>0.581369</td>\n",
       "      <td>0.296784</td>\n",
       "      <td>6.186456</td>\n",
       "    </tr>\n",
       "  </tbody>\n",
       "</table>\n",
       "</div>"
      ],
      "text/plain": [
       "   Global Average Score  Global Average FAR  Global Average FRR  \\\n",
       "0              0.689282            0.581369            0.296784   \n",
       "\n",
       "   Global Average Time  \n",
       "0             6.186456  "
      ]
     },
     "execution_count": 50,
     "metadata": {},
     "output_type": "execute_result"
    }
   ],
   "source": [
    "global_stats = pd.DataFrame(\n",
    "    [[results.global_average_score, results.global_average_far_rate, \n",
    "      results.global_average_frr_rate, results.global_average_time]],\n",
    "    columns=['Global Average Score', 'Global Average FAR', 'Global Average FRR', 'Global Average Time']\n",
    ")\n",
    "global_stats"
   ]
  },
  {
   "cell_type": "markdown",
   "id": "74448db7",
   "metadata": {},
   "source": [
    "# Simulated Execution"
   ]
  },
  {
   "cell_type": "code",
   "execution_count": null,
   "id": "b9b0286e",
   "metadata": {},
   "outputs": [],
   "source": [
    "T = typing.TypeVar(\"T\")\n",
    "\n",
    "def slice_by_percentage(content: typing.List[T], percentage: float) -> typing.List[T]:\n",
    "    slice_size = int(len(content) * percentage / 100)\n",
    "    return content[:slice_size]\n",
    "\n",
    "\n",
    "def simulate_model_executions(models: typing.Dict[str, LinearSVC], \n",
    "                              test_downloader: data.AuditoryDataDownloader, \n",
    "                              test_reader: data.AuditoryDataReader,\n",
    "                              test_processor: processor.DataProcessor,\n",
    "                              tests = 10) -> typing.Tuple[int, float, float]:\n",
    "    data_path = test_downloader.retrieve()\n",
    "    test_data = test_reader.format_data(data_path)\n",
    "    for subject, data_samples in test_data.items():\n",
    "        test_data[subject] = test_processor.process(data_samples)\n",
    "    compile_timings = []\n",
    "    predict_timings = []\n",
    "    for i in range(tests):\n",
    "        for subject, prepared_data in test_data.items():\n",
    "            compile_set = slice_by_percentage(prepared_data, 20)\n",
    "            test_model = models[subject]\n",
    "            start_compile = time.perf_counter()\n",
    "            test_model.compile(compile_set)\n",
    "            end_compile = time.perf_counter()\n",
    "            start_predict = time.perf_counter()\n",
    "            test_model.predict(prepared_data, fhe=\"execute\")\n",
    "            end_predict = time.perf_counter()\n",
    "            compile_timings.append(end_compile - start_compile)\n",
    "            predict_timings.append(end_predict - start_predict)\n",
    "    return len(predict_timings), statistics.mean(compile_timings), statistics.mean(predict_timings)"
   ]
  },
  {
   "cell_type": "code",
   "execution_count": null,
   "id": "26a9d9ce",
   "metadata": {},
   "outputs": [
    {
     "name": "stdout",
     "output_type": "stream",
     "text": [
      "Creating RawArray with float64 data, n_channels=4, n_times=24000\n",
      "    Range : 0 ... 23999 =      0.000 ...   119.995 secs\n",
      "Ready.\n",
      "Creating RawArray with float64 data, n_channels=4, n_times=24000\n",
      "    Range : 0 ... 23999 =      0.000 ...   119.995 secs\n",
      "Ready.\n",
      "Creating RawArray with float64 data, n_channels=4, n_times=24000\n",
      "    Range : 0 ... 23999 =      0.000 ...   119.995 secs\n",
      "Ready.\n",
      "Creating RawArray with float64 data, n_channels=4, n_times=24000\n",
      "    Range : 0 ... 23999 =      0.000 ...   119.995 secs\n",
      "Ready.\n",
      "Creating RawArray with float64 data, n_channels=4, n_times=24000\n",
      "    Range : 0 ... 23999 =      0.000 ...   119.995 secs\n",
      "Ready.\n",
      "Creating RawArray with float64 data, n_channels=4, n_times=40114\n",
      "    Range : 0 ... 40113 =      0.000 ...   200.565 secs\n",
      "Ready.\n",
      "Creating RawArray with float64 data, n_channels=4, n_times=24000\n",
      "    Range : 0 ... 23999 =      0.000 ...   119.995 secs\n",
      "Ready.\n",
      "Creating RawArray with float64 data, n_channels=4, n_times=24000\n",
      "    Range : 0 ... 23999 =      0.000 ...   119.995 secs\n",
      "Ready.\n",
      "Creating RawArray with float64 data, n_channels=4, n_times=24000\n",
      "    Range : 0 ... 23999 =      0.000 ...   119.995 secs\n",
      "Ready.\n",
      "Creating RawArray with float64 data, n_channels=4, n_times=24000\n",
      "    Range : 0 ... 23999 =      0.000 ...   119.995 secs\n",
      "Ready.\n",
      "Creating RawArray with float64 data, n_channels=4, n_times=24000\n",
      "    Range : 0 ... 23999 =      0.000 ...   119.995 secs\n",
      "Ready.\n",
      "Creating RawArray with float64 data, n_channels=4, n_times=24000\n",
      "    Range : 0 ... 23999 =      0.000 ...   119.995 secs\n",
      "Ready.\n",
      "Creating RawArray with float64 data, n_channels=4, n_times=24000\n",
      "    Range : 0 ... 23999 =      0.000 ...   119.995 secs\n",
      "Ready.\n",
      "Creating RawArray with float64 data, n_channels=4, n_times=24000\n",
      "    Range : 0 ... 23999 =      0.000 ...   119.995 secs\n",
      "Ready.\n",
      "Creating RawArray with float64 data, n_channels=4, n_times=24000\n",
      "    Range : 0 ... 23999 =      0.000 ...   119.995 secs\n",
      "Ready.\n",
      "Creating RawArray with float64 data, n_channels=4, n_times=24000\n",
      "    Range : 0 ... 23999 =      0.000 ...   119.995 secs\n",
      "Ready.\n",
      "Creating RawArray with float64 data, n_channels=4, n_times=24000\n",
      "    Range : 0 ... 23999 =      0.000 ...   119.995 secs\n",
      "Ready.\n",
      "Creating RawArray with float64 data, n_channels=4, n_times=24000\n",
      "    Range : 0 ... 23999 =      0.000 ...   119.995 secs\n",
      "Ready.\n",
      "Creating RawArray with float64 data, n_channels=4, n_times=24000\n",
      "    Range : 0 ... 23999 =      0.000 ...   119.995 secs\n",
      "Ready.\n",
      "Creating RawArray with float64 data, n_channels=4, n_times=24000\n",
      "    Range : 0 ... 23999 =      0.000 ...   119.995 secs\n",
      "Ready.\n",
      "Overall average compile time: 0.053315610340014245\n",
      "Overall average predict time (encrypted): 1.5586231526049414\n"
     ]
    }
   ],
   "source": [
    "executions, average_compile_time, average_predict_time = simulate_model_executions(results.models, downloader, reader, data_processor)\n",
    "print(f\"Executions: {executions}\")\n",
    "print(f\"Overall average compile time: {average_compile_time} seconds\")\n",
    "print(f\"Overall average predict time (encrypted): {average_predict_time} seconds\")"
   ]
  }
 ],
 "metadata": {
  "kernelspec": {
   "display_name": "Python 3",
   "language": "python",
   "name": "python3"
  },
  "language_info": {
   "codemirror_mode": {
    "name": "ipython",
    "version": 3
   },
   "file_extension": ".py",
   "mimetype": "text/x-python",
   "name": "python",
   "nbconvert_exporter": "python",
   "pygments_lexer": "ipython3",
   "version": "3.9.20"
  }
 },
 "nbformat": 4,
 "nbformat_minor": 5
}
