{
 "cells": [
  {
   "cell_type": "markdown",
   "source": [
    "# Setup\n",
    "\n",
    "Initial module setup."
   ],
   "metadata": {
    "collapsed": false
   },
   "id": "6a85031c830d3bd8"
  },
  {
   "cell_type": "code",
   "execution_count": 9,
   "outputs": [],
   "source": [
    "import numpy.typing as np_types\n",
    "import pandas as pd\n",
    "\n",
    "from concrete.ml.sklearn.svm import LinearSVC\n",
    "from eeg_auth_models_framework import data, pre_process, features, training, model, processor\n",
    "from eeg_auth_models_framework.utils import conversion"
   ],
   "metadata": {
    "collapsed": false,
    "ExecuteTime": {
     "end_time": "2024-03-30T23:32:07.322266Z",
     "start_time": "2024-03-30T23:32:07.318909Z"
    }
   },
   "id": "952789ebdbd41432"
  },
  {
   "cell_type": "markdown",
   "source": [
    "# Constants"
   ],
   "metadata": {
    "collapsed": false
   },
   "id": "a2051422fdd18f30"
  },
  {
   "cell_type": "code",
   "execution_count": 10,
   "outputs": [],
   "source": [
    "DATASET_SAMPLE_FREQ_HZ = 200\n",
    "DATA_CHANNEL_NAMES = ['T7','F8','Cz','P4']\n",
    "FREQUENCIES = [\n",
    "    pre_process.FrequencyBand(lower=8.0, upper=12.0, label='Alpha'),\n",
    "    pre_process.FrequencyBand(lower=12.0, upper=35.0, label='Beta'),\n",
    "    pre_process.FrequencyBand(lower=4.0, upper=8.0, label='Theta'),\n",
    "    pre_process.FrequencyBand(lower=35.0, upper=None, label='Gamma'),\n",
    "    pre_process.FrequencyBand(lower=None, upper=None, label='Raw'),\n",
    "]\n",
    "WINDOW_SIZE = 1200\n",
    "WINDOW_OVERLAP = 0.5\n",
    "K_FOLDS = 10\n",
    "RANDOM_SEED = 42"
   ],
   "metadata": {
    "collapsed": false,
    "ExecuteTime": {
     "end_time": "2024-03-30T23:32:07.339495Z",
     "start_time": "2024-03-30T23:32:07.335980Z"
    }
   },
   "id": "a6fdc728b1d12694"
  },
  {
   "cell_type": "markdown",
   "source": [
    "# Model Builder Configuration\n",
    "\n",
    "Configure data source, data reading method, data labelling method, and training process. "
   ],
   "metadata": {
    "collapsed": false
   },
   "id": "4f35f26c9a821b4d"
  },
  {
   "cell_type": "code",
   "execution_count": 11,
   "outputs": [],
   "source": [
    "class ARSVMBuilder(model.ModelBuilder[LinearSVC]):\n",
    "    def create_classifier(self) -> LinearSVC:\n",
    "        return LinearSVC(\n",
    "            random_state=RANDOM_SEED,\n",
    "            dual=True,\n",
    "            max_iter=2000\n",
    "        )\n",
    "    \n",
    "    def train_classifier(self, classifier: LinearSVC, x_data: np_types.ArrayLike, y_data: np_types.ArrayLike):\n",
    "        classifier.fit(x_data, y_data)\n",
    "        \n",
    "    def score_classifier(self, classifier: LinearSVC, x_data: np_types.ArrayLike, y_data: np_types.ArrayLike) -> float:\n",
    "        return classifier.score(x_data, y_data)"
   ],
   "metadata": {
    "collapsed": false,
    "ExecuteTime": {
     "end_time": "2024-03-30T23:32:07.356807Z",
     "start_time": "2024-03-30T23:32:07.352663Z"
    }
   },
   "id": "ddb81df42056f73f"
  },
  {
   "cell_type": "markdown",
   "source": [
    "# Configuration"
   ],
   "metadata": {
    "collapsed": false
   },
   "id": "a16a03467401caff"
  },
  {
   "cell_type": "code",
   "execution_count": 12,
   "outputs": [],
   "source": [
    "downloader = data.AuditoryDataDownloader()\n",
    "reader = data.AuditoryDataReader()\n",
    "labeller = training.SubjectDataLabeller()\n",
    "converter = conversion.MNEDataFrameConverter(\n",
    "    channels=DATA_CHANNEL_NAMES, \n",
    "    sample_frequency=DATASET_SAMPLE_FREQ_HZ\n",
    ")"
   ],
   "metadata": {
    "collapsed": false,
    "ExecuteTime": {
     "end_time": "2024-03-30T23:32:07.362661Z",
     "start_time": "2024-03-30T23:32:07.358471Z"
    }
   },
   "id": "62adba3877408d18"
  },
  {
   "cell_type": "markdown",
   "source": [
    "# Data Processing"
   ],
   "metadata": {
    "collapsed": false
   },
   "id": "d112e87d05c05b58"
  },
  {
   "cell_type": "markdown",
   "source": [
    "## Pre-Processing Steps\n",
    "\n",
    "Define pre-processing steps to be used in model."
   ],
   "metadata": {
    "collapsed": false
   },
   "id": "1c753f819554c218"
  },
  {
   "cell_type": "code",
   "execution_count": 13,
   "outputs": [],
   "source": [
    "pre_process_steps = pre_process.PreProcessingPipeline([\n",
    "    pre_process.EEGBandpassFilterStep(\n",
    "        FREQUENCIES, \n",
    "        converter\n",
    "    ),\n",
    "    pre_process.DataWindowStep(WINDOW_SIZE, WINDOW_OVERLAP)\n",
    "])"
   ],
   "metadata": {
    "collapsed": false,
    "ExecuteTime": {
     "end_time": "2024-03-30T23:32:07.369014Z",
     "start_time": "2024-03-30T23:32:07.364311Z"
    }
   },
   "id": "8add1f51547b0126"
  },
  {
   "cell_type": "markdown",
   "source": [
    "## Feature Extraction Steps\n",
    "\n",
    "Define feature extraction steps to be applied to the pre-processed data."
   ],
   "metadata": {
    "collapsed": false
   },
   "id": "dc858e8568302508"
  },
  {
   "cell_type": "code",
   "execution_count": 14,
   "outputs": [],
   "source": [
    "feature_extraction_steps = features.FeatureExtractPipeline([\n",
    "    features.ARFeatureExtractor({'lags': 25})\n",
    "])"
   ],
   "metadata": {
    "collapsed": false,
    "ExecuteTime": {
     "end_time": "2024-03-30T23:32:07.375501Z",
     "start_time": "2024-03-30T23:32:07.371073Z"
    }
   },
   "id": "67d535c06de0c59b"
  },
  {
   "cell_type": "markdown",
   "source": [
    "## Data Processor"
   ],
   "metadata": {
    "collapsed": false
   },
   "id": "905138f29a042f35"
  },
  {
   "cell_type": "code",
   "outputs": [],
   "source": [
    "data_processor = processor.DataProcessor(\n",
    "    pre_process=pre_process_steps,\n",
    "    feature_extraction=feature_extraction_steps\n",
    ")"
   ],
   "metadata": {
    "collapsed": false,
    "ExecuteTime": {
     "end_time": "2024-03-30T23:32:07.383292Z",
     "start_time": "2024-03-30T23:32:07.376964Z"
    }
   },
   "id": "2c708911815aadb6",
   "execution_count": 15
  },
  {
   "cell_type": "markdown",
   "source": [
    "# Training\n",
    "\n",
    "Execute training of authentication models."
   ],
   "metadata": {
    "collapsed": false
   },
   "id": "6fed093321ec2d07"
  },
  {
   "cell_type": "code",
   "execution_count": 16,
   "outputs": [
    {
     "name": "stdout",
     "output_type": "stream",
     "text": [
      "Creating RawArray with float64 data, n_channels=4, n_times=24000\n",
      "    Range : 0 ... 23999 =      0.000 ...   119.995 secs\n",
      "Ready.\n",
      "Creating RawArray with float64 data, n_channels=4, n_times=24000\n",
      "    Range : 0 ... 23999 =      0.000 ...   119.995 secs\n",
      "Ready.\n",
      "Creating RawArray with float64 data, n_channels=4, n_times=24000\n",
      "    Range : 0 ... 23999 =      0.000 ...   119.995 secs\n",
      "Ready.\n",
      "Creating RawArray with float64 data, n_channels=4, n_times=24000\n",
      "    Range : 0 ... 23999 =      0.000 ...   119.995 secs\n",
      "Ready.\n",
      "Creating RawArray with float64 data, n_channels=4, n_times=24000\n",
      "    Range : 0 ... 23999 =      0.000 ...   119.995 secs\n",
      "Ready.\n",
      "Creating RawArray with float64 data, n_channels=4, n_times=24000\n",
      "    Range : 0 ... 23999 =      0.000 ...   119.995 secs\n",
      "Ready.\n",
      "Creating RawArray with float64 data, n_channels=4, n_times=24000\n",
      "    Range : 0 ... 23999 =      0.000 ...   119.995 secs\n",
      "Ready.\n",
      "Creating RawArray with float64 data, n_channels=4, n_times=24000\n",
      "    Range : 0 ... 23999 =      0.000 ...   119.995 secs\n",
      "Ready.\n",
      "Creating RawArray with float64 data, n_channels=4, n_times=24000\n",
      "    Range : 0 ... 23999 =      0.000 ...   119.995 secs\n",
      "Ready.\n",
      "Creating RawArray with float64 data, n_channels=4, n_times=40114\n",
      "    Range : 0 ... 40113 =      0.000 ...   200.565 secs\n",
      "Ready.\n",
      "Creating RawArray with float64 data, n_channels=4, n_times=24000\n",
      "    Range : 0 ... 23999 =      0.000 ...   119.995 secs\n",
      "Ready.\n",
      "Creating RawArray with float64 data, n_channels=4, n_times=24000\n",
      "    Range : 0 ... 23999 =      0.000 ...   119.995 secs\n",
      "Ready.\n",
      "Creating RawArray with float64 data, n_channels=4, n_times=24000\n",
      "    Range : 0 ... 23999 =      0.000 ...   119.995 secs\n",
      "Ready.\n",
      "Creating RawArray with float64 data, n_channels=4, n_times=24000\n",
      "    Range : 0 ... 23999 =      0.000 ...   119.995 secs\n",
      "Ready.\n",
      "Creating RawArray with float64 data, n_channels=4, n_times=24000\n",
      "    Range : 0 ... 23999 =      0.000 ...   119.995 secs\n",
      "Ready.\n",
      "Creating RawArray with float64 data, n_channels=4, n_times=24000\n",
      "    Range : 0 ... 23999 =      0.000 ...   119.995 secs\n",
      "Ready.\n",
      "Creating RawArray with float64 data, n_channels=4, n_times=24000\n",
      "    Range : 0 ... 23999 =      0.000 ...   119.995 secs\n",
      "Ready.\n",
      "Creating RawArray with float64 data, n_channels=4, n_times=24000\n",
      "    Range : 0 ... 23999 =      0.000 ...   119.995 secs\n",
      "Ready.\n",
      "Creating RawArray with float64 data, n_channels=4, n_times=24000\n",
      "    Range : 0 ... 23999 =      0.000 ...   119.995 secs\n",
      "Ready.\n",
      "Creating RawArray with float64 data, n_channels=4, n_times=24000\n",
      "    Range : 0 ... 23999 =      0.000 ...   119.995 secs\n",
      "Ready.\n"
     ]
    }
   ],
   "source": [
    "ar_svm_builder = ARSVMBuilder(\n",
    "    data_downloader=downloader,\n",
    "    data_reader=reader,\n",
    "    data_labeller=labeller,\n",
    "    data_processor=data_processor\n",
    ")\n",
    "results = ar_svm_builder.train(K_FOLDS)"
   ],
   "metadata": {
    "collapsed": false,
    "ExecuteTime": {
     "end_time": "2024-03-30T23:35:44.970494Z",
     "start_time": "2024-03-30T23:32:07.384552Z"
    }
   },
   "id": "9533e8c9d21f977a"
  },
  {
   "cell_type": "code",
   "outputs": [
    {
     "data": {
      "text/plain": "   Subject  Average Score  Training Duration\n0      S13       0.899491           2.295153\n1      S14       0.727886           6.079434\n2      S15       0.688750           8.206663\n3      S11       0.675077           6.267510\n4      S17       0.580710           7.376795\n5      S07       0.711389           6.975667\n6      S04       0.780972           6.289631\n7      S18       0.731111           5.074235\n8      S19       0.843781           2.887761\n9      S05       0.674151           6.553735\n10     S12       0.691235           5.588045\n11     S06       0.719645           5.189863\n12     S01       0.650941           6.689277\n13     S09       0.721235           7.629398\n14     S08       0.736759           6.013671\n15     S10       0.678210           8.047285\n16     S02       0.782716           5.586896\n17     S16       0.523765           7.228062\n18     S03       0.799275           5.493047\n19     S20       0.540988           7.204443",
      "text/html": "<div>\n<style scoped>\n    .dataframe tbody tr th:only-of-type {\n        vertical-align: middle;\n    }\n\n    .dataframe tbody tr th {\n        vertical-align: top;\n    }\n\n    .dataframe thead th {\n        text-align: right;\n    }\n</style>\n<table border=\"1\" class=\"dataframe\">\n  <thead>\n    <tr style=\"text-align: right;\">\n      <th></th>\n      <th>Subject</th>\n      <th>Average Score</th>\n      <th>Training Duration</th>\n    </tr>\n  </thead>\n  <tbody>\n    <tr>\n      <th>0</th>\n      <td>S13</td>\n      <td>0.899491</td>\n      <td>2.295153</td>\n    </tr>\n    <tr>\n      <th>1</th>\n      <td>S14</td>\n      <td>0.727886</td>\n      <td>6.079434</td>\n    </tr>\n    <tr>\n      <th>2</th>\n      <td>S15</td>\n      <td>0.688750</td>\n      <td>8.206663</td>\n    </tr>\n    <tr>\n      <th>3</th>\n      <td>S11</td>\n      <td>0.675077</td>\n      <td>6.267510</td>\n    </tr>\n    <tr>\n      <th>4</th>\n      <td>S17</td>\n      <td>0.580710</td>\n      <td>7.376795</td>\n    </tr>\n    <tr>\n      <th>5</th>\n      <td>S07</td>\n      <td>0.711389</td>\n      <td>6.975667</td>\n    </tr>\n    <tr>\n      <th>6</th>\n      <td>S04</td>\n      <td>0.780972</td>\n      <td>6.289631</td>\n    </tr>\n    <tr>\n      <th>7</th>\n      <td>S18</td>\n      <td>0.731111</td>\n      <td>5.074235</td>\n    </tr>\n    <tr>\n      <th>8</th>\n      <td>S19</td>\n      <td>0.843781</td>\n      <td>2.887761</td>\n    </tr>\n    <tr>\n      <th>9</th>\n      <td>S05</td>\n      <td>0.674151</td>\n      <td>6.553735</td>\n    </tr>\n    <tr>\n      <th>10</th>\n      <td>S12</td>\n      <td>0.691235</td>\n      <td>5.588045</td>\n    </tr>\n    <tr>\n      <th>11</th>\n      <td>S06</td>\n      <td>0.719645</td>\n      <td>5.189863</td>\n    </tr>\n    <tr>\n      <th>12</th>\n      <td>S01</td>\n      <td>0.650941</td>\n      <td>6.689277</td>\n    </tr>\n    <tr>\n      <th>13</th>\n      <td>S09</td>\n      <td>0.721235</td>\n      <td>7.629398</td>\n    </tr>\n    <tr>\n      <th>14</th>\n      <td>S08</td>\n      <td>0.736759</td>\n      <td>6.013671</td>\n    </tr>\n    <tr>\n      <th>15</th>\n      <td>S10</td>\n      <td>0.678210</td>\n      <td>8.047285</td>\n    </tr>\n    <tr>\n      <th>16</th>\n      <td>S02</td>\n      <td>0.782716</td>\n      <td>5.586896</td>\n    </tr>\n    <tr>\n      <th>17</th>\n      <td>S16</td>\n      <td>0.523765</td>\n      <td>7.228062</td>\n    </tr>\n    <tr>\n      <th>18</th>\n      <td>S03</td>\n      <td>0.799275</td>\n      <td>5.493047</td>\n    </tr>\n    <tr>\n      <th>19</th>\n      <td>S20</td>\n      <td>0.540988</td>\n      <td>7.204443</td>\n    </tr>\n  </tbody>\n</table>\n</div>"
     },
     "execution_count": 17,
     "metadata": {},
     "output_type": "execute_result"
    }
   ],
   "source": [
    "subject_score_rows = []\n",
    "for subject in results.training_statistics:\n",
    "    subject_score_rows.append([\n",
    "        subject,\n",
    "        results.training_statistics[subject].average_score,\n",
    "        results.training_statistics[subject].training_duration\n",
    "    ])\n",
    "subject_scores = pd.DataFrame(subject_score_rows, columns=['Subject', 'Average Score', 'Training Duration'])\n",
    "subject_scores"
   ],
   "metadata": {
    "collapsed": false,
    "ExecuteTime": {
     "end_time": "2024-03-30T23:35:44.982544Z",
     "start_time": "2024-03-30T23:35:44.971836Z"
    }
   },
   "id": "c86159e7f0c5ff1a",
   "execution_count": 17
  },
  {
   "cell_type": "code",
   "outputs": [
    {
     "data": {
      "text/plain": "   Subject  Average FAR  Average FRR\n0      S13     0.105571     0.000000\n1      S14     0.249675     0.725000\n2      S15     0.286859     0.800000\n3      S11     0.316883     0.500000\n4      S17     0.391336     0.966667\n5      S07     0.252307     1.000000\n6      S04     0.199060     0.600000\n7      S18     0.268541     0.275000\n8      S19     0.160407     0.075000\n9      S05     0.301802     0.592857\n10     S12     0.310099     0.283333\n11     S06     0.281784     0.258333\n12     S01     0.342310     0.500000\n13     S09     0.241951     1.000000\n14     S08     0.242789     0.666667\n15     S10     0.302717     0.700000\n16     S02     0.213619     0.275000\n17     S16     0.469771     0.600000\n18     S03     0.187235     0.450000\n19     S20     0.450940     0.625000",
      "text/html": "<div>\n<style scoped>\n    .dataframe tbody tr th:only-of-type {\n        vertical-align: middle;\n    }\n\n    .dataframe tbody tr th {\n        vertical-align: top;\n    }\n\n    .dataframe thead th {\n        text-align: right;\n    }\n</style>\n<table border=\"1\" class=\"dataframe\">\n  <thead>\n    <tr style=\"text-align: right;\">\n      <th></th>\n      <th>Subject</th>\n      <th>Average FAR</th>\n      <th>Average FRR</th>\n    </tr>\n  </thead>\n  <tbody>\n    <tr>\n      <th>0</th>\n      <td>S13</td>\n      <td>0.105571</td>\n      <td>0.000000</td>\n    </tr>\n    <tr>\n      <th>1</th>\n      <td>S14</td>\n      <td>0.249675</td>\n      <td>0.725000</td>\n    </tr>\n    <tr>\n      <th>2</th>\n      <td>S15</td>\n      <td>0.286859</td>\n      <td>0.800000</td>\n    </tr>\n    <tr>\n      <th>3</th>\n      <td>S11</td>\n      <td>0.316883</td>\n      <td>0.500000</td>\n    </tr>\n    <tr>\n      <th>4</th>\n      <td>S17</td>\n      <td>0.391336</td>\n      <td>0.966667</td>\n    </tr>\n    <tr>\n      <th>5</th>\n      <td>S07</td>\n      <td>0.252307</td>\n      <td>1.000000</td>\n    </tr>\n    <tr>\n      <th>6</th>\n      <td>S04</td>\n      <td>0.199060</td>\n      <td>0.600000</td>\n    </tr>\n    <tr>\n      <th>7</th>\n      <td>S18</td>\n      <td>0.268541</td>\n      <td>0.275000</td>\n    </tr>\n    <tr>\n      <th>8</th>\n      <td>S19</td>\n      <td>0.160407</td>\n      <td>0.075000</td>\n    </tr>\n    <tr>\n      <th>9</th>\n      <td>S05</td>\n      <td>0.301802</td>\n      <td>0.592857</td>\n    </tr>\n    <tr>\n      <th>10</th>\n      <td>S12</td>\n      <td>0.310099</td>\n      <td>0.283333</td>\n    </tr>\n    <tr>\n      <th>11</th>\n      <td>S06</td>\n      <td>0.281784</td>\n      <td>0.258333</td>\n    </tr>\n    <tr>\n      <th>12</th>\n      <td>S01</td>\n      <td>0.342310</td>\n      <td>0.500000</td>\n    </tr>\n    <tr>\n      <th>13</th>\n      <td>S09</td>\n      <td>0.241951</td>\n      <td>1.000000</td>\n    </tr>\n    <tr>\n      <th>14</th>\n      <td>S08</td>\n      <td>0.242789</td>\n      <td>0.666667</td>\n    </tr>\n    <tr>\n      <th>15</th>\n      <td>S10</td>\n      <td>0.302717</td>\n      <td>0.700000</td>\n    </tr>\n    <tr>\n      <th>16</th>\n      <td>S02</td>\n      <td>0.213619</td>\n      <td>0.275000</td>\n    </tr>\n    <tr>\n      <th>17</th>\n      <td>S16</td>\n      <td>0.469771</td>\n      <td>0.600000</td>\n    </tr>\n    <tr>\n      <th>18</th>\n      <td>S03</td>\n      <td>0.187235</td>\n      <td>0.450000</td>\n    </tr>\n    <tr>\n      <th>19</th>\n      <td>S20</td>\n      <td>0.450940</td>\n      <td>0.625000</td>\n    </tr>\n  </tbody>\n</table>\n</div>"
     },
     "execution_count": 18,
     "metadata": {},
     "output_type": "execute_result"
    }
   ],
   "source": [
    "subject_rates_rows = []\n",
    "for subject in results.training_statistics:\n",
    "    subject_rates_rows.append([\n",
    "        subject,\n",
    "        results.training_statistics[subject].average_false_accept_rate,\n",
    "        results.training_statistics[subject].average_false_reject_rate\n",
    "    ])\n",
    "subject_rates = pd.DataFrame(subject_rates_rows, columns=['Subject', 'Average FAR', 'Average FRR'])\n",
    "subject_rates"
   ],
   "metadata": {
    "collapsed": false,
    "ExecuteTime": {
     "end_time": "2024-03-30T23:35:44.991973Z",
     "start_time": "2024-03-30T23:35:44.983883Z"
    }
   },
   "id": "338478591badd73",
   "execution_count": 18
  },
  {
   "cell_type": "code",
   "outputs": [
    {
     "data": {
      "text/plain": "   Global Average Score  Global Average FAR  Global Average FRR  \\\n0              0.707904            0.544643            0.278783   \n\n   Global Average Time  \n0             6.133829  ",
      "text/html": "<div>\n<style scoped>\n    .dataframe tbody tr th:only-of-type {\n        vertical-align: middle;\n    }\n\n    .dataframe tbody tr th {\n        vertical-align: top;\n    }\n\n    .dataframe thead th {\n        text-align: right;\n    }\n</style>\n<table border=\"1\" class=\"dataframe\">\n  <thead>\n    <tr style=\"text-align: right;\">\n      <th></th>\n      <th>Global Average Score</th>\n      <th>Global Average FAR</th>\n      <th>Global Average FRR</th>\n      <th>Global Average Time</th>\n    </tr>\n  </thead>\n  <tbody>\n    <tr>\n      <th>0</th>\n      <td>0.707904</td>\n      <td>0.544643</td>\n      <td>0.278783</td>\n      <td>6.133829</td>\n    </tr>\n  </tbody>\n</table>\n</div>"
     },
     "execution_count": 19,
     "metadata": {},
     "output_type": "execute_result"
    }
   ],
   "source": [
    "global_stats = pd.DataFrame(\n",
    "    [[results.global_average_score, results.global_average_far_rate, \n",
    "      results.global_average_frr_rate, results.global_average_time]],\n",
    "    columns=['Global Average Score', 'Global Average FAR', 'Global Average FRR', 'Global Average Time']\n",
    ")\n",
    "global_stats"
   ],
   "metadata": {
    "collapsed": false,
    "ExecuteTime": {
     "end_time": "2024-03-30T23:35:45.001860Z",
     "start_time": "2024-03-30T23:35:44.993754Z"
    }
   },
   "id": "7c3a4998f0d3d5aa",
   "execution_count": 19
  }
 ],
 "metadata": {
  "kernelspec": {
   "display_name": "Python 3",
   "language": "python",
   "name": "python3"
  },
  "language_info": {
   "codemirror_mode": {
    "name": "ipython",
    "version": 2
   },
   "file_extension": ".py",
   "mimetype": "text/x-python",
   "name": "python",
   "nbconvert_exporter": "python",
   "pygments_lexer": "ipython2",
   "version": "2.7.6"
  }
 },
 "nbformat": 4,
 "nbformat_minor": 5
}
